{
  "cells": [
    {
      "cell_type": "markdown",
      "metadata": {
        "id": "view-in-github",
        "colab_type": "text"
      },
      "source": [
        "<a href=\"https://colab.research.google.com/github/dgusfr/dataScience_statistic/blob/main/Inferential_statistics.ipynb\" target=\"_parent\"><img src=\"https://colab.research.google.com/assets/colab-badge.svg\" alt=\"Open In Colab\"/></a>"
      ]
    },
    {
      "cell_type": "markdown",
      "metadata": {
        "id": "WvMflodMjQKe"
      },
      "source": [
        "***\n",
        "# <font size=10>Statistic - Inferential and Hypothesis Testing</font>\n",
        "***"
      ]
    },
    {
      "cell_type": "code",
      "execution_count": 1,
      "metadata": {
        "id": "8QgOpE-wjQKl"
      },
      "outputs": [],
      "source": [
        "import pandas as pd"
      ]
    },
    {
      "cell_type": "code",
      "execution_count": 2,
      "metadata": {
        "id": "ufRZ7TLwjQKo"
      },
      "outputs": [],
      "source": [
        "dados = pd.read_csv('dados.csv')"
      ]
    },
    {
      "cell_type": "code",
      "execution_count": 3,
      "metadata": {
        "colab": {
          "base_uri": "https://localhost:8080/",
          "height": 206
        },
        "id": "GsC_WhLFjQKq",
        "outputId": "36db2744-ad55-4f6c-f132-7f4f7f94ed86",
        "scrolled": true
      },
      "outputs": [
        {
          "output_type": "execute_result",
          "data": {
            "text/plain": [
              "   UF  Sexo  Idade  Cor  Anos de Estudo  Renda    Altura\n",
              "0  11     0     23    8              12    800  1.603808\n",
              "1  11     1     23    2              12   1150  1.739790\n",
              "2  11     1     35    8              15    880  1.760444\n",
              "3  11     0     46    2               6   3500  1.783158\n",
              "4  11     1     47    8               9    150  1.690631"
            ],
            "text/html": [
              "\n",
              "  <div id=\"df-ff152ef8-23d6-4197-a2b2-892780b77e41\" class=\"colab-df-container\">\n",
              "    <div>\n",
              "<style scoped>\n",
              "    .dataframe tbody tr th:only-of-type {\n",
              "        vertical-align: middle;\n",
              "    }\n",
              "\n",
              "    .dataframe tbody tr th {\n",
              "        vertical-align: top;\n",
              "    }\n",
              "\n",
              "    .dataframe thead th {\n",
              "        text-align: right;\n",
              "    }\n",
              "</style>\n",
              "<table border=\"1\" class=\"dataframe\">\n",
              "  <thead>\n",
              "    <tr style=\"text-align: right;\">\n",
              "      <th></th>\n",
              "      <th>UF</th>\n",
              "      <th>Sexo</th>\n",
              "      <th>Idade</th>\n",
              "      <th>Cor</th>\n",
              "      <th>Anos de Estudo</th>\n",
              "      <th>Renda</th>\n",
              "      <th>Altura</th>\n",
              "    </tr>\n",
              "  </thead>\n",
              "  <tbody>\n",
              "    <tr>\n",
              "      <th>0</th>\n",
              "      <td>11</td>\n",
              "      <td>0</td>\n",
              "      <td>23</td>\n",
              "      <td>8</td>\n",
              "      <td>12</td>\n",
              "      <td>800</td>\n",
              "      <td>1.603808</td>\n",
              "    </tr>\n",
              "    <tr>\n",
              "      <th>1</th>\n",
              "      <td>11</td>\n",
              "      <td>1</td>\n",
              "      <td>23</td>\n",
              "      <td>2</td>\n",
              "      <td>12</td>\n",
              "      <td>1150</td>\n",
              "      <td>1.739790</td>\n",
              "    </tr>\n",
              "    <tr>\n",
              "      <th>2</th>\n",
              "      <td>11</td>\n",
              "      <td>1</td>\n",
              "      <td>35</td>\n",
              "      <td>8</td>\n",
              "      <td>15</td>\n",
              "      <td>880</td>\n",
              "      <td>1.760444</td>\n",
              "    </tr>\n",
              "    <tr>\n",
              "      <th>3</th>\n",
              "      <td>11</td>\n",
              "      <td>0</td>\n",
              "      <td>46</td>\n",
              "      <td>2</td>\n",
              "      <td>6</td>\n",
              "      <td>3500</td>\n",
              "      <td>1.783158</td>\n",
              "    </tr>\n",
              "    <tr>\n",
              "      <th>4</th>\n",
              "      <td>11</td>\n",
              "      <td>1</td>\n",
              "      <td>47</td>\n",
              "      <td>8</td>\n",
              "      <td>9</td>\n",
              "      <td>150</td>\n",
              "      <td>1.690631</td>\n",
              "    </tr>\n",
              "  </tbody>\n",
              "</table>\n",
              "</div>\n",
              "    <div class=\"colab-df-buttons\">\n",
              "\n",
              "  <div class=\"colab-df-container\">\n",
              "    <button class=\"colab-df-convert\" onclick=\"convertToInteractive('df-ff152ef8-23d6-4197-a2b2-892780b77e41')\"\n",
              "            title=\"Convert this dataframe to an interactive table.\"\n",
              "            style=\"display:none;\">\n",
              "\n",
              "  <svg xmlns=\"http://www.w3.org/2000/svg\" height=\"24px\" viewBox=\"0 -960 960 960\">\n",
              "    <path d=\"M120-120v-720h720v720H120Zm60-500h600v-160H180v160Zm220 220h160v-160H400v160Zm0 220h160v-160H400v160ZM180-400h160v-160H180v160Zm440 0h160v-160H620v160ZM180-180h160v-160H180v160Zm440 0h160v-160H620v160Z\"/>\n",
              "  </svg>\n",
              "    </button>\n",
              "\n",
              "  <style>\n",
              "    .colab-df-container {\n",
              "      display:flex;\n",
              "      gap: 12px;\n",
              "    }\n",
              "\n",
              "    .colab-df-convert {\n",
              "      background-color: #E8F0FE;\n",
              "      border: none;\n",
              "      border-radius: 50%;\n",
              "      cursor: pointer;\n",
              "      display: none;\n",
              "      fill: #1967D2;\n",
              "      height: 32px;\n",
              "      padding: 0 0 0 0;\n",
              "      width: 32px;\n",
              "    }\n",
              "\n",
              "    .colab-df-convert:hover {\n",
              "      background-color: #E2EBFA;\n",
              "      box-shadow: 0px 1px 2px rgba(60, 64, 67, 0.3), 0px 1px 3px 1px rgba(60, 64, 67, 0.15);\n",
              "      fill: #174EA6;\n",
              "    }\n",
              "\n",
              "    .colab-df-buttons div {\n",
              "      margin-bottom: 4px;\n",
              "    }\n",
              "\n",
              "    [theme=dark] .colab-df-convert {\n",
              "      background-color: #3B4455;\n",
              "      fill: #D2E3FC;\n",
              "    }\n",
              "\n",
              "    [theme=dark] .colab-df-convert:hover {\n",
              "      background-color: #434B5C;\n",
              "      box-shadow: 0px 1px 3px 1px rgba(0, 0, 0, 0.15);\n",
              "      filter: drop-shadow(0px 1px 2px rgba(0, 0, 0, 0.3));\n",
              "      fill: #FFFFFF;\n",
              "    }\n",
              "  </style>\n",
              "\n",
              "    <script>\n",
              "      const buttonEl =\n",
              "        document.querySelector('#df-ff152ef8-23d6-4197-a2b2-892780b77e41 button.colab-df-convert');\n",
              "      buttonEl.style.display =\n",
              "        google.colab.kernel.accessAllowed ? 'block' : 'none';\n",
              "\n",
              "      async function convertToInteractive(key) {\n",
              "        const element = document.querySelector('#df-ff152ef8-23d6-4197-a2b2-892780b77e41');\n",
              "        const dataTable =\n",
              "          await google.colab.kernel.invokeFunction('convertToInteractive',\n",
              "                                                    [key], {});\n",
              "        if (!dataTable) return;\n",
              "\n",
              "        const docLinkHtml = 'Like what you see? Visit the ' +\n",
              "          '<a target=\"_blank\" href=https://colab.research.google.com/notebooks/data_table.ipynb>data table notebook</a>'\n",
              "          + ' to learn more about interactive tables.';\n",
              "        element.innerHTML = '';\n",
              "        dataTable['output_type'] = 'display_data';\n",
              "        await google.colab.output.renderOutput(dataTable, element);\n",
              "        const docLink = document.createElement('div');\n",
              "        docLink.innerHTML = docLinkHtml;\n",
              "        element.appendChild(docLink);\n",
              "      }\n",
              "    </script>\n",
              "  </div>\n",
              "\n",
              "\n",
              "<div id=\"df-0f23c518-a241-44bf-8f78-d194bdc67c95\">\n",
              "  <button class=\"colab-df-quickchart\" onclick=\"quickchart('df-0f23c518-a241-44bf-8f78-d194bdc67c95')\"\n",
              "            title=\"Suggest charts\"\n",
              "            style=\"display:none;\">\n",
              "\n",
              "<svg xmlns=\"http://www.w3.org/2000/svg\" height=\"24px\"viewBox=\"0 0 24 24\"\n",
              "     width=\"24px\">\n",
              "    <g>\n",
              "        <path d=\"M19 3H5c-1.1 0-2 .9-2 2v14c0 1.1.9 2 2 2h14c1.1 0 2-.9 2-2V5c0-1.1-.9-2-2-2zM9 17H7v-7h2v7zm4 0h-2V7h2v10zm4 0h-2v-4h2v4z\"/>\n",
              "    </g>\n",
              "</svg>\n",
              "  </button>\n",
              "\n",
              "<style>\n",
              "  .colab-df-quickchart {\n",
              "      --bg-color: #E8F0FE;\n",
              "      --fill-color: #1967D2;\n",
              "      --hover-bg-color: #E2EBFA;\n",
              "      --hover-fill-color: #174EA6;\n",
              "      --disabled-fill-color: #AAA;\n",
              "      --disabled-bg-color: #DDD;\n",
              "  }\n",
              "\n",
              "  [theme=dark] .colab-df-quickchart {\n",
              "      --bg-color: #3B4455;\n",
              "      --fill-color: #D2E3FC;\n",
              "      --hover-bg-color: #434B5C;\n",
              "      --hover-fill-color: #FFFFFF;\n",
              "      --disabled-bg-color: #3B4455;\n",
              "      --disabled-fill-color: #666;\n",
              "  }\n",
              "\n",
              "  .colab-df-quickchart {\n",
              "    background-color: var(--bg-color);\n",
              "    border: none;\n",
              "    border-radius: 50%;\n",
              "    cursor: pointer;\n",
              "    display: none;\n",
              "    fill: var(--fill-color);\n",
              "    height: 32px;\n",
              "    padding: 0;\n",
              "    width: 32px;\n",
              "  }\n",
              "\n",
              "  .colab-df-quickchart:hover {\n",
              "    background-color: var(--hover-bg-color);\n",
              "    box-shadow: 0 1px 2px rgba(60, 64, 67, 0.3), 0 1px 3px 1px rgba(60, 64, 67, 0.15);\n",
              "    fill: var(--button-hover-fill-color);\n",
              "  }\n",
              "\n",
              "  .colab-df-quickchart-complete:disabled,\n",
              "  .colab-df-quickchart-complete:disabled:hover {\n",
              "    background-color: var(--disabled-bg-color);\n",
              "    fill: var(--disabled-fill-color);\n",
              "    box-shadow: none;\n",
              "  }\n",
              "\n",
              "  .colab-df-spinner {\n",
              "    border: 2px solid var(--fill-color);\n",
              "    border-color: transparent;\n",
              "    border-bottom-color: var(--fill-color);\n",
              "    animation:\n",
              "      spin 1s steps(1) infinite;\n",
              "  }\n",
              "\n",
              "  @keyframes spin {\n",
              "    0% {\n",
              "      border-color: transparent;\n",
              "      border-bottom-color: var(--fill-color);\n",
              "      border-left-color: var(--fill-color);\n",
              "    }\n",
              "    20% {\n",
              "      border-color: transparent;\n",
              "      border-left-color: var(--fill-color);\n",
              "      border-top-color: var(--fill-color);\n",
              "    }\n",
              "    30% {\n",
              "      border-color: transparent;\n",
              "      border-left-color: var(--fill-color);\n",
              "      border-top-color: var(--fill-color);\n",
              "      border-right-color: var(--fill-color);\n",
              "    }\n",
              "    40% {\n",
              "      border-color: transparent;\n",
              "      border-right-color: var(--fill-color);\n",
              "      border-top-color: var(--fill-color);\n",
              "    }\n",
              "    60% {\n",
              "      border-color: transparent;\n",
              "      border-right-color: var(--fill-color);\n",
              "    }\n",
              "    80% {\n",
              "      border-color: transparent;\n",
              "      border-right-color: var(--fill-color);\n",
              "      border-bottom-color: var(--fill-color);\n",
              "    }\n",
              "    90% {\n",
              "      border-color: transparent;\n",
              "      border-bottom-color: var(--fill-color);\n",
              "    }\n",
              "  }\n",
              "</style>\n",
              "\n",
              "  <script>\n",
              "    async function quickchart(key) {\n",
              "      const quickchartButtonEl =\n",
              "        document.querySelector('#' + key + ' button');\n",
              "      quickchartButtonEl.disabled = true;  // To prevent multiple clicks.\n",
              "      quickchartButtonEl.classList.add('colab-df-spinner');\n",
              "      try {\n",
              "        const charts = await google.colab.kernel.invokeFunction(\n",
              "            'suggestCharts', [key], {});\n",
              "      } catch (error) {\n",
              "        console.error('Error during call to suggestCharts:', error);\n",
              "      }\n",
              "      quickchartButtonEl.classList.remove('colab-df-spinner');\n",
              "      quickchartButtonEl.classList.add('colab-df-quickchart-complete');\n",
              "    }\n",
              "    (() => {\n",
              "      let quickchartButtonEl =\n",
              "        document.querySelector('#df-0f23c518-a241-44bf-8f78-d194bdc67c95 button');\n",
              "      quickchartButtonEl.style.display =\n",
              "        google.colab.kernel.accessAllowed ? 'block' : 'none';\n",
              "    })();\n",
              "  </script>\n",
              "</div>\n",
              "\n",
              "    </div>\n",
              "  </div>\n"
            ],
            "application/vnd.google.colaboratory.intrinsic+json": {
              "type": "dataframe",
              "variable_name": "dados",
              "summary": "{\n  \"name\": \"dados\",\n  \"rows\": 76840,\n  \"fields\": [\n    {\n      \"column\": \"UF\",\n      \"properties\": {\n        \"dtype\": \"number\",\n        \"std\": 11,\n        \"min\": 11,\n        \"max\": 53,\n        \"num_unique_values\": 27,\n        \"samples\": [\n          22,\n          27,\n          23\n        ],\n        \"semantic_type\": \"\",\n        \"description\": \"\"\n      }\n    },\n    {\n      \"column\": \"Sexo\",\n      \"properties\": {\n        \"dtype\": \"number\",\n        \"std\": 0,\n        \"min\": 0,\n        \"max\": 1,\n        \"num_unique_values\": 2,\n        \"samples\": [\n          1,\n          0\n        ],\n        \"semantic_type\": \"\",\n        \"description\": \"\"\n      }\n    },\n    {\n      \"column\": \"Idade\",\n      \"properties\": {\n        \"dtype\": \"number\",\n        \"std\": 12,\n        \"min\": 13,\n        \"max\": 99,\n        \"num_unique_values\": 84,\n        \"samples\": [\n          88,\n          23\n        ],\n        \"semantic_type\": \"\",\n        \"description\": \"\"\n      }\n    },\n    {\n      \"column\": \"Cor\",\n      \"properties\": {\n        \"dtype\": \"number\",\n        \"std\": 2,\n        \"min\": 0,\n        \"max\": 8,\n        \"num_unique_values\": 5,\n        \"samples\": [\n          2,\n          0\n        ],\n        \"semantic_type\": \"\",\n        \"description\": \"\"\n      }\n    },\n    {\n      \"column\": \"Anos de Estudo\",\n      \"properties\": {\n        \"dtype\": \"number\",\n        \"std\": 4,\n        \"min\": 1,\n        \"max\": 17,\n        \"num_unique_values\": 17,\n        \"samples\": [\n          12,\n          15\n        ],\n        \"semantic_type\": \"\",\n        \"description\": \"\"\n      }\n    },\n    {\n      \"column\": \"Renda\",\n      \"properties\": {\n        \"dtype\": \"number\",\n        \"std\": 3323,\n        \"min\": 0,\n        \"max\": 200000,\n        \"num_unique_values\": 1606,\n        \"samples\": [\n          3279,\n          2456\n        ],\n        \"semantic_type\": \"\",\n        \"description\": \"\"\n      }\n    },\n    {\n      \"column\": \"Altura\",\n      \"properties\": {\n        \"dtype\": \"number\",\n        \"std\": 0.07971743006825309,\n        \"min\": 1.339244614,\n        \"max\": 2.028496765,\n        \"num_unique_values\": 76831,\n        \"samples\": [\n          1.616531581,\n          1.799777606\n        ],\n        \"semantic_type\": \"\",\n        \"description\": \"\"\n      }\n    }\n  ]\n}"
            }
          },
          "metadata": {},
          "execution_count": 3
        }
      ],
      "source": [
        "dados.head()"
      ]
    },
    {
      "cell_type": "markdown",
      "metadata": {
        "id": "-z3bLQIUG3Hv"
      },
      "source": [
        "---\n",
        "---"
      ]
    },
    {
      "cell_type": "markdown",
      "metadata": {
        "id": "tL9xVLwTX07g"
      },
      "source": [
        "# <font>DISTRIBUIÇÕES DE PROBABILIDADE</font>\n",
        "\n",
        "Uma distribuição de probabilidade é uma função que descreve a probabilidade de ocorrência de diferentes resultados possíveis em um experimento. Em outras palavras, mostra a chance de cada valor de uma variável aleatória acontecer.\n",
        "***"
      ]
    },
    {
      "cell_type": "markdown",
      "metadata": {
        "id": "KJxd2KFSYLML"
      },
      "source": [
        "## Distribuição Binomial\n",
        "***"
      ]
    },
    {
      "cell_type": "markdown",
      "metadata": {
        "id": "mcbl3KbnG3Bq"
      },
      "source": [
        "Um evento **binomial** é caracterizado pela possibilidade de ocorrência de apenas duas categorias. Estas categorias somadas representam todo o espaço amostral, sendo também mutuamente excludentes, ou seja, a ocorrência de uma implica na não ocorrência da outra.\n",
        "\n",
        "Em análises estatísticas o uso mais comum da distribuição binomial é na solução de problemas que envolvem situações de **sucesso** e **fracasso**."
      ]
    },
    {
      "cell_type": "markdown",
      "metadata": {
        "id": "iLoYAuJ9G3Bs"
      },
      "source": [
        "<font size=6> $$P(k)=\\binom{n}{k} p^k q^{n-k}$$ </font>\n",
        "\n",
        "Onde:\n",
        "\n",
        "$p$ = probabilidade de sucesso\n",
        "\n",
        "$q = (1 - p)$ = probabilidade de fracasso\n",
        "\n",
        "$n$ = número de eventos estudados\n",
        "\n",
        "$k$ = número de eventos desejados que tenham sucesso"
      ]
    },
    {
      "cell_type": "markdown",
      "metadata": {
        "id": "PxEgWbFdG3Bt"
      },
      "source": [
        "### Experimento Binomial  "
      ]
    },
    {
      "cell_type": "markdown",
      "metadata": {
        "id": "eqQK3Ny-G3Bv"
      },
      "source": [
        "1. Realização de $n$ ensaios idênticos.\n",
        "\n",
        "2. Os ensaios são independentes.\n",
        "\n",
        "3. Somente dois resultados são possíveis, exemplo: Verdadeiro ou falso; Cara ou coroa; Sucesso ou fracasso.\n",
        "\n",
        "4. A probabilidade de sucesso é representada por $p$ e a de fracasso por $1-p=q$. Estas probabilidades não se modificam de ensaio para ensaio."
      ]
    },
    {
      "cell_type": "markdown",
      "metadata": {
        "id": "mT77udQ0G3Bx"
      },
      "source": [
        "### Média da distribuição binomial"
      ]
    },
    {
      "cell_type": "markdown",
      "metadata": {
        "id": "EGiuemgqG3By"
      },
      "source": [
        "O valor esperado ou a média da distribuição binomial é igual ao número de experimentos realizados multiplicado pela chance de ocorrência do evento.\n",
        "\n",
        "<font size=6> $$\\mu = n \\times p$$ </font>"
      ]
    },
    {
      "cell_type": "markdown",
      "metadata": {
        "id": "1fDLi96OG3Bz"
      },
      "source": [
        "### Desvio padrão da distribuição binomial"
      ]
    },
    {
      "cell_type": "markdown",
      "metadata": {
        "id": "EZojizotG3B1"
      },
      "source": [
        "O desvio padrão é o produto entre o número de experimentos, a probabilidade de sucesso e a probabilidade de fracasso.\n",
        "\n",
        "<font size=6> $$\\sigma = \\sqrt{n \\times p \\times q}$$ </font>"
      ]
    },
    {
      "cell_type": "code",
      "execution_count": 4,
      "metadata": {
        "id": "-U2sGssNG3B4"
      },
      "outputs": [],
      "source": [
        "from scipy.special import comb"
      ]
    },
    {
      "cell_type": "markdown",
      "metadata": {
        "id": "MxxuJNSwG3B7"
      },
      "source": [
        "### Combinações\n",
        "\n",
        "Número de combinações de $n$ objetos, tomados $k$ a cada vez, é:\n",
        "\n",
        "# $$C_{k}^{n} = \\binom{n}{k} = \\frac{n!}{k!(n - k)!}$$\n",
        "\n",
        "Onde\n",
        "\n",
        "## $$n! = n\\times(n-1)\\times(n-2)\\times...\\times(2)\\times(1)$$\n",
        "## $$k! = k\\times(k-1)\\times(k-2)\\times...\\times(2)\\times(1)$$\n",
        "\n",
        "Por definição\n",
        "\n",
        "## $$0! = 1$$"
      ]
    },
    {
      "cell_type": "markdown",
      "metadata": {
        "id": "h1Mo9AxyG3B8"
      },
      "source": [
        "***\n",
        "<font size=5> **Exemplo**: Mega Sena </font>\n",
        "\n",
        "Na Mega Sena, um jogo consiste em escolher 6 números dentre 60 disponíveis. Você, como um jogador curioso, quer calcular a probabilidade de ganhar com apenas um jogo. Para isso, primeiro precisamos descobrir quantas combinações diferentes de 6 números podem ser formadas com os 60 números do volante.\n",
        "\n",
        "<font size=6>$$C_{6}^{60} = \\binom{60}{6} = \\frac{60!}{6!(60 - 6)!}$$ </font>"
      ]
    },
    {
      "cell_type": "code",
      "execution_count": 5,
      "metadata": {
        "colab": {
          "base_uri": "https://localhost:8080/"
        },
        "id": "c2t7yHl7G3B9",
        "outputId": "adb6ec90-192b-4b21-8b74-083d3a362110"
      },
      "outputs": [
        {
          "output_type": "execute_result",
          "data": {
            "text/plain": [
              "50063860.0"
            ]
          },
          "metadata": {},
          "execution_count": 5
        }
      ],
      "source": [
        "combinacoes = comb(60, 6)\n",
        "combinacoes"
      ]
    },
    {
      "cell_type": "code",
      "execution_count": 6,
      "metadata": {
        "colab": {
          "base_uri": "https://localhost:8080/"
        },
        "id": "LpioeTSXG3CB",
        "outputId": "0fa4fc8c-c01e-4f04-915b-79871a962fef"
      },
      "outputs": [
        {
          "output_type": "stream",
          "name": "stdout",
          "text": [
            "0.000000019974489\n"
          ]
        }
      ],
      "source": [
        "probabilidade = 1 / combinacoes\n",
        "print('%0.15f' % probabilidade)"
      ]
    },
    {
      "cell_type": "markdown",
      "metadata": {
        "id": "K0DPDD37G3CG"
      },
      "source": [
        "***\n",
        "<font size=5>**Exemplo**: Concurso para Cientista de Dados </font>\n",
        "\n",
        "Um candidato decide se aventurar em um concurso para cientista de dados sem estudar. A prova consiste em **10 questões** de múltipla escolha, com **3 alternativas** por questão. Cada questão vale **1 ponto**. Sem nenhum conhecimento, o candidato decide chutar todas as respostas.\n",
        "\n",
        "Objetivo\n",
        "\n",
        "Sabendo que a nota de corte para aprovação é 5, calcule:\n",
        "\n",
        "A probabilidade do candidato acertar **exatamente** 5 questões.\n",
        "A probabilidade do candidato **ser aprovado** (acertar 5 ou mais questões)."
      ]
    },
    {
      "cell_type": "markdown",
      "metadata": {
        "id": "sf-NMPfxG3CH"
      },
      "source": [
        "<font size=5>Qual o número de ensaios ($n$)? </font>"
      ]
    },
    {
      "cell_type": "code",
      "execution_count": 7,
      "metadata": {
        "colab": {
          "base_uri": "https://localhost:8080/"
        },
        "id": "WmnjMTnYG3CH",
        "outputId": "82e75e74-7002-488f-e6ea-009dcedaafef"
      },
      "outputs": [
        {
          "output_type": "execute_result",
          "data": {
            "text/plain": [
              "10"
            ]
          },
          "metadata": {},
          "execution_count": 7
        }
      ],
      "source": [
        "n = 10\n",
        "n"
      ]
    },
    {
      "cell_type": "markdown",
      "metadata": {
        "id": "1USf9Ro8G3CK"
      },
      "source": [
        "<font size=5>Os ensaios são independentes? </font>"
      ]
    },
    {
      "cell_type": "markdown",
      "metadata": {
        "id": "82xf2XIkG3CM"
      },
      "source": [
        "Sim. A opção escolhida em uma questão não influencia em nada a opção escolhida em outra questão."
      ]
    },
    {
      "cell_type": "markdown",
      "metadata": {
        "id": "7jN0H5e7G3CN"
      },
      "source": [
        "<font size=5> Somente dois resultados são possíveis em cada ensaio? </font>"
      ]
    },
    {
      "cell_type": "markdown",
      "metadata": {
        "id": "gGxcY7K8G3CO"
      },
      "source": [
        "Sim. O candidato tem duas possibilidades, ACERTA ou ERRAR uma questão."
      ]
    },
    {
      "cell_type": "markdown",
      "metadata": {
        "id": "MZw2LDQjG3CR"
      },
      "source": [
        "<font size=5> Qual a probabilidade de sucesso ($p$)? </font>"
      ]
    },
    {
      "cell_type": "code",
      "execution_count": 8,
      "metadata": {
        "colab": {
          "base_uri": "https://localhost:8080/"
        },
        "id": "AazGDtt0G3CS",
        "outputId": "95473460-b1ab-4027-c7b5-ff090b8b5cd5"
      },
      "outputs": [
        {
          "output_type": "execute_result",
          "data": {
            "text/plain": [
              "0.3333333333333333"
            ]
          },
          "metadata": {},
          "execution_count": 8
        }
      ],
      "source": [
        "numero_de_alternativas_por_questao = 3\n",
        "p = 1 / numero_de_alternativas_por_questao\n",
        "p"
      ]
    },
    {
      "cell_type": "markdown",
      "metadata": {
        "id": "KPCw41OlG3CX"
      },
      "source": [
        " Qual a probabilidade de fracasso ($q$)?"
      ]
    },
    {
      "cell_type": "code",
      "execution_count": 9,
      "metadata": {
        "colab": {
          "base_uri": "https://localhost:8080/"
        },
        "id": "FRhmjCnpG3CZ",
        "outputId": "bec8a896-bf72-4cc4-a038-5bbd6079a72b"
      },
      "outputs": [
        {
          "output_type": "execute_result",
          "data": {
            "text/plain": [
              "0.6666666666666667"
            ]
          },
          "metadata": {},
          "execution_count": 9
        }
      ],
      "source": [
        "q = 1 - p\n",
        "q"
      ]
    },
    {
      "cell_type": "markdown",
      "metadata": {
        "id": "W2htpmzaG3Ce"
      },
      "source": [
        " Qual o total de eventos que se deseja obter sucesso ($k$)?"
      ]
    },
    {
      "cell_type": "code",
      "execution_count": 10,
      "metadata": {
        "colab": {
          "base_uri": "https://localhost:8080/"
        },
        "id": "MmHpiIIuG3Cj",
        "outputId": "bc4aa76c-8690-42a1-e7a5-75ad34c328ef"
      },
      "outputs": [
        {
          "output_type": "execute_result",
          "data": {
            "text/plain": [
              "5"
            ]
          },
          "metadata": {},
          "execution_count": 10
        }
      ],
      "source": [
        "k = 5\n",
        "k"
      ]
    },
    {
      "cell_type": "markdown",
      "metadata": {
        "id": "r8TZ6DSuG3Cm"
      },
      "source": [
        "***\n",
        "\n",
        "<font size=5>Solução 1 </font>\n",
        "\n",
        "$$P(k)=\\binom{n}{k} p^k q^{n-k}$$"
      ]
    },
    {
      "cell_type": "code",
      "execution_count": 11,
      "metadata": {
        "colab": {
          "base_uri": "https://localhost:8080/"
        },
        "id": "tZBbMIzKG3Cn",
        "outputId": "3ec2b580-955e-43bc-aaea-bdb2a17acbbf"
      },
      "outputs": [
        {
          "output_type": "stream",
          "name": "stdout",
          "text": [
            "0.13656455\n"
          ]
        }
      ],
      "source": [
        "probabilidade = (comb(n, k)) * (p ** k) * (q ** (n - k))\n",
        "print('%0.8f' % probabilidade)"
      ]
    },
    {
      "cell_type": "code",
      "execution_count": 12,
      "metadata": {
        "id": "rhlsI3iLG3Cr"
      },
      "outputs": [],
      "source": [
        "from scipy.stats import binom"
      ]
    },
    {
      "cell_type": "markdown",
      "metadata": {
        "id": "hvj2sYaSG3Ct"
      },
      "source": [
        "***\n",
        "<font size=5>Solução 2 </font>"
      ]
    },
    {
      "cell_type": "code",
      "execution_count": 13,
      "metadata": {
        "colab": {
          "base_uri": "https://localhost:8080/"
        },
        "id": "OjS1xsz5G3Cu",
        "outputId": "103e47e1-2cb1-42c3-ef49-91af26d64232"
      },
      "outputs": [
        {
          "output_type": "stream",
          "name": "stdout",
          "text": [
            "0.13656455\n"
          ]
        }
      ],
      "source": [
        "probabilidade = binom.pmf(k, n, p)\n",
        "print('%0.8f' % probabilidade)"
      ]
    },
    {
      "cell_type": "markdown",
      "metadata": {
        "id": "aY7amkxo5k5w"
      },
      "source": [
        "<font size=4>Obter a probabilidade do candidato passar </font>"
      ]
    },
    {
      "cell_type": "markdown",
      "metadata": {
        "id": "UhB4PmnX5k5w"
      },
      "source": [
        "<font size=5> $$P(acertar \\geq 5) = P(5) + P(6) + P(7) + P(8) + P(9) + P10)$$</font>\n",
        "\n",
        "<br>\n",
        "\n",
        "Sendo: pmf = Função de Probabilidade"
      ]
    },
    {
      "cell_type": "code",
      "execution_count": 14,
      "metadata": {
        "id": "oE6prXjC5k5x",
        "outputId": "72ef5f38-1d04-47c4-c754-d1af9b119f8a",
        "colab": {
          "base_uri": "https://localhost:8080/"
        }
      },
      "outputs": [
        {
          "output_type": "execute_result",
          "data": {
            "text/plain": [
              "0.21312808006909476"
            ]
          },
          "metadata": {},
          "execution_count": 14
        }
      ],
      "source": [
        "binom.pmf(5, n, p) + binom.pmf(6, n, p) + binom.pmf(7, n, p) + binom.pmf(8, n, p) + binom.pmf(9, n, p) + binom.pmf(10, n, p)"
      ]
    },
    {
      "cell_type": "code",
      "execution_count": 15,
      "metadata": {
        "colab": {
          "base_uri": "https://localhost:8080/"
        },
        "id": "pMm4R1Ur5k5x",
        "outputId": "8b771f85-323b-4fb4-eeea-f92c6d23962d"
      },
      "outputs": [
        {
          "output_type": "execute_result",
          "data": {
            "text/plain": [
              "0.21312808006909476"
            ]
          },
          "metadata": {},
          "execution_count": 15
        }
      ],
      "source": [
        "binom.pmf([5, 6, 7, 8, 9, 10], n, p).sum()"
      ]
    },
    {
      "cell_type": "code",
      "execution_count": 16,
      "metadata": {
        "colab": {
          "base_uri": "https://localhost:8080/"
        },
        "id": "LBn8942K5k5y",
        "outputId": "ea132980-353c-4667-dcd4-097dc45c32d7"
      },
      "outputs": [
        {
          "output_type": "execute_result",
          "data": {
            "text/plain": [
              "0.21312808006909523"
            ]
          },
          "metadata": {},
          "execution_count": 16
        }
      ],
      "source": [
        "1 - binom.cdf(4, n, p)"
      ]
    },
    {
      "cell_type": "code",
      "execution_count": 17,
      "metadata": {
        "colab": {
          "base_uri": "https://localhost:8080/"
        },
        "id": "xMHyy3L_5k5y",
        "outputId": "b858c79a-4421-4cfe-85e1-65eef76c5cf2"
      },
      "outputs": [
        {
          "output_type": "execute_result",
          "data": {
            "text/plain": [
              "0.21312808006909525"
            ]
          },
          "metadata": {},
          "execution_count": 17
        }
      ],
      "source": [
        "binom.sf(4, n, p)"
      ]
    },
    {
      "cell_type": "markdown",
      "metadata": {
        "id": "7hAZ4XkMG3Cx"
      },
      "source": [
        "***\n",
        "<font size=5> Exemplo: Gincana </font>"
      ]
    },
    {
      "cell_type": "markdown",
      "metadata": {
        "id": "l42alRhOG3Cy"
      },
      "source": [
        "Uma cidade do interior realiza todos os anos uma gincana para arrecadar fundos para o hospital da cidade. Na última gincana se sabe que a **proporção de participantes do sexo feminino foi de 60%**. **O total de equipes, com 12 integrantes, inscritas na gincana deste ano é de 30**. Com as informações acima responda: Quantas equipes deverão ser formadas por **8 mulheres**?"
      ]
    },
    {
      "cell_type": "markdown",
      "metadata": {
        "id": "dqBGf6d7G3C0"
      },
      "source": [
        "### Solução"
      ]
    },
    {
      "cell_type": "code",
      "execution_count": 18,
      "metadata": {
        "colab": {
          "base_uri": "https://localhost:8080/"
        },
        "id": "Xw9b6ch3G3C1",
        "outputId": "02f3aed0-9275-4fff-9ed1-d8c80e8f1880"
      },
      "outputs": [
        {
          "output_type": "execute_result",
          "data": {
            "text/plain": [
              "0.6"
            ]
          },
          "metadata": {},
          "execution_count": 18
        }
      ],
      "source": [
        "p = 0.6\n",
        "p"
      ]
    },
    {
      "cell_type": "code",
      "execution_count": 19,
      "metadata": {
        "colab": {
          "base_uri": "https://localhost:8080/"
        },
        "id": "R3-RaxP5G3C3",
        "outputId": "7d2d8b09-600b-40e3-a1fa-24d91805235f"
      },
      "outputs": [
        {
          "output_type": "execute_result",
          "data": {
            "text/plain": [
              "12"
            ]
          },
          "metadata": {},
          "execution_count": 19
        }
      ],
      "source": [
        "n = 12\n",
        "n"
      ]
    },
    {
      "cell_type": "code",
      "execution_count": 20,
      "metadata": {
        "colab": {
          "base_uri": "https://localhost:8080/"
        },
        "id": "otBHHyD0G3C6",
        "outputId": "92573178-f58a-445e-cdf1-21f501a741d8"
      },
      "outputs": [
        {
          "output_type": "execute_result",
          "data": {
            "text/plain": [
              "8"
            ]
          },
          "metadata": {},
          "execution_count": 20
        }
      ],
      "source": [
        "k = 8\n",
        "k"
      ]
    },
    {
      "cell_type": "code",
      "execution_count": 21,
      "metadata": {
        "colab": {
          "base_uri": "https://localhost:8080/"
        },
        "id": "ZAoBvbQqG3C9",
        "outputId": "4f2a20e3-8504-42e9-dacc-cf6bfa7e3a2d"
      },
      "outputs": [
        {
          "output_type": "stream",
          "name": "stdout",
          "text": [
            "0.21284094\n"
          ]
        }
      ],
      "source": [
        "probabilidade = binom.pmf(k, n, p)\n",
        "print('%0.8f' % probabilidade)"
      ]
    },
    {
      "cell_type": "code",
      "execution_count": 22,
      "metadata": {
        "colab": {
          "base_uri": "https://localhost:8080/"
        },
        "id": "Tg53uGL4G3DA",
        "outputId": "a547a366-6fa0-49a6-8388-e077037f740f"
      },
      "outputs": [
        {
          "output_type": "execute_result",
          "data": {
            "text/plain": [
              "6.3852281856"
            ]
          },
          "metadata": {},
          "execution_count": 22
        }
      ],
      "source": [
        "equipes = 30 * probabilidade\n",
        "equipes"
      ]
    },
    {
      "cell_type": "markdown",
      "metadata": {
        "id": "49TiCQRvG3DC"
      },
      "source": [
        "---"
      ]
    },
    {
      "cell_type": "markdown",
      "metadata": {
        "id": "k-uV7bgsmand"
      },
      "source": [
        "## Distribuição Poisson\n",
        "***"
      ]
    },
    {
      "cell_type": "markdown",
      "metadata": {
        "id": "H0jPtJICG3DM"
      },
      "source": [
        "Imagine que você é dono de uma loja e quer entender quantos clientes entram na sua loja a cada hora. Você sabe que, em média, **10 clientes** entram por hora, mas esse número pode variar: às vezes entram 8, às vezes 12, às vezes até 15!\n",
        "\n",
        "A Distribuição de Poisson te ajuda a entender essa variação e a probabilidade de um número específico de clientes entrar na sua loja em uma hora."
      ]
    },
    {
      "cell_type": "markdown",
      "metadata": {
        "id": "O_XqwANJG3DN"
      },
      "source": [
        "<font size=6> $$P(k) = \\frac{e^{-\\mu}(\\mu)^k}{k!}$$ </font>\n",
        "\n",
        "Onde:\n",
        "\n",
        "$e$ = constante cujo valor aproximado é 2,718281828459045\n",
        "\n",
        "$\\mu$ = representa o número médio de ocorrências em um determinado intervalo de tempo ou espaço\n",
        "\n",
        "$k$ = número de sucessos no intervalo desejado"
      ]
    },
    {
      "cell_type": "markdown",
      "metadata": {
        "id": "FqquU8wOG3DO"
      },
      "source": [
        "### Experimento Poisson"
      ]
    },
    {
      "cell_type": "markdown",
      "metadata": {
        "id": "ir2odEW3G3DO"
      },
      "source": [
        "1. A probabilidade de uma ocorrência é a mesma em todo o intervalo observado.\n",
        "\n",
        "2. O número de ocorrências em determinado intervalo é independente do número de ocorrências em outros intervalos.\n",
        "\n",
        "3. A probabilidade de uma ocorrência é a mesma em intervalos de igual comprimento."
      ]
    },
    {
      "cell_type": "markdown",
      "metadata": {
        "id": "2INlWMa0G3DP"
      },
      "source": [
        "### Média da distribuição Poisson"
      ]
    },
    {
      "cell_type": "markdown",
      "metadata": {
        "id": "xywTsniCG3DP"
      },
      "source": [
        "<font size=6> $$\\mu$$ </font>"
      ]
    },
    {
      "cell_type": "markdown",
      "metadata": {
        "id": "7-Lh-LpfG3DQ"
      },
      "source": [
        "### Desvio padrão da distribuição Poisson"
      ]
    },
    {
      "cell_type": "markdown",
      "metadata": {
        "id": "61uStWUsG3DQ"
      },
      "source": [
        "<font size=6> $$\\sigma = \\sqrt{\\mu}$$ </font>\n"
      ]
    },
    {
      "cell_type": "code",
      "execution_count": 23,
      "metadata": {
        "id": "w23fjVT-G3DS"
      },
      "outputs": [],
      "source": [
        "import numpy as np\n",
        "import math"
      ]
    },
    {
      "cell_type": "code",
      "execution_count": 24,
      "metadata": {
        "colab": {
          "base_uri": "https://localhost:8080/"
        },
        "id": "rdNqMuFNG3DU",
        "outputId": "cdddee4a-c654-4e8e-d831-07c617c6e0bf"
      },
      "outputs": [
        {
          "output_type": "execute_result",
          "data": {
            "text/plain": [
              "2.718281828459045"
            ]
          },
          "metadata": {},
          "execution_count": 24
        }
      ],
      "source": [
        "np.e"
      ]
    },
    {
      "cell_type": "markdown",
      "metadata": {
        "id": "RKQWuVgMG3DW"
      },
      "source": [
        "***\n",
        "<font size=5>Exemplo: Delivery</font>\n"
      ]
    },
    {
      "cell_type": "markdown",
      "metadata": {
        "id": "ZKc__49bG3DX"
      },
      "source": [
        "Um restaurante recebe em média **20 pedidos por hora**. Qual a chance de que, em determinada hora escolhida ao acaso, o restaurante receba **15 pedidos**?"
      ]
    },
    {
      "cell_type": "markdown",
      "metadata": {
        "id": "W-MJ4XBkG3DX"
      },
      "source": [
        "Qual o número médio de ocorrências por hora ($\\mu$)?"
      ]
    },
    {
      "cell_type": "code",
      "execution_count": 25,
      "metadata": {
        "id": "2fVfJxdSG3DY"
      },
      "outputs": [],
      "source": [
        "media = 20"
      ]
    },
    {
      "cell_type": "markdown",
      "metadata": {
        "id": "3SagRtPvG3Da"
      },
      "source": [
        " Qual o número de ocorrências que queremos obter no período ($k$)?"
      ]
    },
    {
      "cell_type": "code",
      "execution_count": 26,
      "metadata": {
        "id": "yXB3QhWyG3Da"
      },
      "outputs": [],
      "source": [
        "k = 15"
      ]
    },
    {
      "cell_type": "markdown",
      "metadata": {
        "id": "3wFh3lFCG3De"
      },
      "source": [
        "<font size=5> Solução 1 </font>\n",
        "\n",
        "<font size=4> $$P(k) = \\frac{e^{-\\mu}(\\mu)^k}{k!}$$ </font>\n"
      ]
    },
    {
      "cell_type": "code",
      "execution_count": 27,
      "metadata": {
        "colab": {
          "base_uri": "https://localhost:8080/"
        },
        "id": "IEGO31WCG3Df",
        "outputId": "1ab8d64b-d61c-41ef-ca1c-2ae57e599751"
      },
      "outputs": [
        {
          "output_type": "stream",
          "name": "stdout",
          "text": [
            "0.05164885\n"
          ]
        }
      ],
      "source": [
        "probabilidade = ((np.e ** (-media)) * (media ** k)) / (math.factorial(k))\n",
        "print('%0.8f' % probabilidade)"
      ]
    },
    {
      "cell_type": "markdown",
      "metadata": {
        "id": "yAyXh0euG3Dk"
      },
      "source": [
        "### Solução 2"
      ]
    },
    {
      "cell_type": "code",
      "execution_count": 28,
      "metadata": {
        "colab": {
          "base_uri": "https://localhost:8080/"
        },
        "id": "sNw4oCAyG3Dk",
        "outputId": "627bc58a-cd42-4c7f-fcac-990e9cdc07e9"
      },
      "outputs": [
        {
          "output_type": "stream",
          "name": "stdout",
          "text": [
            "0.05164885\n"
          ]
        }
      ],
      "source": [
        "from scipy.stats import poisson\n",
        "\n",
        "probabilidade = poisson.pmf(k, media)\n",
        "print('%0.8f' % probabilidade)"
      ]
    },
    {
      "cell_type": "markdown",
      "metadata": {
        "id": "g3ng8tQFG3Do"
      },
      "source": [
        "---"
      ]
    },
    {
      "cell_type": "markdown",
      "metadata": {
        "id": "AowcVaKqpvf2"
      },
      "source": [
        "##  Distribuição Normal\n",
        "***"
      ]
    },
    {
      "cell_type": "markdown",
      "metadata": {
        "id": "YOBD21hGG3Dw"
      },
      "source": [
        "A distribuição normal é uma das ferramentas mais importantes da estatística. Ela descreve como muitos fenômenos naturais e sociais se comportam, como a altura das pessoas, a pressão arterial, as notas em um teste e muito mais."
      ]
    },
    {
      "cell_type": "markdown",
      "metadata": {
        "id": "kbPy2ORqqKJA"
      },
      "source": [
        "![Normal](https://caelum-online-public.s3.amazonaws.com/1178-estatistica-parte2/01/img001.png)"
      ]
    },
    {
      "cell_type": "markdown",
      "metadata": {
        "id": "J3eKESHTG3Dx"
      },
      "source": [
        "### Características importantes"
      ]
    },
    {
      "cell_type": "markdown",
      "metadata": {
        "id": "z8GxAzWZG3Dx"
      },
      "source": [
        "1. É **simétrica** em torno da média;\n",
        "\n",
        "2. A área sob a curva corresponde à proporção **1 ou 100%**;\n",
        "\n",
        "3. As medidas de tendência central (média, mediana e moda) apresentam o **mesmo** valor;\n",
        "\n",
        "4. Os extremos da curva tendem ao infinito em ambas as direções e, teoricamente, jamais tocam o eixo $x$;\n",
        "\n",
        "5. O desvio padrão define o achatamento e largura da distribuição. Curvas mais largas e mais achatadas apresentam valores maiores de desvio padrão;\n",
        "\n",
        "6. A distribuição é definida por sua **média e desvio padrão**;\n",
        "\n",
        "7. A probabilidade sempre será igual à **área sob a curva**, delimitada pelos limites inferior e superior."
      ]
    },
    {
      "cell_type": "markdown",
      "metadata": {
        "id": "hoWLlOiwG3Dy"
      },
      "source": [
        "<font size=6> $$f(x) = \\frac{1}{\\sqrt{2\\pi\\sigma}}e^{-\\frac{1}{2}\\left(\\frac{x-\\mu}{\\sigma}\\right)^2}$$ </font>\n",
        "\n",
        "Onde:\n",
        "\n",
        "$x$ = variável normal\n",
        "\n",
        "$\\sigma$ = desvio padrão\n",
        "\n",
        "$\\mu$ = média"
      ]
    },
    {
      "cell_type": "markdown",
      "metadata": {
        "id": "8n03Z0VlG3Dz"
      },
      "source": [
        "A probabilidade é obtida a partir da área sob a curva, delimitada pelos limites inferior e superior especificados. Um exemplo pode ser visto na figura abaixo."
      ]
    },
    {
      "cell_type": "markdown",
      "metadata": {
        "id": "X1UgmFoxG3Dz"
      },
      "source": [
        "![alt text](https://caelum-online-public.s3.amazonaws.com/1178-estatistica-parte2/01/img002.png)\n"
      ]
    },
    {
      "cell_type": "markdown",
      "metadata": {
        "id": "rtKiApHLG3D0"
      },
      "source": [
        "Para obter a área acima basta calcular a integral da função para os intervalos determinados. Conforme equação abaixo:"
      ]
    },
    {
      "cell_type": "markdown",
      "metadata": {
        "id": "0r_9CbSOG3D0"
      },
      "source": [
        "<font size=5>  $$P(L_i<x<L_s) = \\int_{L_i}^{L_s}\\frac{1}{\\sqrt{2\\pi\\sigma}}e^{-\\frac{1}{2}\\left(\\frac{x-\\mu}{\\sigma}\\right)^2}$$ </font>\n",
        "\n",
        "\n",
        "Onde:\n",
        "\n",
        "$x$ = variável normal\n",
        "\n",
        "$\\sigma$ = desvio padrão\n",
        "\n",
        "$\\mu$ = média\n",
        "\n",
        "$L_i$ = limite inferior\n",
        "\n",
        "$L_s$ = limite superior"
      ]
    },
    {
      "cell_type": "markdown",
      "metadata": {
        "id": "qP-Ye-leG3D1"
      },
      "source": [
        "### Tabelas padronizadas"
      ]
    },
    {
      "cell_type": "markdown",
      "metadata": {
        "id": "Z1VnLK11G3D1"
      },
      "source": [
        "As tabelas padronizadas foram criadas para facilitar a obtenção dos valores das áreas sob a curva normal e eliminar a necessidade de solucionar integrais definidas.\n",
        "\n",
        "Para consultarmos os valores em uma tabela padronizada basta transformarmos nossa variável em uma variável padronizada $Z$.\n",
        "\n",
        "Esta variável $Z$ representa o afastamento em desvios padrões de um valor da variável original em relação à média."
      ]
    },
    {
      "cell_type": "markdown",
      "metadata": {
        "id": "HJcdgdsgG3D2"
      },
      "source": [
        "<font size=6>$$Z = \\frac{x-\\mu}{\\sigma}$$ </font>\n",
        "\n",
        "\n",
        "Onde:\n",
        "\n",
        "$x$ = variável normal com média $\\mu$ e desvio padrão $\\sigma$\n",
        "\n",
        "$\\sigma$ = desvio padrão\n",
        "\n",
        "$\\mu$ = média"
      ]
    },
    {
      "cell_type": "code",
      "execution_count": 29,
      "metadata": {
        "colab": {
          "base_uri": "https://localhost:8080/",
          "height": 1000
        },
        "id": "7SudUNlcG3D4",
        "outputId": "9cbf2235-ed1b-44c4-849e-8b4f85467c01"
      },
      "outputs": [
        {
          "output_type": "execute_result",
          "data": {
            "text/plain": [
              "Z       0.00    0.01    0.02    0.03    0.04    0.05    0.06    0.07    0.08  \\\n",
              "0.00  0.5000  0.5040  0.5080  0.5120  0.5160  0.5199  0.5239  0.5279  0.5319   \n",
              "0.10  0.5398  0.5438  0.5478  0.5517  0.5557  0.5596  0.5636  0.5675  0.5714   \n",
              "0.20  0.5793  0.5832  0.5871  0.5910  0.5948  0.5987  0.6026  0.6064  0.6103   \n",
              "0.30  0.6179  0.6217  0.6255  0.6293  0.6331  0.6368  0.6406  0.6443  0.6480   \n",
              "0.40  0.6554  0.6591  0.6628  0.6664  0.6700  0.6736  0.6772  0.6808  0.6844   \n",
              "0.50  0.6915  0.6950  0.6985  0.7019  0.7054  0.7088  0.7123  0.7157  0.7190   \n",
              "0.60  0.7257  0.7291  0.7324  0.7357  0.7389  0.7422  0.7454  0.7486  0.7517   \n",
              "0.70  0.7580  0.7611  0.7642  0.7673  0.7704  0.7734  0.7764  0.7794  0.7823   \n",
              "0.80  0.7881  0.7910  0.7939  0.7967  0.7995  0.8023  0.8051  0.8078  0.8106   \n",
              "0.90  0.8159  0.8186  0.8212  0.8238  0.8264  0.8289  0.8315  0.8340  0.8365   \n",
              "1.00  0.8413  0.8438  0.8461  0.8485  0.8508  0.8531  0.8554  0.8577  0.8599   \n",
              "1.10  0.8643  0.8665  0.8686  0.8708  0.8729  0.8749  0.8770  0.8790  0.8810   \n",
              "1.20  0.8849  0.8869  0.8888  0.8907  0.8925  0.8944  0.8962  0.8980  0.8997   \n",
              "1.30  0.9032  0.9049  0.9066  0.9082  0.9099  0.9115  0.9131  0.9147  0.9162   \n",
              "1.40  0.9192  0.9207  0.9222  0.9236  0.9251  0.9265  0.9279  0.9292  0.9306   \n",
              "1.50  0.9332  0.9345  0.9357  0.9370  0.9382  0.9394  0.9406  0.9418  0.9429   \n",
              "1.60  0.9452  0.9463  0.9474  0.9484  0.9495  0.9505  0.9515  0.9525  0.9535   \n",
              "1.70  0.9554  0.9564  0.9573  0.9582  0.9591  0.9599  0.9608  0.9616  0.9625   \n",
              "1.80  0.9641  0.9649  0.9656  0.9664  0.9671  0.9678  0.9686  0.9693  0.9699   \n",
              "1.90  0.9713  0.9719  0.9726  0.9732  0.9738  0.9744  0.9750  0.9756  0.9761   \n",
              "2.00  0.9772  0.9778  0.9783  0.9788  0.9793  0.9798  0.9803  0.9808  0.9812   \n",
              "2.10  0.9821  0.9826  0.9830  0.9834  0.9838  0.9842  0.9846  0.9850  0.9854   \n",
              "2.20  0.9861  0.9864  0.9868  0.9871  0.9875  0.9878  0.9881  0.9884  0.9887   \n",
              "2.30  0.9893  0.9896  0.9898  0.9901  0.9904  0.9906  0.9909  0.9911  0.9913   \n",
              "2.40  0.9918  0.9920  0.9922  0.9925  0.9927  0.9929  0.9931  0.9932  0.9934   \n",
              "2.50  0.9938  0.9940  0.9941  0.9943  0.9945  0.9946  0.9948  0.9949  0.9951   \n",
              "2.60  0.9953  0.9955  0.9956  0.9957  0.9959  0.9960  0.9961  0.9962  0.9963   \n",
              "2.70  0.9965  0.9966  0.9967  0.9968  0.9969  0.9970  0.9971  0.9972  0.9973   \n",
              "2.80  0.9974  0.9975  0.9976  0.9977  0.9977  0.9978  0.9979  0.9979  0.9980   \n",
              "2.90  0.9981  0.9982  0.9982  0.9983  0.9984  0.9984  0.9985  0.9985  0.9986   \n",
              "3.00  0.9987  0.9987  0.9987  0.9988  0.9988  0.9989  0.9989  0.9989  0.9990   \n",
              "3.10  0.9990  0.9991  0.9991  0.9991  0.9992  0.9992  0.9992  0.9992  0.9993   \n",
              "3.20  0.9993  0.9993  0.9994  0.9994  0.9994  0.9994  0.9994  0.9995  0.9995   \n",
              "3.30  0.9995  0.9995  0.9995  0.9996  0.9996  0.9996  0.9996  0.9996  0.9996   \n",
              "3.40  0.9997  0.9997  0.9997  0.9997  0.9997  0.9997  0.9997  0.9997  0.9997   \n",
              "3.50  0.9998  0.9998  0.9998  0.9998  0.9998  0.9998  0.9998  0.9998  0.9998   \n",
              "3.60  0.9998  0.9998  0.9999  0.9999  0.9999  0.9999  0.9999  0.9999  0.9999   \n",
              "3.70  0.9999  0.9999  0.9999  0.9999  0.9999  0.9999  0.9999  0.9999  0.9999   \n",
              "3.80  0.9999  0.9999  0.9999  0.9999  0.9999  0.9999  0.9999  0.9999  0.9999   \n",
              "3.90  1.0000  1.0000  1.0000  1.0000  1.0000  1.0000  1.0000  1.0000  1.0000   \n",
              "\n",
              "Z       0.09  \n",
              "0.00  0.5359  \n",
              "0.10  0.5753  \n",
              "0.20  0.6141  \n",
              "0.30  0.6517  \n",
              "0.40  0.6879  \n",
              "0.50  0.7224  \n",
              "0.60  0.7549  \n",
              "0.70  0.7852  \n",
              "0.80  0.8133  \n",
              "0.90  0.8389  \n",
              "1.00  0.8621  \n",
              "1.10  0.8830  \n",
              "1.20  0.9015  \n",
              "1.30  0.9177  \n",
              "1.40  0.9319  \n",
              "1.50  0.9441  \n",
              "1.60  0.9545  \n",
              "1.70  0.9633  \n",
              "1.80  0.9706  \n",
              "1.90  0.9767  \n",
              "2.00  0.9817  \n",
              "2.10  0.9857  \n",
              "2.20  0.9890  \n",
              "2.30  0.9916  \n",
              "2.40  0.9936  \n",
              "2.50  0.9952  \n",
              "2.60  0.9964  \n",
              "2.70  0.9974  \n",
              "2.80  0.9981  \n",
              "2.90  0.9986  \n",
              "3.00  0.9990  \n",
              "3.10  0.9993  \n",
              "3.20  0.9995  \n",
              "3.30  0.9997  \n",
              "3.40  0.9998  \n",
              "3.50  0.9998  \n",
              "3.60  0.9999  \n",
              "3.70  0.9999  \n",
              "3.80  0.9999  \n",
              "3.90  1.0000  "
            ],
            "text/html": [
              "\n",
              "  <div id=\"df-cb947290-fbb2-463d-8d02-f758900c7a12\" class=\"colab-df-container\">\n",
              "    <div>\n",
              "<style scoped>\n",
              "    .dataframe tbody tr th:only-of-type {\n",
              "        vertical-align: middle;\n",
              "    }\n",
              "\n",
              "    .dataframe tbody tr th {\n",
              "        vertical-align: top;\n",
              "    }\n",
              "\n",
              "    .dataframe thead th {\n",
              "        text-align: right;\n",
              "    }\n",
              "</style>\n",
              "<table border=\"1\" class=\"dataframe\">\n",
              "  <thead>\n",
              "    <tr style=\"text-align: right;\">\n",
              "      <th>Z</th>\n",
              "      <th>0.00</th>\n",
              "      <th>0.01</th>\n",
              "      <th>0.02</th>\n",
              "      <th>0.03</th>\n",
              "      <th>0.04</th>\n",
              "      <th>0.05</th>\n",
              "      <th>0.06</th>\n",
              "      <th>0.07</th>\n",
              "      <th>0.08</th>\n",
              "      <th>0.09</th>\n",
              "    </tr>\n",
              "  </thead>\n",
              "  <tbody>\n",
              "    <tr>\n",
              "      <th>0.00</th>\n",
              "      <td>0.5000</td>\n",
              "      <td>0.5040</td>\n",
              "      <td>0.5080</td>\n",
              "      <td>0.5120</td>\n",
              "      <td>0.5160</td>\n",
              "      <td>0.5199</td>\n",
              "      <td>0.5239</td>\n",
              "      <td>0.5279</td>\n",
              "      <td>0.5319</td>\n",
              "      <td>0.5359</td>\n",
              "    </tr>\n",
              "    <tr>\n",
              "      <th>0.10</th>\n",
              "      <td>0.5398</td>\n",
              "      <td>0.5438</td>\n",
              "      <td>0.5478</td>\n",
              "      <td>0.5517</td>\n",
              "      <td>0.5557</td>\n",
              "      <td>0.5596</td>\n",
              "      <td>0.5636</td>\n",
              "      <td>0.5675</td>\n",
              "      <td>0.5714</td>\n",
              "      <td>0.5753</td>\n",
              "    </tr>\n",
              "    <tr>\n",
              "      <th>0.20</th>\n",
              "      <td>0.5793</td>\n",
              "      <td>0.5832</td>\n",
              "      <td>0.5871</td>\n",
              "      <td>0.5910</td>\n",
              "      <td>0.5948</td>\n",
              "      <td>0.5987</td>\n",
              "      <td>0.6026</td>\n",
              "      <td>0.6064</td>\n",
              "      <td>0.6103</td>\n",
              "      <td>0.6141</td>\n",
              "    </tr>\n",
              "    <tr>\n",
              "      <th>0.30</th>\n",
              "      <td>0.6179</td>\n",
              "      <td>0.6217</td>\n",
              "      <td>0.6255</td>\n",
              "      <td>0.6293</td>\n",
              "      <td>0.6331</td>\n",
              "      <td>0.6368</td>\n",
              "      <td>0.6406</td>\n",
              "      <td>0.6443</td>\n",
              "      <td>0.6480</td>\n",
              "      <td>0.6517</td>\n",
              "    </tr>\n",
              "    <tr>\n",
              "      <th>0.40</th>\n",
              "      <td>0.6554</td>\n",
              "      <td>0.6591</td>\n",
              "      <td>0.6628</td>\n",
              "      <td>0.6664</td>\n",
              "      <td>0.6700</td>\n",
              "      <td>0.6736</td>\n",
              "      <td>0.6772</td>\n",
              "      <td>0.6808</td>\n",
              "      <td>0.6844</td>\n",
              "      <td>0.6879</td>\n",
              "    </tr>\n",
              "    <tr>\n",
              "      <th>0.50</th>\n",
              "      <td>0.6915</td>\n",
              "      <td>0.6950</td>\n",
              "      <td>0.6985</td>\n",
              "      <td>0.7019</td>\n",
              "      <td>0.7054</td>\n",
              "      <td>0.7088</td>\n",
              "      <td>0.7123</td>\n",
              "      <td>0.7157</td>\n",
              "      <td>0.7190</td>\n",
              "      <td>0.7224</td>\n",
              "    </tr>\n",
              "    <tr>\n",
              "      <th>0.60</th>\n",
              "      <td>0.7257</td>\n",
              "      <td>0.7291</td>\n",
              "      <td>0.7324</td>\n",
              "      <td>0.7357</td>\n",
              "      <td>0.7389</td>\n",
              "      <td>0.7422</td>\n",
              "      <td>0.7454</td>\n",
              "      <td>0.7486</td>\n",
              "      <td>0.7517</td>\n",
              "      <td>0.7549</td>\n",
              "    </tr>\n",
              "    <tr>\n",
              "      <th>0.70</th>\n",
              "      <td>0.7580</td>\n",
              "      <td>0.7611</td>\n",
              "      <td>0.7642</td>\n",
              "      <td>0.7673</td>\n",
              "      <td>0.7704</td>\n",
              "      <td>0.7734</td>\n",
              "      <td>0.7764</td>\n",
              "      <td>0.7794</td>\n",
              "      <td>0.7823</td>\n",
              "      <td>0.7852</td>\n",
              "    </tr>\n",
              "    <tr>\n",
              "      <th>0.80</th>\n",
              "      <td>0.7881</td>\n",
              "      <td>0.7910</td>\n",
              "      <td>0.7939</td>\n",
              "      <td>0.7967</td>\n",
              "      <td>0.7995</td>\n",
              "      <td>0.8023</td>\n",
              "      <td>0.8051</td>\n",
              "      <td>0.8078</td>\n",
              "      <td>0.8106</td>\n",
              "      <td>0.8133</td>\n",
              "    </tr>\n",
              "    <tr>\n",
              "      <th>0.90</th>\n",
              "      <td>0.8159</td>\n",
              "      <td>0.8186</td>\n",
              "      <td>0.8212</td>\n",
              "      <td>0.8238</td>\n",
              "      <td>0.8264</td>\n",
              "      <td>0.8289</td>\n",
              "      <td>0.8315</td>\n",
              "      <td>0.8340</td>\n",
              "      <td>0.8365</td>\n",
              "      <td>0.8389</td>\n",
              "    </tr>\n",
              "    <tr>\n",
              "      <th>1.00</th>\n",
              "      <td>0.8413</td>\n",
              "      <td>0.8438</td>\n",
              "      <td>0.8461</td>\n",
              "      <td>0.8485</td>\n",
              "      <td>0.8508</td>\n",
              "      <td>0.8531</td>\n",
              "      <td>0.8554</td>\n",
              "      <td>0.8577</td>\n",
              "      <td>0.8599</td>\n",
              "      <td>0.8621</td>\n",
              "    </tr>\n",
              "    <tr>\n",
              "      <th>1.10</th>\n",
              "      <td>0.8643</td>\n",
              "      <td>0.8665</td>\n",
              "      <td>0.8686</td>\n",
              "      <td>0.8708</td>\n",
              "      <td>0.8729</td>\n",
              "      <td>0.8749</td>\n",
              "      <td>0.8770</td>\n",
              "      <td>0.8790</td>\n",
              "      <td>0.8810</td>\n",
              "      <td>0.8830</td>\n",
              "    </tr>\n",
              "    <tr>\n",
              "      <th>1.20</th>\n",
              "      <td>0.8849</td>\n",
              "      <td>0.8869</td>\n",
              "      <td>0.8888</td>\n",
              "      <td>0.8907</td>\n",
              "      <td>0.8925</td>\n",
              "      <td>0.8944</td>\n",
              "      <td>0.8962</td>\n",
              "      <td>0.8980</td>\n",
              "      <td>0.8997</td>\n",
              "      <td>0.9015</td>\n",
              "    </tr>\n",
              "    <tr>\n",
              "      <th>1.30</th>\n",
              "      <td>0.9032</td>\n",
              "      <td>0.9049</td>\n",
              "      <td>0.9066</td>\n",
              "      <td>0.9082</td>\n",
              "      <td>0.9099</td>\n",
              "      <td>0.9115</td>\n",
              "      <td>0.9131</td>\n",
              "      <td>0.9147</td>\n",
              "      <td>0.9162</td>\n",
              "      <td>0.9177</td>\n",
              "    </tr>\n",
              "    <tr>\n",
              "      <th>1.40</th>\n",
              "      <td>0.9192</td>\n",
              "      <td>0.9207</td>\n",
              "      <td>0.9222</td>\n",
              "      <td>0.9236</td>\n",
              "      <td>0.9251</td>\n",
              "      <td>0.9265</td>\n",
              "      <td>0.9279</td>\n",
              "      <td>0.9292</td>\n",
              "      <td>0.9306</td>\n",
              "      <td>0.9319</td>\n",
              "    </tr>\n",
              "    <tr>\n",
              "      <th>1.50</th>\n",
              "      <td>0.9332</td>\n",
              "      <td>0.9345</td>\n",
              "      <td>0.9357</td>\n",
              "      <td>0.9370</td>\n",
              "      <td>0.9382</td>\n",
              "      <td>0.9394</td>\n",
              "      <td>0.9406</td>\n",
              "      <td>0.9418</td>\n",
              "      <td>0.9429</td>\n",
              "      <td>0.9441</td>\n",
              "    </tr>\n",
              "    <tr>\n",
              "      <th>1.60</th>\n",
              "      <td>0.9452</td>\n",
              "      <td>0.9463</td>\n",
              "      <td>0.9474</td>\n",
              "      <td>0.9484</td>\n",
              "      <td>0.9495</td>\n",
              "      <td>0.9505</td>\n",
              "      <td>0.9515</td>\n",
              "      <td>0.9525</td>\n",
              "      <td>0.9535</td>\n",
              "      <td>0.9545</td>\n",
              "    </tr>\n",
              "    <tr>\n",
              "      <th>1.70</th>\n",
              "      <td>0.9554</td>\n",
              "      <td>0.9564</td>\n",
              "      <td>0.9573</td>\n",
              "      <td>0.9582</td>\n",
              "      <td>0.9591</td>\n",
              "      <td>0.9599</td>\n",
              "      <td>0.9608</td>\n",
              "      <td>0.9616</td>\n",
              "      <td>0.9625</td>\n",
              "      <td>0.9633</td>\n",
              "    </tr>\n",
              "    <tr>\n",
              "      <th>1.80</th>\n",
              "      <td>0.9641</td>\n",
              "      <td>0.9649</td>\n",
              "      <td>0.9656</td>\n",
              "      <td>0.9664</td>\n",
              "      <td>0.9671</td>\n",
              "      <td>0.9678</td>\n",
              "      <td>0.9686</td>\n",
              "      <td>0.9693</td>\n",
              "      <td>0.9699</td>\n",
              "      <td>0.9706</td>\n",
              "    </tr>\n",
              "    <tr>\n",
              "      <th>1.90</th>\n",
              "      <td>0.9713</td>\n",
              "      <td>0.9719</td>\n",
              "      <td>0.9726</td>\n",
              "      <td>0.9732</td>\n",
              "      <td>0.9738</td>\n",
              "      <td>0.9744</td>\n",
              "      <td>0.9750</td>\n",
              "      <td>0.9756</td>\n",
              "      <td>0.9761</td>\n",
              "      <td>0.9767</td>\n",
              "    </tr>\n",
              "    <tr>\n",
              "      <th>2.00</th>\n",
              "      <td>0.9772</td>\n",
              "      <td>0.9778</td>\n",
              "      <td>0.9783</td>\n",
              "      <td>0.9788</td>\n",
              "      <td>0.9793</td>\n",
              "      <td>0.9798</td>\n",
              "      <td>0.9803</td>\n",
              "      <td>0.9808</td>\n",
              "      <td>0.9812</td>\n",
              "      <td>0.9817</td>\n",
              "    </tr>\n",
              "    <tr>\n",
              "      <th>2.10</th>\n",
              "      <td>0.9821</td>\n",
              "      <td>0.9826</td>\n",
              "      <td>0.9830</td>\n",
              "      <td>0.9834</td>\n",
              "      <td>0.9838</td>\n",
              "      <td>0.9842</td>\n",
              "      <td>0.9846</td>\n",
              "      <td>0.9850</td>\n",
              "      <td>0.9854</td>\n",
              "      <td>0.9857</td>\n",
              "    </tr>\n",
              "    <tr>\n",
              "      <th>2.20</th>\n",
              "      <td>0.9861</td>\n",
              "      <td>0.9864</td>\n",
              "      <td>0.9868</td>\n",
              "      <td>0.9871</td>\n",
              "      <td>0.9875</td>\n",
              "      <td>0.9878</td>\n",
              "      <td>0.9881</td>\n",
              "      <td>0.9884</td>\n",
              "      <td>0.9887</td>\n",
              "      <td>0.9890</td>\n",
              "    </tr>\n",
              "    <tr>\n",
              "      <th>2.30</th>\n",
              "      <td>0.9893</td>\n",
              "      <td>0.9896</td>\n",
              "      <td>0.9898</td>\n",
              "      <td>0.9901</td>\n",
              "      <td>0.9904</td>\n",
              "      <td>0.9906</td>\n",
              "      <td>0.9909</td>\n",
              "      <td>0.9911</td>\n",
              "      <td>0.9913</td>\n",
              "      <td>0.9916</td>\n",
              "    </tr>\n",
              "    <tr>\n",
              "      <th>2.40</th>\n",
              "      <td>0.9918</td>\n",
              "      <td>0.9920</td>\n",
              "      <td>0.9922</td>\n",
              "      <td>0.9925</td>\n",
              "      <td>0.9927</td>\n",
              "      <td>0.9929</td>\n",
              "      <td>0.9931</td>\n",
              "      <td>0.9932</td>\n",
              "      <td>0.9934</td>\n",
              "      <td>0.9936</td>\n",
              "    </tr>\n",
              "    <tr>\n",
              "      <th>2.50</th>\n",
              "      <td>0.9938</td>\n",
              "      <td>0.9940</td>\n",
              "      <td>0.9941</td>\n",
              "      <td>0.9943</td>\n",
              "      <td>0.9945</td>\n",
              "      <td>0.9946</td>\n",
              "      <td>0.9948</td>\n",
              "      <td>0.9949</td>\n",
              "      <td>0.9951</td>\n",
              "      <td>0.9952</td>\n",
              "    </tr>\n",
              "    <tr>\n",
              "      <th>2.60</th>\n",
              "      <td>0.9953</td>\n",
              "      <td>0.9955</td>\n",
              "      <td>0.9956</td>\n",
              "      <td>0.9957</td>\n",
              "      <td>0.9959</td>\n",
              "      <td>0.9960</td>\n",
              "      <td>0.9961</td>\n",
              "      <td>0.9962</td>\n",
              "      <td>0.9963</td>\n",
              "      <td>0.9964</td>\n",
              "    </tr>\n",
              "    <tr>\n",
              "      <th>2.70</th>\n",
              "      <td>0.9965</td>\n",
              "      <td>0.9966</td>\n",
              "      <td>0.9967</td>\n",
              "      <td>0.9968</td>\n",
              "      <td>0.9969</td>\n",
              "      <td>0.9970</td>\n",
              "      <td>0.9971</td>\n",
              "      <td>0.9972</td>\n",
              "      <td>0.9973</td>\n",
              "      <td>0.9974</td>\n",
              "    </tr>\n",
              "    <tr>\n",
              "      <th>2.80</th>\n",
              "      <td>0.9974</td>\n",
              "      <td>0.9975</td>\n",
              "      <td>0.9976</td>\n",
              "      <td>0.9977</td>\n",
              "      <td>0.9977</td>\n",
              "      <td>0.9978</td>\n",
              "      <td>0.9979</td>\n",
              "      <td>0.9979</td>\n",
              "      <td>0.9980</td>\n",
              "      <td>0.9981</td>\n",
              "    </tr>\n",
              "    <tr>\n",
              "      <th>2.90</th>\n",
              "      <td>0.9981</td>\n",
              "      <td>0.9982</td>\n",
              "      <td>0.9982</td>\n",
              "      <td>0.9983</td>\n",
              "      <td>0.9984</td>\n",
              "      <td>0.9984</td>\n",
              "      <td>0.9985</td>\n",
              "      <td>0.9985</td>\n",
              "      <td>0.9986</td>\n",
              "      <td>0.9986</td>\n",
              "    </tr>\n",
              "    <tr>\n",
              "      <th>3.00</th>\n",
              "      <td>0.9987</td>\n",
              "      <td>0.9987</td>\n",
              "      <td>0.9987</td>\n",
              "      <td>0.9988</td>\n",
              "      <td>0.9988</td>\n",
              "      <td>0.9989</td>\n",
              "      <td>0.9989</td>\n",
              "      <td>0.9989</td>\n",
              "      <td>0.9990</td>\n",
              "      <td>0.9990</td>\n",
              "    </tr>\n",
              "    <tr>\n",
              "      <th>3.10</th>\n",
              "      <td>0.9990</td>\n",
              "      <td>0.9991</td>\n",
              "      <td>0.9991</td>\n",
              "      <td>0.9991</td>\n",
              "      <td>0.9992</td>\n",
              "      <td>0.9992</td>\n",
              "      <td>0.9992</td>\n",
              "      <td>0.9992</td>\n",
              "      <td>0.9993</td>\n",
              "      <td>0.9993</td>\n",
              "    </tr>\n",
              "    <tr>\n",
              "      <th>3.20</th>\n",
              "      <td>0.9993</td>\n",
              "      <td>0.9993</td>\n",
              "      <td>0.9994</td>\n",
              "      <td>0.9994</td>\n",
              "      <td>0.9994</td>\n",
              "      <td>0.9994</td>\n",
              "      <td>0.9994</td>\n",
              "      <td>0.9995</td>\n",
              "      <td>0.9995</td>\n",
              "      <td>0.9995</td>\n",
              "    </tr>\n",
              "    <tr>\n",
              "      <th>3.30</th>\n",
              "      <td>0.9995</td>\n",
              "      <td>0.9995</td>\n",
              "      <td>0.9995</td>\n",
              "      <td>0.9996</td>\n",
              "      <td>0.9996</td>\n",
              "      <td>0.9996</td>\n",
              "      <td>0.9996</td>\n",
              "      <td>0.9996</td>\n",
              "      <td>0.9996</td>\n",
              "      <td>0.9997</td>\n",
              "    </tr>\n",
              "    <tr>\n",
              "      <th>3.40</th>\n",
              "      <td>0.9997</td>\n",
              "      <td>0.9997</td>\n",
              "      <td>0.9997</td>\n",
              "      <td>0.9997</td>\n",
              "      <td>0.9997</td>\n",
              "      <td>0.9997</td>\n",
              "      <td>0.9997</td>\n",
              "      <td>0.9997</td>\n",
              "      <td>0.9997</td>\n",
              "      <td>0.9998</td>\n",
              "    </tr>\n",
              "    <tr>\n",
              "      <th>3.50</th>\n",
              "      <td>0.9998</td>\n",
              "      <td>0.9998</td>\n",
              "      <td>0.9998</td>\n",
              "      <td>0.9998</td>\n",
              "      <td>0.9998</td>\n",
              "      <td>0.9998</td>\n",
              "      <td>0.9998</td>\n",
              "      <td>0.9998</td>\n",
              "      <td>0.9998</td>\n",
              "      <td>0.9998</td>\n",
              "    </tr>\n",
              "    <tr>\n",
              "      <th>3.60</th>\n",
              "      <td>0.9998</td>\n",
              "      <td>0.9998</td>\n",
              "      <td>0.9999</td>\n",
              "      <td>0.9999</td>\n",
              "      <td>0.9999</td>\n",
              "      <td>0.9999</td>\n",
              "      <td>0.9999</td>\n",
              "      <td>0.9999</td>\n",
              "      <td>0.9999</td>\n",
              "      <td>0.9999</td>\n",
              "    </tr>\n",
              "    <tr>\n",
              "      <th>3.70</th>\n",
              "      <td>0.9999</td>\n",
              "      <td>0.9999</td>\n",
              "      <td>0.9999</td>\n",
              "      <td>0.9999</td>\n",
              "      <td>0.9999</td>\n",
              "      <td>0.9999</td>\n",
              "      <td>0.9999</td>\n",
              "      <td>0.9999</td>\n",
              "      <td>0.9999</td>\n",
              "      <td>0.9999</td>\n",
              "    </tr>\n",
              "    <tr>\n",
              "      <th>3.80</th>\n",
              "      <td>0.9999</td>\n",
              "      <td>0.9999</td>\n",
              "      <td>0.9999</td>\n",
              "      <td>0.9999</td>\n",
              "      <td>0.9999</td>\n",
              "      <td>0.9999</td>\n",
              "      <td>0.9999</td>\n",
              "      <td>0.9999</td>\n",
              "      <td>0.9999</td>\n",
              "      <td>0.9999</td>\n",
              "    </tr>\n",
              "    <tr>\n",
              "      <th>3.90</th>\n",
              "      <td>1.0000</td>\n",
              "      <td>1.0000</td>\n",
              "      <td>1.0000</td>\n",
              "      <td>1.0000</td>\n",
              "      <td>1.0000</td>\n",
              "      <td>1.0000</td>\n",
              "      <td>1.0000</td>\n",
              "      <td>1.0000</td>\n",
              "      <td>1.0000</td>\n",
              "      <td>1.0000</td>\n",
              "    </tr>\n",
              "  </tbody>\n",
              "</table>\n",
              "</div>\n",
              "    <div class=\"colab-df-buttons\">\n",
              "\n",
              "  <div class=\"colab-df-container\">\n",
              "    <button class=\"colab-df-convert\" onclick=\"convertToInteractive('df-cb947290-fbb2-463d-8d02-f758900c7a12')\"\n",
              "            title=\"Convert this dataframe to an interactive table.\"\n",
              "            style=\"display:none;\">\n",
              "\n",
              "  <svg xmlns=\"http://www.w3.org/2000/svg\" height=\"24px\" viewBox=\"0 -960 960 960\">\n",
              "    <path d=\"M120-120v-720h720v720H120Zm60-500h600v-160H180v160Zm220 220h160v-160H400v160Zm0 220h160v-160H400v160ZM180-400h160v-160H180v160Zm440 0h160v-160H620v160ZM180-180h160v-160H180v160Zm440 0h160v-160H620v160Z\"/>\n",
              "  </svg>\n",
              "    </button>\n",
              "\n",
              "  <style>\n",
              "    .colab-df-container {\n",
              "      display:flex;\n",
              "      gap: 12px;\n",
              "    }\n",
              "\n",
              "    .colab-df-convert {\n",
              "      background-color: #E8F0FE;\n",
              "      border: none;\n",
              "      border-radius: 50%;\n",
              "      cursor: pointer;\n",
              "      display: none;\n",
              "      fill: #1967D2;\n",
              "      height: 32px;\n",
              "      padding: 0 0 0 0;\n",
              "      width: 32px;\n",
              "    }\n",
              "\n",
              "    .colab-df-convert:hover {\n",
              "      background-color: #E2EBFA;\n",
              "      box-shadow: 0px 1px 2px rgba(60, 64, 67, 0.3), 0px 1px 3px 1px rgba(60, 64, 67, 0.15);\n",
              "      fill: #174EA6;\n",
              "    }\n",
              "\n",
              "    .colab-df-buttons div {\n",
              "      margin-bottom: 4px;\n",
              "    }\n",
              "\n",
              "    [theme=dark] .colab-df-convert {\n",
              "      background-color: #3B4455;\n",
              "      fill: #D2E3FC;\n",
              "    }\n",
              "\n",
              "    [theme=dark] .colab-df-convert:hover {\n",
              "      background-color: #434B5C;\n",
              "      box-shadow: 0px 1px 3px 1px rgba(0, 0, 0, 0.15);\n",
              "      filter: drop-shadow(0px 1px 2px rgba(0, 0, 0, 0.3));\n",
              "      fill: #FFFFFF;\n",
              "    }\n",
              "  </style>\n",
              "\n",
              "    <script>\n",
              "      const buttonEl =\n",
              "        document.querySelector('#df-cb947290-fbb2-463d-8d02-f758900c7a12 button.colab-df-convert');\n",
              "      buttonEl.style.display =\n",
              "        google.colab.kernel.accessAllowed ? 'block' : 'none';\n",
              "\n",
              "      async function convertToInteractive(key) {\n",
              "        const element = document.querySelector('#df-cb947290-fbb2-463d-8d02-f758900c7a12');\n",
              "        const dataTable =\n",
              "          await google.colab.kernel.invokeFunction('convertToInteractive',\n",
              "                                                    [key], {});\n",
              "        if (!dataTable) return;\n",
              "\n",
              "        const docLinkHtml = 'Like what you see? Visit the ' +\n",
              "          '<a target=\"_blank\" href=https://colab.research.google.com/notebooks/data_table.ipynb>data table notebook</a>'\n",
              "          + ' to learn more about interactive tables.';\n",
              "        element.innerHTML = '';\n",
              "        dataTable['output_type'] = 'display_data';\n",
              "        await google.colab.output.renderOutput(dataTable, element);\n",
              "        const docLink = document.createElement('div');\n",
              "        docLink.innerHTML = docLinkHtml;\n",
              "        element.appendChild(docLink);\n",
              "      }\n",
              "    </script>\n",
              "  </div>\n",
              "\n",
              "\n",
              "<div id=\"df-5a3884ce-0df5-4cde-8a08-0eb272f033c1\">\n",
              "  <button class=\"colab-df-quickchart\" onclick=\"quickchart('df-5a3884ce-0df5-4cde-8a08-0eb272f033c1')\"\n",
              "            title=\"Suggest charts\"\n",
              "            style=\"display:none;\">\n",
              "\n",
              "<svg xmlns=\"http://www.w3.org/2000/svg\" height=\"24px\"viewBox=\"0 0 24 24\"\n",
              "     width=\"24px\">\n",
              "    <g>\n",
              "        <path d=\"M19 3H5c-1.1 0-2 .9-2 2v14c0 1.1.9 2 2 2h14c1.1 0 2-.9 2-2V5c0-1.1-.9-2-2-2zM9 17H7v-7h2v7zm4 0h-2V7h2v10zm4 0h-2v-4h2v4z\"/>\n",
              "    </g>\n",
              "</svg>\n",
              "  </button>\n",
              "\n",
              "<style>\n",
              "  .colab-df-quickchart {\n",
              "      --bg-color: #E8F0FE;\n",
              "      --fill-color: #1967D2;\n",
              "      --hover-bg-color: #E2EBFA;\n",
              "      --hover-fill-color: #174EA6;\n",
              "      --disabled-fill-color: #AAA;\n",
              "      --disabled-bg-color: #DDD;\n",
              "  }\n",
              "\n",
              "  [theme=dark] .colab-df-quickchart {\n",
              "      --bg-color: #3B4455;\n",
              "      --fill-color: #D2E3FC;\n",
              "      --hover-bg-color: #434B5C;\n",
              "      --hover-fill-color: #FFFFFF;\n",
              "      --disabled-bg-color: #3B4455;\n",
              "      --disabled-fill-color: #666;\n",
              "  }\n",
              "\n",
              "  .colab-df-quickchart {\n",
              "    background-color: var(--bg-color);\n",
              "    border: none;\n",
              "    border-radius: 50%;\n",
              "    cursor: pointer;\n",
              "    display: none;\n",
              "    fill: var(--fill-color);\n",
              "    height: 32px;\n",
              "    padding: 0;\n",
              "    width: 32px;\n",
              "  }\n",
              "\n",
              "  .colab-df-quickchart:hover {\n",
              "    background-color: var(--hover-bg-color);\n",
              "    box-shadow: 0 1px 2px rgba(60, 64, 67, 0.3), 0 1px 3px 1px rgba(60, 64, 67, 0.15);\n",
              "    fill: var(--button-hover-fill-color);\n",
              "  }\n",
              "\n",
              "  .colab-df-quickchart-complete:disabled,\n",
              "  .colab-df-quickchart-complete:disabled:hover {\n",
              "    background-color: var(--disabled-bg-color);\n",
              "    fill: var(--disabled-fill-color);\n",
              "    box-shadow: none;\n",
              "  }\n",
              "\n",
              "  .colab-df-spinner {\n",
              "    border: 2px solid var(--fill-color);\n",
              "    border-color: transparent;\n",
              "    border-bottom-color: var(--fill-color);\n",
              "    animation:\n",
              "      spin 1s steps(1) infinite;\n",
              "  }\n",
              "\n",
              "  @keyframes spin {\n",
              "    0% {\n",
              "      border-color: transparent;\n",
              "      border-bottom-color: var(--fill-color);\n",
              "      border-left-color: var(--fill-color);\n",
              "    }\n",
              "    20% {\n",
              "      border-color: transparent;\n",
              "      border-left-color: var(--fill-color);\n",
              "      border-top-color: var(--fill-color);\n",
              "    }\n",
              "    30% {\n",
              "      border-color: transparent;\n",
              "      border-left-color: var(--fill-color);\n",
              "      border-top-color: var(--fill-color);\n",
              "      border-right-color: var(--fill-color);\n",
              "    }\n",
              "    40% {\n",
              "      border-color: transparent;\n",
              "      border-right-color: var(--fill-color);\n",
              "      border-top-color: var(--fill-color);\n",
              "    }\n",
              "    60% {\n",
              "      border-color: transparent;\n",
              "      border-right-color: var(--fill-color);\n",
              "    }\n",
              "    80% {\n",
              "      border-color: transparent;\n",
              "      border-right-color: var(--fill-color);\n",
              "      border-bottom-color: var(--fill-color);\n",
              "    }\n",
              "    90% {\n",
              "      border-color: transparent;\n",
              "      border-bottom-color: var(--fill-color);\n",
              "    }\n",
              "  }\n",
              "</style>\n",
              "\n",
              "  <script>\n",
              "    async function quickchart(key) {\n",
              "      const quickchartButtonEl =\n",
              "        document.querySelector('#' + key + ' button');\n",
              "      quickchartButtonEl.disabled = true;  // To prevent multiple clicks.\n",
              "      quickchartButtonEl.classList.add('colab-df-spinner');\n",
              "      try {\n",
              "        const charts = await google.colab.kernel.invokeFunction(\n",
              "            'suggestCharts', [key], {});\n",
              "      } catch (error) {\n",
              "        console.error('Error during call to suggestCharts:', error);\n",
              "      }\n",
              "      quickchartButtonEl.classList.remove('colab-df-spinner');\n",
              "      quickchartButtonEl.classList.add('colab-df-quickchart-complete');\n",
              "    }\n",
              "    (() => {\n",
              "      let quickchartButtonEl =\n",
              "        document.querySelector('#df-5a3884ce-0df5-4cde-8a08-0eb272f033c1 button');\n",
              "      quickchartButtonEl.style.display =\n",
              "        google.colab.kernel.accessAllowed ? 'block' : 'none';\n",
              "    })();\n",
              "  </script>\n",
              "</div>\n",
              "\n",
              "  <div id=\"id_8f050f34-09f0-4713-9fdf-0f9fc2ab243c\">\n",
              "    <style>\n",
              "      .colab-df-generate {\n",
              "        background-color: #E8F0FE;\n",
              "        border: none;\n",
              "        border-radius: 50%;\n",
              "        cursor: pointer;\n",
              "        display: none;\n",
              "        fill: #1967D2;\n",
              "        height: 32px;\n",
              "        padding: 0 0 0 0;\n",
              "        width: 32px;\n",
              "      }\n",
              "\n",
              "      .colab-df-generate:hover {\n",
              "        background-color: #E2EBFA;\n",
              "        box-shadow: 0px 1px 2px rgba(60, 64, 67, 0.3), 0px 1px 3px 1px rgba(60, 64, 67, 0.15);\n",
              "        fill: #174EA6;\n",
              "      }\n",
              "\n",
              "      [theme=dark] .colab-df-generate {\n",
              "        background-color: #3B4455;\n",
              "        fill: #D2E3FC;\n",
              "      }\n",
              "\n",
              "      [theme=dark] .colab-df-generate:hover {\n",
              "        background-color: #434B5C;\n",
              "        box-shadow: 0px 1px 3px 1px rgba(0, 0, 0, 0.15);\n",
              "        filter: drop-shadow(0px 1px 2px rgba(0, 0, 0, 0.3));\n",
              "        fill: #FFFFFF;\n",
              "      }\n",
              "    </style>\n",
              "    <button class=\"colab-df-generate\" onclick=\"generateWithVariable('tabela_normal_padronizada')\"\n",
              "            title=\"Generate code using this dataframe.\"\n",
              "            style=\"display:none;\">\n",
              "\n",
              "  <svg xmlns=\"http://www.w3.org/2000/svg\" height=\"24px\"viewBox=\"0 0 24 24\"\n",
              "       width=\"24px\">\n",
              "    <path d=\"M7,19H8.4L18.45,9,17,7.55,7,17.6ZM5,21V16.75L18.45,3.32a2,2,0,0,1,2.83,0l1.4,1.43a1.91,1.91,0,0,1,.58,1.4,1.91,1.91,0,0,1-.58,1.4L9.25,21ZM18.45,9,17,7.55Zm-12,3A5.31,5.31,0,0,0,4.9,8.1,5.31,5.31,0,0,0,1,6.5,5.31,5.31,0,0,0,4.9,4.9,5.31,5.31,0,0,0,6.5,1,5.31,5.31,0,0,0,8.1,4.9,5.31,5.31,0,0,0,12,6.5,5.46,5.46,0,0,0,6.5,12Z\"/>\n",
              "  </svg>\n",
              "    </button>\n",
              "    <script>\n",
              "      (() => {\n",
              "      const buttonEl =\n",
              "        document.querySelector('#id_8f050f34-09f0-4713-9fdf-0f9fc2ab243c button.colab-df-generate');\n",
              "      buttonEl.style.display =\n",
              "        google.colab.kernel.accessAllowed ? 'block' : 'none';\n",
              "\n",
              "      buttonEl.onclick = () => {\n",
              "        google.colab.notebook.generateWithVariable('tabela_normal_padronizada');\n",
              "      }\n",
              "      })();\n",
              "    </script>\n",
              "  </div>\n",
              "\n",
              "    </div>\n",
              "  </div>\n"
            ],
            "application/vnd.google.colaboratory.intrinsic+json": {
              "type": "dataframe",
              "variable_name": "tabela_normal_padronizada",
              "summary": "{\n  \"name\": \"tabela_normal_padronizada\",\n  \"rows\": 40,\n  \"fields\": [\n    {\n      \"column\": \"0.00\",\n      \"properties\": {\n        \"dtype\": \"string\",\n        \"num_unique_values\": 38,\n        \"samples\": [\n          \"0.9995\",\n          \"0.9999\",\n          \"0.6554\"\n        ],\n        \"semantic_type\": \"\",\n        \"description\": \"\"\n      }\n    },\n    {\n      \"column\": \"0.01\",\n      \"properties\": {\n        \"dtype\": \"string\",\n        \"num_unique_values\": 38,\n        \"samples\": [\n          \"0.9995\",\n          \"0.9999\",\n          \"0.6591\"\n        ],\n        \"semantic_type\": \"\",\n        \"description\": \"\"\n      }\n    },\n    {\n      \"column\": \"0.02\",\n      \"properties\": {\n        \"dtype\": \"string\",\n        \"num_unique_values\": 38,\n        \"samples\": [\n          \"0.9995\",\n          \"0.9999\",\n          \"0.6628\"\n        ],\n        \"semantic_type\": \"\",\n        \"description\": \"\"\n      }\n    },\n    {\n      \"column\": \"0.03\",\n      \"properties\": {\n        \"dtype\": \"string\",\n        \"num_unique_values\": 38,\n        \"samples\": [\n          \"0.9996\",\n          \"0.9999\",\n          \"0.6664\"\n        ],\n        \"semantic_type\": \"\",\n        \"description\": \"\"\n      }\n    },\n    {\n      \"column\": \"0.04\",\n      \"properties\": {\n        \"dtype\": \"string\",\n        \"num_unique_values\": 38,\n        \"samples\": [\n          \"0.9996\",\n          \"0.9999\",\n          \"0.6700\"\n        ],\n        \"semantic_type\": \"\",\n        \"description\": \"\"\n      }\n    },\n    {\n      \"column\": \"0.05\",\n      \"properties\": {\n        \"dtype\": \"string\",\n        \"num_unique_values\": 38,\n        \"samples\": [\n          \"0.9996\",\n          \"0.9999\",\n          \"0.6736\"\n        ],\n        \"semantic_type\": \"\",\n        \"description\": \"\"\n      }\n    },\n    {\n      \"column\": \"0.06\",\n      \"properties\": {\n        \"dtype\": \"string\",\n        \"num_unique_values\": 38,\n        \"samples\": [\n          \"0.9996\",\n          \"0.9999\",\n          \"0.6772\"\n        ],\n        \"semantic_type\": \"\",\n        \"description\": \"\"\n      }\n    },\n    {\n      \"column\": \"0.07\",\n      \"properties\": {\n        \"dtype\": \"string\",\n        \"num_unique_values\": 38,\n        \"samples\": [\n          \"0.9996\",\n          \"0.9999\",\n          \"0.6808\"\n        ],\n        \"semantic_type\": \"\",\n        \"description\": \"\"\n      }\n    },\n    {\n      \"column\": \"0.08\",\n      \"properties\": {\n        \"dtype\": \"string\",\n        \"num_unique_values\": 38,\n        \"samples\": [\n          \"0.9996\",\n          \"0.9999\",\n          \"0.6844\"\n        ],\n        \"semantic_type\": \"\",\n        \"description\": \"\"\n      }\n    },\n    {\n      \"column\": \"0.09\",\n      \"properties\": {\n        \"dtype\": \"string\",\n        \"num_unique_values\": 37,\n        \"samples\": [\n          \"0.9633\",\n          \"0.9177\",\n          \"0.6879\"\n        ],\n        \"semantic_type\": \"\",\n        \"description\": \"\"\n      }\n    }\n  ]\n}"
            }
          },
          "metadata": {},
          "execution_count": 29
        }
      ],
      "source": [
        "import pandas as pd\n",
        "import numpy as np\n",
        "from scipy.stats import norm\n",
        "\n",
        "tabela_normal_padronizada = pd.DataFrame(\n",
        "    [],\n",
        "    index=[\"{0:0.2f}\".format(i / 100) for i in range(0, 400, 10)],\n",
        "    columns = [\"{0:0.2f}\".format(i / 100) for i in range(0, 10)])\n",
        "\n",
        "for index in tabela_normal_padronizada.index:\n",
        "    for column in tabela_normal_padronizada.columns:\n",
        "        Z = np.round(float(index) + float(column), 2)\n",
        "        tabela_normal_padronizada.loc[index, column] = \"{0:0.4f}\".format(norm.cdf(Z))\n",
        "\n",
        "tabela_normal_padronizada.rename_axis('Z', axis = 'columns', inplace = True)\n",
        "\n",
        "tabela_normal_padronizada"
      ]
    },
    {
      "cell_type": "markdown",
      "metadata": {
        "id": "XHYeMaN3G3D9"
      },
      "source": [
        "<img src='https://caelum-online-public.s3.amazonaws.com/1178-estatistica-parte2/01/img003.png' width='250px'>\n",
        "\n",
        "A tabela acima fornece a área sob a curva entre $-\\infty$ e $Z$ desvios padrão acima da média. Lembrando que por se tratar de valores padronizados temos $\\mu = 0$."
      ]
    },
    {
      "cell_type": "markdown",
      "metadata": {
        "id": "Bs-KyZAJG3D-"
      },
      "source": [
        "***\n",
        "### Problema: Altura\n"
      ]
    },
    {
      "cell_type": "markdown",
      "metadata": {
        "id": "8PFIjXejG3EA"
      },
      "source": [
        "Em um estudo sobre as alturas dos moradores de uma cidade verificou-se que o conjunto de dados segue uma **distribuição aproximadamente normal**, com **média 1,70** e **desvio padrão de 0,1**. Com estas informações obtenha o seguinte conjunto de probabilidades:\n",
        "\n",
        "> **A.** probabilidade de uma pessoa, selecionada ao acaso, ter menos de 1,80 metros.\n",
        "\n",
        "> **B.** probabilidade de uma pessoa, selecionada ao acaso, ter entre 1,60 metros e 1,80 metros.    \n",
        "\n",
        "> **C.** probabilidade de uma pessoa, selecionada ao acaso, ter mais de 1,90 metros."
      ]
    },
    {
      "cell_type": "markdown",
      "metadata": {
        "id": "aHpZLwt1G3EC"
      },
      "source": [
        "####  Problema A - Identificação da área sob a curva\n"
      ]
    },
    {
      "cell_type": "markdown",
      "metadata": {
        "id": "V1eC7tydG3EF"
      },
      "source": [
        "<img style='float: left' src='https://caelum-online-public.s3.amazonaws.com/1178-estatistica-parte2/01/img004.png' width='350px'>"
      ]
    },
    {
      "cell_type": "markdown",
      "metadata": {
        "id": "X61wEuRrG3EI"
      },
      "source": [
        " Obter a variável padronizada $Z$"
      ]
    },
    {
      "cell_type": "code",
      "execution_count": 30,
      "metadata": {
        "id": "gNSNIMvZG3EK"
      },
      "outputs": [],
      "source": [
        "media = 1.7"
      ]
    },
    {
      "cell_type": "code",
      "execution_count": 31,
      "metadata": {
        "id": "E_f2lycRG3ES"
      },
      "outputs": [],
      "source": [
        "desvio_padrao = 0.1"
      ]
    },
    {
      "cell_type": "code",
      "execution_count": 32,
      "metadata": {
        "colab": {
          "base_uri": "https://localhost:8080/"
        },
        "id": "xnsCkUb6G3EX",
        "outputId": "34a67ade-c1f7-4ad1-89cd-8557411758ed"
      },
      "outputs": [
        {
          "output_type": "execute_result",
          "data": {
            "text/plain": [
              "1.0000000000000009"
            ]
          },
          "metadata": {},
          "execution_count": 32
        }
      ],
      "source": [
        "Z = (1.8 - media) / desvio_padrao\n",
        "Z"
      ]
    },
    {
      "cell_type": "markdown",
      "metadata": {
        "id": "oj9sgHbkG3Eb"
      },
      "source": [
        "<font size=5>  Solução 1 - Utilizando tabela</font>\n",
        "\n",
        "![Screenshot_1.png](data:image/png;base64,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)\n"
      ]
    },
    {
      "cell_type": "code",
      "execution_count": 33,
      "metadata": {
        "id": "ReDTH3WgG3Ec"
      },
      "outputs": [],
      "source": [
        "probabilidade = 0.8413"
      ]
    },
    {
      "cell_type": "markdown",
      "metadata": {
        "id": "4ud0OnQOG3Eh"
      },
      "source": [
        "<font size=5>Solução 2 - Utilizando Scipy </font>  \n",
        "\n",
        "*Sendo: cmd = cumulative distribution function*"
      ]
    },
    {
      "cell_type": "code",
      "execution_count": 34,
      "metadata": {
        "colab": {
          "base_uri": "https://localhost:8080/"
        },
        "id": "sx7riZVlG3Ei",
        "outputId": "33c9cf65-e44c-4c01-ca7d-78d05eefd848"
      },
      "outputs": [
        {
          "output_type": "execute_result",
          "data": {
            "text/plain": [
              "0.8413447460685431"
            ]
          },
          "metadata": {},
          "execution_count": 34
        }
      ],
      "source": [
        "from scipy.stats import norm\n",
        "norm.cdf(Z)"
      ]
    },
    {
      "cell_type": "markdown",
      "metadata": {
        "id": "ZsnMjGzJG3Ep"
      },
      "source": [
        "---\n",
        "#### Problema B - Identificação da área sob a curva"
      ]
    },
    {
      "cell_type": "markdown",
      "metadata": {
        "id": "LN2HY-UCG3Ep"
      },
      "source": [
        "<img style='float: left' src='https://caelum-online-public.s3.amazonaws.com/1178-estatistica-parte2/01/img005.png' width='350px'>"
      ]
    },
    {
      "cell_type": "markdown",
      "metadata": {
        "id": "FS6WNg88G3Eq"
      },
      "source": [
        "<font size=5>Obter a variável padronizada $Z$ </font>  "
      ]
    },
    {
      "cell_type": "code",
      "execution_count": 35,
      "metadata": {
        "colab": {
          "base_uri": "https://localhost:8080/"
        },
        "id": "mxPsPIOYG3Er",
        "outputId": "433214c3-1ab2-46b8-a547-d85a12f2f9d6"
      },
      "outputs": [
        {
          "output_type": "execute_result",
          "data": {
            "text/plain": [
              "-1.0"
            ]
          },
          "metadata": {},
          "execution_count": 35
        }
      ],
      "source": [
        "Z_inferior = (1.6 - media) / desvio_padrao\n",
        "round(Z_inferior, 2)"
      ]
    },
    {
      "cell_type": "code",
      "execution_count": 36,
      "metadata": {
        "colab": {
          "base_uri": "https://localhost:8080/"
        },
        "id": "s0Vf0GXHG3Et",
        "outputId": "ae2d6e91-6f98-4021-fcd1-d05f44ccab08"
      },
      "outputs": [
        {
          "output_type": "execute_result",
          "data": {
            "text/plain": [
              "1.0"
            ]
          },
          "metadata": {},
          "execution_count": 36
        }
      ],
      "source": [
        "Z_superior = (1.8 - media) / desvio_padrao\n",
        "round(Z_superior, 2)"
      ]
    },
    {
      "cell_type": "markdown",
      "metadata": {
        "id": "MseXjmZ7G3E0"
      },
      "source": [
        "<font size=5> Solução 1 - Utilizando tabela </font>  \n",
        "\n",
        "![image.png](data:image/png;base64,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)"
      ]
    },
    {
      "cell_type": "code",
      "execution_count": 37,
      "metadata": {
        "colab": {
          "base_uri": "https://localhost:8080/"
        },
        "id": "swZ6SVQGG3E0",
        "outputId": "18dbcab4-f69b-44de-c9aa-60915d5884d2"
      },
      "outputs": [
        {
          "output_type": "execute_result",
          "data": {
            "text/plain": [
              "0.6826000000000001"
            ]
          },
          "metadata": {},
          "execution_count": 37
        }
      ],
      "source": [
        "probabilidade = (0.8413 - 0.5) * 2\n",
        "probabilidade"
      ]
    },
    {
      "cell_type": "markdown",
      "source": [
        "Nos multiplicamos a probabilidade por 2 pois temos duas areas de mesmo valor, uma de 1,60 a 1,70 e outra de 1,70 a 1,80."
      ],
      "metadata": {
        "id": "cMP7rYBZMIe-"
      }
    },
    {
      "cell_type": "code",
      "execution_count": 38,
      "metadata": {
        "colab": {
          "base_uri": "https://localhost:8080/"
        },
        "id": "oNfZZRBdGy2G",
        "outputId": "af17b504-892a-4e2a-82ff-e8c26191ccbc"
      },
      "outputs": [
        {
          "output_type": "execute_result",
          "data": {
            "text/plain": [
              "0.6826000000000001"
            ]
          },
          "metadata": {},
          "execution_count": 38
        }
      ],
      "source": [
        "probabilidade = 0.8413 - (1 - 0.8413)\n",
        "probabilidade"
      ]
    },
    {
      "cell_type": "markdown",
      "metadata": {
        "id": "y5e4zAifG3E2"
      },
      "source": [
        "<font size=5> Solução 2 - Utilizando Scipy </font>"
      ]
    },
    {
      "cell_type": "code",
      "execution_count": 39,
      "metadata": {
        "colab": {
          "base_uri": "https://localhost:8080/"
        },
        "id": "hcps6lkNG3E3",
        "outputId": "e97df5cd-6b10-41dc-cdf6-fb258a8c0b81"
      },
      "outputs": [
        {
          "output_type": "execute_result",
          "data": {
            "text/plain": [
              "0.6826894921370863"
            ]
          },
          "metadata": {},
          "execution_count": 39
        }
      ],
      "source": [
        "probabilidade = norm.cdf(Z_superior) - (1 - norm.cdf(Z_superior))\n",
        "probabilidade"
      ]
    },
    {
      "cell_type": "code",
      "execution_count": 40,
      "metadata": {
        "colab": {
          "base_uri": "https://localhost:8080/"
        },
        "id": "MjEfhnQEG3E5",
        "outputId": "5803c516-abac-4f50-84d4-518e6d08195b"
      },
      "outputs": [
        {
          "output_type": "execute_result",
          "data": {
            "text/plain": [
              "0.6826894921370857"
            ]
          },
          "metadata": {},
          "execution_count": 40
        }
      ],
      "source": [
        "probabilidade = norm.cdf(Z_superior) - norm.cdf(Z_inferior)\n",
        "probabilidade"
      ]
    },
    {
      "cell_type": "markdown",
      "metadata": {
        "id": "05sqVgdaG3E-"
      },
      "source": [
        "---\n",
        "#### Problema C - Identificação da área sob a curva"
      ]
    },
    {
      "cell_type": "markdown",
      "metadata": {
        "id": "EPKhGTEkG3E_"
      },
      "source": [
        "<img style='float: left' src='https://caelum-online-public.s3.amazonaws.com/1178-estatistica-parte2/01/img006.png' width='350px'>"
      ]
    },
    {
      "cell_type": "markdown",
      "metadata": {
        "id": "BA6jYbsSG3E_"
      },
      "source": [
        " Obter a variável padronizada $Z$"
      ]
    },
    {
      "cell_type": "code",
      "execution_count": 41,
      "metadata": {
        "colab": {
          "base_uri": "https://localhost:8080/"
        },
        "id": "3OVj60MzG3E_",
        "outputId": "69825928-be1e-485c-b6db-8d5f2a30e76e"
      },
      "outputs": [
        {
          "output_type": "execute_result",
          "data": {
            "text/plain": [
              "1.9999999999999996"
            ]
          },
          "metadata": {},
          "execution_count": 41
        }
      ],
      "source": [
        "Z = (1.9 - media) / desvio_padrao\n",
        "Z"
      ]
    },
    {
      "cell_type": "markdown",
      "metadata": {
        "id": "hCiiWAm_G3FC"
      },
      "source": [
        "Solução 1 - Utilizando tabela"
      ]
    },
    {
      "cell_type": "code",
      "execution_count": 42,
      "metadata": {
        "colab": {
          "base_uri": "https://localhost:8080/"
        },
        "id": "mSNfoO6VG3FC",
        "outputId": "f411f10e-5124-4204-d6e0-511cc1661b51"
      },
      "outputs": [
        {
          "output_type": "execute_result",
          "data": {
            "text/plain": [
              "0.022800000000000042"
            ]
          },
          "metadata": {},
          "execution_count": 42
        }
      ],
      "source": [
        "probabilidade = 1 - 0.9772\n",
        "probabilidade"
      ]
    },
    {
      "cell_type": "markdown",
      "metadata": {
        "id": "QCyoVXOdG3FF"
      },
      "source": [
        "Solução 2 - Utilizando Scipy"
      ]
    },
    {
      "cell_type": "code",
      "execution_count": 43,
      "metadata": {
        "colab": {
          "base_uri": "https://localhost:8080/"
        },
        "id": "caIE-t83G3FF",
        "outputId": "3389a9b1-3e20-4753-e75c-bbf70b243e93"
      },
      "outputs": [
        {
          "output_type": "execute_result",
          "data": {
            "text/plain": [
              "0.02275013194817921"
            ]
          },
          "metadata": {},
          "execution_count": 43
        }
      ],
      "source": [
        "probabilidade = 1 - norm.cdf(Z)\n",
        "probabilidade"
      ]
    },
    {
      "cell_type": "code",
      "execution_count": 44,
      "metadata": {
        "colab": {
          "base_uri": "https://localhost:8080/"
        },
        "id": "wKjqQGgMG3FI",
        "outputId": "fd6e04b4-f8c4-4fbe-a514-ed7bb062d01c"
      },
      "outputs": [
        {
          "output_type": "execute_result",
          "data": {
            "text/plain": [
              "0.022750131948179216"
            ]
          },
          "metadata": {},
          "execution_count": 44
        }
      ],
      "source": [
        "probabilidade = norm.cdf(-Z)\n",
        "probabilidade"
      ]
    },
    {
      "cell_type": "markdown",
      "metadata": {
        "id": "GmmzChE2t4wW"
      },
      "source": [
        "***\n",
        "# AMOSTRAGEM\n",
        "***"
      ]
    },
    {
      "cell_type": "markdown",
      "metadata": {
        "id": "g8PbtmQZt4Wv"
      },
      "source": [
        "##  População e Amostra"
      ]
    },
    {
      "cell_type": "markdown",
      "metadata": {
        "id": "YT8V2GB1G3FW"
      },
      "source": [
        "**População**\n",
        "\n",
        "É o conjunto completo de elementos de interesse em um estudo.\n",
        "Pode ser finita (número limitado de elementos, como alunos de uma escola) ou infinita (número ilimitado de elementos, como grãos de areia na praia).\n",
        "Seus atributos numéricos (média, variância, desvio padrão) são chamados de parâmetros.\n",
        "\n",
        "**Amostra**\n",
        "\n",
        "É um subconjunto representativo da população, selecionado para análise.\n",
        "Permite inferir informações sobre a população sem precisar analisar todos os elementos.\n",
        "Seus atributos numéricos (média, variância, desvio padrão) são chamados de estatísticas."
      ]
    },
    {
      "cell_type": "markdown",
      "metadata": {
        "id": "5X1YwCGlG3Fe"
      },
      "source": [
        "**Por que usar uma amostra?**\n",
        "\n",
        "Existem diversas situações em que utilizar uma amostra é mais vantajoso do que analisar a população inteira:\n",
        "\n",
        "1.  Populações infinitas: Seria impossível analisar todos os elementos.\n",
        "\n",
        "2.  Testes destrutivos: Os elementos seriam destruídos durante a análise (ex: testes de colisão de carros).\n",
        "\n",
        "3.  Resultados rápidos: A análise da amostra é mais rápida e permite obter resultados mais ágeis (ex: pesquisas de opinião).\n",
        "\n",
        "4. Custos elevados: Analisar toda a população pode ser muito caro."
      ]
    },
    {
      "cell_type": "markdown",
      "metadata": {
        "id": "1sbJeMpSG3Fj"
      },
      "source": [
        "## Amostragem Aleatória Simples\n",
        "***"
      ]
    },
    {
      "cell_type": "markdown",
      "metadata": {
        "id": "Kiq9cYMYG3Fp"
      },
      "source": [
        "Uma forma comum de selecionar uma amostra é a amostragem aleatória simples, onde cada elemento da população tem a mesma chance de ser escolhido. Isso garante que a amostra seja representativa da população e que as conclusões do estudo sejam válidas."
      ]
    },
    {
      "cell_type": "code",
      "execution_count": 45,
      "metadata": {
        "colab": {
          "base_uri": "https://localhost:8080/"
        },
        "id": "NtQ8HOYdG3Fq",
        "outputId": "d40ac492-6c17-4c87-a670-d881a44c123f"
      },
      "outputs": [
        {
          "output_type": "execute_result",
          "data": {
            "text/plain": [
              "76840"
            ]
          },
          "metadata": {},
          "execution_count": 45
        }
      ],
      "source": [
        "dados.shape[0]"
      ]
    },
    {
      "cell_type": "code",
      "execution_count": 46,
      "metadata": {
        "colab": {
          "base_uri": "https://localhost:8080/"
        },
        "id": "DsXJHWhMG3Fs",
        "outputId": "3ab9930a-90c4-45d3-e2c2-0bc561897cb2"
      },
      "outputs": [
        {
          "output_type": "execute_result",
          "data": {
            "text/plain": [
              "2000.3831988547631"
            ]
          },
          "metadata": {},
          "execution_count": 46
        }
      ],
      "source": [
        "dados.Renda.mean()"
      ]
    },
    {
      "cell_type": "code",
      "execution_count": 47,
      "metadata": {
        "id": "k7yJucVMG3Fw"
      },
      "outputs": [],
      "source": [
        "amostra = dados.sample(n = 1000, random_state = 101)"
      ]
    },
    {
      "cell_type": "markdown",
      "source": [
        "**.sample()**: Este é um método no Pandas que é usado para extrair uma amostra aleatória do DataFrame armazenado em dados.\n",
        "\n",
        "O código está pegando uma amostra aleatória de 1000 pontos de dados do seu conjunto de dados dados e armazenando-a em uma nova variável chamada amostra. O random_state garante que você obtenha a mesma amostra toda vez que executar o código."
      ],
      "metadata": {
        "id": "HpJHsWJOkXbU"
      }
    },
    {
      "cell_type": "code",
      "execution_count": 48,
      "metadata": {
        "colab": {
          "base_uri": "https://localhost:8080/"
        },
        "id": "wUyXS65sG3F2",
        "outputId": "18950e4e-eda1-4f5d-ea99-ceea7a132ee0"
      },
      "outputs": [
        {
          "output_type": "execute_result",
          "data": {
            "text/plain": [
              "1000"
            ]
          },
          "metadata": {},
          "execution_count": 48
        }
      ],
      "source": [
        "amostra.shape[0]"
      ]
    },
    {
      "cell_type": "code",
      "execution_count": 49,
      "metadata": {
        "colab": {
          "base_uri": "https://localhost:8080/"
        },
        "id": "y0J4UtOwG3F5",
        "outputId": "cc914454-481b-4be8-eb7b-c29cb43ed891"
      },
      "outputs": [
        {
          "output_type": "execute_result",
          "data": {
            "text/plain": [
              "1998.783"
            ]
          },
          "metadata": {},
          "execution_count": 49
        }
      ],
      "source": [
        "amostra.Renda.mean()"
      ]
    },
    {
      "cell_type": "code",
      "execution_count": 50,
      "metadata": {
        "colab": {
          "base_uri": "https://localhost:8080/",
          "height": 178
        },
        "id": "WGZT_wnjSgPy",
        "outputId": "474e0f3b-6ddd-459c-9a76-abde0cc890e7"
      },
      "outputs": [
        {
          "output_type": "execute_result",
          "data": {
            "text/plain": [
              "Sexo\n",
              "0    0.692998\n",
              "1    0.307002\n",
              "Name: proportion, dtype: float64"
            ],
            "text/html": [
              "<div>\n",
              "<style scoped>\n",
              "    .dataframe tbody tr th:only-of-type {\n",
              "        vertical-align: middle;\n",
              "    }\n",
              "\n",
              "    .dataframe tbody tr th {\n",
              "        vertical-align: top;\n",
              "    }\n",
              "\n",
              "    .dataframe thead th {\n",
              "        text-align: right;\n",
              "    }\n",
              "</style>\n",
              "<table border=\"1\" class=\"dataframe\">\n",
              "  <thead>\n",
              "    <tr style=\"text-align: right;\">\n",
              "      <th></th>\n",
              "      <th>proportion</th>\n",
              "    </tr>\n",
              "    <tr>\n",
              "      <th>Sexo</th>\n",
              "      <th></th>\n",
              "    </tr>\n",
              "  </thead>\n",
              "  <tbody>\n",
              "    <tr>\n",
              "      <th>0</th>\n",
              "      <td>0.692998</td>\n",
              "    </tr>\n",
              "    <tr>\n",
              "      <th>1</th>\n",
              "      <td>0.307002</td>\n",
              "    </tr>\n",
              "  </tbody>\n",
              "</table>\n",
              "</div><br><label><b>dtype:</b> float64</label>"
            ]
          },
          "metadata": {},
          "execution_count": 50
        }
      ],
      "source": [
        "dados.Sexo.value_counts(normalize = True)"
      ]
    },
    {
      "cell_type": "code",
      "execution_count": 51,
      "metadata": {
        "colab": {
          "base_uri": "https://localhost:8080/",
          "height": 178
        },
        "id": "1la3Y_reSgEM",
        "outputId": "814c3f59-6ee4-4680-bcc4-a52c4572cc9f"
      },
      "outputs": [
        {
          "output_type": "execute_result",
          "data": {
            "text/plain": [
              "Sexo\n",
              "0    0.706\n",
              "1    0.294\n",
              "Name: proportion, dtype: float64"
            ],
            "text/html": [
              "<div>\n",
              "<style scoped>\n",
              "    .dataframe tbody tr th:only-of-type {\n",
              "        vertical-align: middle;\n",
              "    }\n",
              "\n",
              "    .dataframe tbody tr th {\n",
              "        vertical-align: top;\n",
              "    }\n",
              "\n",
              "    .dataframe thead th {\n",
              "        text-align: right;\n",
              "    }\n",
              "</style>\n",
              "<table border=\"1\" class=\"dataframe\">\n",
              "  <thead>\n",
              "    <tr style=\"text-align: right;\">\n",
              "      <th></th>\n",
              "      <th>proportion</th>\n",
              "    </tr>\n",
              "    <tr>\n",
              "      <th>Sexo</th>\n",
              "      <th></th>\n",
              "    </tr>\n",
              "  </thead>\n",
              "  <tbody>\n",
              "    <tr>\n",
              "      <th>0</th>\n",
              "      <td>0.706</td>\n",
              "    </tr>\n",
              "    <tr>\n",
              "      <th>1</th>\n",
              "      <td>0.294</td>\n",
              "    </tr>\n",
              "  </tbody>\n",
              "</table>\n",
              "</div><br><label><b>dtype:</b> float64</label>"
            ]
          },
          "metadata": {},
          "execution_count": 51
        }
      ],
      "source": [
        "amostra.Sexo.value_counts(normalize = True)"
      ]
    },
    {
      "cell_type": "markdown",
      "metadata": {
        "id": "stcKhnJBG3F7"
      },
      "source": [
        "## Amostragem Estratificada\n",
        "***"
      ]
    },
    {
      "cell_type": "markdown",
      "metadata": {
        "id": "W1uEZMRIG3GA"
      },
      "source": [
        "Imagine que você quer estudar a preferência musical dos estudantes de uma universidade. Se você usar apenas a amostragem aleatória simples, pode acabar selecionando uma amostra com muitos estudantes de um curso específico e poucos de outros, o que pode distorcer os resultados.\n",
        "\n",
        "A **amostragem estratificada** resolve esse problema dividindo a população em **subgrupos homogêneos**, chamados de **estratos**, com base em características importantes, como curso, idade ou gênero.\n",
        "\n",
        "Em seguida, aplicamos a **amostragem aleatória simples** dentro de cada estrato, garantindo que todos os subgrupos estejam representados na amostra final de forma proporcional à sua presença na população.\n",
        "\n",
        "**Vantagens:**\n",
        "\n",
        "\n",
        "*  Maior precisão nas estimativas, pois a amostra reflete melhor a diversidade da população.\n",
        "*   Permite analisar as diferenças entre os estratos.\n",
        "\n",
        "\n",
        "\n",
        "\n"
      ]
    },
    {
      "cell_type": "markdown",
      "metadata": {
        "id": "xRjUHDAbG3GB"
      },
      "source": [
        "\n",
        "## Amostragem por Conglomerados\n",
        "***"
      ]
    },
    {
      "cell_type": "markdown",
      "metadata": {
        "id": "sW9IuaL9G3GH"
      },
      "source": [
        "Agora, imagine que você quer estudar a renda média das famílias de uma cidade. Seria muito trabalhoso listar todas as famílias e aplicar a amostragem aleatória simples.\n",
        "\n",
        "A **amostragem por conglomerados** facilita esse processo dividindo a população em **subgrupos heterogêneos**, chamados de **conglomerados**, que representam \"miniaturas\" da população. Por exemplo, poderíamos dividir a cidade em bairros.\n",
        "\n",
        "Em seguida, selecionamos aleatoriamente alguns conglomerados para análise e, dentro deles, podemos usar a **amostragem aleatória simples** ou **estratificada** para selecionar os elementos finais da amostra.\n",
        "\n",
        "**Vantagens:**\n",
        "\n",
        "\n",
        "*   Mais prática e econômica, pois reduz a necessidade de listar todos os elementos da população.\n",
        "*   Permite estudar populações dispersas geograficamente.\n",
        "\n",
        "\n",
        "\n",
        "\n"
      ]
    },
    {
      "cell_type": "markdown",
      "source": [
        "<font size=5> Em resumo</font>\n",
        "\n",
        "A **amostragem estratificada** busca aumentar a precisão dividindo a população em subgrupos homogêneos, enquanto a **amostragem por conglomerados** visa facilitar a coleta de dados dividindo a população em subgrupos heterogêneos. A escolha da técnica ideal depende do objetivo do estudo e das características da população."
      ],
      "metadata": {
        "id": "DrPICf2DP5SV"
      }
    },
    {
      "cell_type": "markdown",
      "metadata": {
        "id": "2LNJT4FEuzO4"
      },
      "source": [
        "# ESTIMAÇÃO\n",
        "***"
      ]
    },
    {
      "cell_type": "markdown",
      "metadata": {
        "id": "ytP6VpismwDY"
      },
      "source": [
        "Suponha que os pesos dos sacos de arroz de uma indústria alimentícia se distribuem aproximadamente como uma normal de **desvio padrão populacional igual a 150 g**. Selecionada uma **amostra aleatório de 20 sacos** de um lote específico, obteve-se um **peso médio de 5.050 g**. Construa um **intervalo de confiança para a média populacional** assumindo um **nível de significância de 5%**."
      ]
    },
    {
      "cell_type": "markdown",
      "metadata": {
        "id": "PCqEvJMOwvUf"
      },
      "source": [
        "---"
      ]
    },
    {
      "cell_type": "markdown",
      "metadata": {
        "id": "HU578SXBG3GN"
      },
      "source": [
        "É a forma de se fazer suposições generalizadas sobre os parâmetros de uma população tendo como base as informações de uma amostra.\n",
        "\n",
        "- **Parâmetros** são os atributos numéricos de uma população, tal como a média, desvio padrão etc.\n",
        "\n",
        "- **Estimativa** é o valor obtido para determinado parâmetro a partir dos dados de uma amostra da população."
      ]
    },
    {
      "cell_type": "markdown",
      "metadata": {
        "id": "klWVkoUDG3GR"
      },
      "source": [
        "## Teorema do limite central\n",
        "***"
      ]
    },
    {
      "cell_type": "markdown",
      "metadata": {
        "id": "QpgTvbISG3GU"
      },
      "source": [
        "> O **Teorema do Limite Central** afirma que, com o aumento do tamanho da amostra, a distribuição das médias amostrais se aproxima de uma distribuição normal com média igual à média da população e desvio padrão igual ao desvio padrão da variável original dividido pela raiz quadrada do tamanho da amostra. Este fato é assegurado para $n$ maior ou igual a 30."
      ]
    },
    {
      "cell_type": "markdown",
      "metadata": {
        "id": "ZIAr6is3wEMp"
      },
      "source": [
        "<font size=5> $$\\sigma_\\bar{x} = \\frac{\\sigma}{\\sqrt{n}}$$ </font>\n",
        "\n",
        "O desvio padrão das médias amostrais é conhecido como **erro padrão da média**"
      ]
    },
    {
      "cell_type": "markdown",
      "metadata": {
        "id": "eFtSo6H0iz7z"
      },
      "source": [
        "<font size=5> Entendendo o Teorema do Limite Central </font>"
      ]
    },
    {
      "cell_type": "code",
      "execution_count": 52,
      "metadata": {
        "id": "S3q73XpnizTi"
      },
      "outputs": [],
      "source": [
        "n = 2000\n",
        "total_de_amostras = 1500"
      ]
    },
    {
      "cell_type": "code",
      "execution_count": 53,
      "metadata": {
        "colab": {
          "base_uri": "https://localhost:8080/",
          "height": 89
        },
        "id": "uXZvARZ0izQp",
        "outputId": "30269453-730b-4975-ef44-5d7fe188ed57"
      },
      "outputs": [
        {
          "output_type": "execute_result",
          "data": {
            "text/plain": [
              "Empty DataFrame\n",
              "Columns: []\n",
              "Index: []"
            ],
            "text/html": [
              "\n",
              "  <div id=\"df-643d9ed5-60cf-45e0-9668-cbf7d1f35c22\" class=\"colab-df-container\">\n",
              "    <div>\n",
              "<style scoped>\n",
              "    .dataframe tbody tr th:only-of-type {\n",
              "        vertical-align: middle;\n",
              "    }\n",
              "\n",
              "    .dataframe tbody tr th {\n",
              "        vertical-align: top;\n",
              "    }\n",
              "\n",
              "    .dataframe thead th {\n",
              "        text-align: right;\n",
              "    }\n",
              "</style>\n",
              "<table border=\"1\" class=\"dataframe\">\n",
              "  <thead>\n",
              "    <tr style=\"text-align: right;\">\n",
              "      <th></th>\n",
              "    </tr>\n",
              "  </thead>\n",
              "  <tbody>\n",
              "  </tbody>\n",
              "</table>\n",
              "</div>\n",
              "    <div class=\"colab-df-buttons\">\n",
              "\n",
              "  <div class=\"colab-df-container\">\n",
              "    <button class=\"colab-df-convert\" onclick=\"convertToInteractive('df-643d9ed5-60cf-45e0-9668-cbf7d1f35c22')\"\n",
              "            title=\"Convert this dataframe to an interactive table.\"\n",
              "            style=\"display:none;\">\n",
              "\n",
              "  <svg xmlns=\"http://www.w3.org/2000/svg\" height=\"24px\" viewBox=\"0 -960 960 960\">\n",
              "    <path d=\"M120-120v-720h720v720H120Zm60-500h600v-160H180v160Zm220 220h160v-160H400v160Zm0 220h160v-160H400v160ZM180-400h160v-160H180v160Zm440 0h160v-160H620v160ZM180-180h160v-160H180v160Zm440 0h160v-160H620v160Z\"/>\n",
              "  </svg>\n",
              "    </button>\n",
              "\n",
              "  <style>\n",
              "    .colab-df-container {\n",
              "      display:flex;\n",
              "      gap: 12px;\n",
              "    }\n",
              "\n",
              "    .colab-df-convert {\n",
              "      background-color: #E8F0FE;\n",
              "      border: none;\n",
              "      border-radius: 50%;\n",
              "      cursor: pointer;\n",
              "      display: none;\n",
              "      fill: #1967D2;\n",
              "      height: 32px;\n",
              "      padding: 0 0 0 0;\n",
              "      width: 32px;\n",
              "    }\n",
              "\n",
              "    .colab-df-convert:hover {\n",
              "      background-color: #E2EBFA;\n",
              "      box-shadow: 0px 1px 2px rgba(60, 64, 67, 0.3), 0px 1px 3px 1px rgba(60, 64, 67, 0.15);\n",
              "      fill: #174EA6;\n",
              "    }\n",
              "\n",
              "    .colab-df-buttons div {\n",
              "      margin-bottom: 4px;\n",
              "    }\n",
              "\n",
              "    [theme=dark] .colab-df-convert {\n",
              "      background-color: #3B4455;\n",
              "      fill: #D2E3FC;\n",
              "    }\n",
              "\n",
              "    [theme=dark] .colab-df-convert:hover {\n",
              "      background-color: #434B5C;\n",
              "      box-shadow: 0px 1px 3px 1px rgba(0, 0, 0, 0.15);\n",
              "      filter: drop-shadow(0px 1px 2px rgba(0, 0, 0, 0.3));\n",
              "      fill: #FFFFFF;\n",
              "    }\n",
              "  </style>\n",
              "\n",
              "    <script>\n",
              "      const buttonEl =\n",
              "        document.querySelector('#df-643d9ed5-60cf-45e0-9668-cbf7d1f35c22 button.colab-df-convert');\n",
              "      buttonEl.style.display =\n",
              "        google.colab.kernel.accessAllowed ? 'block' : 'none';\n",
              "\n",
              "      async function convertToInteractive(key) {\n",
              "        const element = document.querySelector('#df-643d9ed5-60cf-45e0-9668-cbf7d1f35c22');\n",
              "        const dataTable =\n",
              "          await google.colab.kernel.invokeFunction('convertToInteractive',\n",
              "                                                    [key], {});\n",
              "        if (!dataTable) return;\n",
              "\n",
              "        const docLinkHtml = 'Like what you see? Visit the ' +\n",
              "          '<a target=\"_blank\" href=https://colab.research.google.com/notebooks/data_table.ipynb>data table notebook</a>'\n",
              "          + ' to learn more about interactive tables.';\n",
              "        element.innerHTML = '';\n",
              "        dataTable['output_type'] = 'display_data';\n",
              "        await google.colab.output.renderOutput(dataTable, element);\n",
              "        const docLink = document.createElement('div');\n",
              "        docLink.innerHTML = docLinkHtml;\n",
              "        element.appendChild(docLink);\n",
              "      }\n",
              "    </script>\n",
              "  </div>\n",
              "\n",
              "\n",
              "  <div id=\"id_b223b851-e684-4a7b-a818-921481d7cacf\">\n",
              "    <style>\n",
              "      .colab-df-generate {\n",
              "        background-color: #E8F0FE;\n",
              "        border: none;\n",
              "        border-radius: 50%;\n",
              "        cursor: pointer;\n",
              "        display: none;\n",
              "        fill: #1967D2;\n",
              "        height: 32px;\n",
              "        padding: 0 0 0 0;\n",
              "        width: 32px;\n",
              "      }\n",
              "\n",
              "      .colab-df-generate:hover {\n",
              "        background-color: #E2EBFA;\n",
              "        box-shadow: 0px 1px 2px rgba(60, 64, 67, 0.3), 0px 1px 3px 1px rgba(60, 64, 67, 0.15);\n",
              "        fill: #174EA6;\n",
              "      }\n",
              "\n",
              "      [theme=dark] .colab-df-generate {\n",
              "        background-color: #3B4455;\n",
              "        fill: #D2E3FC;\n",
              "      }\n",
              "\n",
              "      [theme=dark] .colab-df-generate:hover {\n",
              "        background-color: #434B5C;\n",
              "        box-shadow: 0px 1px 3px 1px rgba(0, 0, 0, 0.15);\n",
              "        filter: drop-shadow(0px 1px 2px rgba(0, 0, 0, 0.3));\n",
              "        fill: #FFFFFF;\n",
              "      }\n",
              "    </style>\n",
              "    <button class=\"colab-df-generate\" onclick=\"generateWithVariable('amostras')\"\n",
              "            title=\"Generate code using this dataframe.\"\n",
              "            style=\"display:none;\">\n",
              "\n",
              "  <svg xmlns=\"http://www.w3.org/2000/svg\" height=\"24px\"viewBox=\"0 0 24 24\"\n",
              "       width=\"24px\">\n",
              "    <path d=\"M7,19H8.4L18.45,9,17,7.55,7,17.6ZM5,21V16.75L18.45,3.32a2,2,0,0,1,2.83,0l1.4,1.43a1.91,1.91,0,0,1,.58,1.4,1.91,1.91,0,0,1-.58,1.4L9.25,21ZM18.45,9,17,7.55Zm-12,3A5.31,5.31,0,0,0,4.9,8.1,5.31,5.31,0,0,0,1,6.5,5.31,5.31,0,0,0,4.9,4.9,5.31,5.31,0,0,0,6.5,1,5.31,5.31,0,0,0,8.1,4.9,5.31,5.31,0,0,0,12,6.5,5.46,5.46,0,0,0,6.5,12Z\"/>\n",
              "  </svg>\n",
              "    </button>\n",
              "    <script>\n",
              "      (() => {\n",
              "      const buttonEl =\n",
              "        document.querySelector('#id_b223b851-e684-4a7b-a818-921481d7cacf button.colab-df-generate');\n",
              "      buttonEl.style.display =\n",
              "        google.colab.kernel.accessAllowed ? 'block' : 'none';\n",
              "\n",
              "      buttonEl.onclick = () => {\n",
              "        google.colab.notebook.generateWithVariable('amostras');\n",
              "      }\n",
              "      })();\n",
              "    </script>\n",
              "  </div>\n",
              "\n",
              "    </div>\n",
              "  </div>\n"
            ],
            "application/vnd.google.colaboratory.intrinsic+json": {
              "type": "dataframe",
              "variable_name": "amostras",
              "summary": "{\n  \"name\": \"amostras\",\n  \"rows\": 0,\n  \"fields\": []\n}"
            }
          },
          "metadata": {},
          "execution_count": 53
        }
      ],
      "source": [
        "amostras = pd.DataFrame()\n",
        "amostras"
      ]
    },
    {
      "cell_type": "code",
      "execution_count": 54,
      "metadata": {
        "id": "tXa7XKhKTyMu",
        "scrolled": true,
        "colab": {
          "base_uri": "https://localhost:8080/"
        },
        "outputId": "3aa4bc05-e3bb-41cc-dcce-8d839408b16f"
      },
      "outputs": [
        {
          "output_type": "stream",
          "name": "stderr",
          "text": [
            "<ipython-input-54-2abac2b94257>:4: PerformanceWarning: DataFrame is highly fragmented.  This is usually the result of calling `frame.insert` many times, which has poor performance.  Consider joining all columns at once using pd.concat(axis=1) instead. To get a de-fragmented frame, use `newframe = frame.copy()`\n",
            "  amostras['Amostra_' + str(i)] = amostra_idade\n",
            "<ipython-input-54-2abac2b94257>:4: PerformanceWarning: DataFrame is highly fragmented.  This is usually the result of calling `frame.insert` many times, which has poor performance.  Consider joining all columns at once using pd.concat(axis=1) instead. To get a de-fragmented frame, use `newframe = frame.copy()`\n",
            "  amostras['Amostra_' + str(i)] = amostra_idade\n",
            "<ipython-input-54-2abac2b94257>:4: PerformanceWarning: DataFrame is highly fragmented.  This is usually the result of calling `frame.insert` many times, which has poor performance.  Consider joining all columns at once using pd.concat(axis=1) instead. To get a de-fragmented frame, use `newframe = frame.copy()`\n",
            "  amostras['Amostra_' + str(i)] = amostra_idade\n",
            "<ipython-input-54-2abac2b94257>:4: PerformanceWarning: DataFrame is highly fragmented.  This is usually the result of calling `frame.insert` many times, which has poor performance.  Consider joining all columns at once using pd.concat(axis=1) instead. To get a de-fragmented frame, use `newframe = frame.copy()`\n",
            "  amostras['Amostra_' + str(i)] = amostra_idade\n",
            "<ipython-input-54-2abac2b94257>:4: PerformanceWarning: DataFrame is highly fragmented.  This is usually the result of calling `frame.insert` many times, which has poor performance.  Consider joining all columns at once using pd.concat(axis=1) instead. To get a de-fragmented frame, use `newframe = frame.copy()`\n",
            "  amostras['Amostra_' + str(i)] = amostra_idade\n",
            "<ipython-input-54-2abac2b94257>:4: PerformanceWarning: DataFrame is highly fragmented.  This is usually the result of calling `frame.insert` many times, which has poor performance.  Consider joining all columns at once using pd.concat(axis=1) instead. To get a de-fragmented frame, use `newframe = frame.copy()`\n",
            "  amostras['Amostra_' + str(i)] = amostra_idade\n",
            "<ipython-input-54-2abac2b94257>:4: PerformanceWarning: DataFrame is highly fragmented.  This is usually the result of calling `frame.insert` many times, which has poor performance.  Consider joining all columns at once using pd.concat(axis=1) instead. To get a de-fragmented frame, use `newframe = frame.copy()`\n",
            "  amostras['Amostra_' + str(i)] = amostra_idade\n",
            "<ipython-input-54-2abac2b94257>:4: PerformanceWarning: DataFrame is highly fragmented.  This is usually the result of calling `frame.insert` many times, which has poor performance.  Consider joining all columns at once using pd.concat(axis=1) instead. To get a de-fragmented frame, use `newframe = frame.copy()`\n",
            "  amostras['Amostra_' + str(i)] = amostra_idade\n",
            "<ipython-input-54-2abac2b94257>:4: PerformanceWarning: DataFrame is highly fragmented.  This is usually the result of calling `frame.insert` many times, which has poor performance.  Consider joining all columns at once using pd.concat(axis=1) instead. To get a de-fragmented frame, use `newframe = frame.copy()`\n",
            "  amostras['Amostra_' + str(i)] = amostra_idade\n",
            "<ipython-input-54-2abac2b94257>:4: PerformanceWarning: DataFrame is highly fragmented.  This is usually the result of calling `frame.insert` many times, which has poor performance.  Consider joining all columns at once using pd.concat(axis=1) instead. To get a de-fragmented frame, use `newframe = frame.copy()`\n",
            "  amostras['Amostra_' + str(i)] = amostra_idade\n",
            "<ipython-input-54-2abac2b94257>:4: PerformanceWarning: DataFrame is highly fragmented.  This is usually the result of calling `frame.insert` many times, which has poor performance.  Consider joining all columns at once using pd.concat(axis=1) instead. To get a de-fragmented frame, use `newframe = frame.copy()`\n",
            "  amostras['Amostra_' + str(i)] = amostra_idade\n",
            "<ipython-input-54-2abac2b94257>:4: PerformanceWarning: DataFrame is highly fragmented.  This is usually the result of calling `frame.insert` many times, which has poor performance.  Consider joining all columns at once using pd.concat(axis=1) instead. To get a de-fragmented frame, use `newframe = frame.copy()`\n",
            "  amostras['Amostra_' + str(i)] = amostra_idade\n",
            "<ipython-input-54-2abac2b94257>:4: PerformanceWarning: DataFrame is highly fragmented.  This is usually the result of calling `frame.insert` many times, which has poor performance.  Consider joining all columns at once using pd.concat(axis=1) instead. To get a de-fragmented frame, use `newframe = frame.copy()`\n",
            "  amostras['Amostra_' + str(i)] = amostra_idade\n",
            "<ipython-input-54-2abac2b94257>:4: PerformanceWarning: DataFrame is highly fragmented.  This is usually the result of calling `frame.insert` many times, which has poor performance.  Consider joining all columns at once using pd.concat(axis=1) instead. To get a de-fragmented frame, use `newframe = frame.copy()`\n",
            "  amostras['Amostra_' + str(i)] = amostra_idade\n",
            "<ipython-input-54-2abac2b94257>:4: PerformanceWarning: DataFrame is highly fragmented.  This is usually the result of calling `frame.insert` many times, which has poor performance.  Consider joining all columns at once using pd.concat(axis=1) instead. To get a de-fragmented frame, use `newframe = frame.copy()`\n",
            "  amostras['Amostra_' + str(i)] = amostra_idade\n",
            "<ipython-input-54-2abac2b94257>:4: PerformanceWarning: DataFrame is highly fragmented.  This is usually the result of calling `frame.insert` many times, which has poor performance.  Consider joining all columns at once using pd.concat(axis=1) instead. To get a de-fragmented frame, use `newframe = frame.copy()`\n",
            "  amostras['Amostra_' + str(i)] = amostra_idade\n",
            "<ipython-input-54-2abac2b94257>:4: PerformanceWarning: DataFrame is highly fragmented.  This is usually the result of calling `frame.insert` many times, which has poor performance.  Consider joining all columns at once using pd.concat(axis=1) instead. To get a de-fragmented frame, use `newframe = frame.copy()`\n",
            "  amostras['Amostra_' + str(i)] = amostra_idade\n",
            "<ipython-input-54-2abac2b94257>:4: PerformanceWarning: DataFrame is highly fragmented.  This is usually the result of calling `frame.insert` many times, which has poor performance.  Consider joining all columns at once using pd.concat(axis=1) instead. To get a de-fragmented frame, use `newframe = frame.copy()`\n",
            "  amostras['Amostra_' + str(i)] = amostra_idade\n",
            "<ipython-input-54-2abac2b94257>:4: PerformanceWarning: DataFrame is highly fragmented.  This is usually the result of calling `frame.insert` many times, which has poor performance.  Consider joining all columns at once using pd.concat(axis=1) instead. To get a de-fragmented frame, use `newframe = frame.copy()`\n",
            "  amostras['Amostra_' + str(i)] = amostra_idade\n",
            "<ipython-input-54-2abac2b94257>:4: PerformanceWarning: DataFrame is highly fragmented.  This is usually the result of calling `frame.insert` many times, which has poor performance.  Consider joining all columns at once using pd.concat(axis=1) instead. To get a de-fragmented frame, use `newframe = frame.copy()`\n",
            "  amostras['Amostra_' + str(i)] = amostra_idade\n",
            "<ipython-input-54-2abac2b94257>:4: PerformanceWarning: DataFrame is highly fragmented.  This is usually the result of calling `frame.insert` many times, which has poor performance.  Consider joining all columns at once using pd.concat(axis=1) instead. To get a de-fragmented frame, use `newframe = frame.copy()`\n",
            "  amostras['Amostra_' + str(i)] = amostra_idade\n",
            "<ipython-input-54-2abac2b94257>:4: PerformanceWarning: DataFrame is highly fragmented.  This is usually the result of calling `frame.insert` many times, which has poor performance.  Consider joining all columns at once using pd.concat(axis=1) instead. To get a de-fragmented frame, use `newframe = frame.copy()`\n",
            "  amostras['Amostra_' + str(i)] = amostra_idade\n",
            "<ipython-input-54-2abac2b94257>:4: PerformanceWarning: DataFrame is highly fragmented.  This is usually the result of calling `frame.insert` many times, which has poor performance.  Consider joining all columns at once using pd.concat(axis=1) instead. To get a de-fragmented frame, use `newframe = frame.copy()`\n",
            "  amostras['Amostra_' + str(i)] = amostra_idade\n",
            "<ipython-input-54-2abac2b94257>:4: PerformanceWarning: DataFrame is highly fragmented.  This is usually the result of calling `frame.insert` many times, which has poor performance.  Consider joining all columns at once using pd.concat(axis=1) instead. To get a de-fragmented frame, use `newframe = frame.copy()`\n",
            "  amostras['Amostra_' + str(i)] = amostra_idade\n",
            "<ipython-input-54-2abac2b94257>:4: PerformanceWarning: DataFrame is highly fragmented.  This is usually the result of calling `frame.insert` many times, which has poor performance.  Consider joining all columns at once using pd.concat(axis=1) instead. To get a de-fragmented frame, use `newframe = frame.copy()`\n",
            "  amostras['Amostra_' + str(i)] = amostra_idade\n",
            "<ipython-input-54-2abac2b94257>:4: PerformanceWarning: DataFrame is highly fragmented.  This is usually the result of calling `frame.insert` many times, which has poor performance.  Consider joining all columns at once using pd.concat(axis=1) instead. To get a de-fragmented frame, use `newframe = frame.copy()`\n",
            "  amostras['Amostra_' + str(i)] = amostra_idade\n",
            "<ipython-input-54-2abac2b94257>:4: PerformanceWarning: DataFrame is highly fragmented.  This is usually the result of calling `frame.insert` many times, which has poor performance.  Consider joining all columns at once using pd.concat(axis=1) instead. To get a de-fragmented frame, use `newframe = frame.copy()`\n",
            "  amostras['Amostra_' + str(i)] = amostra_idade\n",
            "<ipython-input-54-2abac2b94257>:4: PerformanceWarning: DataFrame is highly fragmented.  This is usually the result of calling `frame.insert` many times, which has poor performance.  Consider joining all columns at once using pd.concat(axis=1) instead. To get a de-fragmented frame, use `newframe = frame.copy()`\n",
            "  amostras['Amostra_' + str(i)] = amostra_idade\n",
            "<ipython-input-54-2abac2b94257>:4: PerformanceWarning: DataFrame is highly fragmented.  This is usually the result of calling `frame.insert` many times, which has poor performance.  Consider joining all columns at once using pd.concat(axis=1) instead. To get a de-fragmented frame, use `newframe = frame.copy()`\n",
            "  amostras['Amostra_' + str(i)] = amostra_idade\n",
            "<ipython-input-54-2abac2b94257>:4: PerformanceWarning: DataFrame is highly fragmented.  This is usually the result of calling `frame.insert` many times, which has poor performance.  Consider joining all columns at once using pd.concat(axis=1) instead. To get a de-fragmented frame, use `newframe = frame.copy()`\n",
            "  amostras['Amostra_' + str(i)] = amostra_idade\n",
            "<ipython-input-54-2abac2b94257>:4: PerformanceWarning: DataFrame is highly fragmented.  This is usually the result of calling `frame.insert` many times, which has poor performance.  Consider joining all columns at once using pd.concat(axis=1) instead. To get a de-fragmented frame, use `newframe = frame.copy()`\n",
            "  amostras['Amostra_' + str(i)] = amostra_idade\n",
            "<ipython-input-54-2abac2b94257>:4: PerformanceWarning: DataFrame is highly fragmented.  This is usually the result of calling `frame.insert` many times, which has poor performance.  Consider joining all columns at once using pd.concat(axis=1) instead. To get a de-fragmented frame, use `newframe = frame.copy()`\n",
            "  amostras['Amostra_' + str(i)] = amostra_idade\n",
            "<ipython-input-54-2abac2b94257>:4: PerformanceWarning: DataFrame is highly fragmented.  This is usually the result of calling `frame.insert` many times, which has poor performance.  Consider joining all columns at once using pd.concat(axis=1) instead. To get a de-fragmented frame, use `newframe = frame.copy()`\n",
            "  amostras['Amostra_' + str(i)] = amostra_idade\n",
            "<ipython-input-54-2abac2b94257>:4: PerformanceWarning: DataFrame is highly fragmented.  This is usually the result of calling `frame.insert` many times, which has poor performance.  Consider joining all columns at once using pd.concat(axis=1) instead. To get a de-fragmented frame, use `newframe = frame.copy()`\n",
            "  amostras['Amostra_' + str(i)] = amostra_idade\n",
            "<ipython-input-54-2abac2b94257>:4: PerformanceWarning: DataFrame is highly fragmented.  This is usually the result of calling `frame.insert` many times, which has poor performance.  Consider joining all columns at once using pd.concat(axis=1) instead. To get a de-fragmented frame, use `newframe = frame.copy()`\n",
            "  amostras['Amostra_' + str(i)] = amostra_idade\n",
            "<ipython-input-54-2abac2b94257>:4: PerformanceWarning: DataFrame is highly fragmented.  This is usually the result of calling `frame.insert` many times, which has poor performance.  Consider joining all columns at once using pd.concat(axis=1) instead. To get a de-fragmented frame, use `newframe = frame.copy()`\n",
            "  amostras['Amostra_' + str(i)] = amostra_idade\n",
            "<ipython-input-54-2abac2b94257>:4: PerformanceWarning: DataFrame is highly fragmented.  This is usually the result of calling `frame.insert` many times, which has poor performance.  Consider joining all columns at once using pd.concat(axis=1) instead. To get a de-fragmented frame, use `newframe = frame.copy()`\n",
            "  amostras['Amostra_' + str(i)] = amostra_idade\n",
            "<ipython-input-54-2abac2b94257>:4: PerformanceWarning: DataFrame is highly fragmented.  This is usually the result of calling `frame.insert` many times, which has poor performance.  Consider joining all columns at once using pd.concat(axis=1) instead. To get a de-fragmented frame, use `newframe = frame.copy()`\n",
            "  amostras['Amostra_' + str(i)] = amostra_idade\n",
            "<ipython-input-54-2abac2b94257>:4: PerformanceWarning: DataFrame is highly fragmented.  This is usually the result of calling `frame.insert` many times, which has poor performance.  Consider joining all columns at once using pd.concat(axis=1) instead. To get a de-fragmented frame, use `newframe = frame.copy()`\n",
            "  amostras['Amostra_' + str(i)] = amostra_idade\n",
            "<ipython-input-54-2abac2b94257>:4: PerformanceWarning: DataFrame is highly fragmented.  This is usually the result of calling `frame.insert` many times, which has poor performance.  Consider joining all columns at once using pd.concat(axis=1) instead. To get a de-fragmented frame, use `newframe = frame.copy()`\n",
            "  amostras['Amostra_' + str(i)] = amostra_idade\n",
            "<ipython-input-54-2abac2b94257>:4: PerformanceWarning: DataFrame is highly fragmented.  This is usually the result of calling `frame.insert` many times, which has poor performance.  Consider joining all columns at once using pd.concat(axis=1) instead. To get a de-fragmented frame, use `newframe = frame.copy()`\n",
            "  amostras['Amostra_' + str(i)] = amostra_idade\n",
            "<ipython-input-54-2abac2b94257>:4: PerformanceWarning: DataFrame is highly fragmented.  This is usually the result of calling `frame.insert` many times, which has poor performance.  Consider joining all columns at once using pd.concat(axis=1) instead. To get a de-fragmented frame, use `newframe = frame.copy()`\n",
            "  amostras['Amostra_' + str(i)] = amostra_idade\n",
            "<ipython-input-54-2abac2b94257>:4: PerformanceWarning: DataFrame is highly fragmented.  This is usually the result of calling `frame.insert` many times, which has poor performance.  Consider joining all columns at once using pd.concat(axis=1) instead. To get a de-fragmented frame, use `newframe = frame.copy()`\n",
            "  amostras['Amostra_' + str(i)] = amostra_idade\n",
            "<ipython-input-54-2abac2b94257>:4: PerformanceWarning: DataFrame is highly fragmented.  This is usually the result of calling `frame.insert` many times, which has poor performance.  Consider joining all columns at once using pd.concat(axis=1) instead. To get a de-fragmented frame, use `newframe = frame.copy()`\n",
            "  amostras['Amostra_' + str(i)] = amostra_idade\n",
            "<ipython-input-54-2abac2b94257>:4: PerformanceWarning: DataFrame is highly fragmented.  This is usually the result of calling `frame.insert` many times, which has poor performance.  Consider joining all columns at once using pd.concat(axis=1) instead. To get a de-fragmented frame, use `newframe = frame.copy()`\n",
            "  amostras['Amostra_' + str(i)] = amostra_idade\n",
            "<ipython-input-54-2abac2b94257>:4: PerformanceWarning: DataFrame is highly fragmented.  This is usually the result of calling `frame.insert` many times, which has poor performance.  Consider joining all columns at once using pd.concat(axis=1) instead. To get a de-fragmented frame, use `newframe = frame.copy()`\n",
            "  amostras['Amostra_' + str(i)] = amostra_idade\n",
            "<ipython-input-54-2abac2b94257>:4: PerformanceWarning: DataFrame is highly fragmented.  This is usually the result of calling `frame.insert` many times, which has poor performance.  Consider joining all columns at once using pd.concat(axis=1) instead. To get a de-fragmented frame, use `newframe = frame.copy()`\n",
            "  amostras['Amostra_' + str(i)] = amostra_idade\n",
            "<ipython-input-54-2abac2b94257>:4: PerformanceWarning: DataFrame is highly fragmented.  This is usually the result of calling `frame.insert` many times, which has poor performance.  Consider joining all columns at once using pd.concat(axis=1) instead. To get a de-fragmented frame, use `newframe = frame.copy()`\n",
            "  amostras['Amostra_' + str(i)] = amostra_idade\n",
            "<ipython-input-54-2abac2b94257>:4: PerformanceWarning: DataFrame is highly fragmented.  This is usually the result of calling `frame.insert` many times, which has poor performance.  Consider joining all columns at once using pd.concat(axis=1) instead. To get a de-fragmented frame, use `newframe = frame.copy()`\n",
            "  amostras['Amostra_' + str(i)] = amostra_idade\n",
            "<ipython-input-54-2abac2b94257>:4: PerformanceWarning: DataFrame is highly fragmented.  This is usually the result of calling `frame.insert` many times, which has poor performance.  Consider joining all columns at once using pd.concat(axis=1) instead. To get a de-fragmented frame, use `newframe = frame.copy()`\n",
            "  amostras['Amostra_' + str(i)] = amostra_idade\n",
            "<ipython-input-54-2abac2b94257>:4: PerformanceWarning: DataFrame is highly fragmented.  This is usually the result of calling `frame.insert` many times, which has poor performance.  Consider joining all columns at once using pd.concat(axis=1) instead. To get a de-fragmented frame, use `newframe = frame.copy()`\n",
            "  amostras['Amostra_' + str(i)] = amostra_idade\n",
            "<ipython-input-54-2abac2b94257>:4: PerformanceWarning: DataFrame is highly fragmented.  This is usually the result of calling `frame.insert` many times, which has poor performance.  Consider joining all columns at once using pd.concat(axis=1) instead. To get a de-fragmented frame, use `newframe = frame.copy()`\n",
            "  amostras['Amostra_' + str(i)] = amostra_idade\n",
            "<ipython-input-54-2abac2b94257>:4: PerformanceWarning: DataFrame is highly fragmented.  This is usually the result of calling `frame.insert` many times, which has poor performance.  Consider joining all columns at once using pd.concat(axis=1) instead. To get a de-fragmented frame, use `newframe = frame.copy()`\n",
            "  amostras['Amostra_' + str(i)] = amostra_idade\n",
            "<ipython-input-54-2abac2b94257>:4: PerformanceWarning: DataFrame is highly fragmented.  This is usually the result of calling `frame.insert` many times, which has poor performance.  Consider joining all columns at once using pd.concat(axis=1) instead. To get a de-fragmented frame, use `newframe = frame.copy()`\n",
            "  amostras['Amostra_' + str(i)] = amostra_idade\n",
            "<ipython-input-54-2abac2b94257>:4: PerformanceWarning: DataFrame is highly fragmented.  This is usually the result of calling `frame.insert` many times, which has poor performance.  Consider joining all columns at once using pd.concat(axis=1) instead. To get a de-fragmented frame, use `newframe = frame.copy()`\n",
            "  amostras['Amostra_' + str(i)] = amostra_idade\n",
            "<ipython-input-54-2abac2b94257>:4: PerformanceWarning: DataFrame is highly fragmented.  This is usually the result of calling `frame.insert` many times, which has poor performance.  Consider joining all columns at once using pd.concat(axis=1) instead. To get a de-fragmented frame, use `newframe = frame.copy()`\n",
            "  amostras['Amostra_' + str(i)] = amostra_idade\n",
            "<ipython-input-54-2abac2b94257>:4: PerformanceWarning: DataFrame is highly fragmented.  This is usually the result of calling `frame.insert` many times, which has poor performance.  Consider joining all columns at once using pd.concat(axis=1) instead. To get a de-fragmented frame, use `newframe = frame.copy()`\n",
            "  amostras['Amostra_' + str(i)] = amostra_idade\n",
            "<ipython-input-54-2abac2b94257>:4: PerformanceWarning: DataFrame is highly fragmented.  This is usually the result of calling `frame.insert` many times, which has poor performance.  Consider joining all columns at once using pd.concat(axis=1) instead. To get a de-fragmented frame, use `newframe = frame.copy()`\n",
            "  amostras['Amostra_' + str(i)] = amostra_idade\n",
            "<ipython-input-54-2abac2b94257>:4: PerformanceWarning: DataFrame is highly fragmented.  This is usually the result of calling `frame.insert` many times, which has poor performance.  Consider joining all columns at once using pd.concat(axis=1) instead. To get a de-fragmented frame, use `newframe = frame.copy()`\n",
            "  amostras['Amostra_' + str(i)] = amostra_idade\n",
            "<ipython-input-54-2abac2b94257>:4: PerformanceWarning: DataFrame is highly fragmented.  This is usually the result of calling `frame.insert` many times, which has poor performance.  Consider joining all columns at once using pd.concat(axis=1) instead. To get a de-fragmented frame, use `newframe = frame.copy()`\n",
            "  amostras['Amostra_' + str(i)] = amostra_idade\n",
            "<ipython-input-54-2abac2b94257>:4: PerformanceWarning: DataFrame is highly fragmented.  This is usually the result of calling `frame.insert` many times, which has poor performance.  Consider joining all columns at once using pd.concat(axis=1) instead. To get a de-fragmented frame, use `newframe = frame.copy()`\n",
            "  amostras['Amostra_' + str(i)] = amostra_idade\n",
            "<ipython-input-54-2abac2b94257>:4: PerformanceWarning: DataFrame is highly fragmented.  This is usually the result of calling `frame.insert` many times, which has poor performance.  Consider joining all columns at once using pd.concat(axis=1) instead. To get a de-fragmented frame, use `newframe = frame.copy()`\n",
            "  amostras['Amostra_' + str(i)] = amostra_idade\n",
            "<ipython-input-54-2abac2b94257>:4: PerformanceWarning: DataFrame is highly fragmented.  This is usually the result of calling `frame.insert` many times, which has poor performance.  Consider joining all columns at once using pd.concat(axis=1) instead. To get a de-fragmented frame, use `newframe = frame.copy()`\n",
            "  amostras['Amostra_' + str(i)] = amostra_idade\n",
            "<ipython-input-54-2abac2b94257>:4: PerformanceWarning: DataFrame is highly fragmented.  This is usually the result of calling `frame.insert` many times, which has poor performance.  Consider joining all columns at once using pd.concat(axis=1) instead. To get a de-fragmented frame, use `newframe = frame.copy()`\n",
            "  amostras['Amostra_' + str(i)] = amostra_idade\n",
            "<ipython-input-54-2abac2b94257>:4: PerformanceWarning: DataFrame is highly fragmented.  This is usually the result of calling `frame.insert` many times, which has poor performance.  Consider joining all columns at once using pd.concat(axis=1) instead. To get a de-fragmented frame, use `newframe = frame.copy()`\n",
            "  amostras['Amostra_' + str(i)] = amostra_idade\n",
            "<ipython-input-54-2abac2b94257>:4: PerformanceWarning: DataFrame is highly fragmented.  This is usually the result of calling `frame.insert` many times, which has poor performance.  Consider joining all columns at once using pd.concat(axis=1) instead. To get a de-fragmented frame, use `newframe = frame.copy()`\n",
            "  amostras['Amostra_' + str(i)] = amostra_idade\n",
            "<ipython-input-54-2abac2b94257>:4: PerformanceWarning: DataFrame is highly fragmented.  This is usually the result of calling `frame.insert` many times, which has poor performance.  Consider joining all columns at once using pd.concat(axis=1) instead. To get a de-fragmented frame, use `newframe = frame.copy()`\n",
            "  amostras['Amostra_' + str(i)] = amostra_idade\n",
            "<ipython-input-54-2abac2b94257>:4: PerformanceWarning: DataFrame is highly fragmented.  This is usually the result of calling `frame.insert` many times, which has poor performance.  Consider joining all columns at once using pd.concat(axis=1) instead. To get a de-fragmented frame, use `newframe = frame.copy()`\n",
            "  amostras['Amostra_' + str(i)] = amostra_idade\n",
            "<ipython-input-54-2abac2b94257>:4: PerformanceWarning: DataFrame is highly fragmented.  This is usually the result of calling `frame.insert` many times, which has poor performance.  Consider joining all columns at once using pd.concat(axis=1) instead. To get a de-fragmented frame, use `newframe = frame.copy()`\n",
            "  amostras['Amostra_' + str(i)] = amostra_idade\n",
            "<ipython-input-54-2abac2b94257>:4: PerformanceWarning: DataFrame is highly fragmented.  This is usually the result of calling `frame.insert` many times, which has poor performance.  Consider joining all columns at once using pd.concat(axis=1) instead. To get a de-fragmented frame, use `newframe = frame.copy()`\n",
            "  amostras['Amostra_' + str(i)] = amostra_idade\n",
            "<ipython-input-54-2abac2b94257>:4: PerformanceWarning: DataFrame is highly fragmented.  This is usually the result of calling `frame.insert` many times, which has poor performance.  Consider joining all columns at once using pd.concat(axis=1) instead. To get a de-fragmented frame, use `newframe = frame.copy()`\n",
            "  amostras['Amostra_' + str(i)] = amostra_idade\n",
            "<ipython-input-54-2abac2b94257>:4: PerformanceWarning: DataFrame is highly fragmented.  This is usually the result of calling `frame.insert` many times, which has poor performance.  Consider joining all columns at once using pd.concat(axis=1) instead. To get a de-fragmented frame, use `newframe = frame.copy()`\n",
            "  amostras['Amostra_' + str(i)] = amostra_idade\n",
            "<ipython-input-54-2abac2b94257>:4: PerformanceWarning: DataFrame is highly fragmented.  This is usually the result of calling `frame.insert` many times, which has poor performance.  Consider joining all columns at once using pd.concat(axis=1) instead. To get a de-fragmented frame, use `newframe = frame.copy()`\n",
            "  amostras['Amostra_' + str(i)] = amostra_idade\n",
            "<ipython-input-54-2abac2b94257>:4: PerformanceWarning: DataFrame is highly fragmented.  This is usually the result of calling `frame.insert` many times, which has poor performance.  Consider joining all columns at once using pd.concat(axis=1) instead. To get a de-fragmented frame, use `newframe = frame.copy()`\n",
            "  amostras['Amostra_' + str(i)] = amostra_idade\n",
            "<ipython-input-54-2abac2b94257>:4: PerformanceWarning: DataFrame is highly fragmented.  This is usually the result of calling `frame.insert` many times, which has poor performance.  Consider joining all columns at once using pd.concat(axis=1) instead. To get a de-fragmented frame, use `newframe = frame.copy()`\n",
            "  amostras['Amostra_' + str(i)] = amostra_idade\n",
            "<ipython-input-54-2abac2b94257>:4: PerformanceWarning: DataFrame is highly fragmented.  This is usually the result of calling `frame.insert` many times, which has poor performance.  Consider joining all columns at once using pd.concat(axis=1) instead. To get a de-fragmented frame, use `newframe = frame.copy()`\n",
            "  amostras['Amostra_' + str(i)] = amostra_idade\n",
            "<ipython-input-54-2abac2b94257>:4: PerformanceWarning: DataFrame is highly fragmented.  This is usually the result of calling `frame.insert` many times, which has poor performance.  Consider joining all columns at once using pd.concat(axis=1) instead. To get a de-fragmented frame, use `newframe = frame.copy()`\n",
            "  amostras['Amostra_' + str(i)] = amostra_idade\n",
            "<ipython-input-54-2abac2b94257>:4: PerformanceWarning: DataFrame is highly fragmented.  This is usually the result of calling `frame.insert` many times, which has poor performance.  Consider joining all columns at once using pd.concat(axis=1) instead. To get a de-fragmented frame, use `newframe = frame.copy()`\n",
            "  amostras['Amostra_' + str(i)] = amostra_idade\n",
            "<ipython-input-54-2abac2b94257>:4: PerformanceWarning: DataFrame is highly fragmented.  This is usually the result of calling `frame.insert` many times, which has poor performance.  Consider joining all columns at once using pd.concat(axis=1) instead. To get a de-fragmented frame, use `newframe = frame.copy()`\n",
            "  amostras['Amostra_' + str(i)] = amostra_idade\n",
            "<ipython-input-54-2abac2b94257>:4: PerformanceWarning: DataFrame is highly fragmented.  This is usually the result of calling `frame.insert` many times, which has poor performance.  Consider joining all columns at once using pd.concat(axis=1) instead. To get a de-fragmented frame, use `newframe = frame.copy()`\n",
            "  amostras['Amostra_' + str(i)] = amostra_idade\n",
            "<ipython-input-54-2abac2b94257>:4: PerformanceWarning: DataFrame is highly fragmented.  This is usually the result of calling `frame.insert` many times, which has poor performance.  Consider joining all columns at once using pd.concat(axis=1) instead. To get a de-fragmented frame, use `newframe = frame.copy()`\n",
            "  amostras['Amostra_' + str(i)] = amostra_idade\n",
            "<ipython-input-54-2abac2b94257>:4: PerformanceWarning: DataFrame is highly fragmented.  This is usually the result of calling `frame.insert` many times, which has poor performance.  Consider joining all columns at once using pd.concat(axis=1) instead. To get a de-fragmented frame, use `newframe = frame.copy()`\n",
            "  amostras['Amostra_' + str(i)] = amostra_idade\n",
            "<ipython-input-54-2abac2b94257>:4: PerformanceWarning: DataFrame is highly fragmented.  This is usually the result of calling `frame.insert` many times, which has poor performance.  Consider joining all columns at once using pd.concat(axis=1) instead. To get a de-fragmented frame, use `newframe = frame.copy()`\n",
            "  amostras['Amostra_' + str(i)] = amostra_idade\n",
            "<ipython-input-54-2abac2b94257>:4: PerformanceWarning: DataFrame is highly fragmented.  This is usually the result of calling `frame.insert` many times, which has poor performance.  Consider joining all columns at once using pd.concat(axis=1) instead. To get a de-fragmented frame, use `newframe = frame.copy()`\n",
            "  amostras['Amostra_' + str(i)] = amostra_idade\n",
            "<ipython-input-54-2abac2b94257>:4: PerformanceWarning: DataFrame is highly fragmented.  This is usually the result of calling `frame.insert` many times, which has poor performance.  Consider joining all columns at once using pd.concat(axis=1) instead. To get a de-fragmented frame, use `newframe = frame.copy()`\n",
            "  amostras['Amostra_' + str(i)] = amostra_idade\n",
            "<ipython-input-54-2abac2b94257>:4: PerformanceWarning: DataFrame is highly fragmented.  This is usually the result of calling `frame.insert` many times, which has poor performance.  Consider joining all columns at once using pd.concat(axis=1) instead. To get a de-fragmented frame, use `newframe = frame.copy()`\n",
            "  amostras['Amostra_' + str(i)] = amostra_idade\n",
            "<ipython-input-54-2abac2b94257>:4: PerformanceWarning: DataFrame is highly fragmented.  This is usually the result of calling `frame.insert` many times, which has poor performance.  Consider joining all columns at once using pd.concat(axis=1) instead. To get a de-fragmented frame, use `newframe = frame.copy()`\n",
            "  amostras['Amostra_' + str(i)] = amostra_idade\n",
            "<ipython-input-54-2abac2b94257>:4: PerformanceWarning: DataFrame is highly fragmented.  This is usually the result of calling `frame.insert` many times, which has poor performance.  Consider joining all columns at once using pd.concat(axis=1) instead. To get a de-fragmented frame, use `newframe = frame.copy()`\n",
            "  amostras['Amostra_' + str(i)] = amostra_idade\n",
            "<ipython-input-54-2abac2b94257>:4: PerformanceWarning: DataFrame is highly fragmented.  This is usually the result of calling `frame.insert` many times, which has poor performance.  Consider joining all columns at once using pd.concat(axis=1) instead. To get a de-fragmented frame, use `newframe = frame.copy()`\n",
            "  amostras['Amostra_' + str(i)] = amostra_idade\n",
            "<ipython-input-54-2abac2b94257>:4: PerformanceWarning: DataFrame is highly fragmented.  This is usually the result of calling `frame.insert` many times, which has poor performance.  Consider joining all columns at once using pd.concat(axis=1) instead. To get a de-fragmented frame, use `newframe = frame.copy()`\n",
            "  amostras['Amostra_' + str(i)] = amostra_idade\n",
            "<ipython-input-54-2abac2b94257>:4: PerformanceWarning: DataFrame is highly fragmented.  This is usually the result of calling `frame.insert` many times, which has poor performance.  Consider joining all columns at once using pd.concat(axis=1) instead. To get a de-fragmented frame, use `newframe = frame.copy()`\n",
            "  amostras['Amostra_' + str(i)] = amostra_idade\n",
            "<ipython-input-54-2abac2b94257>:4: PerformanceWarning: DataFrame is highly fragmented.  This is usually the result of calling `frame.insert` many times, which has poor performance.  Consider joining all columns at once using pd.concat(axis=1) instead. To get a de-fragmented frame, use `newframe = frame.copy()`\n",
            "  amostras['Amostra_' + str(i)] = amostra_idade\n",
            "<ipython-input-54-2abac2b94257>:4: PerformanceWarning: DataFrame is highly fragmented.  This is usually the result of calling `frame.insert` many times, which has poor performance.  Consider joining all columns at once using pd.concat(axis=1) instead. To get a de-fragmented frame, use `newframe = frame.copy()`\n",
            "  amostras['Amostra_' + str(i)] = amostra_idade\n",
            "<ipython-input-54-2abac2b94257>:4: PerformanceWarning: DataFrame is highly fragmented.  This is usually the result of calling `frame.insert` many times, which has poor performance.  Consider joining all columns at once using pd.concat(axis=1) instead. To get a de-fragmented frame, use `newframe = frame.copy()`\n",
            "  amostras['Amostra_' + str(i)] = amostra_idade\n",
            "<ipython-input-54-2abac2b94257>:4: PerformanceWarning: DataFrame is highly fragmented.  This is usually the result of calling `frame.insert` many times, which has poor performance.  Consider joining all columns at once using pd.concat(axis=1) instead. To get a de-fragmented frame, use `newframe = frame.copy()`\n",
            "  amostras['Amostra_' + str(i)] = amostra_idade\n",
            "<ipython-input-54-2abac2b94257>:4: PerformanceWarning: DataFrame is highly fragmented.  This is usually the result of calling `frame.insert` many times, which has poor performance.  Consider joining all columns at once using pd.concat(axis=1) instead. To get a de-fragmented frame, use `newframe = frame.copy()`\n",
            "  amostras['Amostra_' + str(i)] = amostra_idade\n",
            "<ipython-input-54-2abac2b94257>:4: PerformanceWarning: DataFrame is highly fragmented.  This is usually the result of calling `frame.insert` many times, which has poor performance.  Consider joining all columns at once using pd.concat(axis=1) instead. To get a de-fragmented frame, use `newframe = frame.copy()`\n",
            "  amostras['Amostra_' + str(i)] = amostra_idade\n",
            "<ipython-input-54-2abac2b94257>:4: PerformanceWarning: DataFrame is highly fragmented.  This is usually the result of calling `frame.insert` many times, which has poor performance.  Consider joining all columns at once using pd.concat(axis=1) instead. To get a de-fragmented frame, use `newframe = frame.copy()`\n",
            "  amostras['Amostra_' + str(i)] = amostra_idade\n",
            "<ipython-input-54-2abac2b94257>:4: PerformanceWarning: DataFrame is highly fragmented.  This is usually the result of calling `frame.insert` many times, which has poor performance.  Consider joining all columns at once using pd.concat(axis=1) instead. To get a de-fragmented frame, use `newframe = frame.copy()`\n",
            "  amostras['Amostra_' + str(i)] = amostra_idade\n",
            "<ipython-input-54-2abac2b94257>:4: PerformanceWarning: DataFrame is highly fragmented.  This is usually the result of calling `frame.insert` many times, which has poor performance.  Consider joining all columns at once using pd.concat(axis=1) instead. To get a de-fragmented frame, use `newframe = frame.copy()`\n",
            "  amostras['Amostra_' + str(i)] = amostra_idade\n",
            "<ipython-input-54-2abac2b94257>:4: PerformanceWarning: DataFrame is highly fragmented.  This is usually the result of calling `frame.insert` many times, which has poor performance.  Consider joining all columns at once using pd.concat(axis=1) instead. To get a de-fragmented frame, use `newframe = frame.copy()`\n",
            "  amostras['Amostra_' + str(i)] = amostra_idade\n",
            "<ipython-input-54-2abac2b94257>:4: PerformanceWarning: DataFrame is highly fragmented.  This is usually the result of calling `frame.insert` many times, which has poor performance.  Consider joining all columns at once using pd.concat(axis=1) instead. To get a de-fragmented frame, use `newframe = frame.copy()`\n",
            "  amostras['Amostra_' + str(i)] = amostra_idade\n",
            "<ipython-input-54-2abac2b94257>:4: PerformanceWarning: DataFrame is highly fragmented.  This is usually the result of calling `frame.insert` many times, which has poor performance.  Consider joining all columns at once using pd.concat(axis=1) instead. To get a de-fragmented frame, use `newframe = frame.copy()`\n",
            "  amostras['Amostra_' + str(i)] = amostra_idade\n",
            "<ipython-input-54-2abac2b94257>:4: PerformanceWarning: DataFrame is highly fragmented.  This is usually the result of calling `frame.insert` many times, which has poor performance.  Consider joining all columns at once using pd.concat(axis=1) instead. To get a de-fragmented frame, use `newframe = frame.copy()`\n",
            "  amostras['Amostra_' + str(i)] = amostra_idade\n",
            "<ipython-input-54-2abac2b94257>:4: PerformanceWarning: DataFrame is highly fragmented.  This is usually the result of calling `frame.insert` many times, which has poor performance.  Consider joining all columns at once using pd.concat(axis=1) instead. To get a de-fragmented frame, use `newframe = frame.copy()`\n",
            "  amostras['Amostra_' + str(i)] = amostra_idade\n",
            "<ipython-input-54-2abac2b94257>:4: PerformanceWarning: DataFrame is highly fragmented.  This is usually the result of calling `frame.insert` many times, which has poor performance.  Consider joining all columns at once using pd.concat(axis=1) instead. To get a de-fragmented frame, use `newframe = frame.copy()`\n",
            "  amostras['Amostra_' + str(i)] = amostra_idade\n",
            "<ipython-input-54-2abac2b94257>:4: PerformanceWarning: DataFrame is highly fragmented.  This is usually the result of calling `frame.insert` many times, which has poor performance.  Consider joining all columns at once using pd.concat(axis=1) instead. To get a de-fragmented frame, use `newframe = frame.copy()`\n",
            "  amostras['Amostra_' + str(i)] = amostra_idade\n",
            "<ipython-input-54-2abac2b94257>:4: PerformanceWarning: DataFrame is highly fragmented.  This is usually the result of calling `frame.insert` many times, which has poor performance.  Consider joining all columns at once using pd.concat(axis=1) instead. To get a de-fragmented frame, use `newframe = frame.copy()`\n",
            "  amostras['Amostra_' + str(i)] = amostra_idade\n",
            "<ipython-input-54-2abac2b94257>:4: PerformanceWarning: DataFrame is highly fragmented.  This is usually the result of calling `frame.insert` many times, which has poor performance.  Consider joining all columns at once using pd.concat(axis=1) instead. To get a de-fragmented frame, use `newframe = frame.copy()`\n",
            "  amostras['Amostra_' + str(i)] = amostra_idade\n",
            "<ipython-input-54-2abac2b94257>:4: PerformanceWarning: DataFrame is highly fragmented.  This is usually the result of calling `frame.insert` many times, which has poor performance.  Consider joining all columns at once using pd.concat(axis=1) instead. To get a de-fragmented frame, use `newframe = frame.copy()`\n",
            "  amostras['Amostra_' + str(i)] = amostra_idade\n",
            "<ipython-input-54-2abac2b94257>:4: PerformanceWarning: DataFrame is highly fragmented.  This is usually the result of calling `frame.insert` many times, which has poor performance.  Consider joining all columns at once using pd.concat(axis=1) instead. To get a de-fragmented frame, use `newframe = frame.copy()`\n",
            "  amostras['Amostra_' + str(i)] = amostra_idade\n",
            "<ipython-input-54-2abac2b94257>:4: PerformanceWarning: DataFrame is highly fragmented.  This is usually the result of calling `frame.insert` many times, which has poor performance.  Consider joining all columns at once using pd.concat(axis=1) instead. To get a de-fragmented frame, use `newframe = frame.copy()`\n",
            "  amostras['Amostra_' + str(i)] = amostra_idade\n",
            "<ipython-input-54-2abac2b94257>:4: PerformanceWarning: DataFrame is highly fragmented.  This is usually the result of calling `frame.insert` many times, which has poor performance.  Consider joining all columns at once using pd.concat(axis=1) instead. To get a de-fragmented frame, use `newframe = frame.copy()`\n",
            "  amostras['Amostra_' + str(i)] = amostra_idade\n",
            "<ipython-input-54-2abac2b94257>:4: PerformanceWarning: DataFrame is highly fragmented.  This is usually the result of calling `frame.insert` many times, which has poor performance.  Consider joining all columns at once using pd.concat(axis=1) instead. To get a de-fragmented frame, use `newframe = frame.copy()`\n",
            "  amostras['Amostra_' + str(i)] = amostra_idade\n",
            "<ipython-input-54-2abac2b94257>:4: PerformanceWarning: DataFrame is highly fragmented.  This is usually the result of calling `frame.insert` many times, which has poor performance.  Consider joining all columns at once using pd.concat(axis=1) instead. To get a de-fragmented frame, use `newframe = frame.copy()`\n",
            "  amostras['Amostra_' + str(i)] = amostra_idade\n",
            "<ipython-input-54-2abac2b94257>:4: PerformanceWarning: DataFrame is highly fragmented.  This is usually the result of calling `frame.insert` many times, which has poor performance.  Consider joining all columns at once using pd.concat(axis=1) instead. To get a de-fragmented frame, use `newframe = frame.copy()`\n",
            "  amostras['Amostra_' + str(i)] = amostra_idade\n",
            "<ipython-input-54-2abac2b94257>:4: PerformanceWarning: DataFrame is highly fragmented.  This is usually the result of calling `frame.insert` many times, which has poor performance.  Consider joining all columns at once using pd.concat(axis=1) instead. To get a de-fragmented frame, use `newframe = frame.copy()`\n",
            "  amostras['Amostra_' + str(i)] = amostra_idade\n",
            "<ipython-input-54-2abac2b94257>:4: PerformanceWarning: DataFrame is highly fragmented.  This is usually the result of calling `frame.insert` many times, which has poor performance.  Consider joining all columns at once using pd.concat(axis=1) instead. To get a de-fragmented frame, use `newframe = frame.copy()`\n",
            "  amostras['Amostra_' + str(i)] = amostra_idade\n",
            "<ipython-input-54-2abac2b94257>:4: PerformanceWarning: DataFrame is highly fragmented.  This is usually the result of calling `frame.insert` many times, which has poor performance.  Consider joining all columns at once using pd.concat(axis=1) instead. To get a de-fragmented frame, use `newframe = frame.copy()`\n",
            "  amostras['Amostra_' + str(i)] = amostra_idade\n",
            "<ipython-input-54-2abac2b94257>:4: PerformanceWarning: DataFrame is highly fragmented.  This is usually the result of calling `frame.insert` many times, which has poor performance.  Consider joining all columns at once using pd.concat(axis=1) instead. To get a de-fragmented frame, use `newframe = frame.copy()`\n",
            "  amostras['Amostra_' + str(i)] = amostra_idade\n",
            "<ipython-input-54-2abac2b94257>:4: PerformanceWarning: DataFrame is highly fragmented.  This is usually the result of calling `frame.insert` many times, which has poor performance.  Consider joining all columns at once using pd.concat(axis=1) instead. To get a de-fragmented frame, use `newframe = frame.copy()`\n",
            "  amostras['Amostra_' + str(i)] = amostra_idade\n",
            "<ipython-input-54-2abac2b94257>:4: PerformanceWarning: DataFrame is highly fragmented.  This is usually the result of calling `frame.insert` many times, which has poor performance.  Consider joining all columns at once using pd.concat(axis=1) instead. To get a de-fragmented frame, use `newframe = frame.copy()`\n",
            "  amostras['Amostra_' + str(i)] = amostra_idade\n",
            "<ipython-input-54-2abac2b94257>:4: PerformanceWarning: DataFrame is highly fragmented.  This is usually the result of calling `frame.insert` many times, which has poor performance.  Consider joining all columns at once using pd.concat(axis=1) instead. To get a de-fragmented frame, use `newframe = frame.copy()`\n",
            "  amostras['Amostra_' + str(i)] = amostra_idade\n",
            "<ipython-input-54-2abac2b94257>:4: PerformanceWarning: DataFrame is highly fragmented.  This is usually the result of calling `frame.insert` many times, which has poor performance.  Consider joining all columns at once using pd.concat(axis=1) instead. To get a de-fragmented frame, use `newframe = frame.copy()`\n",
            "  amostras['Amostra_' + str(i)] = amostra_idade\n",
            "<ipython-input-54-2abac2b94257>:4: PerformanceWarning: DataFrame is highly fragmented.  This is usually the result of calling `frame.insert` many times, which has poor performance.  Consider joining all columns at once using pd.concat(axis=1) instead. To get a de-fragmented frame, use `newframe = frame.copy()`\n",
            "  amostras['Amostra_' + str(i)] = amostra_idade\n",
            "<ipython-input-54-2abac2b94257>:4: PerformanceWarning: DataFrame is highly fragmented.  This is usually the result of calling `frame.insert` many times, which has poor performance.  Consider joining all columns at once using pd.concat(axis=1) instead. To get a de-fragmented frame, use `newframe = frame.copy()`\n",
            "  amostras['Amostra_' + str(i)] = amostra_idade\n",
            "<ipython-input-54-2abac2b94257>:4: PerformanceWarning: DataFrame is highly fragmented.  This is usually the result of calling `frame.insert` many times, which has poor performance.  Consider joining all columns at once using pd.concat(axis=1) instead. To get a de-fragmented frame, use `newframe = frame.copy()`\n",
            "  amostras['Amostra_' + str(i)] = amostra_idade\n",
            "<ipython-input-54-2abac2b94257>:4: PerformanceWarning: DataFrame is highly fragmented.  This is usually the result of calling `frame.insert` many times, which has poor performance.  Consider joining all columns at once using pd.concat(axis=1) instead. To get a de-fragmented frame, use `newframe = frame.copy()`\n",
            "  amostras['Amostra_' + str(i)] = amostra_idade\n",
            "<ipython-input-54-2abac2b94257>:4: PerformanceWarning: DataFrame is highly fragmented.  This is usually the result of calling `frame.insert` many times, which has poor performance.  Consider joining all columns at once using pd.concat(axis=1) instead. To get a de-fragmented frame, use `newframe = frame.copy()`\n",
            "  amostras['Amostra_' + str(i)] = amostra_idade\n",
            "<ipython-input-54-2abac2b94257>:4: PerformanceWarning: DataFrame is highly fragmented.  This is usually the result of calling `frame.insert` many times, which has poor performance.  Consider joining all columns at once using pd.concat(axis=1) instead. To get a de-fragmented frame, use `newframe = frame.copy()`\n",
            "  amostras['Amostra_' + str(i)] = amostra_idade\n",
            "<ipython-input-54-2abac2b94257>:4: PerformanceWarning: DataFrame is highly fragmented.  This is usually the result of calling `frame.insert` many times, which has poor performance.  Consider joining all columns at once using pd.concat(axis=1) instead. To get a de-fragmented frame, use `newframe = frame.copy()`\n",
            "  amostras['Amostra_' + str(i)] = amostra_idade\n",
            "<ipython-input-54-2abac2b94257>:4: PerformanceWarning: DataFrame is highly fragmented.  This is usually the result of calling `frame.insert` many times, which has poor performance.  Consider joining all columns at once using pd.concat(axis=1) instead. To get a de-fragmented frame, use `newframe = frame.copy()`\n",
            "  amostras['Amostra_' + str(i)] = amostra_idade\n",
            "<ipython-input-54-2abac2b94257>:4: PerformanceWarning: DataFrame is highly fragmented.  This is usually the result of calling `frame.insert` many times, which has poor performance.  Consider joining all columns at once using pd.concat(axis=1) instead. To get a de-fragmented frame, use `newframe = frame.copy()`\n",
            "  amostras['Amostra_' + str(i)] = amostra_idade\n",
            "<ipython-input-54-2abac2b94257>:4: PerformanceWarning: DataFrame is highly fragmented.  This is usually the result of calling `frame.insert` many times, which has poor performance.  Consider joining all columns at once using pd.concat(axis=1) instead. To get a de-fragmented frame, use `newframe = frame.copy()`\n",
            "  amostras['Amostra_' + str(i)] = amostra_idade\n",
            "<ipython-input-54-2abac2b94257>:4: PerformanceWarning: DataFrame is highly fragmented.  This is usually the result of calling `frame.insert` many times, which has poor performance.  Consider joining all columns at once using pd.concat(axis=1) instead. To get a de-fragmented frame, use `newframe = frame.copy()`\n",
            "  amostras['Amostra_' + str(i)] = amostra_idade\n",
            "<ipython-input-54-2abac2b94257>:4: PerformanceWarning: DataFrame is highly fragmented.  This is usually the result of calling `frame.insert` many times, which has poor performance.  Consider joining all columns at once using pd.concat(axis=1) instead. To get a de-fragmented frame, use `newframe = frame.copy()`\n",
            "  amostras['Amostra_' + str(i)] = amostra_idade\n",
            "<ipython-input-54-2abac2b94257>:4: PerformanceWarning: DataFrame is highly fragmented.  This is usually the result of calling `frame.insert` many times, which has poor performance.  Consider joining all columns at once using pd.concat(axis=1) instead. To get a de-fragmented frame, use `newframe = frame.copy()`\n",
            "  amostras['Amostra_' + str(i)] = amostra_idade\n",
            "<ipython-input-54-2abac2b94257>:4: PerformanceWarning: DataFrame is highly fragmented.  This is usually the result of calling `frame.insert` many times, which has poor performance.  Consider joining all columns at once using pd.concat(axis=1) instead. To get a de-fragmented frame, use `newframe = frame.copy()`\n",
            "  amostras['Amostra_' + str(i)] = amostra_idade\n",
            "<ipython-input-54-2abac2b94257>:4: PerformanceWarning: DataFrame is highly fragmented.  This is usually the result of calling `frame.insert` many times, which has poor performance.  Consider joining all columns at once using pd.concat(axis=1) instead. To get a de-fragmented frame, use `newframe = frame.copy()`\n",
            "  amostras['Amostra_' + str(i)] = amostra_idade\n",
            "<ipython-input-54-2abac2b94257>:4: PerformanceWarning: DataFrame is highly fragmented.  This is usually the result of calling `frame.insert` many times, which has poor performance.  Consider joining all columns at once using pd.concat(axis=1) instead. To get a de-fragmented frame, use `newframe = frame.copy()`\n",
            "  amostras['Amostra_' + str(i)] = amostra_idade\n",
            "<ipython-input-54-2abac2b94257>:4: PerformanceWarning: DataFrame is highly fragmented.  This is usually the result of calling `frame.insert` many times, which has poor performance.  Consider joining all columns at once using pd.concat(axis=1) instead. To get a de-fragmented frame, use `newframe = frame.copy()`\n",
            "  amostras['Amostra_' + str(i)] = amostra_idade\n",
            "<ipython-input-54-2abac2b94257>:4: PerformanceWarning: DataFrame is highly fragmented.  This is usually the result of calling `frame.insert` many times, which has poor performance.  Consider joining all columns at once using pd.concat(axis=1) instead. To get a de-fragmented frame, use `newframe = frame.copy()`\n",
            "  amostras['Amostra_' + str(i)] = amostra_idade\n",
            "<ipython-input-54-2abac2b94257>:4: PerformanceWarning: DataFrame is highly fragmented.  This is usually the result of calling `frame.insert` many times, which has poor performance.  Consider joining all columns at once using pd.concat(axis=1) instead. To get a de-fragmented frame, use `newframe = frame.copy()`\n",
            "  amostras['Amostra_' + str(i)] = amostra_idade\n",
            "<ipython-input-54-2abac2b94257>:4: PerformanceWarning: DataFrame is highly fragmented.  This is usually the result of calling `frame.insert` many times, which has poor performance.  Consider joining all columns at once using pd.concat(axis=1) instead. To get a de-fragmented frame, use `newframe = frame.copy()`\n",
            "  amostras['Amostra_' + str(i)] = amostra_idade\n",
            "<ipython-input-54-2abac2b94257>:4: PerformanceWarning: DataFrame is highly fragmented.  This is usually the result of calling `frame.insert` many times, which has poor performance.  Consider joining all columns at once using pd.concat(axis=1) instead. To get a de-fragmented frame, use `newframe = frame.copy()`\n",
            "  amostras['Amostra_' + str(i)] = amostra_idade\n",
            "<ipython-input-54-2abac2b94257>:4: PerformanceWarning: DataFrame is highly fragmented.  This is usually the result of calling `frame.insert` many times, which has poor performance.  Consider joining all columns at once using pd.concat(axis=1) instead. To get a de-fragmented frame, use `newframe = frame.copy()`\n",
            "  amostras['Amostra_' + str(i)] = amostra_idade\n",
            "<ipython-input-54-2abac2b94257>:4: PerformanceWarning: DataFrame is highly fragmented.  This is usually the result of calling `frame.insert` many times, which has poor performance.  Consider joining all columns at once using pd.concat(axis=1) instead. To get a de-fragmented frame, use `newframe = frame.copy()`\n",
            "  amostras['Amostra_' + str(i)] = amostra_idade\n",
            "<ipython-input-54-2abac2b94257>:4: PerformanceWarning: DataFrame is highly fragmented.  This is usually the result of calling `frame.insert` many times, which has poor performance.  Consider joining all columns at once using pd.concat(axis=1) instead. To get a de-fragmented frame, use `newframe = frame.copy()`\n",
            "  amostras['Amostra_' + str(i)] = amostra_idade\n",
            "<ipython-input-54-2abac2b94257>:4: PerformanceWarning: DataFrame is highly fragmented.  This is usually the result of calling `frame.insert` many times, which has poor performance.  Consider joining all columns at once using pd.concat(axis=1) instead. To get a de-fragmented frame, use `newframe = frame.copy()`\n",
            "  amostras['Amostra_' + str(i)] = amostra_idade\n",
            "<ipython-input-54-2abac2b94257>:4: PerformanceWarning: DataFrame is highly fragmented.  This is usually the result of calling `frame.insert` many times, which has poor performance.  Consider joining all columns at once using pd.concat(axis=1) instead. To get a de-fragmented frame, use `newframe = frame.copy()`\n",
            "  amostras['Amostra_' + str(i)] = amostra_idade\n",
            "<ipython-input-54-2abac2b94257>:4: PerformanceWarning: DataFrame is highly fragmented.  This is usually the result of calling `frame.insert` many times, which has poor performance.  Consider joining all columns at once using pd.concat(axis=1) instead. To get a de-fragmented frame, use `newframe = frame.copy()`\n",
            "  amostras['Amostra_' + str(i)] = amostra_idade\n",
            "<ipython-input-54-2abac2b94257>:4: PerformanceWarning: DataFrame is highly fragmented.  This is usually the result of calling `frame.insert` many times, which has poor performance.  Consider joining all columns at once using pd.concat(axis=1) instead. To get a de-fragmented frame, use `newframe = frame.copy()`\n",
            "  amostras['Amostra_' + str(i)] = amostra_idade\n",
            "<ipython-input-54-2abac2b94257>:4: PerformanceWarning: DataFrame is highly fragmented.  This is usually the result of calling `frame.insert` many times, which has poor performance.  Consider joining all columns at once using pd.concat(axis=1) instead. To get a de-fragmented frame, use `newframe = frame.copy()`\n",
            "  amostras['Amostra_' + str(i)] = amostra_idade\n",
            "<ipython-input-54-2abac2b94257>:4: PerformanceWarning: DataFrame is highly fragmented.  This is usually the result of calling `frame.insert` many times, which has poor performance.  Consider joining all columns at once using pd.concat(axis=1) instead. To get a de-fragmented frame, use `newframe = frame.copy()`\n",
            "  amostras['Amostra_' + str(i)] = amostra_idade\n",
            "<ipython-input-54-2abac2b94257>:4: PerformanceWarning: DataFrame is highly fragmented.  This is usually the result of calling `frame.insert` many times, which has poor performance.  Consider joining all columns at once using pd.concat(axis=1) instead. To get a de-fragmented frame, use `newframe = frame.copy()`\n",
            "  amostras['Amostra_' + str(i)] = amostra_idade\n",
            "<ipython-input-54-2abac2b94257>:4: PerformanceWarning: DataFrame is highly fragmented.  This is usually the result of calling `frame.insert` many times, which has poor performance.  Consider joining all columns at once using pd.concat(axis=1) instead. To get a de-fragmented frame, use `newframe = frame.copy()`\n",
            "  amostras['Amostra_' + str(i)] = amostra_idade\n",
            "<ipython-input-54-2abac2b94257>:4: PerformanceWarning: DataFrame is highly fragmented.  This is usually the result of calling `frame.insert` many times, which has poor performance.  Consider joining all columns at once using pd.concat(axis=1) instead. To get a de-fragmented frame, use `newframe = frame.copy()`\n",
            "  amostras['Amostra_' + str(i)] = amostra_idade\n",
            "<ipython-input-54-2abac2b94257>:4: PerformanceWarning: DataFrame is highly fragmented.  This is usually the result of calling `frame.insert` many times, which has poor performance.  Consider joining all columns at once using pd.concat(axis=1) instead. To get a de-fragmented frame, use `newframe = frame.copy()`\n",
            "  amostras['Amostra_' + str(i)] = amostra_idade\n",
            "<ipython-input-54-2abac2b94257>:4: PerformanceWarning: DataFrame is highly fragmented.  This is usually the result of calling `frame.insert` many times, which has poor performance.  Consider joining all columns at once using pd.concat(axis=1) instead. To get a de-fragmented frame, use `newframe = frame.copy()`\n",
            "  amostras['Amostra_' + str(i)] = amostra_idade\n",
            "<ipython-input-54-2abac2b94257>:4: PerformanceWarning: DataFrame is highly fragmented.  This is usually the result of calling `frame.insert` many times, which has poor performance.  Consider joining all columns at once using pd.concat(axis=1) instead. To get a de-fragmented frame, use `newframe = frame.copy()`\n",
            "  amostras['Amostra_' + str(i)] = amostra_idade\n",
            "<ipython-input-54-2abac2b94257>:4: PerformanceWarning: DataFrame is highly fragmented.  This is usually the result of calling `frame.insert` many times, which has poor performance.  Consider joining all columns at once using pd.concat(axis=1) instead. To get a de-fragmented frame, use `newframe = frame.copy()`\n",
            "  amostras['Amostra_' + str(i)] = amostra_idade\n",
            "<ipython-input-54-2abac2b94257>:4: PerformanceWarning: DataFrame is highly fragmented.  This is usually the result of calling `frame.insert` many times, which has poor performance.  Consider joining all columns at once using pd.concat(axis=1) instead. To get a de-fragmented frame, use `newframe = frame.copy()`\n",
            "  amostras['Amostra_' + str(i)] = amostra_idade\n",
            "<ipython-input-54-2abac2b94257>:4: PerformanceWarning: DataFrame is highly fragmented.  This is usually the result of calling `frame.insert` many times, which has poor performance.  Consider joining all columns at once using pd.concat(axis=1) instead. To get a de-fragmented frame, use `newframe = frame.copy()`\n",
            "  amostras['Amostra_' + str(i)] = amostra_idade\n",
            "<ipython-input-54-2abac2b94257>:4: PerformanceWarning: DataFrame is highly fragmented.  This is usually the result of calling `frame.insert` many times, which has poor performance.  Consider joining all columns at once using pd.concat(axis=1) instead. To get a de-fragmented frame, use `newframe = frame.copy()`\n",
            "  amostras['Amostra_' + str(i)] = amostra_idade\n",
            "<ipython-input-54-2abac2b94257>:4: PerformanceWarning: DataFrame is highly fragmented.  This is usually the result of calling `frame.insert` many times, which has poor performance.  Consider joining all columns at once using pd.concat(axis=1) instead. To get a de-fragmented frame, use `newframe = frame.copy()`\n",
            "  amostras['Amostra_' + str(i)] = amostra_idade\n",
            "<ipython-input-54-2abac2b94257>:4: PerformanceWarning: DataFrame is highly fragmented.  This is usually the result of calling `frame.insert` many times, which has poor performance.  Consider joining all columns at once using pd.concat(axis=1) instead. To get a de-fragmented frame, use `newframe = frame.copy()`\n",
            "  amostras['Amostra_' + str(i)] = amostra_idade\n",
            "<ipython-input-54-2abac2b94257>:4: PerformanceWarning: DataFrame is highly fragmented.  This is usually the result of calling `frame.insert` many times, which has poor performance.  Consider joining all columns at once using pd.concat(axis=1) instead. To get a de-fragmented frame, use `newframe = frame.copy()`\n",
            "  amostras['Amostra_' + str(i)] = amostra_idade\n",
            "<ipython-input-54-2abac2b94257>:4: PerformanceWarning: DataFrame is highly fragmented.  This is usually the result of calling `frame.insert` many times, which has poor performance.  Consider joining all columns at once using pd.concat(axis=1) instead. To get a de-fragmented frame, use `newframe = frame.copy()`\n",
            "  amostras['Amostra_' + str(i)] = amostra_idade\n",
            "<ipython-input-54-2abac2b94257>:4: PerformanceWarning: DataFrame is highly fragmented.  This is usually the result of calling `frame.insert` many times, which has poor performance.  Consider joining all columns at once using pd.concat(axis=1) instead. To get a de-fragmented frame, use `newframe = frame.copy()`\n",
            "  amostras['Amostra_' + str(i)] = amostra_idade\n",
            "<ipython-input-54-2abac2b94257>:4: PerformanceWarning: DataFrame is highly fragmented.  This is usually the result of calling `frame.insert` many times, which has poor performance.  Consider joining all columns at once using pd.concat(axis=1) instead. To get a de-fragmented frame, use `newframe = frame.copy()`\n",
            "  amostras['Amostra_' + str(i)] = amostra_idade\n",
            "<ipython-input-54-2abac2b94257>:4: PerformanceWarning: DataFrame is highly fragmented.  This is usually the result of calling `frame.insert` many times, which has poor performance.  Consider joining all columns at once using pd.concat(axis=1) instead. To get a de-fragmented frame, use `newframe = frame.copy()`\n",
            "  amostras['Amostra_' + str(i)] = amostra_idade\n",
            "<ipython-input-54-2abac2b94257>:4: PerformanceWarning: DataFrame is highly fragmented.  This is usually the result of calling `frame.insert` many times, which has poor performance.  Consider joining all columns at once using pd.concat(axis=1) instead. To get a de-fragmented frame, use `newframe = frame.copy()`\n",
            "  amostras['Amostra_' + str(i)] = amostra_idade\n",
            "<ipython-input-54-2abac2b94257>:4: PerformanceWarning: DataFrame is highly fragmented.  This is usually the result of calling `frame.insert` many times, which has poor performance.  Consider joining all columns at once using pd.concat(axis=1) instead. To get a de-fragmented frame, use `newframe = frame.copy()`\n",
            "  amostras['Amostra_' + str(i)] = amostra_idade\n",
            "<ipython-input-54-2abac2b94257>:4: PerformanceWarning: DataFrame is highly fragmented.  This is usually the result of calling `frame.insert` many times, which has poor performance.  Consider joining all columns at once using pd.concat(axis=1) instead. To get a de-fragmented frame, use `newframe = frame.copy()`\n",
            "  amostras['Amostra_' + str(i)] = amostra_idade\n",
            "<ipython-input-54-2abac2b94257>:4: PerformanceWarning: DataFrame is highly fragmented.  This is usually the result of calling `frame.insert` many times, which has poor performance.  Consider joining all columns at once using pd.concat(axis=1) instead. To get a de-fragmented frame, use `newframe = frame.copy()`\n",
            "  amostras['Amostra_' + str(i)] = amostra_idade\n",
            "<ipython-input-54-2abac2b94257>:4: PerformanceWarning: DataFrame is highly fragmented.  This is usually the result of calling `frame.insert` many times, which has poor performance.  Consider joining all columns at once using pd.concat(axis=1) instead. To get a de-fragmented frame, use `newframe = frame.copy()`\n",
            "  amostras['Amostra_' + str(i)] = amostra_idade\n",
            "<ipython-input-54-2abac2b94257>:4: PerformanceWarning: DataFrame is highly fragmented.  This is usually the result of calling `frame.insert` many times, which has poor performance.  Consider joining all columns at once using pd.concat(axis=1) instead. To get a de-fragmented frame, use `newframe = frame.copy()`\n",
            "  amostras['Amostra_' + str(i)] = amostra_idade\n",
            "<ipython-input-54-2abac2b94257>:4: PerformanceWarning: DataFrame is highly fragmented.  This is usually the result of calling `frame.insert` many times, which has poor performance.  Consider joining all columns at once using pd.concat(axis=1) instead. To get a de-fragmented frame, use `newframe = frame.copy()`\n",
            "  amostras['Amostra_' + str(i)] = amostra_idade\n",
            "<ipython-input-54-2abac2b94257>:4: PerformanceWarning: DataFrame is highly fragmented.  This is usually the result of calling `frame.insert` many times, which has poor performance.  Consider joining all columns at once using pd.concat(axis=1) instead. To get a de-fragmented frame, use `newframe = frame.copy()`\n",
            "  amostras['Amostra_' + str(i)] = amostra_idade\n",
            "<ipython-input-54-2abac2b94257>:4: PerformanceWarning: DataFrame is highly fragmented.  This is usually the result of calling `frame.insert` many times, which has poor performance.  Consider joining all columns at once using pd.concat(axis=1) instead. To get a de-fragmented frame, use `newframe = frame.copy()`\n",
            "  amostras['Amostra_' + str(i)] = amostra_idade\n",
            "<ipython-input-54-2abac2b94257>:4: PerformanceWarning: DataFrame is highly fragmented.  This is usually the result of calling `frame.insert` many times, which has poor performance.  Consider joining all columns at once using pd.concat(axis=1) instead. To get a de-fragmented frame, use `newframe = frame.copy()`\n",
            "  amostras['Amostra_' + str(i)] = amostra_idade\n",
            "<ipython-input-54-2abac2b94257>:4: PerformanceWarning: DataFrame is highly fragmented.  This is usually the result of calling `frame.insert` many times, which has poor performance.  Consider joining all columns at once using pd.concat(axis=1) instead. To get a de-fragmented frame, use `newframe = frame.copy()`\n",
            "  amostras['Amostra_' + str(i)] = amostra_idade\n",
            "<ipython-input-54-2abac2b94257>:4: PerformanceWarning: DataFrame is highly fragmented.  This is usually the result of calling `frame.insert` many times, which has poor performance.  Consider joining all columns at once using pd.concat(axis=1) instead. To get a de-fragmented frame, use `newframe = frame.copy()`\n",
            "  amostras['Amostra_' + str(i)] = amostra_idade\n",
            "<ipython-input-54-2abac2b94257>:4: PerformanceWarning: DataFrame is highly fragmented.  This is usually the result of calling `frame.insert` many times, which has poor performance.  Consider joining all columns at once using pd.concat(axis=1) instead. To get a de-fragmented frame, use `newframe = frame.copy()`\n",
            "  amostras['Amostra_' + str(i)] = amostra_idade\n",
            "<ipython-input-54-2abac2b94257>:4: PerformanceWarning: DataFrame is highly fragmented.  This is usually the result of calling `frame.insert` many times, which has poor performance.  Consider joining all columns at once using pd.concat(axis=1) instead. To get a de-fragmented frame, use `newframe = frame.copy()`\n",
            "  amostras['Amostra_' + str(i)] = amostra_idade\n",
            "<ipython-input-54-2abac2b94257>:4: PerformanceWarning: DataFrame is highly fragmented.  This is usually the result of calling `frame.insert` many times, which has poor performance.  Consider joining all columns at once using pd.concat(axis=1) instead. To get a de-fragmented frame, use `newframe = frame.copy()`\n",
            "  amostras['Amostra_' + str(i)] = amostra_idade\n",
            "<ipython-input-54-2abac2b94257>:4: PerformanceWarning: DataFrame is highly fragmented.  This is usually the result of calling `frame.insert` many times, which has poor performance.  Consider joining all columns at once using pd.concat(axis=1) instead. To get a de-fragmented frame, use `newframe = frame.copy()`\n",
            "  amostras['Amostra_' + str(i)] = amostra_idade\n",
            "<ipython-input-54-2abac2b94257>:4: PerformanceWarning: DataFrame is highly fragmented.  This is usually the result of calling `frame.insert` many times, which has poor performance.  Consider joining all columns at once using pd.concat(axis=1) instead. To get a de-fragmented frame, use `newframe = frame.copy()`\n",
            "  amostras['Amostra_' + str(i)] = amostra_idade\n",
            "<ipython-input-54-2abac2b94257>:4: PerformanceWarning: DataFrame is highly fragmented.  This is usually the result of calling `frame.insert` many times, which has poor performance.  Consider joining all columns at once using pd.concat(axis=1) instead. To get a de-fragmented frame, use `newframe = frame.copy()`\n",
            "  amostras['Amostra_' + str(i)] = amostra_idade\n",
            "<ipython-input-54-2abac2b94257>:4: PerformanceWarning: DataFrame is highly fragmented.  This is usually the result of calling `frame.insert` many times, which has poor performance.  Consider joining all columns at once using pd.concat(axis=1) instead. To get a de-fragmented frame, use `newframe = frame.copy()`\n",
            "  amostras['Amostra_' + str(i)] = amostra_idade\n",
            "<ipython-input-54-2abac2b94257>:4: PerformanceWarning: DataFrame is highly fragmented.  This is usually the result of calling `frame.insert` many times, which has poor performance.  Consider joining all columns at once using pd.concat(axis=1) instead. To get a de-fragmented frame, use `newframe = frame.copy()`\n",
            "  amostras['Amostra_' + str(i)] = amostra_idade\n",
            "<ipython-input-54-2abac2b94257>:4: PerformanceWarning: DataFrame is highly fragmented.  This is usually the result of calling `frame.insert` many times, which has poor performance.  Consider joining all columns at once using pd.concat(axis=1) instead. To get a de-fragmented frame, use `newframe = frame.copy()`\n",
            "  amostras['Amostra_' + str(i)] = amostra_idade\n",
            "<ipython-input-54-2abac2b94257>:4: PerformanceWarning: DataFrame is highly fragmented.  This is usually the result of calling `frame.insert` many times, which has poor performance.  Consider joining all columns at once using pd.concat(axis=1) instead. To get a de-fragmented frame, use `newframe = frame.copy()`\n",
            "  amostras['Amostra_' + str(i)] = amostra_idade\n",
            "<ipython-input-54-2abac2b94257>:4: PerformanceWarning: DataFrame is highly fragmented.  This is usually the result of calling `frame.insert` many times, which has poor performance.  Consider joining all columns at once using pd.concat(axis=1) instead. To get a de-fragmented frame, use `newframe = frame.copy()`\n",
            "  amostras['Amostra_' + str(i)] = amostra_idade\n",
            "<ipython-input-54-2abac2b94257>:4: PerformanceWarning: DataFrame is highly fragmented.  This is usually the result of calling `frame.insert` many times, which has poor performance.  Consider joining all columns at once using pd.concat(axis=1) instead. To get a de-fragmented frame, use `newframe = frame.copy()`\n",
            "  amostras['Amostra_' + str(i)] = amostra_idade\n",
            "<ipython-input-54-2abac2b94257>:4: PerformanceWarning: DataFrame is highly fragmented.  This is usually the result of calling `frame.insert` many times, which has poor performance.  Consider joining all columns at once using pd.concat(axis=1) instead. To get a de-fragmented frame, use `newframe = frame.copy()`\n",
            "  amostras['Amostra_' + str(i)] = amostra_idade\n",
            "<ipython-input-54-2abac2b94257>:4: PerformanceWarning: DataFrame is highly fragmented.  This is usually the result of calling `frame.insert` many times, which has poor performance.  Consider joining all columns at once using pd.concat(axis=1) instead. To get a de-fragmented frame, use `newframe = frame.copy()`\n",
            "  amostras['Amostra_' + str(i)] = amostra_idade\n",
            "<ipython-input-54-2abac2b94257>:4: PerformanceWarning: DataFrame is highly fragmented.  This is usually the result of calling `frame.insert` many times, which has poor performance.  Consider joining all columns at once using pd.concat(axis=1) instead. To get a de-fragmented frame, use `newframe = frame.copy()`\n",
            "  amostras['Amostra_' + str(i)] = amostra_idade\n",
            "<ipython-input-54-2abac2b94257>:4: PerformanceWarning: DataFrame is highly fragmented.  This is usually the result of calling `frame.insert` many times, which has poor performance.  Consider joining all columns at once using pd.concat(axis=1) instead. To get a de-fragmented frame, use `newframe = frame.copy()`\n",
            "  amostras['Amostra_' + str(i)] = amostra_idade\n",
            "<ipython-input-54-2abac2b94257>:4: PerformanceWarning: DataFrame is highly fragmented.  This is usually the result of calling `frame.insert` many times, which has poor performance.  Consider joining all columns at once using pd.concat(axis=1) instead. To get a de-fragmented frame, use `newframe = frame.copy()`\n",
            "  amostras['Amostra_' + str(i)] = amostra_idade\n",
            "<ipython-input-54-2abac2b94257>:4: PerformanceWarning: DataFrame is highly fragmented.  This is usually the result of calling `frame.insert` many times, which has poor performance.  Consider joining all columns at once using pd.concat(axis=1) instead. To get a de-fragmented frame, use `newframe = frame.copy()`\n",
            "  amostras['Amostra_' + str(i)] = amostra_idade\n",
            "<ipython-input-54-2abac2b94257>:4: PerformanceWarning: DataFrame is highly fragmented.  This is usually the result of calling `frame.insert` many times, which has poor performance.  Consider joining all columns at once using pd.concat(axis=1) instead. To get a de-fragmented frame, use `newframe = frame.copy()`\n",
            "  amostras['Amostra_' + str(i)] = amostra_idade\n",
            "<ipython-input-54-2abac2b94257>:4: PerformanceWarning: DataFrame is highly fragmented.  This is usually the result of calling `frame.insert` many times, which has poor performance.  Consider joining all columns at once using pd.concat(axis=1) instead. To get a de-fragmented frame, use `newframe = frame.copy()`\n",
            "  amostras['Amostra_' + str(i)] = amostra_idade\n",
            "<ipython-input-54-2abac2b94257>:4: PerformanceWarning: DataFrame is highly fragmented.  This is usually the result of calling `frame.insert` many times, which has poor performance.  Consider joining all columns at once using pd.concat(axis=1) instead. To get a de-fragmented frame, use `newframe = frame.copy()`\n",
            "  amostras['Amostra_' + str(i)] = amostra_idade\n",
            "<ipython-input-54-2abac2b94257>:4: PerformanceWarning: DataFrame is highly fragmented.  This is usually the result of calling `frame.insert` many times, which has poor performance.  Consider joining all columns at once using pd.concat(axis=1) instead. To get a de-fragmented frame, use `newframe = frame.copy()`\n",
            "  amostras['Amostra_' + str(i)] = amostra_idade\n",
            "<ipython-input-54-2abac2b94257>:4: PerformanceWarning: DataFrame is highly fragmented.  This is usually the result of calling `frame.insert` many times, which has poor performance.  Consider joining all columns at once using pd.concat(axis=1) instead. To get a de-fragmented frame, use `newframe = frame.copy()`\n",
            "  amostras['Amostra_' + str(i)] = amostra_idade\n",
            "<ipython-input-54-2abac2b94257>:4: PerformanceWarning: DataFrame is highly fragmented.  This is usually the result of calling `frame.insert` many times, which has poor performance.  Consider joining all columns at once using pd.concat(axis=1) instead. To get a de-fragmented frame, use `newframe = frame.copy()`\n",
            "  amostras['Amostra_' + str(i)] = amostra_idade\n",
            "<ipython-input-54-2abac2b94257>:4: PerformanceWarning: DataFrame is highly fragmented.  This is usually the result of calling `frame.insert` many times, which has poor performance.  Consider joining all columns at once using pd.concat(axis=1) instead. To get a de-fragmented frame, use `newframe = frame.copy()`\n",
            "  amostras['Amostra_' + str(i)] = amostra_idade\n",
            "<ipython-input-54-2abac2b94257>:4: PerformanceWarning: DataFrame is highly fragmented.  This is usually the result of calling `frame.insert` many times, which has poor performance.  Consider joining all columns at once using pd.concat(axis=1) instead. To get a de-fragmented frame, use `newframe = frame.copy()`\n",
            "  amostras['Amostra_' + str(i)] = amostra_idade\n",
            "<ipython-input-54-2abac2b94257>:4: PerformanceWarning: DataFrame is highly fragmented.  This is usually the result of calling `frame.insert` many times, which has poor performance.  Consider joining all columns at once using pd.concat(axis=1) instead. To get a de-fragmented frame, use `newframe = frame.copy()`\n",
            "  amostras['Amostra_' + str(i)] = amostra_idade\n",
            "<ipython-input-54-2abac2b94257>:4: PerformanceWarning: DataFrame is highly fragmented.  This is usually the result of calling `frame.insert` many times, which has poor performance.  Consider joining all columns at once using pd.concat(axis=1) instead. To get a de-fragmented frame, use `newframe = frame.copy()`\n",
            "  amostras['Amostra_' + str(i)] = amostra_idade\n",
            "<ipython-input-54-2abac2b94257>:4: PerformanceWarning: DataFrame is highly fragmented.  This is usually the result of calling `frame.insert` many times, which has poor performance.  Consider joining all columns at once using pd.concat(axis=1) instead. To get a de-fragmented frame, use `newframe = frame.copy()`\n",
            "  amostras['Amostra_' + str(i)] = amostra_idade\n",
            "<ipython-input-54-2abac2b94257>:4: PerformanceWarning: DataFrame is highly fragmented.  This is usually the result of calling `frame.insert` many times, which has poor performance.  Consider joining all columns at once using pd.concat(axis=1) instead. To get a de-fragmented frame, use `newframe = frame.copy()`\n",
            "  amostras['Amostra_' + str(i)] = amostra_idade\n",
            "<ipython-input-54-2abac2b94257>:4: PerformanceWarning: DataFrame is highly fragmented.  This is usually the result of calling `frame.insert` many times, which has poor performance.  Consider joining all columns at once using pd.concat(axis=1) instead. To get a de-fragmented frame, use `newframe = frame.copy()`\n",
            "  amostras['Amostra_' + str(i)] = amostra_idade\n",
            "<ipython-input-54-2abac2b94257>:4: PerformanceWarning: DataFrame is highly fragmented.  This is usually the result of calling `frame.insert` many times, which has poor performance.  Consider joining all columns at once using pd.concat(axis=1) instead. To get a de-fragmented frame, use `newframe = frame.copy()`\n",
            "  amostras['Amostra_' + str(i)] = amostra_idade\n",
            "<ipython-input-54-2abac2b94257>:4: PerformanceWarning: DataFrame is highly fragmented.  This is usually the result of calling `frame.insert` many times, which has poor performance.  Consider joining all columns at once using pd.concat(axis=1) instead. To get a de-fragmented frame, use `newframe = frame.copy()`\n",
            "  amostras['Amostra_' + str(i)] = amostra_idade\n",
            "<ipython-input-54-2abac2b94257>:4: PerformanceWarning: DataFrame is highly fragmented.  This is usually the result of calling `frame.insert` many times, which has poor performance.  Consider joining all columns at once using pd.concat(axis=1) instead. To get a de-fragmented frame, use `newframe = frame.copy()`\n",
            "  amostras['Amostra_' + str(i)] = amostra_idade\n",
            "<ipython-input-54-2abac2b94257>:4: PerformanceWarning: DataFrame is highly fragmented.  This is usually the result of calling `frame.insert` many times, which has poor performance.  Consider joining all columns at once using pd.concat(axis=1) instead. To get a de-fragmented frame, use `newframe = frame.copy()`\n",
            "  amostras['Amostra_' + str(i)] = amostra_idade\n",
            "<ipython-input-54-2abac2b94257>:4: PerformanceWarning: DataFrame is highly fragmented.  This is usually the result of calling `frame.insert` many times, which has poor performance.  Consider joining all columns at once using pd.concat(axis=1) instead. To get a de-fragmented frame, use `newframe = frame.copy()`\n",
            "  amostras['Amostra_' + str(i)] = amostra_idade\n",
            "<ipython-input-54-2abac2b94257>:4: PerformanceWarning: DataFrame is highly fragmented.  This is usually the result of calling `frame.insert` many times, which has poor performance.  Consider joining all columns at once using pd.concat(axis=1) instead. To get a de-fragmented frame, use `newframe = frame.copy()`\n",
            "  amostras['Amostra_' + str(i)] = amostra_idade\n",
            "<ipython-input-54-2abac2b94257>:4: PerformanceWarning: DataFrame is highly fragmented.  This is usually the result of calling `frame.insert` many times, which has poor performance.  Consider joining all columns at once using pd.concat(axis=1) instead. To get a de-fragmented frame, use `newframe = frame.copy()`\n",
            "  amostras['Amostra_' + str(i)] = amostra_idade\n",
            "<ipython-input-54-2abac2b94257>:4: PerformanceWarning: DataFrame is highly fragmented.  This is usually the result of calling `frame.insert` many times, which has poor performance.  Consider joining all columns at once using pd.concat(axis=1) instead. To get a de-fragmented frame, use `newframe = frame.copy()`\n",
            "  amostras['Amostra_' + str(i)] = amostra_idade\n",
            "<ipython-input-54-2abac2b94257>:4: PerformanceWarning: DataFrame is highly fragmented.  This is usually the result of calling `frame.insert` many times, which has poor performance.  Consider joining all columns at once using pd.concat(axis=1) instead. To get a de-fragmented frame, use `newframe = frame.copy()`\n",
            "  amostras['Amostra_' + str(i)] = amostra_idade\n",
            "<ipython-input-54-2abac2b94257>:4: PerformanceWarning: DataFrame is highly fragmented.  This is usually the result of calling `frame.insert` many times, which has poor performance.  Consider joining all columns at once using pd.concat(axis=1) instead. To get a de-fragmented frame, use `newframe = frame.copy()`\n",
            "  amostras['Amostra_' + str(i)] = amostra_idade\n",
            "<ipython-input-54-2abac2b94257>:4: PerformanceWarning: DataFrame is highly fragmented.  This is usually the result of calling `frame.insert` many times, which has poor performance.  Consider joining all columns at once using pd.concat(axis=1) instead. To get a de-fragmented frame, use `newframe = frame.copy()`\n",
            "  amostras['Amostra_' + str(i)] = amostra_idade\n",
            "<ipython-input-54-2abac2b94257>:4: PerformanceWarning: DataFrame is highly fragmented.  This is usually the result of calling `frame.insert` many times, which has poor performance.  Consider joining all columns at once using pd.concat(axis=1) instead. To get a de-fragmented frame, use `newframe = frame.copy()`\n",
            "  amostras['Amostra_' + str(i)] = amostra_idade\n",
            "<ipython-input-54-2abac2b94257>:4: PerformanceWarning: DataFrame is highly fragmented.  This is usually the result of calling `frame.insert` many times, which has poor performance.  Consider joining all columns at once using pd.concat(axis=1) instead. To get a de-fragmented frame, use `newframe = frame.copy()`\n",
            "  amostras['Amostra_' + str(i)] = amostra_idade\n",
            "<ipython-input-54-2abac2b94257>:4: PerformanceWarning: DataFrame is highly fragmented.  This is usually the result of calling `frame.insert` many times, which has poor performance.  Consider joining all columns at once using pd.concat(axis=1) instead. To get a de-fragmented frame, use `newframe = frame.copy()`\n",
            "  amostras['Amostra_' + str(i)] = amostra_idade\n",
            "<ipython-input-54-2abac2b94257>:4: PerformanceWarning: DataFrame is highly fragmented.  This is usually the result of calling `frame.insert` many times, which has poor performance.  Consider joining all columns at once using pd.concat(axis=1) instead. To get a de-fragmented frame, use `newframe = frame.copy()`\n",
            "  amostras['Amostra_' + str(i)] = amostra_idade\n",
            "<ipython-input-54-2abac2b94257>:4: PerformanceWarning: DataFrame is highly fragmented.  This is usually the result of calling `frame.insert` many times, which has poor performance.  Consider joining all columns at once using pd.concat(axis=1) instead. To get a de-fragmented frame, use `newframe = frame.copy()`\n",
            "  amostras['Amostra_' + str(i)] = amostra_idade\n",
            "<ipython-input-54-2abac2b94257>:4: PerformanceWarning: DataFrame is highly fragmented.  This is usually the result of calling `frame.insert` many times, which has poor performance.  Consider joining all columns at once using pd.concat(axis=1) instead. To get a de-fragmented frame, use `newframe = frame.copy()`\n",
            "  amostras['Amostra_' + str(i)] = amostra_idade\n",
            "<ipython-input-54-2abac2b94257>:4: PerformanceWarning: DataFrame is highly fragmented.  This is usually the result of calling `frame.insert` many times, which has poor performance.  Consider joining all columns at once using pd.concat(axis=1) instead. To get a de-fragmented frame, use `newframe = frame.copy()`\n",
            "  amostras['Amostra_' + str(i)] = amostra_idade\n",
            "<ipython-input-54-2abac2b94257>:4: PerformanceWarning: DataFrame is highly fragmented.  This is usually the result of calling `frame.insert` many times, which has poor performance.  Consider joining all columns at once using pd.concat(axis=1) instead. To get a de-fragmented frame, use `newframe = frame.copy()`\n",
            "  amostras['Amostra_' + str(i)] = amostra_idade\n",
            "<ipython-input-54-2abac2b94257>:4: PerformanceWarning: DataFrame is highly fragmented.  This is usually the result of calling `frame.insert` many times, which has poor performance.  Consider joining all columns at once using pd.concat(axis=1) instead. To get a de-fragmented frame, use `newframe = frame.copy()`\n",
            "  amostras['Amostra_' + str(i)] = amostra_idade\n",
            "<ipython-input-54-2abac2b94257>:4: PerformanceWarning: DataFrame is highly fragmented.  This is usually the result of calling `frame.insert` many times, which has poor performance.  Consider joining all columns at once using pd.concat(axis=1) instead. To get a de-fragmented frame, use `newframe = frame.copy()`\n",
            "  amostras['Amostra_' + str(i)] = amostra_idade\n",
            "<ipython-input-54-2abac2b94257>:4: PerformanceWarning: DataFrame is highly fragmented.  This is usually the result of calling `frame.insert` many times, which has poor performance.  Consider joining all columns at once using pd.concat(axis=1) instead. To get a de-fragmented frame, use `newframe = frame.copy()`\n",
            "  amostras['Amostra_' + str(i)] = amostra_idade\n",
            "<ipython-input-54-2abac2b94257>:4: PerformanceWarning: DataFrame is highly fragmented.  This is usually the result of calling `frame.insert` many times, which has poor performance.  Consider joining all columns at once using pd.concat(axis=1) instead. To get a de-fragmented frame, use `newframe = frame.copy()`\n",
            "  amostras['Amostra_' + str(i)] = amostra_idade\n",
            "<ipython-input-54-2abac2b94257>:4: PerformanceWarning: DataFrame is highly fragmented.  This is usually the result of calling `frame.insert` many times, which has poor performance.  Consider joining all columns at once using pd.concat(axis=1) instead. To get a de-fragmented frame, use `newframe = frame.copy()`\n",
            "  amostras['Amostra_' + str(i)] = amostra_idade\n",
            "<ipython-input-54-2abac2b94257>:4: PerformanceWarning: DataFrame is highly fragmented.  This is usually the result of calling `frame.insert` many times, which has poor performance.  Consider joining all columns at once using pd.concat(axis=1) instead. To get a de-fragmented frame, use `newframe = frame.copy()`\n",
            "  amostras['Amostra_' + str(i)] = amostra_idade\n",
            "<ipython-input-54-2abac2b94257>:4: PerformanceWarning: DataFrame is highly fragmented.  This is usually the result of calling `frame.insert` many times, which has poor performance.  Consider joining all columns at once using pd.concat(axis=1) instead. To get a de-fragmented frame, use `newframe = frame.copy()`\n",
            "  amostras['Amostra_' + str(i)] = amostra_idade\n",
            "<ipython-input-54-2abac2b94257>:4: PerformanceWarning: DataFrame is highly fragmented.  This is usually the result of calling `frame.insert` many times, which has poor performance.  Consider joining all columns at once using pd.concat(axis=1) instead. To get a de-fragmented frame, use `newframe = frame.copy()`\n",
            "  amostras['Amostra_' + str(i)] = amostra_idade\n",
            "<ipython-input-54-2abac2b94257>:4: PerformanceWarning: DataFrame is highly fragmented.  This is usually the result of calling `frame.insert` many times, which has poor performance.  Consider joining all columns at once using pd.concat(axis=1) instead. To get a de-fragmented frame, use `newframe = frame.copy()`\n",
            "  amostras['Amostra_' + str(i)] = amostra_idade\n",
            "<ipython-input-54-2abac2b94257>:4: PerformanceWarning: DataFrame is highly fragmented.  This is usually the result of calling `frame.insert` many times, which has poor performance.  Consider joining all columns at once using pd.concat(axis=1) instead. To get a de-fragmented frame, use `newframe = frame.copy()`\n",
            "  amostras['Amostra_' + str(i)] = amostra_idade\n",
            "<ipython-input-54-2abac2b94257>:4: PerformanceWarning: DataFrame is highly fragmented.  This is usually the result of calling `frame.insert` many times, which has poor performance.  Consider joining all columns at once using pd.concat(axis=1) instead. To get a de-fragmented frame, use `newframe = frame.copy()`\n",
            "  amostras['Amostra_' + str(i)] = amostra_idade\n",
            "<ipython-input-54-2abac2b94257>:4: PerformanceWarning: DataFrame is highly fragmented.  This is usually the result of calling `frame.insert` many times, which has poor performance.  Consider joining all columns at once using pd.concat(axis=1) instead. To get a de-fragmented frame, use `newframe = frame.copy()`\n",
            "  amostras['Amostra_' + str(i)] = amostra_idade\n",
            "<ipython-input-54-2abac2b94257>:4: PerformanceWarning: DataFrame is highly fragmented.  This is usually the result of calling `frame.insert` many times, which has poor performance.  Consider joining all columns at once using pd.concat(axis=1) instead. To get a de-fragmented frame, use `newframe = frame.copy()`\n",
            "  amostras['Amostra_' + str(i)] = amostra_idade\n",
            "<ipython-input-54-2abac2b94257>:4: PerformanceWarning: DataFrame is highly fragmented.  This is usually the result of calling `frame.insert` many times, which has poor performance.  Consider joining all columns at once using pd.concat(axis=1) instead. To get a de-fragmented frame, use `newframe = frame.copy()`\n",
            "  amostras['Amostra_' + str(i)] = amostra_idade\n",
            "<ipython-input-54-2abac2b94257>:4: PerformanceWarning: DataFrame is highly fragmented.  This is usually the result of calling `frame.insert` many times, which has poor performance.  Consider joining all columns at once using pd.concat(axis=1) instead. To get a de-fragmented frame, use `newframe = frame.copy()`\n",
            "  amostras['Amostra_' + str(i)] = amostra_idade\n",
            "<ipython-input-54-2abac2b94257>:4: PerformanceWarning: DataFrame is highly fragmented.  This is usually the result of calling `frame.insert` many times, which has poor performance.  Consider joining all columns at once using pd.concat(axis=1) instead. To get a de-fragmented frame, use `newframe = frame.copy()`\n",
            "  amostras['Amostra_' + str(i)] = amostra_idade\n",
            "<ipython-input-54-2abac2b94257>:4: PerformanceWarning: DataFrame is highly fragmented.  This is usually the result of calling `frame.insert` many times, which has poor performance.  Consider joining all columns at once using pd.concat(axis=1) instead. To get a de-fragmented frame, use `newframe = frame.copy()`\n",
            "  amostras['Amostra_' + str(i)] = amostra_idade\n",
            "<ipython-input-54-2abac2b94257>:4: PerformanceWarning: DataFrame is highly fragmented.  This is usually the result of calling `frame.insert` many times, which has poor performance.  Consider joining all columns at once using pd.concat(axis=1) instead. To get a de-fragmented frame, use `newframe = frame.copy()`\n",
            "  amostras['Amostra_' + str(i)] = amostra_idade\n",
            "<ipython-input-54-2abac2b94257>:4: PerformanceWarning: DataFrame is highly fragmented.  This is usually the result of calling `frame.insert` many times, which has poor performance.  Consider joining all columns at once using pd.concat(axis=1) instead. To get a de-fragmented frame, use `newframe = frame.copy()`\n",
            "  amostras['Amostra_' + str(i)] = amostra_idade\n",
            "<ipython-input-54-2abac2b94257>:4: PerformanceWarning: DataFrame is highly fragmented.  This is usually the result of calling `frame.insert` many times, which has poor performance.  Consider joining all columns at once using pd.concat(axis=1) instead. To get a de-fragmented frame, use `newframe = frame.copy()`\n",
            "  amostras['Amostra_' + str(i)] = amostra_idade\n",
            "<ipython-input-54-2abac2b94257>:4: PerformanceWarning: DataFrame is highly fragmented.  This is usually the result of calling `frame.insert` many times, which has poor performance.  Consider joining all columns at once using pd.concat(axis=1) instead. To get a de-fragmented frame, use `newframe = frame.copy()`\n",
            "  amostras['Amostra_' + str(i)] = amostra_idade\n",
            "<ipython-input-54-2abac2b94257>:4: PerformanceWarning: DataFrame is highly fragmented.  This is usually the result of calling `frame.insert` many times, which has poor performance.  Consider joining all columns at once using pd.concat(axis=1) instead. To get a de-fragmented frame, use `newframe = frame.copy()`\n",
            "  amostras['Amostra_' + str(i)] = amostra_idade\n",
            "<ipython-input-54-2abac2b94257>:4: PerformanceWarning: DataFrame is highly fragmented.  This is usually the result of calling `frame.insert` many times, which has poor performance.  Consider joining all columns at once using pd.concat(axis=1) instead. To get a de-fragmented frame, use `newframe = frame.copy()`\n",
            "  amostras['Amostra_' + str(i)] = amostra_idade\n",
            "<ipython-input-54-2abac2b94257>:4: PerformanceWarning: DataFrame is highly fragmented.  This is usually the result of calling `frame.insert` many times, which has poor performance.  Consider joining all columns at once using pd.concat(axis=1) instead. To get a de-fragmented frame, use `newframe = frame.copy()`\n",
            "  amostras['Amostra_' + str(i)] = amostra_idade\n",
            "<ipython-input-54-2abac2b94257>:4: PerformanceWarning: DataFrame is highly fragmented.  This is usually the result of calling `frame.insert` many times, which has poor performance.  Consider joining all columns at once using pd.concat(axis=1) instead. To get a de-fragmented frame, use `newframe = frame.copy()`\n",
            "  amostras['Amostra_' + str(i)] = amostra_idade\n",
            "<ipython-input-54-2abac2b94257>:4: PerformanceWarning: DataFrame is highly fragmented.  This is usually the result of calling `frame.insert` many times, which has poor performance.  Consider joining all columns at once using pd.concat(axis=1) instead. To get a de-fragmented frame, use `newframe = frame.copy()`\n",
            "  amostras['Amostra_' + str(i)] = amostra_idade\n",
            "<ipython-input-54-2abac2b94257>:4: PerformanceWarning: DataFrame is highly fragmented.  This is usually the result of calling `frame.insert` many times, which has poor performance.  Consider joining all columns at once using pd.concat(axis=1) instead. To get a de-fragmented frame, use `newframe = frame.copy()`\n",
            "  amostras['Amostra_' + str(i)] = amostra_idade\n",
            "<ipython-input-54-2abac2b94257>:4: PerformanceWarning: DataFrame is highly fragmented.  This is usually the result of calling `frame.insert` many times, which has poor performance.  Consider joining all columns at once using pd.concat(axis=1) instead. To get a de-fragmented frame, use `newframe = frame.copy()`\n",
            "  amostras['Amostra_' + str(i)] = amostra_idade\n",
            "<ipython-input-54-2abac2b94257>:4: PerformanceWarning: DataFrame is highly fragmented.  This is usually the result of calling `frame.insert` many times, which has poor performance.  Consider joining all columns at once using pd.concat(axis=1) instead. To get a de-fragmented frame, use `newframe = frame.copy()`\n",
            "  amostras['Amostra_' + str(i)] = amostra_idade\n",
            "<ipython-input-54-2abac2b94257>:4: PerformanceWarning: DataFrame is highly fragmented.  This is usually the result of calling `frame.insert` many times, which has poor performance.  Consider joining all columns at once using pd.concat(axis=1) instead. To get a de-fragmented frame, use `newframe = frame.copy()`\n",
            "  amostras['Amostra_' + str(i)] = amostra_idade\n",
            "<ipython-input-54-2abac2b94257>:4: PerformanceWarning: DataFrame is highly fragmented.  This is usually the result of calling `frame.insert` many times, which has poor performance.  Consider joining all columns at once using pd.concat(axis=1) instead. To get a de-fragmented frame, use `newframe = frame.copy()`\n",
            "  amostras['Amostra_' + str(i)] = amostra_idade\n",
            "<ipython-input-54-2abac2b94257>:4: PerformanceWarning: DataFrame is highly fragmented.  This is usually the result of calling `frame.insert` many times, which has poor performance.  Consider joining all columns at once using pd.concat(axis=1) instead. To get a de-fragmented frame, use `newframe = frame.copy()`\n",
            "  amostras['Amostra_' + str(i)] = amostra_idade\n",
            "<ipython-input-54-2abac2b94257>:4: PerformanceWarning: DataFrame is highly fragmented.  This is usually the result of calling `frame.insert` many times, which has poor performance.  Consider joining all columns at once using pd.concat(axis=1) instead. To get a de-fragmented frame, use `newframe = frame.copy()`\n",
            "  amostras['Amostra_' + str(i)] = amostra_idade\n",
            "<ipython-input-54-2abac2b94257>:4: PerformanceWarning: DataFrame is highly fragmented.  This is usually the result of calling `frame.insert` many times, which has poor performance.  Consider joining all columns at once using pd.concat(axis=1) instead. To get a de-fragmented frame, use `newframe = frame.copy()`\n",
            "  amostras['Amostra_' + str(i)] = amostra_idade\n",
            "<ipython-input-54-2abac2b94257>:4: PerformanceWarning: DataFrame is highly fragmented.  This is usually the result of calling `frame.insert` many times, which has poor performance.  Consider joining all columns at once using pd.concat(axis=1) instead. To get a de-fragmented frame, use `newframe = frame.copy()`\n",
            "  amostras['Amostra_' + str(i)] = amostra_idade\n",
            "<ipython-input-54-2abac2b94257>:4: PerformanceWarning: DataFrame is highly fragmented.  This is usually the result of calling `frame.insert` many times, which has poor performance.  Consider joining all columns at once using pd.concat(axis=1) instead. To get a de-fragmented frame, use `newframe = frame.copy()`\n",
            "  amostras['Amostra_' + str(i)] = amostra_idade\n",
            "<ipython-input-54-2abac2b94257>:4: PerformanceWarning: DataFrame is highly fragmented.  This is usually the result of calling `frame.insert` many times, which has poor performance.  Consider joining all columns at once using pd.concat(axis=1) instead. To get a de-fragmented frame, use `newframe = frame.copy()`\n",
            "  amostras['Amostra_' + str(i)] = amostra_idade\n",
            "<ipython-input-54-2abac2b94257>:4: PerformanceWarning: DataFrame is highly fragmented.  This is usually the result of calling `frame.insert` many times, which has poor performance.  Consider joining all columns at once using pd.concat(axis=1) instead. To get a de-fragmented frame, use `newframe = frame.copy()`\n",
            "  amostras['Amostra_' + str(i)] = amostra_idade\n",
            "<ipython-input-54-2abac2b94257>:4: PerformanceWarning: DataFrame is highly fragmented.  This is usually the result of calling `frame.insert` many times, which has poor performance.  Consider joining all columns at once using pd.concat(axis=1) instead. To get a de-fragmented frame, use `newframe = frame.copy()`\n",
            "  amostras['Amostra_' + str(i)] = amostra_idade\n",
            "<ipython-input-54-2abac2b94257>:4: PerformanceWarning: DataFrame is highly fragmented.  This is usually the result of calling `frame.insert` many times, which has poor performance.  Consider joining all columns at once using pd.concat(axis=1) instead. To get a de-fragmented frame, use `newframe = frame.copy()`\n",
            "  amostras['Amostra_' + str(i)] = amostra_idade\n",
            "<ipython-input-54-2abac2b94257>:4: PerformanceWarning: DataFrame is highly fragmented.  This is usually the result of calling `frame.insert` many times, which has poor performance.  Consider joining all columns at once using pd.concat(axis=1) instead. To get a de-fragmented frame, use `newframe = frame.copy()`\n",
            "  amostras['Amostra_' + str(i)] = amostra_idade\n",
            "<ipython-input-54-2abac2b94257>:4: PerformanceWarning: DataFrame is highly fragmented.  This is usually the result of calling `frame.insert` many times, which has poor performance.  Consider joining all columns at once using pd.concat(axis=1) instead. To get a de-fragmented frame, use `newframe = frame.copy()`\n",
            "  amostras['Amostra_' + str(i)] = amostra_idade\n",
            "<ipython-input-54-2abac2b94257>:4: PerformanceWarning: DataFrame is highly fragmented.  This is usually the result of calling `frame.insert` many times, which has poor performance.  Consider joining all columns at once using pd.concat(axis=1) instead. To get a de-fragmented frame, use `newframe = frame.copy()`\n",
            "  amostras['Amostra_' + str(i)] = amostra_idade\n",
            "<ipython-input-54-2abac2b94257>:4: PerformanceWarning: DataFrame is highly fragmented.  This is usually the result of calling `frame.insert` many times, which has poor performance.  Consider joining all columns at once using pd.concat(axis=1) instead. To get a de-fragmented frame, use `newframe = frame.copy()`\n",
            "  amostras['Amostra_' + str(i)] = amostra_idade\n",
            "<ipython-input-54-2abac2b94257>:4: PerformanceWarning: DataFrame is highly fragmented.  This is usually the result of calling `frame.insert` many times, which has poor performance.  Consider joining all columns at once using pd.concat(axis=1) instead. To get a de-fragmented frame, use `newframe = frame.copy()`\n",
            "  amostras['Amostra_' + str(i)] = amostra_idade\n",
            "<ipython-input-54-2abac2b94257>:4: PerformanceWarning: DataFrame is highly fragmented.  This is usually the result of calling `frame.insert` many times, which has poor performance.  Consider joining all columns at once using pd.concat(axis=1) instead. To get a de-fragmented frame, use `newframe = frame.copy()`\n",
            "  amostras['Amostra_' + str(i)] = amostra_idade\n",
            "<ipython-input-54-2abac2b94257>:4: PerformanceWarning: DataFrame is highly fragmented.  This is usually the result of calling `frame.insert` many times, which has poor performance.  Consider joining all columns at once using pd.concat(axis=1) instead. To get a de-fragmented frame, use `newframe = frame.copy()`\n",
            "  amostras['Amostra_' + str(i)] = amostra_idade\n",
            "<ipython-input-54-2abac2b94257>:4: PerformanceWarning: DataFrame is highly fragmented.  This is usually the result of calling `frame.insert` many times, which has poor performance.  Consider joining all columns at once using pd.concat(axis=1) instead. To get a de-fragmented frame, use `newframe = frame.copy()`\n",
            "  amostras['Amostra_' + str(i)] = amostra_idade\n",
            "<ipython-input-54-2abac2b94257>:4: PerformanceWarning: DataFrame is highly fragmented.  This is usually the result of calling `frame.insert` many times, which has poor performance.  Consider joining all columns at once using pd.concat(axis=1) instead. To get a de-fragmented frame, use `newframe = frame.copy()`\n",
            "  amostras['Amostra_' + str(i)] = amostra_idade\n",
            "<ipython-input-54-2abac2b94257>:4: PerformanceWarning: DataFrame is highly fragmented.  This is usually the result of calling `frame.insert` many times, which has poor performance.  Consider joining all columns at once using pd.concat(axis=1) instead. To get a de-fragmented frame, use `newframe = frame.copy()`\n",
            "  amostras['Amostra_' + str(i)] = amostra_idade\n",
            "<ipython-input-54-2abac2b94257>:4: PerformanceWarning: DataFrame is highly fragmented.  This is usually the result of calling `frame.insert` many times, which has poor performance.  Consider joining all columns at once using pd.concat(axis=1) instead. To get a de-fragmented frame, use `newframe = frame.copy()`\n",
            "  amostras['Amostra_' + str(i)] = amostra_idade\n",
            "<ipython-input-54-2abac2b94257>:4: PerformanceWarning: DataFrame is highly fragmented.  This is usually the result of calling `frame.insert` many times, which has poor performance.  Consider joining all columns at once using pd.concat(axis=1) instead. To get a de-fragmented frame, use `newframe = frame.copy()`\n",
            "  amostras['Amostra_' + str(i)] = amostra_idade\n",
            "<ipython-input-54-2abac2b94257>:4: PerformanceWarning: DataFrame is highly fragmented.  This is usually the result of calling `frame.insert` many times, which has poor performance.  Consider joining all columns at once using pd.concat(axis=1) instead. To get a de-fragmented frame, use `newframe = frame.copy()`\n",
            "  amostras['Amostra_' + str(i)] = amostra_idade\n",
            "<ipython-input-54-2abac2b94257>:4: PerformanceWarning: DataFrame is highly fragmented.  This is usually the result of calling `frame.insert` many times, which has poor performance.  Consider joining all columns at once using pd.concat(axis=1) instead. To get a de-fragmented frame, use `newframe = frame.copy()`\n",
            "  amostras['Amostra_' + str(i)] = amostra_idade\n",
            "<ipython-input-54-2abac2b94257>:4: PerformanceWarning: DataFrame is highly fragmented.  This is usually the result of calling `frame.insert` many times, which has poor performance.  Consider joining all columns at once using pd.concat(axis=1) instead. To get a de-fragmented frame, use `newframe = frame.copy()`\n",
            "  amostras['Amostra_' + str(i)] = amostra_idade\n",
            "<ipython-input-54-2abac2b94257>:4: PerformanceWarning: DataFrame is highly fragmented.  This is usually the result of calling `frame.insert` many times, which has poor performance.  Consider joining all columns at once using pd.concat(axis=1) instead. To get a de-fragmented frame, use `newframe = frame.copy()`\n",
            "  amostras['Amostra_' + str(i)] = amostra_idade\n",
            "<ipython-input-54-2abac2b94257>:4: PerformanceWarning: DataFrame is highly fragmented.  This is usually the result of calling `frame.insert` many times, which has poor performance.  Consider joining all columns at once using pd.concat(axis=1) instead. To get a de-fragmented frame, use `newframe = frame.copy()`\n",
            "  amostras['Amostra_' + str(i)] = amostra_idade\n",
            "<ipython-input-54-2abac2b94257>:4: PerformanceWarning: DataFrame is highly fragmented.  This is usually the result of calling `frame.insert` many times, which has poor performance.  Consider joining all columns at once using pd.concat(axis=1) instead. To get a de-fragmented frame, use `newframe = frame.copy()`\n",
            "  amostras['Amostra_' + str(i)] = amostra_idade\n",
            "<ipython-input-54-2abac2b94257>:4: PerformanceWarning: DataFrame is highly fragmented.  This is usually the result of calling `frame.insert` many times, which has poor performance.  Consider joining all columns at once using pd.concat(axis=1) instead. To get a de-fragmented frame, use `newframe = frame.copy()`\n",
            "  amostras['Amostra_' + str(i)] = amostra_idade\n",
            "<ipython-input-54-2abac2b94257>:4: PerformanceWarning: DataFrame is highly fragmented.  This is usually the result of calling `frame.insert` many times, which has poor performance.  Consider joining all columns at once using pd.concat(axis=1) instead. To get a de-fragmented frame, use `newframe = frame.copy()`\n",
            "  amostras['Amostra_' + str(i)] = amostra_idade\n",
            "<ipython-input-54-2abac2b94257>:4: PerformanceWarning: DataFrame is highly fragmented.  This is usually the result of calling `frame.insert` many times, which has poor performance.  Consider joining all columns at once using pd.concat(axis=1) instead. To get a de-fragmented frame, use `newframe = frame.copy()`\n",
            "  amostras['Amostra_' + str(i)] = amostra_idade\n",
            "<ipython-input-54-2abac2b94257>:4: PerformanceWarning: DataFrame is highly fragmented.  This is usually the result of calling `frame.insert` many times, which has poor performance.  Consider joining all columns at once using pd.concat(axis=1) instead. To get a de-fragmented frame, use `newframe = frame.copy()`\n",
            "  amostras['Amostra_' + str(i)] = amostra_idade\n",
            "<ipython-input-54-2abac2b94257>:4: PerformanceWarning: DataFrame is highly fragmented.  This is usually the result of calling `frame.insert` many times, which has poor performance.  Consider joining all columns at once using pd.concat(axis=1) instead. To get a de-fragmented frame, use `newframe = frame.copy()`\n",
            "  amostras['Amostra_' + str(i)] = amostra_idade\n",
            "<ipython-input-54-2abac2b94257>:4: PerformanceWarning: DataFrame is highly fragmented.  This is usually the result of calling `frame.insert` many times, which has poor performance.  Consider joining all columns at once using pd.concat(axis=1) instead. To get a de-fragmented frame, use `newframe = frame.copy()`\n",
            "  amostras['Amostra_' + str(i)] = amostra_idade\n",
            "<ipython-input-54-2abac2b94257>:4: PerformanceWarning: DataFrame is highly fragmented.  This is usually the result of calling `frame.insert` many times, which has poor performance.  Consider joining all columns at once using pd.concat(axis=1) instead. To get a de-fragmented frame, use `newframe = frame.copy()`\n",
            "  amostras['Amostra_' + str(i)] = amostra_idade\n",
            "<ipython-input-54-2abac2b94257>:4: PerformanceWarning: DataFrame is highly fragmented.  This is usually the result of calling `frame.insert` many times, which has poor performance.  Consider joining all columns at once using pd.concat(axis=1) instead. To get a de-fragmented frame, use `newframe = frame.copy()`\n",
            "  amostras['Amostra_' + str(i)] = amostra_idade\n",
            "<ipython-input-54-2abac2b94257>:4: PerformanceWarning: DataFrame is highly fragmented.  This is usually the result of calling `frame.insert` many times, which has poor performance.  Consider joining all columns at once using pd.concat(axis=1) instead. To get a de-fragmented frame, use `newframe = frame.copy()`\n",
            "  amostras['Amostra_' + str(i)] = amostra_idade\n",
            "<ipython-input-54-2abac2b94257>:4: PerformanceWarning: DataFrame is highly fragmented.  This is usually the result of calling `frame.insert` many times, which has poor performance.  Consider joining all columns at once using pd.concat(axis=1) instead. To get a de-fragmented frame, use `newframe = frame.copy()`\n",
            "  amostras['Amostra_' + str(i)] = amostra_idade\n",
            "<ipython-input-54-2abac2b94257>:4: PerformanceWarning: DataFrame is highly fragmented.  This is usually the result of calling `frame.insert` many times, which has poor performance.  Consider joining all columns at once using pd.concat(axis=1) instead. To get a de-fragmented frame, use `newframe = frame.copy()`\n",
            "  amostras['Amostra_' + str(i)] = amostra_idade\n",
            "<ipython-input-54-2abac2b94257>:4: PerformanceWarning: DataFrame is highly fragmented.  This is usually the result of calling `frame.insert` many times, which has poor performance.  Consider joining all columns at once using pd.concat(axis=1) instead. To get a de-fragmented frame, use `newframe = frame.copy()`\n",
            "  amostras['Amostra_' + str(i)] = amostra_idade\n",
            "<ipython-input-54-2abac2b94257>:4: PerformanceWarning: DataFrame is highly fragmented.  This is usually the result of calling `frame.insert` many times, which has poor performance.  Consider joining all columns at once using pd.concat(axis=1) instead. To get a de-fragmented frame, use `newframe = frame.copy()`\n",
            "  amostras['Amostra_' + str(i)] = amostra_idade\n",
            "<ipython-input-54-2abac2b94257>:4: PerformanceWarning: DataFrame is highly fragmented.  This is usually the result of calling `frame.insert` many times, which has poor performance.  Consider joining all columns at once using pd.concat(axis=1) instead. To get a de-fragmented frame, use `newframe = frame.copy()`\n",
            "  amostras['Amostra_' + str(i)] = amostra_idade\n",
            "<ipython-input-54-2abac2b94257>:4: PerformanceWarning: DataFrame is highly fragmented.  This is usually the result of calling `frame.insert` many times, which has poor performance.  Consider joining all columns at once using pd.concat(axis=1) instead. To get a de-fragmented frame, use `newframe = frame.copy()`\n",
            "  amostras['Amostra_' + str(i)] = amostra_idade\n",
            "<ipython-input-54-2abac2b94257>:4: PerformanceWarning: DataFrame is highly fragmented.  This is usually the result of calling `frame.insert` many times, which has poor performance.  Consider joining all columns at once using pd.concat(axis=1) instead. To get a de-fragmented frame, use `newframe = frame.copy()`\n",
            "  amostras['Amostra_' + str(i)] = amostra_idade\n",
            "<ipython-input-54-2abac2b94257>:4: PerformanceWarning: DataFrame is highly fragmented.  This is usually the result of calling `frame.insert` many times, which has poor performance.  Consider joining all columns at once using pd.concat(axis=1) instead. To get a de-fragmented frame, use `newframe = frame.copy()`\n",
            "  amostras['Amostra_' + str(i)] = amostra_idade\n",
            "<ipython-input-54-2abac2b94257>:4: PerformanceWarning: DataFrame is highly fragmented.  This is usually the result of calling `frame.insert` many times, which has poor performance.  Consider joining all columns at once using pd.concat(axis=1) instead. To get a de-fragmented frame, use `newframe = frame.copy()`\n",
            "  amostras['Amostra_' + str(i)] = amostra_idade\n",
            "<ipython-input-54-2abac2b94257>:4: PerformanceWarning: DataFrame is highly fragmented.  This is usually the result of calling `frame.insert` many times, which has poor performance.  Consider joining all columns at once using pd.concat(axis=1) instead. To get a de-fragmented frame, use `newframe = frame.copy()`\n",
            "  amostras['Amostra_' + str(i)] = amostra_idade\n",
            "<ipython-input-54-2abac2b94257>:4: PerformanceWarning: DataFrame is highly fragmented.  This is usually the result of calling `frame.insert` many times, which has poor performance.  Consider joining all columns at once using pd.concat(axis=1) instead. To get a de-fragmented frame, use `newframe = frame.copy()`\n",
            "  amostras['Amostra_' + str(i)] = amostra_idade\n",
            "<ipython-input-54-2abac2b94257>:4: PerformanceWarning: DataFrame is highly fragmented.  This is usually the result of calling `frame.insert` many times, which has poor performance.  Consider joining all columns at once using pd.concat(axis=1) instead. To get a de-fragmented frame, use `newframe = frame.copy()`\n",
            "  amostras['Amostra_' + str(i)] = amostra_idade\n",
            "<ipython-input-54-2abac2b94257>:4: PerformanceWarning: DataFrame is highly fragmented.  This is usually the result of calling `frame.insert` many times, which has poor performance.  Consider joining all columns at once using pd.concat(axis=1) instead. To get a de-fragmented frame, use `newframe = frame.copy()`\n",
            "  amostras['Amostra_' + str(i)] = amostra_idade\n",
            "<ipython-input-54-2abac2b94257>:4: PerformanceWarning: DataFrame is highly fragmented.  This is usually the result of calling `frame.insert` many times, which has poor performance.  Consider joining all columns at once using pd.concat(axis=1) instead. To get a de-fragmented frame, use `newframe = frame.copy()`\n",
            "  amostras['Amostra_' + str(i)] = amostra_idade\n",
            "<ipython-input-54-2abac2b94257>:4: PerformanceWarning: DataFrame is highly fragmented.  This is usually the result of calling `frame.insert` many times, which has poor performance.  Consider joining all columns at once using pd.concat(axis=1) instead. To get a de-fragmented frame, use `newframe = frame.copy()`\n",
            "  amostras['Amostra_' + str(i)] = amostra_idade\n",
            "<ipython-input-54-2abac2b94257>:4: PerformanceWarning: DataFrame is highly fragmented.  This is usually the result of calling `frame.insert` many times, which has poor performance.  Consider joining all columns at once using pd.concat(axis=1) instead. To get a de-fragmented frame, use `newframe = frame.copy()`\n",
            "  amostras['Amostra_' + str(i)] = amostra_idade\n",
            "<ipython-input-54-2abac2b94257>:4: PerformanceWarning: DataFrame is highly fragmented.  This is usually the result of calling `frame.insert` many times, which has poor performance.  Consider joining all columns at once using pd.concat(axis=1) instead. To get a de-fragmented frame, use `newframe = frame.copy()`\n",
            "  amostras['Amostra_' + str(i)] = amostra_idade\n",
            "<ipython-input-54-2abac2b94257>:4: PerformanceWarning: DataFrame is highly fragmented.  This is usually the result of calling `frame.insert` many times, which has poor performance.  Consider joining all columns at once using pd.concat(axis=1) instead. To get a de-fragmented frame, use `newframe = frame.copy()`\n",
            "  amostras['Amostra_' + str(i)] = amostra_idade\n",
            "<ipython-input-54-2abac2b94257>:4: PerformanceWarning: DataFrame is highly fragmented.  This is usually the result of calling `frame.insert` many times, which has poor performance.  Consider joining all columns at once using pd.concat(axis=1) instead. To get a de-fragmented frame, use `newframe = frame.copy()`\n",
            "  amostras['Amostra_' + str(i)] = amostra_idade\n",
            "<ipython-input-54-2abac2b94257>:4: PerformanceWarning: DataFrame is highly fragmented.  This is usually the result of calling `frame.insert` many times, which has poor performance.  Consider joining all columns at once using pd.concat(axis=1) instead. To get a de-fragmented frame, use `newframe = frame.copy()`\n",
            "  amostras['Amostra_' + str(i)] = amostra_idade\n",
            "<ipython-input-54-2abac2b94257>:4: PerformanceWarning: DataFrame is highly fragmented.  This is usually the result of calling `frame.insert` many times, which has poor performance.  Consider joining all columns at once using pd.concat(axis=1) instead. To get a de-fragmented frame, use `newframe = frame.copy()`\n",
            "  amostras['Amostra_' + str(i)] = amostra_idade\n",
            "<ipython-input-54-2abac2b94257>:4: PerformanceWarning: DataFrame is highly fragmented.  This is usually the result of calling `frame.insert` many times, which has poor performance.  Consider joining all columns at once using pd.concat(axis=1) instead. To get a de-fragmented frame, use `newframe = frame.copy()`\n",
            "  amostras['Amostra_' + str(i)] = amostra_idade\n",
            "<ipython-input-54-2abac2b94257>:4: PerformanceWarning: DataFrame is highly fragmented.  This is usually the result of calling `frame.insert` many times, which has poor performance.  Consider joining all columns at once using pd.concat(axis=1) instead. To get a de-fragmented frame, use `newframe = frame.copy()`\n",
            "  amostras['Amostra_' + str(i)] = amostra_idade\n",
            "<ipython-input-54-2abac2b94257>:4: PerformanceWarning: DataFrame is highly fragmented.  This is usually the result of calling `frame.insert` many times, which has poor performance.  Consider joining all columns at once using pd.concat(axis=1) instead. To get a de-fragmented frame, use `newframe = frame.copy()`\n",
            "  amostras['Amostra_' + str(i)] = amostra_idade\n",
            "<ipython-input-54-2abac2b94257>:4: PerformanceWarning: DataFrame is highly fragmented.  This is usually the result of calling `frame.insert` many times, which has poor performance.  Consider joining all columns at once using pd.concat(axis=1) instead. To get a de-fragmented frame, use `newframe = frame.copy()`\n",
            "  amostras['Amostra_' + str(i)] = amostra_idade\n",
            "<ipython-input-54-2abac2b94257>:4: PerformanceWarning: DataFrame is highly fragmented.  This is usually the result of calling `frame.insert` many times, which has poor performance.  Consider joining all columns at once using pd.concat(axis=1) instead. To get a de-fragmented frame, use `newframe = frame.copy()`\n",
            "  amostras['Amostra_' + str(i)] = amostra_idade\n",
            "<ipython-input-54-2abac2b94257>:4: PerformanceWarning: DataFrame is highly fragmented.  This is usually the result of calling `frame.insert` many times, which has poor performance.  Consider joining all columns at once using pd.concat(axis=1) instead. To get a de-fragmented frame, use `newframe = frame.copy()`\n",
            "  amostras['Amostra_' + str(i)] = amostra_idade\n",
            "<ipython-input-54-2abac2b94257>:4: PerformanceWarning: DataFrame is highly fragmented.  This is usually the result of calling `frame.insert` many times, which has poor performance.  Consider joining all columns at once using pd.concat(axis=1) instead. To get a de-fragmented frame, use `newframe = frame.copy()`\n",
            "  amostras['Amostra_' + str(i)] = amostra_idade\n",
            "<ipython-input-54-2abac2b94257>:4: PerformanceWarning: DataFrame is highly fragmented.  This is usually the result of calling `frame.insert` many times, which has poor performance.  Consider joining all columns at once using pd.concat(axis=1) instead. To get a de-fragmented frame, use `newframe = frame.copy()`\n",
            "  amostras['Amostra_' + str(i)] = amostra_idade\n",
            "<ipython-input-54-2abac2b94257>:4: PerformanceWarning: DataFrame is highly fragmented.  This is usually the result of calling `frame.insert` many times, which has poor performance.  Consider joining all columns at once using pd.concat(axis=1) instead. To get a de-fragmented frame, use `newframe = frame.copy()`\n",
            "  amostras['Amostra_' + str(i)] = amostra_idade\n",
            "<ipython-input-54-2abac2b94257>:4: PerformanceWarning: DataFrame is highly fragmented.  This is usually the result of calling `frame.insert` many times, which has poor performance.  Consider joining all columns at once using pd.concat(axis=1) instead. To get a de-fragmented frame, use `newframe = frame.copy()`\n",
            "  amostras['Amostra_' + str(i)] = amostra_idade\n",
            "<ipython-input-54-2abac2b94257>:4: PerformanceWarning: DataFrame is highly fragmented.  This is usually the result of calling `frame.insert` many times, which has poor performance.  Consider joining all columns at once using pd.concat(axis=1) instead. To get a de-fragmented frame, use `newframe = frame.copy()`\n",
            "  amostras['Amostra_' + str(i)] = amostra_idade\n",
            "<ipython-input-54-2abac2b94257>:4: PerformanceWarning: DataFrame is highly fragmented.  This is usually the result of calling `frame.insert` many times, which has poor performance.  Consider joining all columns at once using pd.concat(axis=1) instead. To get a de-fragmented frame, use `newframe = frame.copy()`\n",
            "  amostras['Amostra_' + str(i)] = amostra_idade\n",
            "<ipython-input-54-2abac2b94257>:4: PerformanceWarning: DataFrame is highly fragmented.  This is usually the result of calling `frame.insert` many times, which has poor performance.  Consider joining all columns at once using pd.concat(axis=1) instead. To get a de-fragmented frame, use `newframe = frame.copy()`\n",
            "  amostras['Amostra_' + str(i)] = amostra_idade\n",
            "<ipython-input-54-2abac2b94257>:4: PerformanceWarning: DataFrame is highly fragmented.  This is usually the result of calling `frame.insert` many times, which has poor performance.  Consider joining all columns at once using pd.concat(axis=1) instead. To get a de-fragmented frame, use `newframe = frame.copy()`\n",
            "  amostras['Amostra_' + str(i)] = amostra_idade\n",
            "<ipython-input-54-2abac2b94257>:4: PerformanceWarning: DataFrame is highly fragmented.  This is usually the result of calling `frame.insert` many times, which has poor performance.  Consider joining all columns at once using pd.concat(axis=1) instead. To get a de-fragmented frame, use `newframe = frame.copy()`\n",
            "  amostras['Amostra_' + str(i)] = amostra_idade\n",
            "<ipython-input-54-2abac2b94257>:4: PerformanceWarning: DataFrame is highly fragmented.  This is usually the result of calling `frame.insert` many times, which has poor performance.  Consider joining all columns at once using pd.concat(axis=1) instead. To get a de-fragmented frame, use `newframe = frame.copy()`\n",
            "  amostras['Amostra_' + str(i)] = amostra_idade\n",
            "<ipython-input-54-2abac2b94257>:4: PerformanceWarning: DataFrame is highly fragmented.  This is usually the result of calling `frame.insert` many times, which has poor performance.  Consider joining all columns at once using pd.concat(axis=1) instead. To get a de-fragmented frame, use `newframe = frame.copy()`\n",
            "  amostras['Amostra_' + str(i)] = amostra_idade\n",
            "<ipython-input-54-2abac2b94257>:4: PerformanceWarning: DataFrame is highly fragmented.  This is usually the result of calling `frame.insert` many times, which has poor performance.  Consider joining all columns at once using pd.concat(axis=1) instead. To get a de-fragmented frame, use `newframe = frame.copy()`\n",
            "  amostras['Amostra_' + str(i)] = amostra_idade\n",
            "<ipython-input-54-2abac2b94257>:4: PerformanceWarning: DataFrame is highly fragmented.  This is usually the result of calling `frame.insert` many times, which has poor performance.  Consider joining all columns at once using pd.concat(axis=1) instead. To get a de-fragmented frame, use `newframe = frame.copy()`\n",
            "  amostras['Amostra_' + str(i)] = amostra_idade\n",
            "<ipython-input-54-2abac2b94257>:4: PerformanceWarning: DataFrame is highly fragmented.  This is usually the result of calling `frame.insert` many times, which has poor performance.  Consider joining all columns at once using pd.concat(axis=1) instead. To get a de-fragmented frame, use `newframe = frame.copy()`\n",
            "  amostras['Amostra_' + str(i)] = amostra_idade\n",
            "<ipython-input-54-2abac2b94257>:4: PerformanceWarning: DataFrame is highly fragmented.  This is usually the result of calling `frame.insert` many times, which has poor performance.  Consider joining all columns at once using pd.concat(axis=1) instead. To get a de-fragmented frame, use `newframe = frame.copy()`\n",
            "  amostras['Amostra_' + str(i)] = amostra_idade\n",
            "<ipython-input-54-2abac2b94257>:4: PerformanceWarning: DataFrame is highly fragmented.  This is usually the result of calling `frame.insert` many times, which has poor performance.  Consider joining all columns at once using pd.concat(axis=1) instead. To get a de-fragmented frame, use `newframe = frame.copy()`\n",
            "  amostras['Amostra_' + str(i)] = amostra_idade\n",
            "<ipython-input-54-2abac2b94257>:4: PerformanceWarning: DataFrame is highly fragmented.  This is usually the result of calling `frame.insert` many times, which has poor performance.  Consider joining all columns at once using pd.concat(axis=1) instead. To get a de-fragmented frame, use `newframe = frame.copy()`\n",
            "  amostras['Amostra_' + str(i)] = amostra_idade\n",
            "<ipython-input-54-2abac2b94257>:4: PerformanceWarning: DataFrame is highly fragmented.  This is usually the result of calling `frame.insert` many times, which has poor performance.  Consider joining all columns at once using pd.concat(axis=1) instead. To get a de-fragmented frame, use `newframe = frame.copy()`\n",
            "  amostras['Amostra_' + str(i)] = amostra_idade\n",
            "<ipython-input-54-2abac2b94257>:4: PerformanceWarning: DataFrame is highly fragmented.  This is usually the result of calling `frame.insert` many times, which has poor performance.  Consider joining all columns at once using pd.concat(axis=1) instead. To get a de-fragmented frame, use `newframe = frame.copy()`\n",
            "  amostras['Amostra_' + str(i)] = amostra_idade\n",
            "<ipython-input-54-2abac2b94257>:4: PerformanceWarning: DataFrame is highly fragmented.  This is usually the result of calling `frame.insert` many times, which has poor performance.  Consider joining all columns at once using pd.concat(axis=1) instead. To get a de-fragmented frame, use `newframe = frame.copy()`\n",
            "  amostras['Amostra_' + str(i)] = amostra_idade\n",
            "<ipython-input-54-2abac2b94257>:4: PerformanceWarning: DataFrame is highly fragmented.  This is usually the result of calling `frame.insert` many times, which has poor performance.  Consider joining all columns at once using pd.concat(axis=1) instead. To get a de-fragmented frame, use `newframe = frame.copy()`\n",
            "  amostras['Amostra_' + str(i)] = amostra_idade\n",
            "<ipython-input-54-2abac2b94257>:4: PerformanceWarning: DataFrame is highly fragmented.  This is usually the result of calling `frame.insert` many times, which has poor performance.  Consider joining all columns at once using pd.concat(axis=1) instead. To get a de-fragmented frame, use `newframe = frame.copy()`\n",
            "  amostras['Amostra_' + str(i)] = amostra_idade\n",
            "<ipython-input-54-2abac2b94257>:4: PerformanceWarning: DataFrame is highly fragmented.  This is usually the result of calling `frame.insert` many times, which has poor performance.  Consider joining all columns at once using pd.concat(axis=1) instead. To get a de-fragmented frame, use `newframe = frame.copy()`\n",
            "  amostras['Amostra_' + str(i)] = amostra_idade\n",
            "<ipython-input-54-2abac2b94257>:4: PerformanceWarning: DataFrame is highly fragmented.  This is usually the result of calling `frame.insert` many times, which has poor performance.  Consider joining all columns at once using pd.concat(axis=1) instead. To get a de-fragmented frame, use `newframe = frame.copy()`\n",
            "  amostras['Amostra_' + str(i)] = amostra_idade\n",
            "<ipython-input-54-2abac2b94257>:4: PerformanceWarning: DataFrame is highly fragmented.  This is usually the result of calling `frame.insert` many times, which has poor performance.  Consider joining all columns at once using pd.concat(axis=1) instead. To get a de-fragmented frame, use `newframe = frame.copy()`\n",
            "  amostras['Amostra_' + str(i)] = amostra_idade\n",
            "<ipython-input-54-2abac2b94257>:4: PerformanceWarning: DataFrame is highly fragmented.  This is usually the result of calling `frame.insert` many times, which has poor performance.  Consider joining all columns at once using pd.concat(axis=1) instead. To get a de-fragmented frame, use `newframe = frame.copy()`\n",
            "  amostras['Amostra_' + str(i)] = amostra_idade\n",
            "<ipython-input-54-2abac2b94257>:4: PerformanceWarning: DataFrame is highly fragmented.  This is usually the result of calling `frame.insert` many times, which has poor performance.  Consider joining all columns at once using pd.concat(axis=1) instead. To get a de-fragmented frame, use `newframe = frame.copy()`\n",
            "  amostras['Amostra_' + str(i)] = amostra_idade\n",
            "<ipython-input-54-2abac2b94257>:4: PerformanceWarning: DataFrame is highly fragmented.  This is usually the result of calling `frame.insert` many times, which has poor performance.  Consider joining all columns at once using pd.concat(axis=1) instead. To get a de-fragmented frame, use `newframe = frame.copy()`\n",
            "  amostras['Amostra_' + str(i)] = amostra_idade\n",
            "<ipython-input-54-2abac2b94257>:4: PerformanceWarning: DataFrame is highly fragmented.  This is usually the result of calling `frame.insert` many times, which has poor performance.  Consider joining all columns at once using pd.concat(axis=1) instead. To get a de-fragmented frame, use `newframe = frame.copy()`\n",
            "  amostras['Amostra_' + str(i)] = amostra_idade\n",
            "<ipython-input-54-2abac2b94257>:4: PerformanceWarning: DataFrame is highly fragmented.  This is usually the result of calling `frame.insert` many times, which has poor performance.  Consider joining all columns at once using pd.concat(axis=1) instead. To get a de-fragmented frame, use `newframe = frame.copy()`\n",
            "  amostras['Amostra_' + str(i)] = amostra_idade\n",
            "<ipython-input-54-2abac2b94257>:4: PerformanceWarning: DataFrame is highly fragmented.  This is usually the result of calling `frame.insert` many times, which has poor performance.  Consider joining all columns at once using pd.concat(axis=1) instead. To get a de-fragmented frame, use `newframe = frame.copy()`\n",
            "  amostras['Amostra_' + str(i)] = amostra_idade\n",
            "<ipython-input-54-2abac2b94257>:4: PerformanceWarning: DataFrame is highly fragmented.  This is usually the result of calling `frame.insert` many times, which has poor performance.  Consider joining all columns at once using pd.concat(axis=1) instead. To get a de-fragmented frame, use `newframe = frame.copy()`\n",
            "  amostras['Amostra_' + str(i)] = amostra_idade\n",
            "<ipython-input-54-2abac2b94257>:4: PerformanceWarning: DataFrame is highly fragmented.  This is usually the result of calling `frame.insert` many times, which has poor performance.  Consider joining all columns at once using pd.concat(axis=1) instead. To get a de-fragmented frame, use `newframe = frame.copy()`\n",
            "  amostras['Amostra_' + str(i)] = amostra_idade\n",
            "<ipython-input-54-2abac2b94257>:4: PerformanceWarning: DataFrame is highly fragmented.  This is usually the result of calling `frame.insert` many times, which has poor performance.  Consider joining all columns at once using pd.concat(axis=1) instead. To get a de-fragmented frame, use `newframe = frame.copy()`\n",
            "  amostras['Amostra_' + str(i)] = amostra_idade\n",
            "<ipython-input-54-2abac2b94257>:4: PerformanceWarning: DataFrame is highly fragmented.  This is usually the result of calling `frame.insert` many times, which has poor performance.  Consider joining all columns at once using pd.concat(axis=1) instead. To get a de-fragmented frame, use `newframe = frame.copy()`\n",
            "  amostras['Amostra_' + str(i)] = amostra_idade\n",
            "<ipython-input-54-2abac2b94257>:4: PerformanceWarning: DataFrame is highly fragmented.  This is usually the result of calling `frame.insert` many times, which has poor performance.  Consider joining all columns at once using pd.concat(axis=1) instead. To get a de-fragmented frame, use `newframe = frame.copy()`\n",
            "  amostras['Amostra_' + str(i)] = amostra_idade\n",
            "<ipython-input-54-2abac2b94257>:4: PerformanceWarning: DataFrame is highly fragmented.  This is usually the result of calling `frame.insert` many times, which has poor performance.  Consider joining all columns at once using pd.concat(axis=1) instead. To get a de-fragmented frame, use `newframe = frame.copy()`\n",
            "  amostras['Amostra_' + str(i)] = amostra_idade\n",
            "<ipython-input-54-2abac2b94257>:4: PerformanceWarning: DataFrame is highly fragmented.  This is usually the result of calling `frame.insert` many times, which has poor performance.  Consider joining all columns at once using pd.concat(axis=1) instead. To get a de-fragmented frame, use `newframe = frame.copy()`\n",
            "  amostras['Amostra_' + str(i)] = amostra_idade\n",
            "<ipython-input-54-2abac2b94257>:4: PerformanceWarning: DataFrame is highly fragmented.  This is usually the result of calling `frame.insert` many times, which has poor performance.  Consider joining all columns at once using pd.concat(axis=1) instead. To get a de-fragmented frame, use `newframe = frame.copy()`\n",
            "  amostras['Amostra_' + str(i)] = amostra_idade\n",
            "<ipython-input-54-2abac2b94257>:4: PerformanceWarning: DataFrame is highly fragmented.  This is usually the result of calling `frame.insert` many times, which has poor performance.  Consider joining all columns at once using pd.concat(axis=1) instead. To get a de-fragmented frame, use `newframe = frame.copy()`\n",
            "  amostras['Amostra_' + str(i)] = amostra_idade\n",
            "<ipython-input-54-2abac2b94257>:4: PerformanceWarning: DataFrame is highly fragmented.  This is usually the result of calling `frame.insert` many times, which has poor performance.  Consider joining all columns at once using pd.concat(axis=1) instead. To get a de-fragmented frame, use `newframe = frame.copy()`\n",
            "  amostras['Amostra_' + str(i)] = amostra_idade\n",
            "<ipython-input-54-2abac2b94257>:4: PerformanceWarning: DataFrame is highly fragmented.  This is usually the result of calling `frame.insert` many times, which has poor performance.  Consider joining all columns at once using pd.concat(axis=1) instead. To get a de-fragmented frame, use `newframe = frame.copy()`\n",
            "  amostras['Amostra_' + str(i)] = amostra_idade\n",
            "<ipython-input-54-2abac2b94257>:4: PerformanceWarning: DataFrame is highly fragmented.  This is usually the result of calling `frame.insert` many times, which has poor performance.  Consider joining all columns at once using pd.concat(axis=1) instead. To get a de-fragmented frame, use `newframe = frame.copy()`\n",
            "  amostras['Amostra_' + str(i)] = amostra_idade\n",
            "<ipython-input-54-2abac2b94257>:4: PerformanceWarning: DataFrame is highly fragmented.  This is usually the result of calling `frame.insert` many times, which has poor performance.  Consider joining all columns at once using pd.concat(axis=1) instead. To get a de-fragmented frame, use `newframe = frame.copy()`\n",
            "  amostras['Amostra_' + str(i)] = amostra_idade\n",
            "<ipython-input-54-2abac2b94257>:4: PerformanceWarning: DataFrame is highly fragmented.  This is usually the result of calling `frame.insert` many times, which has poor performance.  Consider joining all columns at once using pd.concat(axis=1) instead. To get a de-fragmented frame, use `newframe = frame.copy()`\n",
            "  amostras['Amostra_' + str(i)] = amostra_idade\n",
            "<ipython-input-54-2abac2b94257>:4: PerformanceWarning: DataFrame is highly fragmented.  This is usually the result of calling `frame.insert` many times, which has poor performance.  Consider joining all columns at once using pd.concat(axis=1) instead. To get a de-fragmented frame, use `newframe = frame.copy()`\n",
            "  amostras['Amostra_' + str(i)] = amostra_idade\n",
            "<ipython-input-54-2abac2b94257>:4: PerformanceWarning: DataFrame is highly fragmented.  This is usually the result of calling `frame.insert` many times, which has poor performance.  Consider joining all columns at once using pd.concat(axis=1) instead. To get a de-fragmented frame, use `newframe = frame.copy()`\n",
            "  amostras['Amostra_' + str(i)] = amostra_idade\n",
            "<ipython-input-54-2abac2b94257>:4: PerformanceWarning: DataFrame is highly fragmented.  This is usually the result of calling `frame.insert` many times, which has poor performance.  Consider joining all columns at once using pd.concat(axis=1) instead. To get a de-fragmented frame, use `newframe = frame.copy()`\n",
            "  amostras['Amostra_' + str(i)] = amostra_idade\n",
            "<ipython-input-54-2abac2b94257>:4: PerformanceWarning: DataFrame is highly fragmented.  This is usually the result of calling `frame.insert` many times, which has poor performance.  Consider joining all columns at once using pd.concat(axis=1) instead. To get a de-fragmented frame, use `newframe = frame.copy()`\n",
            "  amostras['Amostra_' + str(i)] = amostra_idade\n",
            "<ipython-input-54-2abac2b94257>:4: PerformanceWarning: DataFrame is highly fragmented.  This is usually the result of calling `frame.insert` many times, which has poor performance.  Consider joining all columns at once using pd.concat(axis=1) instead. To get a de-fragmented frame, use `newframe = frame.copy()`\n",
            "  amostras['Amostra_' + str(i)] = amostra_idade\n",
            "<ipython-input-54-2abac2b94257>:4: PerformanceWarning: DataFrame is highly fragmented.  This is usually the result of calling `frame.insert` many times, which has poor performance.  Consider joining all columns at once using pd.concat(axis=1) instead. To get a de-fragmented frame, use `newframe = frame.copy()`\n",
            "  amostras['Amostra_' + str(i)] = amostra_idade\n",
            "<ipython-input-54-2abac2b94257>:4: PerformanceWarning: DataFrame is highly fragmented.  This is usually the result of calling `frame.insert` many times, which has poor performance.  Consider joining all columns at once using pd.concat(axis=1) instead. To get a de-fragmented frame, use `newframe = frame.copy()`\n",
            "  amostras['Amostra_' + str(i)] = amostra_idade\n",
            "<ipython-input-54-2abac2b94257>:4: PerformanceWarning: DataFrame is highly fragmented.  This is usually the result of calling `frame.insert` many times, which has poor performance.  Consider joining all columns at once using pd.concat(axis=1) instead. To get a de-fragmented frame, use `newframe = frame.copy()`\n",
            "  amostras['Amostra_' + str(i)] = amostra_idade\n",
            "<ipython-input-54-2abac2b94257>:4: PerformanceWarning: DataFrame is highly fragmented.  This is usually the result of calling `frame.insert` many times, which has poor performance.  Consider joining all columns at once using pd.concat(axis=1) instead. To get a de-fragmented frame, use `newframe = frame.copy()`\n",
            "  amostras['Amostra_' + str(i)] = amostra_idade\n",
            "<ipython-input-54-2abac2b94257>:4: PerformanceWarning: DataFrame is highly fragmented.  This is usually the result of calling `frame.insert` many times, which has poor performance.  Consider joining all columns at once using pd.concat(axis=1) instead. To get a de-fragmented frame, use `newframe = frame.copy()`\n",
            "  amostras['Amostra_' + str(i)] = amostra_idade\n",
            "<ipython-input-54-2abac2b94257>:4: PerformanceWarning: DataFrame is highly fragmented.  This is usually the result of calling `frame.insert` many times, which has poor performance.  Consider joining all columns at once using pd.concat(axis=1) instead. To get a de-fragmented frame, use `newframe = frame.copy()`\n",
            "  amostras['Amostra_' + str(i)] = amostra_idade\n",
            "<ipython-input-54-2abac2b94257>:4: PerformanceWarning: DataFrame is highly fragmented.  This is usually the result of calling `frame.insert` many times, which has poor performance.  Consider joining all columns at once using pd.concat(axis=1) instead. To get a de-fragmented frame, use `newframe = frame.copy()`\n",
            "  amostras['Amostra_' + str(i)] = amostra_idade\n",
            "<ipython-input-54-2abac2b94257>:4: PerformanceWarning: DataFrame is highly fragmented.  This is usually the result of calling `frame.insert` many times, which has poor performance.  Consider joining all columns at once using pd.concat(axis=1) instead. To get a de-fragmented frame, use `newframe = frame.copy()`\n",
            "  amostras['Amostra_' + str(i)] = amostra_idade\n",
            "<ipython-input-54-2abac2b94257>:4: PerformanceWarning: DataFrame is highly fragmented.  This is usually the result of calling `frame.insert` many times, which has poor performance.  Consider joining all columns at once using pd.concat(axis=1) instead. To get a de-fragmented frame, use `newframe = frame.copy()`\n",
            "  amostras['Amostra_' + str(i)] = amostra_idade\n",
            "<ipython-input-54-2abac2b94257>:4: PerformanceWarning: DataFrame is highly fragmented.  This is usually the result of calling `frame.insert` many times, which has poor performance.  Consider joining all columns at once using pd.concat(axis=1) instead. To get a de-fragmented frame, use `newframe = frame.copy()`\n",
            "  amostras['Amostra_' + str(i)] = amostra_idade\n",
            "<ipython-input-54-2abac2b94257>:4: PerformanceWarning: DataFrame is highly fragmented.  This is usually the result of calling `frame.insert` many times, which has poor performance.  Consider joining all columns at once using pd.concat(axis=1) instead. To get a de-fragmented frame, use `newframe = frame.copy()`\n",
            "  amostras['Amostra_' + str(i)] = amostra_idade\n",
            "<ipython-input-54-2abac2b94257>:4: PerformanceWarning: DataFrame is highly fragmented.  This is usually the result of calling `frame.insert` many times, which has poor performance.  Consider joining all columns at once using pd.concat(axis=1) instead. To get a de-fragmented frame, use `newframe = frame.copy()`\n",
            "  amostras['Amostra_' + str(i)] = amostra_idade\n",
            "<ipython-input-54-2abac2b94257>:4: PerformanceWarning: DataFrame is highly fragmented.  This is usually the result of calling `frame.insert` many times, which has poor performance.  Consider joining all columns at once using pd.concat(axis=1) instead. To get a de-fragmented frame, use `newframe = frame.copy()`\n",
            "  amostras['Amostra_' + str(i)] = amostra_idade\n",
            "<ipython-input-54-2abac2b94257>:4: PerformanceWarning: DataFrame is highly fragmented.  This is usually the result of calling `frame.insert` many times, which has poor performance.  Consider joining all columns at once using pd.concat(axis=1) instead. To get a de-fragmented frame, use `newframe = frame.copy()`\n",
            "  amostras['Amostra_' + str(i)] = amostra_idade\n",
            "<ipython-input-54-2abac2b94257>:4: PerformanceWarning: DataFrame is highly fragmented.  This is usually the result of calling `frame.insert` many times, which has poor performance.  Consider joining all columns at once using pd.concat(axis=1) instead. To get a de-fragmented frame, use `newframe = frame.copy()`\n",
            "  amostras['Amostra_' + str(i)] = amostra_idade\n",
            "<ipython-input-54-2abac2b94257>:4: PerformanceWarning: DataFrame is highly fragmented.  This is usually the result of calling `frame.insert` many times, which has poor performance.  Consider joining all columns at once using pd.concat(axis=1) instead. To get a de-fragmented frame, use `newframe = frame.copy()`\n",
            "  amostras['Amostra_' + str(i)] = amostra_idade\n",
            "<ipython-input-54-2abac2b94257>:4: PerformanceWarning: DataFrame is highly fragmented.  This is usually the result of calling `frame.insert` many times, which has poor performance.  Consider joining all columns at once using pd.concat(axis=1) instead. To get a de-fragmented frame, use `newframe = frame.copy()`\n",
            "  amostras['Amostra_' + str(i)] = amostra_idade\n",
            "<ipython-input-54-2abac2b94257>:4: PerformanceWarning: DataFrame is highly fragmented.  This is usually the result of calling `frame.insert` many times, which has poor performance.  Consider joining all columns at once using pd.concat(axis=1) instead. To get a de-fragmented frame, use `newframe = frame.copy()`\n",
            "  amostras['Amostra_' + str(i)] = amostra_idade\n",
            "<ipython-input-54-2abac2b94257>:4: PerformanceWarning: DataFrame is highly fragmented.  This is usually the result of calling `frame.insert` many times, which has poor performance.  Consider joining all columns at once using pd.concat(axis=1) instead. To get a de-fragmented frame, use `newframe = frame.copy()`\n",
            "  amostras['Amostra_' + str(i)] = amostra_idade\n",
            "<ipython-input-54-2abac2b94257>:4: PerformanceWarning: DataFrame is highly fragmented.  This is usually the result of calling `frame.insert` many times, which has poor performance.  Consider joining all columns at once using pd.concat(axis=1) instead. To get a de-fragmented frame, use `newframe = frame.copy()`\n",
            "  amostras['Amostra_' + str(i)] = amostra_idade\n",
            "<ipython-input-54-2abac2b94257>:4: PerformanceWarning: DataFrame is highly fragmented.  This is usually the result of calling `frame.insert` many times, which has poor performance.  Consider joining all columns at once using pd.concat(axis=1) instead. To get a de-fragmented frame, use `newframe = frame.copy()`\n",
            "  amostras['Amostra_' + str(i)] = amostra_idade\n",
            "<ipython-input-54-2abac2b94257>:4: PerformanceWarning: DataFrame is highly fragmented.  This is usually the result of calling `frame.insert` many times, which has poor performance.  Consider joining all columns at once using pd.concat(axis=1) instead. To get a de-fragmented frame, use `newframe = frame.copy()`\n",
            "  amostras['Amostra_' + str(i)] = amostra_idade\n",
            "<ipython-input-54-2abac2b94257>:4: PerformanceWarning: DataFrame is highly fragmented.  This is usually the result of calling `frame.insert` many times, which has poor performance.  Consider joining all columns at once using pd.concat(axis=1) instead. To get a de-fragmented frame, use `newframe = frame.copy()`\n",
            "  amostras['Amostra_' + str(i)] = amostra_idade\n",
            "<ipython-input-54-2abac2b94257>:4: PerformanceWarning: DataFrame is highly fragmented.  This is usually the result of calling `frame.insert` many times, which has poor performance.  Consider joining all columns at once using pd.concat(axis=1) instead. To get a de-fragmented frame, use `newframe = frame.copy()`\n",
            "  amostras['Amostra_' + str(i)] = amostra_idade\n",
            "<ipython-input-54-2abac2b94257>:4: PerformanceWarning: DataFrame is highly fragmented.  This is usually the result of calling `frame.insert` many times, which has poor performance.  Consider joining all columns at once using pd.concat(axis=1) instead. To get a de-fragmented frame, use `newframe = frame.copy()`\n",
            "  amostras['Amostra_' + str(i)] = amostra_idade\n",
            "<ipython-input-54-2abac2b94257>:4: PerformanceWarning: DataFrame is highly fragmented.  This is usually the result of calling `frame.insert` many times, which has poor performance.  Consider joining all columns at once using pd.concat(axis=1) instead. To get a de-fragmented frame, use `newframe = frame.copy()`\n",
            "  amostras['Amostra_' + str(i)] = amostra_idade\n",
            "<ipython-input-54-2abac2b94257>:4: PerformanceWarning: DataFrame is highly fragmented.  This is usually the result of calling `frame.insert` many times, which has poor performance.  Consider joining all columns at once using pd.concat(axis=1) instead. To get a de-fragmented frame, use `newframe = frame.copy()`\n",
            "  amostras['Amostra_' + str(i)] = amostra_idade\n",
            "<ipython-input-54-2abac2b94257>:4: PerformanceWarning: DataFrame is highly fragmented.  This is usually the result of calling `frame.insert` many times, which has poor performance.  Consider joining all columns at once using pd.concat(axis=1) instead. To get a de-fragmented frame, use `newframe = frame.copy()`\n",
            "  amostras['Amostra_' + str(i)] = amostra_idade\n",
            "<ipython-input-54-2abac2b94257>:4: PerformanceWarning: DataFrame is highly fragmented.  This is usually the result of calling `frame.insert` many times, which has poor performance.  Consider joining all columns at once using pd.concat(axis=1) instead. To get a de-fragmented frame, use `newframe = frame.copy()`\n",
            "  amostras['Amostra_' + str(i)] = amostra_idade\n",
            "<ipython-input-54-2abac2b94257>:4: PerformanceWarning: DataFrame is highly fragmented.  This is usually the result of calling `frame.insert` many times, which has poor performance.  Consider joining all columns at once using pd.concat(axis=1) instead. To get a de-fragmented frame, use `newframe = frame.copy()`\n",
            "  amostras['Amostra_' + str(i)] = amostra_idade\n",
            "<ipython-input-54-2abac2b94257>:4: PerformanceWarning: DataFrame is highly fragmented.  This is usually the result of calling `frame.insert` many times, which has poor performance.  Consider joining all columns at once using pd.concat(axis=1) instead. To get a de-fragmented frame, use `newframe = frame.copy()`\n",
            "  amostras['Amostra_' + str(i)] = amostra_idade\n",
            "<ipython-input-54-2abac2b94257>:4: PerformanceWarning: DataFrame is highly fragmented.  This is usually the result of calling `frame.insert` many times, which has poor performance.  Consider joining all columns at once using pd.concat(axis=1) instead. To get a de-fragmented frame, use `newframe = frame.copy()`\n",
            "  amostras['Amostra_' + str(i)] = amostra_idade\n",
            "<ipython-input-54-2abac2b94257>:4: PerformanceWarning: DataFrame is highly fragmented.  This is usually the result of calling `frame.insert` many times, which has poor performance.  Consider joining all columns at once using pd.concat(axis=1) instead. To get a de-fragmented frame, use `newframe = frame.copy()`\n",
            "  amostras['Amostra_' + str(i)] = amostra_idade\n",
            "<ipython-input-54-2abac2b94257>:4: PerformanceWarning: DataFrame is highly fragmented.  This is usually the result of calling `frame.insert` many times, which has poor performance.  Consider joining all columns at once using pd.concat(axis=1) instead. To get a de-fragmented frame, use `newframe = frame.copy()`\n",
            "  amostras['Amostra_' + str(i)] = amostra_idade\n",
            "<ipython-input-54-2abac2b94257>:4: PerformanceWarning: DataFrame is highly fragmented.  This is usually the result of calling `frame.insert` many times, which has poor performance.  Consider joining all columns at once using pd.concat(axis=1) instead. To get a de-fragmented frame, use `newframe = frame.copy()`\n",
            "  amostras['Amostra_' + str(i)] = amostra_idade\n",
            "<ipython-input-54-2abac2b94257>:4: PerformanceWarning: DataFrame is highly fragmented.  This is usually the result of calling `frame.insert` many times, which has poor performance.  Consider joining all columns at once using pd.concat(axis=1) instead. To get a de-fragmented frame, use `newframe = frame.copy()`\n",
            "  amostras['Amostra_' + str(i)] = amostra_idade\n",
            "<ipython-input-54-2abac2b94257>:4: PerformanceWarning: DataFrame is highly fragmented.  This is usually the result of calling `frame.insert` many times, which has poor performance.  Consider joining all columns at once using pd.concat(axis=1) instead. To get a de-fragmented frame, use `newframe = frame.copy()`\n",
            "  amostras['Amostra_' + str(i)] = amostra_idade\n",
            "<ipython-input-54-2abac2b94257>:4: PerformanceWarning: DataFrame is highly fragmented.  This is usually the result of calling `frame.insert` many times, which has poor performance.  Consider joining all columns at once using pd.concat(axis=1) instead. To get a de-fragmented frame, use `newframe = frame.copy()`\n",
            "  amostras['Amostra_' + str(i)] = amostra_idade\n",
            "<ipython-input-54-2abac2b94257>:4: PerformanceWarning: DataFrame is highly fragmented.  This is usually the result of calling `frame.insert` many times, which has poor performance.  Consider joining all columns at once using pd.concat(axis=1) instead. To get a de-fragmented frame, use `newframe = frame.copy()`\n",
            "  amostras['Amostra_' + str(i)] = amostra_idade\n",
            "<ipython-input-54-2abac2b94257>:4: PerformanceWarning: DataFrame is highly fragmented.  This is usually the result of calling `frame.insert` many times, which has poor performance.  Consider joining all columns at once using pd.concat(axis=1) instead. To get a de-fragmented frame, use `newframe = frame.copy()`\n",
            "  amostras['Amostra_' + str(i)] = amostra_idade\n",
            "<ipython-input-54-2abac2b94257>:4: PerformanceWarning: DataFrame is highly fragmented.  This is usually the result of calling `frame.insert` many times, which has poor performance.  Consider joining all columns at once using pd.concat(axis=1) instead. To get a de-fragmented frame, use `newframe = frame.copy()`\n",
            "  amostras['Amostra_' + str(i)] = amostra_idade\n",
            "<ipython-input-54-2abac2b94257>:4: PerformanceWarning: DataFrame is highly fragmented.  This is usually the result of calling `frame.insert` many times, which has poor performance.  Consider joining all columns at once using pd.concat(axis=1) instead. To get a de-fragmented frame, use `newframe = frame.copy()`\n",
            "  amostras['Amostra_' + str(i)] = amostra_idade\n",
            "<ipython-input-54-2abac2b94257>:4: PerformanceWarning: DataFrame is highly fragmented.  This is usually the result of calling `frame.insert` many times, which has poor performance.  Consider joining all columns at once using pd.concat(axis=1) instead. To get a de-fragmented frame, use `newframe = frame.copy()`\n",
            "  amostras['Amostra_' + str(i)] = amostra_idade\n",
            "<ipython-input-54-2abac2b94257>:4: PerformanceWarning: DataFrame is highly fragmented.  This is usually the result of calling `frame.insert` many times, which has poor performance.  Consider joining all columns at once using pd.concat(axis=1) instead. To get a de-fragmented frame, use `newframe = frame.copy()`\n",
            "  amostras['Amostra_' + str(i)] = amostra_idade\n",
            "<ipython-input-54-2abac2b94257>:4: PerformanceWarning: DataFrame is highly fragmented.  This is usually the result of calling `frame.insert` many times, which has poor performance.  Consider joining all columns at once using pd.concat(axis=1) instead. To get a de-fragmented frame, use `newframe = frame.copy()`\n",
            "  amostras['Amostra_' + str(i)] = amostra_idade\n",
            "<ipython-input-54-2abac2b94257>:4: PerformanceWarning: DataFrame is highly fragmented.  This is usually the result of calling `frame.insert` many times, which has poor performance.  Consider joining all columns at once using pd.concat(axis=1) instead. To get a de-fragmented frame, use `newframe = frame.copy()`\n",
            "  amostras['Amostra_' + str(i)] = amostra_idade\n",
            "<ipython-input-54-2abac2b94257>:4: PerformanceWarning: DataFrame is highly fragmented.  This is usually the result of calling `frame.insert` many times, which has poor performance.  Consider joining all columns at once using pd.concat(axis=1) instead. To get a de-fragmented frame, use `newframe = frame.copy()`\n",
            "  amostras['Amostra_' + str(i)] = amostra_idade\n",
            "<ipython-input-54-2abac2b94257>:4: PerformanceWarning: DataFrame is highly fragmented.  This is usually the result of calling `frame.insert` many times, which has poor performance.  Consider joining all columns at once using pd.concat(axis=1) instead. To get a de-fragmented frame, use `newframe = frame.copy()`\n",
            "  amostras['Amostra_' + str(i)] = amostra_idade\n",
            "<ipython-input-54-2abac2b94257>:4: PerformanceWarning: DataFrame is highly fragmented.  This is usually the result of calling `frame.insert` many times, which has poor performance.  Consider joining all columns at once using pd.concat(axis=1) instead. To get a de-fragmented frame, use `newframe = frame.copy()`\n",
            "  amostras['Amostra_' + str(i)] = amostra_idade\n",
            "<ipython-input-54-2abac2b94257>:4: PerformanceWarning: DataFrame is highly fragmented.  This is usually the result of calling `frame.insert` many times, which has poor performance.  Consider joining all columns at once using pd.concat(axis=1) instead. To get a de-fragmented frame, use `newframe = frame.copy()`\n",
            "  amostras['Amostra_' + str(i)] = amostra_idade\n",
            "<ipython-input-54-2abac2b94257>:4: PerformanceWarning: DataFrame is highly fragmented.  This is usually the result of calling `frame.insert` many times, which has poor performance.  Consider joining all columns at once using pd.concat(axis=1) instead. To get a de-fragmented frame, use `newframe = frame.copy()`\n",
            "  amostras['Amostra_' + str(i)] = amostra_idade\n",
            "<ipython-input-54-2abac2b94257>:4: PerformanceWarning: DataFrame is highly fragmented.  This is usually the result of calling `frame.insert` many times, which has poor performance.  Consider joining all columns at once using pd.concat(axis=1) instead. To get a de-fragmented frame, use `newframe = frame.copy()`\n",
            "  amostras['Amostra_' + str(i)] = amostra_idade\n",
            "<ipython-input-54-2abac2b94257>:4: PerformanceWarning: DataFrame is highly fragmented.  This is usually the result of calling `frame.insert` many times, which has poor performance.  Consider joining all columns at once using pd.concat(axis=1) instead. To get a de-fragmented frame, use `newframe = frame.copy()`\n",
            "  amostras['Amostra_' + str(i)] = amostra_idade\n",
            "<ipython-input-54-2abac2b94257>:4: PerformanceWarning: DataFrame is highly fragmented.  This is usually the result of calling `frame.insert` many times, which has poor performance.  Consider joining all columns at once using pd.concat(axis=1) instead. To get a de-fragmented frame, use `newframe = frame.copy()`\n",
            "  amostras['Amostra_' + str(i)] = amostra_idade\n",
            "<ipython-input-54-2abac2b94257>:4: PerformanceWarning: DataFrame is highly fragmented.  This is usually the result of calling `frame.insert` many times, which has poor performance.  Consider joining all columns at once using pd.concat(axis=1) instead. To get a de-fragmented frame, use `newframe = frame.copy()`\n",
            "  amostras['Amostra_' + str(i)] = amostra_idade\n",
            "<ipython-input-54-2abac2b94257>:4: PerformanceWarning: DataFrame is highly fragmented.  This is usually the result of calling `frame.insert` many times, which has poor performance.  Consider joining all columns at once using pd.concat(axis=1) instead. To get a de-fragmented frame, use `newframe = frame.copy()`\n",
            "  amostras['Amostra_' + str(i)] = amostra_idade\n",
            "<ipython-input-54-2abac2b94257>:4: PerformanceWarning: DataFrame is highly fragmented.  This is usually the result of calling `frame.insert` many times, which has poor performance.  Consider joining all columns at once using pd.concat(axis=1) instead. To get a de-fragmented frame, use `newframe = frame.copy()`\n",
            "  amostras['Amostra_' + str(i)] = amostra_idade\n",
            "<ipython-input-54-2abac2b94257>:4: PerformanceWarning: DataFrame is highly fragmented.  This is usually the result of calling `frame.insert` many times, which has poor performance.  Consider joining all columns at once using pd.concat(axis=1) instead. To get a de-fragmented frame, use `newframe = frame.copy()`\n",
            "  amostras['Amostra_' + str(i)] = amostra_idade\n",
            "<ipython-input-54-2abac2b94257>:4: PerformanceWarning: DataFrame is highly fragmented.  This is usually the result of calling `frame.insert` many times, which has poor performance.  Consider joining all columns at once using pd.concat(axis=1) instead. To get a de-fragmented frame, use `newframe = frame.copy()`\n",
            "  amostras['Amostra_' + str(i)] = amostra_idade\n",
            "<ipython-input-54-2abac2b94257>:4: PerformanceWarning: DataFrame is highly fragmented.  This is usually the result of calling `frame.insert` many times, which has poor performance.  Consider joining all columns at once using pd.concat(axis=1) instead. To get a de-fragmented frame, use `newframe = frame.copy()`\n",
            "  amostras['Amostra_' + str(i)] = amostra_idade\n",
            "<ipython-input-54-2abac2b94257>:4: PerformanceWarning: DataFrame is highly fragmented.  This is usually the result of calling `frame.insert` many times, which has poor performance.  Consider joining all columns at once using pd.concat(axis=1) instead. To get a de-fragmented frame, use `newframe = frame.copy()`\n",
            "  amostras['Amostra_' + str(i)] = amostra_idade\n",
            "<ipython-input-54-2abac2b94257>:4: PerformanceWarning: DataFrame is highly fragmented.  This is usually the result of calling `frame.insert` many times, which has poor performance.  Consider joining all columns at once using pd.concat(axis=1) instead. To get a de-fragmented frame, use `newframe = frame.copy()`\n",
            "  amostras['Amostra_' + str(i)] = amostra_idade\n",
            "<ipython-input-54-2abac2b94257>:4: PerformanceWarning: DataFrame is highly fragmented.  This is usually the result of calling `frame.insert` many times, which has poor performance.  Consider joining all columns at once using pd.concat(axis=1) instead. To get a de-fragmented frame, use `newframe = frame.copy()`\n",
            "  amostras['Amostra_' + str(i)] = amostra_idade\n",
            "<ipython-input-54-2abac2b94257>:4: PerformanceWarning: DataFrame is highly fragmented.  This is usually the result of calling `frame.insert` many times, which has poor performance.  Consider joining all columns at once using pd.concat(axis=1) instead. To get a de-fragmented frame, use `newframe = frame.copy()`\n",
            "  amostras['Amostra_' + str(i)] = amostra_idade\n",
            "<ipython-input-54-2abac2b94257>:4: PerformanceWarning: DataFrame is highly fragmented.  This is usually the result of calling `frame.insert` many times, which has poor performance.  Consider joining all columns at once using pd.concat(axis=1) instead. To get a de-fragmented frame, use `newframe = frame.copy()`\n",
            "  amostras['Amostra_' + str(i)] = amostra_idade\n",
            "<ipython-input-54-2abac2b94257>:4: PerformanceWarning: DataFrame is highly fragmented.  This is usually the result of calling `frame.insert` many times, which has poor performance.  Consider joining all columns at once using pd.concat(axis=1) instead. To get a de-fragmented frame, use `newframe = frame.copy()`\n",
            "  amostras['Amostra_' + str(i)] = amostra_idade\n",
            "<ipython-input-54-2abac2b94257>:4: PerformanceWarning: DataFrame is highly fragmented.  This is usually the result of calling `frame.insert` many times, which has poor performance.  Consider joining all columns at once using pd.concat(axis=1) instead. To get a de-fragmented frame, use `newframe = frame.copy()`\n",
            "  amostras['Amostra_' + str(i)] = amostra_idade\n",
            "<ipython-input-54-2abac2b94257>:4: PerformanceWarning: DataFrame is highly fragmented.  This is usually the result of calling `frame.insert` many times, which has poor performance.  Consider joining all columns at once using pd.concat(axis=1) instead. To get a de-fragmented frame, use `newframe = frame.copy()`\n",
            "  amostras['Amostra_' + str(i)] = amostra_idade\n",
            "<ipython-input-54-2abac2b94257>:4: PerformanceWarning: DataFrame is highly fragmented.  This is usually the result of calling `frame.insert` many times, which has poor performance.  Consider joining all columns at once using pd.concat(axis=1) instead. To get a de-fragmented frame, use `newframe = frame.copy()`\n",
            "  amostras['Amostra_' + str(i)] = amostra_idade\n",
            "<ipython-input-54-2abac2b94257>:4: PerformanceWarning: DataFrame is highly fragmented.  This is usually the result of calling `frame.insert` many times, which has poor performance.  Consider joining all columns at once using pd.concat(axis=1) instead. To get a de-fragmented frame, use `newframe = frame.copy()`\n",
            "  amostras['Amostra_' + str(i)] = amostra_idade\n",
            "<ipython-input-54-2abac2b94257>:4: PerformanceWarning: DataFrame is highly fragmented.  This is usually the result of calling `frame.insert` many times, which has poor performance.  Consider joining all columns at once using pd.concat(axis=1) instead. To get a de-fragmented frame, use `newframe = frame.copy()`\n",
            "  amostras['Amostra_' + str(i)] = amostra_idade\n",
            "<ipython-input-54-2abac2b94257>:4: PerformanceWarning: DataFrame is highly fragmented.  This is usually the result of calling `frame.insert` many times, which has poor performance.  Consider joining all columns at once using pd.concat(axis=1) instead. To get a de-fragmented frame, use `newframe = frame.copy()`\n",
            "  amostras['Amostra_' + str(i)] = amostra_idade\n",
            "<ipython-input-54-2abac2b94257>:4: PerformanceWarning: DataFrame is highly fragmented.  This is usually the result of calling `frame.insert` many times, which has poor performance.  Consider joining all columns at once using pd.concat(axis=1) instead. To get a de-fragmented frame, use `newframe = frame.copy()`\n",
            "  amostras['Amostra_' + str(i)] = amostra_idade\n",
            "<ipython-input-54-2abac2b94257>:4: PerformanceWarning: DataFrame is highly fragmented.  This is usually the result of calling `frame.insert` many times, which has poor performance.  Consider joining all columns at once using pd.concat(axis=1) instead. To get a de-fragmented frame, use `newframe = frame.copy()`\n",
            "  amostras['Amostra_' + str(i)] = amostra_idade\n",
            "<ipython-input-54-2abac2b94257>:4: PerformanceWarning: DataFrame is highly fragmented.  This is usually the result of calling `frame.insert` many times, which has poor performance.  Consider joining all columns at once using pd.concat(axis=1) instead. To get a de-fragmented frame, use `newframe = frame.copy()`\n",
            "  amostras['Amostra_' + str(i)] = amostra_idade\n",
            "<ipython-input-54-2abac2b94257>:4: PerformanceWarning: DataFrame is highly fragmented.  This is usually the result of calling `frame.insert` many times, which has poor performance.  Consider joining all columns at once using pd.concat(axis=1) instead. To get a de-fragmented frame, use `newframe = frame.copy()`\n",
            "  amostras['Amostra_' + str(i)] = amostra_idade\n",
            "<ipython-input-54-2abac2b94257>:4: PerformanceWarning: DataFrame is highly fragmented.  This is usually the result of calling `frame.insert` many times, which has poor performance.  Consider joining all columns at once using pd.concat(axis=1) instead. To get a de-fragmented frame, use `newframe = frame.copy()`\n",
            "  amostras['Amostra_' + str(i)] = amostra_idade\n",
            "<ipython-input-54-2abac2b94257>:4: PerformanceWarning: DataFrame is highly fragmented.  This is usually the result of calling `frame.insert` many times, which has poor performance.  Consider joining all columns at once using pd.concat(axis=1) instead. To get a de-fragmented frame, use `newframe = frame.copy()`\n",
            "  amostras['Amostra_' + str(i)] = amostra_idade\n",
            "<ipython-input-54-2abac2b94257>:4: PerformanceWarning: DataFrame is highly fragmented.  This is usually the result of calling `frame.insert` many times, which has poor performance.  Consider joining all columns at once using pd.concat(axis=1) instead. To get a de-fragmented frame, use `newframe = frame.copy()`\n",
            "  amostras['Amostra_' + str(i)] = amostra_idade\n",
            "<ipython-input-54-2abac2b94257>:4: PerformanceWarning: DataFrame is highly fragmented.  This is usually the result of calling `frame.insert` many times, which has poor performance.  Consider joining all columns at once using pd.concat(axis=1) instead. To get a de-fragmented frame, use `newframe = frame.copy()`\n",
            "  amostras['Amostra_' + str(i)] = amostra_idade\n",
            "<ipython-input-54-2abac2b94257>:4: PerformanceWarning: DataFrame is highly fragmented.  This is usually the result of calling `frame.insert` many times, which has poor performance.  Consider joining all columns at once using pd.concat(axis=1) instead. To get a de-fragmented frame, use `newframe = frame.copy()`\n",
            "  amostras['Amostra_' + str(i)] = amostra_idade\n",
            "<ipython-input-54-2abac2b94257>:4: PerformanceWarning: DataFrame is highly fragmented.  This is usually the result of calling `frame.insert` many times, which has poor performance.  Consider joining all columns at once using pd.concat(axis=1) instead. To get a de-fragmented frame, use `newframe = frame.copy()`\n",
            "  amostras['Amostra_' + str(i)] = amostra_idade\n",
            "<ipython-input-54-2abac2b94257>:4: PerformanceWarning: DataFrame is highly fragmented.  This is usually the result of calling `frame.insert` many times, which has poor performance.  Consider joining all columns at once using pd.concat(axis=1) instead. To get a de-fragmented frame, use `newframe = frame.copy()`\n",
            "  amostras['Amostra_' + str(i)] = amostra_idade\n",
            "<ipython-input-54-2abac2b94257>:4: PerformanceWarning: DataFrame is highly fragmented.  This is usually the result of calling `frame.insert` many times, which has poor performance.  Consider joining all columns at once using pd.concat(axis=1) instead. To get a de-fragmented frame, use `newframe = frame.copy()`\n",
            "  amostras['Amostra_' + str(i)] = amostra_idade\n",
            "<ipython-input-54-2abac2b94257>:4: PerformanceWarning: DataFrame is highly fragmented.  This is usually the result of calling `frame.insert` many times, which has poor performance.  Consider joining all columns at once using pd.concat(axis=1) instead. To get a de-fragmented frame, use `newframe = frame.copy()`\n",
            "  amostras['Amostra_' + str(i)] = amostra_idade\n",
            "<ipython-input-54-2abac2b94257>:4: PerformanceWarning: DataFrame is highly fragmented.  This is usually the result of calling `frame.insert` many times, which has poor performance.  Consider joining all columns at once using pd.concat(axis=1) instead. To get a de-fragmented frame, use `newframe = frame.copy()`\n",
            "  amostras['Amostra_' + str(i)] = amostra_idade\n",
            "<ipython-input-54-2abac2b94257>:4: PerformanceWarning: DataFrame is highly fragmented.  This is usually the result of calling `frame.insert` many times, which has poor performance.  Consider joining all columns at once using pd.concat(axis=1) instead. To get a de-fragmented frame, use `newframe = frame.copy()`\n",
            "  amostras['Amostra_' + str(i)] = amostra_idade\n",
            "<ipython-input-54-2abac2b94257>:4: PerformanceWarning: DataFrame is highly fragmented.  This is usually the result of calling `frame.insert` many times, which has poor performance.  Consider joining all columns at once using pd.concat(axis=1) instead. To get a de-fragmented frame, use `newframe = frame.copy()`\n",
            "  amostras['Amostra_' + str(i)] = amostra_idade\n",
            "<ipython-input-54-2abac2b94257>:4: PerformanceWarning: DataFrame is highly fragmented.  This is usually the result of calling `frame.insert` many times, which has poor performance.  Consider joining all columns at once using pd.concat(axis=1) instead. To get a de-fragmented frame, use `newframe = frame.copy()`\n",
            "  amostras['Amostra_' + str(i)] = amostra_idade\n",
            "<ipython-input-54-2abac2b94257>:4: PerformanceWarning: DataFrame is highly fragmented.  This is usually the result of calling `frame.insert` many times, which has poor performance.  Consider joining all columns at once using pd.concat(axis=1) instead. To get a de-fragmented frame, use `newframe = frame.copy()`\n",
            "  amostras['Amostra_' + str(i)] = amostra_idade\n",
            "<ipython-input-54-2abac2b94257>:4: PerformanceWarning: DataFrame is highly fragmented.  This is usually the result of calling `frame.insert` many times, which has poor performance.  Consider joining all columns at once using pd.concat(axis=1) instead. To get a de-fragmented frame, use `newframe = frame.copy()`\n",
            "  amostras['Amostra_' + str(i)] = amostra_idade\n",
            "<ipython-input-54-2abac2b94257>:4: PerformanceWarning: DataFrame is highly fragmented.  This is usually the result of calling `frame.insert` many times, which has poor performance.  Consider joining all columns at once using pd.concat(axis=1) instead. To get a de-fragmented frame, use `newframe = frame.copy()`\n",
            "  amostras['Amostra_' + str(i)] = amostra_idade\n",
            "<ipython-input-54-2abac2b94257>:4: PerformanceWarning: DataFrame is highly fragmented.  This is usually the result of calling `frame.insert` many times, which has poor performance.  Consider joining all columns at once using pd.concat(axis=1) instead. To get a de-fragmented frame, use `newframe = frame.copy()`\n",
            "  amostras['Amostra_' + str(i)] = amostra_idade\n",
            "<ipython-input-54-2abac2b94257>:4: PerformanceWarning: DataFrame is highly fragmented.  This is usually the result of calling `frame.insert` many times, which has poor performance.  Consider joining all columns at once using pd.concat(axis=1) instead. To get a de-fragmented frame, use `newframe = frame.copy()`\n",
            "  amostras['Amostra_' + str(i)] = amostra_idade\n",
            "<ipython-input-54-2abac2b94257>:4: PerformanceWarning: DataFrame is highly fragmented.  This is usually the result of calling `frame.insert` many times, which has poor performance.  Consider joining all columns at once using pd.concat(axis=1) instead. To get a de-fragmented frame, use `newframe = frame.copy()`\n",
            "  amostras['Amostra_' + str(i)] = amostra_idade\n",
            "<ipython-input-54-2abac2b94257>:4: PerformanceWarning: DataFrame is highly fragmented.  This is usually the result of calling `frame.insert` many times, which has poor performance.  Consider joining all columns at once using pd.concat(axis=1) instead. To get a de-fragmented frame, use `newframe = frame.copy()`\n",
            "  amostras['Amostra_' + str(i)] = amostra_idade\n",
            "<ipython-input-54-2abac2b94257>:4: PerformanceWarning: DataFrame is highly fragmented.  This is usually the result of calling `frame.insert` many times, which has poor performance.  Consider joining all columns at once using pd.concat(axis=1) instead. To get a de-fragmented frame, use `newframe = frame.copy()`\n",
            "  amostras['Amostra_' + str(i)] = amostra_idade\n",
            "<ipython-input-54-2abac2b94257>:4: PerformanceWarning: DataFrame is highly fragmented.  This is usually the result of calling `frame.insert` many times, which has poor performance.  Consider joining all columns at once using pd.concat(axis=1) instead. To get a de-fragmented frame, use `newframe = frame.copy()`\n",
            "  amostras['Amostra_' + str(i)] = amostra_idade\n",
            "<ipython-input-54-2abac2b94257>:4: PerformanceWarning: DataFrame is highly fragmented.  This is usually the result of calling `frame.insert` many times, which has poor performance.  Consider joining all columns at once using pd.concat(axis=1) instead. To get a de-fragmented frame, use `newframe = frame.copy()`\n",
            "  amostras['Amostra_' + str(i)] = amostra_idade\n",
            "<ipython-input-54-2abac2b94257>:4: PerformanceWarning: DataFrame is highly fragmented.  This is usually the result of calling `frame.insert` many times, which has poor performance.  Consider joining all columns at once using pd.concat(axis=1) instead. To get a de-fragmented frame, use `newframe = frame.copy()`\n",
            "  amostras['Amostra_' + str(i)] = amostra_idade\n",
            "<ipython-input-54-2abac2b94257>:4: PerformanceWarning: DataFrame is highly fragmented.  This is usually the result of calling `frame.insert` many times, which has poor performance.  Consider joining all columns at once using pd.concat(axis=1) instead. To get a de-fragmented frame, use `newframe = frame.copy()`\n",
            "  amostras['Amostra_' + str(i)] = amostra_idade\n",
            "<ipython-input-54-2abac2b94257>:4: PerformanceWarning: DataFrame is highly fragmented.  This is usually the result of calling `frame.insert` many times, which has poor performance.  Consider joining all columns at once using pd.concat(axis=1) instead. To get a de-fragmented frame, use `newframe = frame.copy()`\n",
            "  amostras['Amostra_' + str(i)] = amostra_idade\n",
            "<ipython-input-54-2abac2b94257>:4: PerformanceWarning: DataFrame is highly fragmented.  This is usually the result of calling `frame.insert` many times, which has poor performance.  Consider joining all columns at once using pd.concat(axis=1) instead. To get a de-fragmented frame, use `newframe = frame.copy()`\n",
            "  amostras['Amostra_' + str(i)] = amostra_idade\n",
            "<ipython-input-54-2abac2b94257>:4: PerformanceWarning: DataFrame is highly fragmented.  This is usually the result of calling `frame.insert` many times, which has poor performance.  Consider joining all columns at once using pd.concat(axis=1) instead. To get a de-fragmented frame, use `newframe = frame.copy()`\n",
            "  amostras['Amostra_' + str(i)] = amostra_idade\n",
            "<ipython-input-54-2abac2b94257>:4: PerformanceWarning: DataFrame is highly fragmented.  This is usually the result of calling `frame.insert` many times, which has poor performance.  Consider joining all columns at once using pd.concat(axis=1) instead. To get a de-fragmented frame, use `newframe = frame.copy()`\n",
            "  amostras['Amostra_' + str(i)] = amostra_idade\n",
            "<ipython-input-54-2abac2b94257>:4: PerformanceWarning: DataFrame is highly fragmented.  This is usually the result of calling `frame.insert` many times, which has poor performance.  Consider joining all columns at once using pd.concat(axis=1) instead. To get a de-fragmented frame, use `newframe = frame.copy()`\n",
            "  amostras['Amostra_' + str(i)] = amostra_idade\n",
            "<ipython-input-54-2abac2b94257>:4: PerformanceWarning: DataFrame is highly fragmented.  This is usually the result of calling `frame.insert` many times, which has poor performance.  Consider joining all columns at once using pd.concat(axis=1) instead. To get a de-fragmented frame, use `newframe = frame.copy()`\n",
            "  amostras['Amostra_' + str(i)] = amostra_idade\n",
            "<ipython-input-54-2abac2b94257>:4: PerformanceWarning: DataFrame is highly fragmented.  This is usually the result of calling `frame.insert` many times, which has poor performance.  Consider joining all columns at once using pd.concat(axis=1) instead. To get a de-fragmented frame, use `newframe = frame.copy()`\n",
            "  amostras['Amostra_' + str(i)] = amostra_idade\n",
            "<ipython-input-54-2abac2b94257>:4: PerformanceWarning: DataFrame is highly fragmented.  This is usually the result of calling `frame.insert` many times, which has poor performance.  Consider joining all columns at once using pd.concat(axis=1) instead. To get a de-fragmented frame, use `newframe = frame.copy()`\n",
            "  amostras['Amostra_' + str(i)] = amostra_idade\n",
            "<ipython-input-54-2abac2b94257>:4: PerformanceWarning: DataFrame is highly fragmented.  This is usually the result of calling `frame.insert` many times, which has poor performance.  Consider joining all columns at once using pd.concat(axis=1) instead. To get a de-fragmented frame, use `newframe = frame.copy()`\n",
            "  amostras['Amostra_' + str(i)] = amostra_idade\n",
            "<ipython-input-54-2abac2b94257>:4: PerformanceWarning: DataFrame is highly fragmented.  This is usually the result of calling `frame.insert` many times, which has poor performance.  Consider joining all columns at once using pd.concat(axis=1) instead. To get a de-fragmented frame, use `newframe = frame.copy()`\n",
            "  amostras['Amostra_' + str(i)] = amostra_idade\n",
            "<ipython-input-54-2abac2b94257>:4: PerformanceWarning: DataFrame is highly fragmented.  This is usually the result of calling `frame.insert` many times, which has poor performance.  Consider joining all columns at once using pd.concat(axis=1) instead. To get a de-fragmented frame, use `newframe = frame.copy()`\n",
            "  amostras['Amostra_' + str(i)] = amostra_idade\n",
            "<ipython-input-54-2abac2b94257>:4: PerformanceWarning: DataFrame is highly fragmented.  This is usually the result of calling `frame.insert` many times, which has poor performance.  Consider joining all columns at once using pd.concat(axis=1) instead. To get a de-fragmented frame, use `newframe = frame.copy()`\n",
            "  amostras['Amostra_' + str(i)] = amostra_idade\n",
            "<ipython-input-54-2abac2b94257>:4: PerformanceWarning: DataFrame is highly fragmented.  This is usually the result of calling `frame.insert` many times, which has poor performance.  Consider joining all columns at once using pd.concat(axis=1) instead. To get a de-fragmented frame, use `newframe = frame.copy()`\n",
            "  amostras['Amostra_' + str(i)] = amostra_idade\n",
            "<ipython-input-54-2abac2b94257>:4: PerformanceWarning: DataFrame is highly fragmented.  This is usually the result of calling `frame.insert` many times, which has poor performance.  Consider joining all columns at once using pd.concat(axis=1) instead. To get a de-fragmented frame, use `newframe = frame.copy()`\n",
            "  amostras['Amostra_' + str(i)] = amostra_idade\n",
            "<ipython-input-54-2abac2b94257>:4: PerformanceWarning: DataFrame is highly fragmented.  This is usually the result of calling `frame.insert` many times, which has poor performance.  Consider joining all columns at once using pd.concat(axis=1) instead. To get a de-fragmented frame, use `newframe = frame.copy()`\n",
            "  amostras['Amostra_' + str(i)] = amostra_idade\n",
            "<ipython-input-54-2abac2b94257>:4: PerformanceWarning: DataFrame is highly fragmented.  This is usually the result of calling `frame.insert` many times, which has poor performance.  Consider joining all columns at once using pd.concat(axis=1) instead. To get a de-fragmented frame, use `newframe = frame.copy()`\n",
            "  amostras['Amostra_' + str(i)] = amostra_idade\n",
            "<ipython-input-54-2abac2b94257>:4: PerformanceWarning: DataFrame is highly fragmented.  This is usually the result of calling `frame.insert` many times, which has poor performance.  Consider joining all columns at once using pd.concat(axis=1) instead. To get a de-fragmented frame, use `newframe = frame.copy()`\n",
            "  amostras['Amostra_' + str(i)] = amostra_idade\n",
            "<ipython-input-54-2abac2b94257>:4: PerformanceWarning: DataFrame is highly fragmented.  This is usually the result of calling `frame.insert` many times, which has poor performance.  Consider joining all columns at once using pd.concat(axis=1) instead. To get a de-fragmented frame, use `newframe = frame.copy()`\n",
            "  amostras['Amostra_' + str(i)] = amostra_idade\n",
            "<ipython-input-54-2abac2b94257>:4: PerformanceWarning: DataFrame is highly fragmented.  This is usually the result of calling `frame.insert` many times, which has poor performance.  Consider joining all columns at once using pd.concat(axis=1) instead. To get a de-fragmented frame, use `newframe = frame.copy()`\n",
            "  amostras['Amostra_' + str(i)] = amostra_idade\n",
            "<ipython-input-54-2abac2b94257>:4: PerformanceWarning: DataFrame is highly fragmented.  This is usually the result of calling `frame.insert` many times, which has poor performance.  Consider joining all columns at once using pd.concat(axis=1) instead. To get a de-fragmented frame, use `newframe = frame.copy()`\n",
            "  amostras['Amostra_' + str(i)] = amostra_idade\n",
            "<ipython-input-54-2abac2b94257>:4: PerformanceWarning: DataFrame is highly fragmented.  This is usually the result of calling `frame.insert` many times, which has poor performance.  Consider joining all columns at once using pd.concat(axis=1) instead. To get a de-fragmented frame, use `newframe = frame.copy()`\n",
            "  amostras['Amostra_' + str(i)] = amostra_idade\n",
            "<ipython-input-54-2abac2b94257>:4: PerformanceWarning: DataFrame is highly fragmented.  This is usually the result of calling `frame.insert` many times, which has poor performance.  Consider joining all columns at once using pd.concat(axis=1) instead. To get a de-fragmented frame, use `newframe = frame.copy()`\n",
            "  amostras['Amostra_' + str(i)] = amostra_idade\n",
            "<ipython-input-54-2abac2b94257>:4: PerformanceWarning: DataFrame is highly fragmented.  This is usually the result of calling `frame.insert` many times, which has poor performance.  Consider joining all columns at once using pd.concat(axis=1) instead. To get a de-fragmented frame, use `newframe = frame.copy()`\n",
            "  amostras['Amostra_' + str(i)] = amostra_idade\n",
            "<ipython-input-54-2abac2b94257>:4: PerformanceWarning: DataFrame is highly fragmented.  This is usually the result of calling `frame.insert` many times, which has poor performance.  Consider joining all columns at once using pd.concat(axis=1) instead. To get a de-fragmented frame, use `newframe = frame.copy()`\n",
            "  amostras['Amostra_' + str(i)] = amostra_idade\n",
            "<ipython-input-54-2abac2b94257>:4: PerformanceWarning: DataFrame is highly fragmented.  This is usually the result of calling `frame.insert` many times, which has poor performance.  Consider joining all columns at once using pd.concat(axis=1) instead. To get a de-fragmented frame, use `newframe = frame.copy()`\n",
            "  amostras['Amostra_' + str(i)] = amostra_idade\n",
            "<ipython-input-54-2abac2b94257>:4: PerformanceWarning: DataFrame is highly fragmented.  This is usually the result of calling `frame.insert` many times, which has poor performance.  Consider joining all columns at once using pd.concat(axis=1) instead. To get a de-fragmented frame, use `newframe = frame.copy()`\n",
            "  amostras['Amostra_' + str(i)] = amostra_idade\n",
            "<ipython-input-54-2abac2b94257>:4: PerformanceWarning: DataFrame is highly fragmented.  This is usually the result of calling `frame.insert` many times, which has poor performance.  Consider joining all columns at once using pd.concat(axis=1) instead. To get a de-fragmented frame, use `newframe = frame.copy()`\n",
            "  amostras['Amostra_' + str(i)] = amostra_idade\n",
            "<ipython-input-54-2abac2b94257>:4: PerformanceWarning: DataFrame is highly fragmented.  This is usually the result of calling `frame.insert` many times, which has poor performance.  Consider joining all columns at once using pd.concat(axis=1) instead. To get a de-fragmented frame, use `newframe = frame.copy()`\n",
            "  amostras['Amostra_' + str(i)] = amostra_idade\n",
            "<ipython-input-54-2abac2b94257>:4: PerformanceWarning: DataFrame is highly fragmented.  This is usually the result of calling `frame.insert` many times, which has poor performance.  Consider joining all columns at once using pd.concat(axis=1) instead. To get a de-fragmented frame, use `newframe = frame.copy()`\n",
            "  amostras['Amostra_' + str(i)] = amostra_idade\n",
            "<ipython-input-54-2abac2b94257>:4: PerformanceWarning: DataFrame is highly fragmented.  This is usually the result of calling `frame.insert` many times, which has poor performance.  Consider joining all columns at once using pd.concat(axis=1) instead. To get a de-fragmented frame, use `newframe = frame.copy()`\n",
            "  amostras['Amostra_' + str(i)] = amostra_idade\n",
            "<ipython-input-54-2abac2b94257>:4: PerformanceWarning: DataFrame is highly fragmented.  This is usually the result of calling `frame.insert` many times, which has poor performance.  Consider joining all columns at once using pd.concat(axis=1) instead. To get a de-fragmented frame, use `newframe = frame.copy()`\n",
            "  amostras['Amostra_' + str(i)] = amostra_idade\n",
            "<ipython-input-54-2abac2b94257>:4: PerformanceWarning: DataFrame is highly fragmented.  This is usually the result of calling `frame.insert` many times, which has poor performance.  Consider joining all columns at once using pd.concat(axis=1) instead. To get a de-fragmented frame, use `newframe = frame.copy()`\n",
            "  amostras['Amostra_' + str(i)] = amostra_idade\n",
            "<ipython-input-54-2abac2b94257>:4: PerformanceWarning: DataFrame is highly fragmented.  This is usually the result of calling `frame.insert` many times, which has poor performance.  Consider joining all columns at once using pd.concat(axis=1) instead. To get a de-fragmented frame, use `newframe = frame.copy()`\n",
            "  amostras['Amostra_' + str(i)] = amostra_idade\n",
            "<ipython-input-54-2abac2b94257>:4: PerformanceWarning: DataFrame is highly fragmented.  This is usually the result of calling `frame.insert` many times, which has poor performance.  Consider joining all columns at once using pd.concat(axis=1) instead. To get a de-fragmented frame, use `newframe = frame.copy()`\n",
            "  amostras['Amostra_' + str(i)] = amostra_idade\n",
            "<ipython-input-54-2abac2b94257>:4: PerformanceWarning: DataFrame is highly fragmented.  This is usually the result of calling `frame.insert` many times, which has poor performance.  Consider joining all columns at once using pd.concat(axis=1) instead. To get a de-fragmented frame, use `newframe = frame.copy()`\n",
            "  amostras['Amostra_' + str(i)] = amostra_idade\n",
            "<ipython-input-54-2abac2b94257>:4: PerformanceWarning: DataFrame is highly fragmented.  This is usually the result of calling `frame.insert` many times, which has poor performance.  Consider joining all columns at once using pd.concat(axis=1) instead. To get a de-fragmented frame, use `newframe = frame.copy()`\n",
            "  amostras['Amostra_' + str(i)] = amostra_idade\n",
            "<ipython-input-54-2abac2b94257>:4: PerformanceWarning: DataFrame is highly fragmented.  This is usually the result of calling `frame.insert` many times, which has poor performance.  Consider joining all columns at once using pd.concat(axis=1) instead. To get a de-fragmented frame, use `newframe = frame.copy()`\n",
            "  amostras['Amostra_' + str(i)] = amostra_idade\n",
            "<ipython-input-54-2abac2b94257>:4: PerformanceWarning: DataFrame is highly fragmented.  This is usually the result of calling `frame.insert` many times, which has poor performance.  Consider joining all columns at once using pd.concat(axis=1) instead. To get a de-fragmented frame, use `newframe = frame.copy()`\n",
            "  amostras['Amostra_' + str(i)] = amostra_idade\n",
            "<ipython-input-54-2abac2b94257>:4: PerformanceWarning: DataFrame is highly fragmented.  This is usually the result of calling `frame.insert` many times, which has poor performance.  Consider joining all columns at once using pd.concat(axis=1) instead. To get a de-fragmented frame, use `newframe = frame.copy()`\n",
            "  amostras['Amostra_' + str(i)] = amostra_idade\n",
            "<ipython-input-54-2abac2b94257>:4: PerformanceWarning: DataFrame is highly fragmented.  This is usually the result of calling `frame.insert` many times, which has poor performance.  Consider joining all columns at once using pd.concat(axis=1) instead. To get a de-fragmented frame, use `newframe = frame.copy()`\n",
            "  amostras['Amostra_' + str(i)] = amostra_idade\n",
            "<ipython-input-54-2abac2b94257>:4: PerformanceWarning: DataFrame is highly fragmented.  This is usually the result of calling `frame.insert` many times, which has poor performance.  Consider joining all columns at once using pd.concat(axis=1) instead. To get a de-fragmented frame, use `newframe = frame.copy()`\n",
            "  amostras['Amostra_' + str(i)] = amostra_idade\n",
            "<ipython-input-54-2abac2b94257>:4: PerformanceWarning: DataFrame is highly fragmented.  This is usually the result of calling `frame.insert` many times, which has poor performance.  Consider joining all columns at once using pd.concat(axis=1) instead. To get a de-fragmented frame, use `newframe = frame.copy()`\n",
            "  amostras['Amostra_' + str(i)] = amostra_idade\n",
            "<ipython-input-54-2abac2b94257>:4: PerformanceWarning: DataFrame is highly fragmented.  This is usually the result of calling `frame.insert` many times, which has poor performance.  Consider joining all columns at once using pd.concat(axis=1) instead. To get a de-fragmented frame, use `newframe = frame.copy()`\n",
            "  amostras['Amostra_' + str(i)] = amostra_idade\n",
            "<ipython-input-54-2abac2b94257>:4: PerformanceWarning: DataFrame is highly fragmented.  This is usually the result of calling `frame.insert` many times, which has poor performance.  Consider joining all columns at once using pd.concat(axis=1) instead. To get a de-fragmented frame, use `newframe = frame.copy()`\n",
            "  amostras['Amostra_' + str(i)] = amostra_idade\n",
            "<ipython-input-54-2abac2b94257>:4: PerformanceWarning: DataFrame is highly fragmented.  This is usually the result of calling `frame.insert` many times, which has poor performance.  Consider joining all columns at once using pd.concat(axis=1) instead. To get a de-fragmented frame, use `newframe = frame.copy()`\n",
            "  amostras['Amostra_' + str(i)] = amostra_idade\n",
            "<ipython-input-54-2abac2b94257>:4: PerformanceWarning: DataFrame is highly fragmented.  This is usually the result of calling `frame.insert` many times, which has poor performance.  Consider joining all columns at once using pd.concat(axis=1) instead. To get a de-fragmented frame, use `newframe = frame.copy()`\n",
            "  amostras['Amostra_' + str(i)] = amostra_idade\n",
            "<ipython-input-54-2abac2b94257>:4: PerformanceWarning: DataFrame is highly fragmented.  This is usually the result of calling `frame.insert` many times, which has poor performance.  Consider joining all columns at once using pd.concat(axis=1) instead. To get a de-fragmented frame, use `newframe = frame.copy()`\n",
            "  amostras['Amostra_' + str(i)] = amostra_idade\n",
            "<ipython-input-54-2abac2b94257>:4: PerformanceWarning: DataFrame is highly fragmented.  This is usually the result of calling `frame.insert` many times, which has poor performance.  Consider joining all columns at once using pd.concat(axis=1) instead. To get a de-fragmented frame, use `newframe = frame.copy()`\n",
            "  amostras['Amostra_' + str(i)] = amostra_idade\n",
            "<ipython-input-54-2abac2b94257>:4: PerformanceWarning: DataFrame is highly fragmented.  This is usually the result of calling `frame.insert` many times, which has poor performance.  Consider joining all columns at once using pd.concat(axis=1) instead. To get a de-fragmented frame, use `newframe = frame.copy()`\n",
            "  amostras['Amostra_' + str(i)] = amostra_idade\n",
            "<ipython-input-54-2abac2b94257>:4: PerformanceWarning: DataFrame is highly fragmented.  This is usually the result of calling `frame.insert` many times, which has poor performance.  Consider joining all columns at once using pd.concat(axis=1) instead. To get a de-fragmented frame, use `newframe = frame.copy()`\n",
            "  amostras['Amostra_' + str(i)] = amostra_idade\n",
            "<ipython-input-54-2abac2b94257>:4: PerformanceWarning: DataFrame is highly fragmented.  This is usually the result of calling `frame.insert` many times, which has poor performance.  Consider joining all columns at once using pd.concat(axis=1) instead. To get a de-fragmented frame, use `newframe = frame.copy()`\n",
            "  amostras['Amostra_' + str(i)] = amostra_idade\n",
            "<ipython-input-54-2abac2b94257>:4: PerformanceWarning: DataFrame is highly fragmented.  This is usually the result of calling `frame.insert` many times, which has poor performance.  Consider joining all columns at once using pd.concat(axis=1) instead. To get a de-fragmented frame, use `newframe = frame.copy()`\n",
            "  amostras['Amostra_' + str(i)] = amostra_idade\n",
            "<ipython-input-54-2abac2b94257>:4: PerformanceWarning: DataFrame is highly fragmented.  This is usually the result of calling `frame.insert` many times, which has poor performance.  Consider joining all columns at once using pd.concat(axis=1) instead. To get a de-fragmented frame, use `newframe = frame.copy()`\n",
            "  amostras['Amostra_' + str(i)] = amostra_idade\n",
            "<ipython-input-54-2abac2b94257>:4: PerformanceWarning: DataFrame is highly fragmented.  This is usually the result of calling `frame.insert` many times, which has poor performance.  Consider joining all columns at once using pd.concat(axis=1) instead. To get a de-fragmented frame, use `newframe = frame.copy()`\n",
            "  amostras['Amostra_' + str(i)] = amostra_idade\n",
            "<ipython-input-54-2abac2b94257>:4: PerformanceWarning: DataFrame is highly fragmented.  This is usually the result of calling `frame.insert` many times, which has poor performance.  Consider joining all columns at once using pd.concat(axis=1) instead. To get a de-fragmented frame, use `newframe = frame.copy()`\n",
            "  amostras['Amostra_' + str(i)] = amostra_idade\n",
            "<ipython-input-54-2abac2b94257>:4: PerformanceWarning: DataFrame is highly fragmented.  This is usually the result of calling `frame.insert` many times, which has poor performance.  Consider joining all columns at once using pd.concat(axis=1) instead. To get a de-fragmented frame, use `newframe = frame.copy()`\n",
            "  amostras['Amostra_' + str(i)] = amostra_idade\n",
            "<ipython-input-54-2abac2b94257>:4: PerformanceWarning: DataFrame is highly fragmented.  This is usually the result of calling `frame.insert` many times, which has poor performance.  Consider joining all columns at once using pd.concat(axis=1) instead. To get a de-fragmented frame, use `newframe = frame.copy()`\n",
            "  amostras['Amostra_' + str(i)] = amostra_idade\n",
            "<ipython-input-54-2abac2b94257>:4: PerformanceWarning: DataFrame is highly fragmented.  This is usually the result of calling `frame.insert` many times, which has poor performance.  Consider joining all columns at once using pd.concat(axis=1) instead. To get a de-fragmented frame, use `newframe = frame.copy()`\n",
            "  amostras['Amostra_' + str(i)] = amostra_idade\n",
            "<ipython-input-54-2abac2b94257>:4: PerformanceWarning: DataFrame is highly fragmented.  This is usually the result of calling `frame.insert` many times, which has poor performance.  Consider joining all columns at once using pd.concat(axis=1) instead. To get a de-fragmented frame, use `newframe = frame.copy()`\n",
            "  amostras['Amostra_' + str(i)] = amostra_idade\n",
            "<ipython-input-54-2abac2b94257>:4: PerformanceWarning: DataFrame is highly fragmented.  This is usually the result of calling `frame.insert` many times, which has poor performance.  Consider joining all columns at once using pd.concat(axis=1) instead. To get a de-fragmented frame, use `newframe = frame.copy()`\n",
            "  amostras['Amostra_' + str(i)] = amostra_idade\n",
            "<ipython-input-54-2abac2b94257>:4: PerformanceWarning: DataFrame is highly fragmented.  This is usually the result of calling `frame.insert` many times, which has poor performance.  Consider joining all columns at once using pd.concat(axis=1) instead. To get a de-fragmented frame, use `newframe = frame.copy()`\n",
            "  amostras['Amostra_' + str(i)] = amostra_idade\n",
            "<ipython-input-54-2abac2b94257>:4: PerformanceWarning: DataFrame is highly fragmented.  This is usually the result of calling `frame.insert` many times, which has poor performance.  Consider joining all columns at once using pd.concat(axis=1) instead. To get a de-fragmented frame, use `newframe = frame.copy()`\n",
            "  amostras['Amostra_' + str(i)] = amostra_idade\n",
            "<ipython-input-54-2abac2b94257>:4: PerformanceWarning: DataFrame is highly fragmented.  This is usually the result of calling `frame.insert` many times, which has poor performance.  Consider joining all columns at once using pd.concat(axis=1) instead. To get a de-fragmented frame, use `newframe = frame.copy()`\n",
            "  amostras['Amostra_' + str(i)] = amostra_idade\n",
            "<ipython-input-54-2abac2b94257>:4: PerformanceWarning: DataFrame is highly fragmented.  This is usually the result of calling `frame.insert` many times, which has poor performance.  Consider joining all columns at once using pd.concat(axis=1) instead. To get a de-fragmented frame, use `newframe = frame.copy()`\n",
            "  amostras['Amostra_' + str(i)] = amostra_idade\n",
            "<ipython-input-54-2abac2b94257>:4: PerformanceWarning: DataFrame is highly fragmented.  This is usually the result of calling `frame.insert` many times, which has poor performance.  Consider joining all columns at once using pd.concat(axis=1) instead. To get a de-fragmented frame, use `newframe = frame.copy()`\n",
            "  amostras['Amostra_' + str(i)] = amostra_idade\n",
            "<ipython-input-54-2abac2b94257>:4: PerformanceWarning: DataFrame is highly fragmented.  This is usually the result of calling `frame.insert` many times, which has poor performance.  Consider joining all columns at once using pd.concat(axis=1) instead. To get a de-fragmented frame, use `newframe = frame.copy()`\n",
            "  amostras['Amostra_' + str(i)] = amostra_idade\n",
            "<ipython-input-54-2abac2b94257>:4: PerformanceWarning: DataFrame is highly fragmented.  This is usually the result of calling `frame.insert` many times, which has poor performance.  Consider joining all columns at once using pd.concat(axis=1) instead. To get a de-fragmented frame, use `newframe = frame.copy()`\n",
            "  amostras['Amostra_' + str(i)] = amostra_idade\n",
            "<ipython-input-54-2abac2b94257>:4: PerformanceWarning: DataFrame is highly fragmented.  This is usually the result of calling `frame.insert` many times, which has poor performance.  Consider joining all columns at once using pd.concat(axis=1) instead. To get a de-fragmented frame, use `newframe = frame.copy()`\n",
            "  amostras['Amostra_' + str(i)] = amostra_idade\n",
            "<ipython-input-54-2abac2b94257>:4: PerformanceWarning: DataFrame is highly fragmented.  This is usually the result of calling `frame.insert` many times, which has poor performance.  Consider joining all columns at once using pd.concat(axis=1) instead. To get a de-fragmented frame, use `newframe = frame.copy()`\n",
            "  amostras['Amostra_' + str(i)] = amostra_idade\n",
            "<ipython-input-54-2abac2b94257>:4: PerformanceWarning: DataFrame is highly fragmented.  This is usually the result of calling `frame.insert` many times, which has poor performance.  Consider joining all columns at once using pd.concat(axis=1) instead. To get a de-fragmented frame, use `newframe = frame.copy()`\n",
            "  amostras['Amostra_' + str(i)] = amostra_idade\n",
            "<ipython-input-54-2abac2b94257>:4: PerformanceWarning: DataFrame is highly fragmented.  This is usually the result of calling `frame.insert` many times, which has poor performance.  Consider joining all columns at once using pd.concat(axis=1) instead. To get a de-fragmented frame, use `newframe = frame.copy()`\n",
            "  amostras['Amostra_' + str(i)] = amostra_idade\n",
            "<ipython-input-54-2abac2b94257>:4: PerformanceWarning: DataFrame is highly fragmented.  This is usually the result of calling `frame.insert` many times, which has poor performance.  Consider joining all columns at once using pd.concat(axis=1) instead. To get a de-fragmented frame, use `newframe = frame.copy()`\n",
            "  amostras['Amostra_' + str(i)] = amostra_idade\n",
            "<ipython-input-54-2abac2b94257>:4: PerformanceWarning: DataFrame is highly fragmented.  This is usually the result of calling `frame.insert` many times, which has poor performance.  Consider joining all columns at once using pd.concat(axis=1) instead. To get a de-fragmented frame, use `newframe = frame.copy()`\n",
            "  amostras['Amostra_' + str(i)] = amostra_idade\n",
            "<ipython-input-54-2abac2b94257>:4: PerformanceWarning: DataFrame is highly fragmented.  This is usually the result of calling `frame.insert` many times, which has poor performance.  Consider joining all columns at once using pd.concat(axis=1) instead. To get a de-fragmented frame, use `newframe = frame.copy()`\n",
            "  amostras['Amostra_' + str(i)] = amostra_idade\n",
            "<ipython-input-54-2abac2b94257>:4: PerformanceWarning: DataFrame is highly fragmented.  This is usually the result of calling `frame.insert` many times, which has poor performance.  Consider joining all columns at once using pd.concat(axis=1) instead. To get a de-fragmented frame, use `newframe = frame.copy()`\n",
            "  amostras['Amostra_' + str(i)] = amostra_idade\n",
            "<ipython-input-54-2abac2b94257>:4: PerformanceWarning: DataFrame is highly fragmented.  This is usually the result of calling `frame.insert` many times, which has poor performance.  Consider joining all columns at once using pd.concat(axis=1) instead. To get a de-fragmented frame, use `newframe = frame.copy()`\n",
            "  amostras['Amostra_' + str(i)] = amostra_idade\n",
            "<ipython-input-54-2abac2b94257>:4: PerformanceWarning: DataFrame is highly fragmented.  This is usually the result of calling `frame.insert` many times, which has poor performance.  Consider joining all columns at once using pd.concat(axis=1) instead. To get a de-fragmented frame, use `newframe = frame.copy()`\n",
            "  amostras['Amostra_' + str(i)] = amostra_idade\n",
            "<ipython-input-54-2abac2b94257>:4: PerformanceWarning: DataFrame is highly fragmented.  This is usually the result of calling `frame.insert` many times, which has poor performance.  Consider joining all columns at once using pd.concat(axis=1) instead. To get a de-fragmented frame, use `newframe = frame.copy()`\n",
            "  amostras['Amostra_' + str(i)] = amostra_idade\n",
            "<ipython-input-54-2abac2b94257>:4: PerformanceWarning: DataFrame is highly fragmented.  This is usually the result of calling `frame.insert` many times, which has poor performance.  Consider joining all columns at once using pd.concat(axis=1) instead. To get a de-fragmented frame, use `newframe = frame.copy()`\n",
            "  amostras['Amostra_' + str(i)] = amostra_idade\n",
            "<ipython-input-54-2abac2b94257>:4: PerformanceWarning: DataFrame is highly fragmented.  This is usually the result of calling `frame.insert` many times, which has poor performance.  Consider joining all columns at once using pd.concat(axis=1) instead. To get a de-fragmented frame, use `newframe = frame.copy()`\n",
            "  amostras['Amostra_' + str(i)] = amostra_idade\n",
            "<ipython-input-54-2abac2b94257>:4: PerformanceWarning: DataFrame is highly fragmented.  This is usually the result of calling `frame.insert` many times, which has poor performance.  Consider joining all columns at once using pd.concat(axis=1) instead. To get a de-fragmented frame, use `newframe = frame.copy()`\n",
            "  amostras['Amostra_' + str(i)] = amostra_idade\n",
            "<ipython-input-54-2abac2b94257>:4: PerformanceWarning: DataFrame is highly fragmented.  This is usually the result of calling `frame.insert` many times, which has poor performance.  Consider joining all columns at once using pd.concat(axis=1) instead. To get a de-fragmented frame, use `newframe = frame.copy()`\n",
            "  amostras['Amostra_' + str(i)] = amostra_idade\n",
            "<ipython-input-54-2abac2b94257>:4: PerformanceWarning: DataFrame is highly fragmented.  This is usually the result of calling `frame.insert` many times, which has poor performance.  Consider joining all columns at once using pd.concat(axis=1) instead. To get a de-fragmented frame, use `newframe = frame.copy()`\n",
            "  amostras['Amostra_' + str(i)] = amostra_idade\n",
            "<ipython-input-54-2abac2b94257>:4: PerformanceWarning: DataFrame is highly fragmented.  This is usually the result of calling `frame.insert` many times, which has poor performance.  Consider joining all columns at once using pd.concat(axis=1) instead. To get a de-fragmented frame, use `newframe = frame.copy()`\n",
            "  amostras['Amostra_' + str(i)] = amostra_idade\n",
            "<ipython-input-54-2abac2b94257>:4: PerformanceWarning: DataFrame is highly fragmented.  This is usually the result of calling `frame.insert` many times, which has poor performance.  Consider joining all columns at once using pd.concat(axis=1) instead. To get a de-fragmented frame, use `newframe = frame.copy()`\n",
            "  amostras['Amostra_' + str(i)] = amostra_idade\n",
            "<ipython-input-54-2abac2b94257>:4: PerformanceWarning: DataFrame is highly fragmented.  This is usually the result of calling `frame.insert` many times, which has poor performance.  Consider joining all columns at once using pd.concat(axis=1) instead. To get a de-fragmented frame, use `newframe = frame.copy()`\n",
            "  amostras['Amostra_' + str(i)] = amostra_idade\n",
            "<ipython-input-54-2abac2b94257>:4: PerformanceWarning: DataFrame is highly fragmented.  This is usually the result of calling `frame.insert` many times, which has poor performance.  Consider joining all columns at once using pd.concat(axis=1) instead. To get a de-fragmented frame, use `newframe = frame.copy()`\n",
            "  amostras['Amostra_' + str(i)] = amostra_idade\n",
            "<ipython-input-54-2abac2b94257>:4: PerformanceWarning: DataFrame is highly fragmented.  This is usually the result of calling `frame.insert` many times, which has poor performance.  Consider joining all columns at once using pd.concat(axis=1) instead. To get a de-fragmented frame, use `newframe = frame.copy()`\n",
            "  amostras['Amostra_' + str(i)] = amostra_idade\n",
            "<ipython-input-54-2abac2b94257>:4: PerformanceWarning: DataFrame is highly fragmented.  This is usually the result of calling `frame.insert` many times, which has poor performance.  Consider joining all columns at once using pd.concat(axis=1) instead. To get a de-fragmented frame, use `newframe = frame.copy()`\n",
            "  amostras['Amostra_' + str(i)] = amostra_idade\n",
            "<ipython-input-54-2abac2b94257>:4: PerformanceWarning: DataFrame is highly fragmented.  This is usually the result of calling `frame.insert` many times, which has poor performance.  Consider joining all columns at once using pd.concat(axis=1) instead. To get a de-fragmented frame, use `newframe = frame.copy()`\n",
            "  amostras['Amostra_' + str(i)] = amostra_idade\n",
            "<ipython-input-54-2abac2b94257>:4: PerformanceWarning: DataFrame is highly fragmented.  This is usually the result of calling `frame.insert` many times, which has poor performance.  Consider joining all columns at once using pd.concat(axis=1) instead. To get a de-fragmented frame, use `newframe = frame.copy()`\n",
            "  amostras['Amostra_' + str(i)] = amostra_idade\n",
            "<ipython-input-54-2abac2b94257>:4: PerformanceWarning: DataFrame is highly fragmented.  This is usually the result of calling `frame.insert` many times, which has poor performance.  Consider joining all columns at once using pd.concat(axis=1) instead. To get a de-fragmented frame, use `newframe = frame.copy()`\n",
            "  amostras['Amostra_' + str(i)] = amostra_idade\n",
            "<ipython-input-54-2abac2b94257>:4: PerformanceWarning: DataFrame is highly fragmented.  This is usually the result of calling `frame.insert` many times, which has poor performance.  Consider joining all columns at once using pd.concat(axis=1) instead. To get a de-fragmented frame, use `newframe = frame.copy()`\n",
            "  amostras['Amostra_' + str(i)] = amostra_idade\n",
            "<ipython-input-54-2abac2b94257>:4: PerformanceWarning: DataFrame is highly fragmented.  This is usually the result of calling `frame.insert` many times, which has poor performance.  Consider joining all columns at once using pd.concat(axis=1) instead. To get a de-fragmented frame, use `newframe = frame.copy()`\n",
            "  amostras['Amostra_' + str(i)] = amostra_idade\n",
            "<ipython-input-54-2abac2b94257>:4: PerformanceWarning: DataFrame is highly fragmented.  This is usually the result of calling `frame.insert` many times, which has poor performance.  Consider joining all columns at once using pd.concat(axis=1) instead. To get a de-fragmented frame, use `newframe = frame.copy()`\n",
            "  amostras['Amostra_' + str(i)] = amostra_idade\n",
            "<ipython-input-54-2abac2b94257>:4: PerformanceWarning: DataFrame is highly fragmented.  This is usually the result of calling `frame.insert` many times, which has poor performance.  Consider joining all columns at once using pd.concat(axis=1) instead. To get a de-fragmented frame, use `newframe = frame.copy()`\n",
            "  amostras['Amostra_' + str(i)] = amostra_idade\n",
            "<ipython-input-54-2abac2b94257>:4: PerformanceWarning: DataFrame is highly fragmented.  This is usually the result of calling `frame.insert` many times, which has poor performance.  Consider joining all columns at once using pd.concat(axis=1) instead. To get a de-fragmented frame, use `newframe = frame.copy()`\n",
            "  amostras['Amostra_' + str(i)] = amostra_idade\n",
            "<ipython-input-54-2abac2b94257>:4: PerformanceWarning: DataFrame is highly fragmented.  This is usually the result of calling `frame.insert` many times, which has poor performance.  Consider joining all columns at once using pd.concat(axis=1) instead. To get a de-fragmented frame, use `newframe = frame.copy()`\n",
            "  amostras['Amostra_' + str(i)] = amostra_idade\n",
            "<ipython-input-54-2abac2b94257>:4: PerformanceWarning: DataFrame is highly fragmented.  This is usually the result of calling `frame.insert` many times, which has poor performance.  Consider joining all columns at once using pd.concat(axis=1) instead. To get a de-fragmented frame, use `newframe = frame.copy()`\n",
            "  amostras['Amostra_' + str(i)] = amostra_idade\n",
            "<ipython-input-54-2abac2b94257>:4: PerformanceWarning: DataFrame is highly fragmented.  This is usually the result of calling `frame.insert` many times, which has poor performance.  Consider joining all columns at once using pd.concat(axis=1) instead. To get a de-fragmented frame, use `newframe = frame.copy()`\n",
            "  amostras['Amostra_' + str(i)] = amostra_idade\n",
            "<ipython-input-54-2abac2b94257>:4: PerformanceWarning: DataFrame is highly fragmented.  This is usually the result of calling `frame.insert` many times, which has poor performance.  Consider joining all columns at once using pd.concat(axis=1) instead. To get a de-fragmented frame, use `newframe = frame.copy()`\n",
            "  amostras['Amostra_' + str(i)] = amostra_idade\n",
            "<ipython-input-54-2abac2b94257>:4: PerformanceWarning: DataFrame is highly fragmented.  This is usually the result of calling `frame.insert` many times, which has poor performance.  Consider joining all columns at once using pd.concat(axis=1) instead. To get a de-fragmented frame, use `newframe = frame.copy()`\n",
            "  amostras['Amostra_' + str(i)] = amostra_idade\n",
            "<ipython-input-54-2abac2b94257>:4: PerformanceWarning: DataFrame is highly fragmented.  This is usually the result of calling `frame.insert` many times, which has poor performance.  Consider joining all columns at once using pd.concat(axis=1) instead. To get a de-fragmented frame, use `newframe = frame.copy()`\n",
            "  amostras['Amostra_' + str(i)] = amostra_idade\n",
            "<ipython-input-54-2abac2b94257>:4: PerformanceWarning: DataFrame is highly fragmented.  This is usually the result of calling `frame.insert` many times, which has poor performance.  Consider joining all columns at once using pd.concat(axis=1) instead. To get a de-fragmented frame, use `newframe = frame.copy()`\n",
            "  amostras['Amostra_' + str(i)] = amostra_idade\n",
            "<ipython-input-54-2abac2b94257>:4: PerformanceWarning: DataFrame is highly fragmented.  This is usually the result of calling `frame.insert` many times, which has poor performance.  Consider joining all columns at once using pd.concat(axis=1) instead. To get a de-fragmented frame, use `newframe = frame.copy()`\n",
            "  amostras['Amostra_' + str(i)] = amostra_idade\n",
            "<ipython-input-54-2abac2b94257>:4: PerformanceWarning: DataFrame is highly fragmented.  This is usually the result of calling `frame.insert` many times, which has poor performance.  Consider joining all columns at once using pd.concat(axis=1) instead. To get a de-fragmented frame, use `newframe = frame.copy()`\n",
            "  amostras['Amostra_' + str(i)] = amostra_idade\n",
            "<ipython-input-54-2abac2b94257>:4: PerformanceWarning: DataFrame is highly fragmented.  This is usually the result of calling `frame.insert` many times, which has poor performance.  Consider joining all columns at once using pd.concat(axis=1) instead. To get a de-fragmented frame, use `newframe = frame.copy()`\n",
            "  amostras['Amostra_' + str(i)] = amostra_idade\n",
            "<ipython-input-54-2abac2b94257>:4: PerformanceWarning: DataFrame is highly fragmented.  This is usually the result of calling `frame.insert` many times, which has poor performance.  Consider joining all columns at once using pd.concat(axis=1) instead. To get a de-fragmented frame, use `newframe = frame.copy()`\n",
            "  amostras['Amostra_' + str(i)] = amostra_idade\n",
            "<ipython-input-54-2abac2b94257>:4: PerformanceWarning: DataFrame is highly fragmented.  This is usually the result of calling `frame.insert` many times, which has poor performance.  Consider joining all columns at once using pd.concat(axis=1) instead. To get a de-fragmented frame, use `newframe = frame.copy()`\n",
            "  amostras['Amostra_' + str(i)] = amostra_idade\n",
            "<ipython-input-54-2abac2b94257>:4: PerformanceWarning: DataFrame is highly fragmented.  This is usually the result of calling `frame.insert` many times, which has poor performance.  Consider joining all columns at once using pd.concat(axis=1) instead. To get a de-fragmented frame, use `newframe = frame.copy()`\n",
            "  amostras['Amostra_' + str(i)] = amostra_idade\n",
            "<ipython-input-54-2abac2b94257>:4: PerformanceWarning: DataFrame is highly fragmented.  This is usually the result of calling `frame.insert` many times, which has poor performance.  Consider joining all columns at once using pd.concat(axis=1) instead. To get a de-fragmented frame, use `newframe = frame.copy()`\n",
            "  amostras['Amostra_' + str(i)] = amostra_idade\n",
            "<ipython-input-54-2abac2b94257>:4: PerformanceWarning: DataFrame is highly fragmented.  This is usually the result of calling `frame.insert` many times, which has poor performance.  Consider joining all columns at once using pd.concat(axis=1) instead. To get a de-fragmented frame, use `newframe = frame.copy()`\n",
            "  amostras['Amostra_' + str(i)] = amostra_idade\n",
            "<ipython-input-54-2abac2b94257>:4: PerformanceWarning: DataFrame is highly fragmented.  This is usually the result of calling `frame.insert` many times, which has poor performance.  Consider joining all columns at once using pd.concat(axis=1) instead. To get a de-fragmented frame, use `newframe = frame.copy()`\n",
            "  amostras['Amostra_' + str(i)] = amostra_idade\n",
            "<ipython-input-54-2abac2b94257>:4: PerformanceWarning: DataFrame is highly fragmented.  This is usually the result of calling `frame.insert` many times, which has poor performance.  Consider joining all columns at once using pd.concat(axis=1) instead. To get a de-fragmented frame, use `newframe = frame.copy()`\n",
            "  amostras['Amostra_' + str(i)] = amostra_idade\n",
            "<ipython-input-54-2abac2b94257>:4: PerformanceWarning: DataFrame is highly fragmented.  This is usually the result of calling `frame.insert` many times, which has poor performance.  Consider joining all columns at once using pd.concat(axis=1) instead. To get a de-fragmented frame, use `newframe = frame.copy()`\n",
            "  amostras['Amostra_' + str(i)] = amostra_idade\n",
            "<ipython-input-54-2abac2b94257>:4: PerformanceWarning: DataFrame is highly fragmented.  This is usually the result of calling `frame.insert` many times, which has poor performance.  Consider joining all columns at once using pd.concat(axis=1) instead. To get a de-fragmented frame, use `newframe = frame.copy()`\n",
            "  amostras['Amostra_' + str(i)] = amostra_idade\n",
            "<ipython-input-54-2abac2b94257>:4: PerformanceWarning: DataFrame is highly fragmented.  This is usually the result of calling `frame.insert` many times, which has poor performance.  Consider joining all columns at once using pd.concat(axis=1) instead. To get a de-fragmented frame, use `newframe = frame.copy()`\n",
            "  amostras['Amostra_' + str(i)] = amostra_idade\n",
            "<ipython-input-54-2abac2b94257>:4: PerformanceWarning: DataFrame is highly fragmented.  This is usually the result of calling `frame.insert` many times, which has poor performance.  Consider joining all columns at once using pd.concat(axis=1) instead. To get a de-fragmented frame, use `newframe = frame.copy()`\n",
            "  amostras['Amostra_' + str(i)] = amostra_idade\n",
            "<ipython-input-54-2abac2b94257>:4: PerformanceWarning: DataFrame is highly fragmented.  This is usually the result of calling `frame.insert` many times, which has poor performance.  Consider joining all columns at once using pd.concat(axis=1) instead. To get a de-fragmented frame, use `newframe = frame.copy()`\n",
            "  amostras['Amostra_' + str(i)] = amostra_idade\n",
            "<ipython-input-54-2abac2b94257>:4: PerformanceWarning: DataFrame is highly fragmented.  This is usually the result of calling `frame.insert` many times, which has poor performance.  Consider joining all columns at once using pd.concat(axis=1) instead. To get a de-fragmented frame, use `newframe = frame.copy()`\n",
            "  amostras['Amostra_' + str(i)] = amostra_idade\n",
            "<ipython-input-54-2abac2b94257>:4: PerformanceWarning: DataFrame is highly fragmented.  This is usually the result of calling `frame.insert` many times, which has poor performance.  Consider joining all columns at once using pd.concat(axis=1) instead. To get a de-fragmented frame, use `newframe = frame.copy()`\n",
            "  amostras['Amostra_' + str(i)] = amostra_idade\n",
            "<ipython-input-54-2abac2b94257>:4: PerformanceWarning: DataFrame is highly fragmented.  This is usually the result of calling `frame.insert` many times, which has poor performance.  Consider joining all columns at once using pd.concat(axis=1) instead. To get a de-fragmented frame, use `newframe = frame.copy()`\n",
            "  amostras['Amostra_' + str(i)] = amostra_idade\n",
            "<ipython-input-54-2abac2b94257>:4: PerformanceWarning: DataFrame is highly fragmented.  This is usually the result of calling `frame.insert` many times, which has poor performance.  Consider joining all columns at once using pd.concat(axis=1) instead. To get a de-fragmented frame, use `newframe = frame.copy()`\n",
            "  amostras['Amostra_' + str(i)] = amostra_idade\n",
            "<ipython-input-54-2abac2b94257>:4: PerformanceWarning: DataFrame is highly fragmented.  This is usually the result of calling `frame.insert` many times, which has poor performance.  Consider joining all columns at once using pd.concat(axis=1) instead. To get a de-fragmented frame, use `newframe = frame.copy()`\n",
            "  amostras['Amostra_' + str(i)] = amostra_idade\n",
            "<ipython-input-54-2abac2b94257>:4: PerformanceWarning: DataFrame is highly fragmented.  This is usually the result of calling `frame.insert` many times, which has poor performance.  Consider joining all columns at once using pd.concat(axis=1) instead. To get a de-fragmented frame, use `newframe = frame.copy()`\n",
            "  amostras['Amostra_' + str(i)] = amostra_idade\n",
            "<ipython-input-54-2abac2b94257>:4: PerformanceWarning: DataFrame is highly fragmented.  This is usually the result of calling `frame.insert` many times, which has poor performance.  Consider joining all columns at once using pd.concat(axis=1) instead. To get a de-fragmented frame, use `newframe = frame.copy()`\n",
            "  amostras['Amostra_' + str(i)] = amostra_idade\n",
            "<ipython-input-54-2abac2b94257>:4: PerformanceWarning: DataFrame is highly fragmented.  This is usually the result of calling `frame.insert` many times, which has poor performance.  Consider joining all columns at once using pd.concat(axis=1) instead. To get a de-fragmented frame, use `newframe = frame.copy()`\n",
            "  amostras['Amostra_' + str(i)] = amostra_idade\n",
            "<ipython-input-54-2abac2b94257>:4: PerformanceWarning: DataFrame is highly fragmented.  This is usually the result of calling `frame.insert` many times, which has poor performance.  Consider joining all columns at once using pd.concat(axis=1) instead. To get a de-fragmented frame, use `newframe = frame.copy()`\n",
            "  amostras['Amostra_' + str(i)] = amostra_idade\n",
            "<ipython-input-54-2abac2b94257>:4: PerformanceWarning: DataFrame is highly fragmented.  This is usually the result of calling `frame.insert` many times, which has poor performance.  Consider joining all columns at once using pd.concat(axis=1) instead. To get a de-fragmented frame, use `newframe = frame.copy()`\n",
            "  amostras['Amostra_' + str(i)] = amostra_idade\n",
            "<ipython-input-54-2abac2b94257>:4: PerformanceWarning: DataFrame is highly fragmented.  This is usually the result of calling `frame.insert` many times, which has poor performance.  Consider joining all columns at once using pd.concat(axis=1) instead. To get a de-fragmented frame, use `newframe = frame.copy()`\n",
            "  amostras['Amostra_' + str(i)] = amostra_idade\n",
            "<ipython-input-54-2abac2b94257>:4: PerformanceWarning: DataFrame is highly fragmented.  This is usually the result of calling `frame.insert` many times, which has poor performance.  Consider joining all columns at once using pd.concat(axis=1) instead. To get a de-fragmented frame, use `newframe = frame.copy()`\n",
            "  amostras['Amostra_' + str(i)] = amostra_idade\n",
            "<ipython-input-54-2abac2b94257>:4: PerformanceWarning: DataFrame is highly fragmented.  This is usually the result of calling `frame.insert` many times, which has poor performance.  Consider joining all columns at once using pd.concat(axis=1) instead. To get a de-fragmented frame, use `newframe = frame.copy()`\n",
            "  amostras['Amostra_' + str(i)] = amostra_idade\n",
            "<ipython-input-54-2abac2b94257>:4: PerformanceWarning: DataFrame is highly fragmented.  This is usually the result of calling `frame.insert` many times, which has poor performance.  Consider joining all columns at once using pd.concat(axis=1) instead. To get a de-fragmented frame, use `newframe = frame.copy()`\n",
            "  amostras['Amostra_' + str(i)] = amostra_idade\n",
            "<ipython-input-54-2abac2b94257>:4: PerformanceWarning: DataFrame is highly fragmented.  This is usually the result of calling `frame.insert` many times, which has poor performance.  Consider joining all columns at once using pd.concat(axis=1) instead. To get a de-fragmented frame, use `newframe = frame.copy()`\n",
            "  amostras['Amostra_' + str(i)] = amostra_idade\n",
            "<ipython-input-54-2abac2b94257>:4: PerformanceWarning: DataFrame is highly fragmented.  This is usually the result of calling `frame.insert` many times, which has poor performance.  Consider joining all columns at once using pd.concat(axis=1) instead. To get a de-fragmented frame, use `newframe = frame.copy()`\n",
            "  amostras['Amostra_' + str(i)] = amostra_idade\n",
            "<ipython-input-54-2abac2b94257>:4: PerformanceWarning: DataFrame is highly fragmented.  This is usually the result of calling `frame.insert` many times, which has poor performance.  Consider joining all columns at once using pd.concat(axis=1) instead. To get a de-fragmented frame, use `newframe = frame.copy()`\n",
            "  amostras['Amostra_' + str(i)] = amostra_idade\n",
            "<ipython-input-54-2abac2b94257>:4: PerformanceWarning: DataFrame is highly fragmented.  This is usually the result of calling `frame.insert` many times, which has poor performance.  Consider joining all columns at once using pd.concat(axis=1) instead. To get a de-fragmented frame, use `newframe = frame.copy()`\n",
            "  amostras['Amostra_' + str(i)] = amostra_idade\n",
            "<ipython-input-54-2abac2b94257>:4: PerformanceWarning: DataFrame is highly fragmented.  This is usually the result of calling `frame.insert` many times, which has poor performance.  Consider joining all columns at once using pd.concat(axis=1) instead. To get a de-fragmented frame, use `newframe = frame.copy()`\n",
            "  amostras['Amostra_' + str(i)] = amostra_idade\n",
            "<ipython-input-54-2abac2b94257>:4: PerformanceWarning: DataFrame is highly fragmented.  This is usually the result of calling `frame.insert` many times, which has poor performance.  Consider joining all columns at once using pd.concat(axis=1) instead. To get a de-fragmented frame, use `newframe = frame.copy()`\n",
            "  amostras['Amostra_' + str(i)] = amostra_idade\n",
            "<ipython-input-54-2abac2b94257>:4: PerformanceWarning: DataFrame is highly fragmented.  This is usually the result of calling `frame.insert` many times, which has poor performance.  Consider joining all columns at once using pd.concat(axis=1) instead. To get a de-fragmented frame, use `newframe = frame.copy()`\n",
            "  amostras['Amostra_' + str(i)] = amostra_idade\n",
            "<ipython-input-54-2abac2b94257>:4: PerformanceWarning: DataFrame is highly fragmented.  This is usually the result of calling `frame.insert` many times, which has poor performance.  Consider joining all columns at once using pd.concat(axis=1) instead. To get a de-fragmented frame, use `newframe = frame.copy()`\n",
            "  amostras['Amostra_' + str(i)] = amostra_idade\n",
            "<ipython-input-54-2abac2b94257>:4: PerformanceWarning: DataFrame is highly fragmented.  This is usually the result of calling `frame.insert` many times, which has poor performance.  Consider joining all columns at once using pd.concat(axis=1) instead. To get a de-fragmented frame, use `newframe = frame.copy()`\n",
            "  amostras['Amostra_' + str(i)] = amostra_idade\n",
            "<ipython-input-54-2abac2b94257>:4: PerformanceWarning: DataFrame is highly fragmented.  This is usually the result of calling `frame.insert` many times, which has poor performance.  Consider joining all columns at once using pd.concat(axis=1) instead. To get a de-fragmented frame, use `newframe = frame.copy()`\n",
            "  amostras['Amostra_' + str(i)] = amostra_idade\n",
            "<ipython-input-54-2abac2b94257>:4: PerformanceWarning: DataFrame is highly fragmented.  This is usually the result of calling `frame.insert` many times, which has poor performance.  Consider joining all columns at once using pd.concat(axis=1) instead. To get a de-fragmented frame, use `newframe = frame.copy()`\n",
            "  amostras['Amostra_' + str(i)] = amostra_idade\n",
            "<ipython-input-54-2abac2b94257>:4: PerformanceWarning: DataFrame is highly fragmented.  This is usually the result of calling `frame.insert` many times, which has poor performance.  Consider joining all columns at once using pd.concat(axis=1) instead. To get a de-fragmented frame, use `newframe = frame.copy()`\n",
            "  amostras['Amostra_' + str(i)] = amostra_idade\n",
            "<ipython-input-54-2abac2b94257>:4: PerformanceWarning: DataFrame is highly fragmented.  This is usually the result of calling `frame.insert` many times, which has poor performance.  Consider joining all columns at once using pd.concat(axis=1) instead. To get a de-fragmented frame, use `newframe = frame.copy()`\n",
            "  amostras['Amostra_' + str(i)] = amostra_idade\n",
            "<ipython-input-54-2abac2b94257>:4: PerformanceWarning: DataFrame is highly fragmented.  This is usually the result of calling `frame.insert` many times, which has poor performance.  Consider joining all columns at once using pd.concat(axis=1) instead. To get a de-fragmented frame, use `newframe = frame.copy()`\n",
            "  amostras['Amostra_' + str(i)] = amostra_idade\n",
            "<ipython-input-54-2abac2b94257>:4: PerformanceWarning: DataFrame is highly fragmented.  This is usually the result of calling `frame.insert` many times, which has poor performance.  Consider joining all columns at once using pd.concat(axis=1) instead. To get a de-fragmented frame, use `newframe = frame.copy()`\n",
            "  amostras['Amostra_' + str(i)] = amostra_idade\n",
            "<ipython-input-54-2abac2b94257>:4: PerformanceWarning: DataFrame is highly fragmented.  This is usually the result of calling `frame.insert` many times, which has poor performance.  Consider joining all columns at once using pd.concat(axis=1) instead. To get a de-fragmented frame, use `newframe = frame.copy()`\n",
            "  amostras['Amostra_' + str(i)] = amostra_idade\n",
            "<ipython-input-54-2abac2b94257>:4: PerformanceWarning: DataFrame is highly fragmented.  This is usually the result of calling `frame.insert` many times, which has poor performance.  Consider joining all columns at once using pd.concat(axis=1) instead. To get a de-fragmented frame, use `newframe = frame.copy()`\n",
            "  amostras['Amostra_' + str(i)] = amostra_idade\n",
            "<ipython-input-54-2abac2b94257>:4: PerformanceWarning: DataFrame is highly fragmented.  This is usually the result of calling `frame.insert` many times, which has poor performance.  Consider joining all columns at once using pd.concat(axis=1) instead. To get a de-fragmented frame, use `newframe = frame.copy()`\n",
            "  amostras['Amostra_' + str(i)] = amostra_idade\n",
            "<ipython-input-54-2abac2b94257>:4: PerformanceWarning: DataFrame is highly fragmented.  This is usually the result of calling `frame.insert` many times, which has poor performance.  Consider joining all columns at once using pd.concat(axis=1) instead. To get a de-fragmented frame, use `newframe = frame.copy()`\n",
            "  amostras['Amostra_' + str(i)] = amostra_idade\n",
            "<ipython-input-54-2abac2b94257>:4: PerformanceWarning: DataFrame is highly fragmented.  This is usually the result of calling `frame.insert` many times, which has poor performance.  Consider joining all columns at once using pd.concat(axis=1) instead. To get a de-fragmented frame, use `newframe = frame.copy()`\n",
            "  amostras['Amostra_' + str(i)] = amostra_idade\n",
            "<ipython-input-54-2abac2b94257>:4: PerformanceWarning: DataFrame is highly fragmented.  This is usually the result of calling `frame.insert` many times, which has poor performance.  Consider joining all columns at once using pd.concat(axis=1) instead. To get a de-fragmented frame, use `newframe = frame.copy()`\n",
            "  amostras['Amostra_' + str(i)] = amostra_idade\n",
            "<ipython-input-54-2abac2b94257>:4: PerformanceWarning: DataFrame is highly fragmented.  This is usually the result of calling `frame.insert` many times, which has poor performance.  Consider joining all columns at once using pd.concat(axis=1) instead. To get a de-fragmented frame, use `newframe = frame.copy()`\n",
            "  amostras['Amostra_' + str(i)] = amostra_idade\n",
            "<ipython-input-54-2abac2b94257>:4: PerformanceWarning: DataFrame is highly fragmented.  This is usually the result of calling `frame.insert` many times, which has poor performance.  Consider joining all columns at once using pd.concat(axis=1) instead. To get a de-fragmented frame, use `newframe = frame.copy()`\n",
            "  amostras['Amostra_' + str(i)] = amostra_idade\n",
            "<ipython-input-54-2abac2b94257>:4: PerformanceWarning: DataFrame is highly fragmented.  This is usually the result of calling `frame.insert` many times, which has poor performance.  Consider joining all columns at once using pd.concat(axis=1) instead. To get a de-fragmented frame, use `newframe = frame.copy()`\n",
            "  amostras['Amostra_' + str(i)] = amostra_idade\n",
            "<ipython-input-54-2abac2b94257>:4: PerformanceWarning: DataFrame is highly fragmented.  This is usually the result of calling `frame.insert` many times, which has poor performance.  Consider joining all columns at once using pd.concat(axis=1) instead. To get a de-fragmented frame, use `newframe = frame.copy()`\n",
            "  amostras['Amostra_' + str(i)] = amostra_idade\n",
            "<ipython-input-54-2abac2b94257>:4: PerformanceWarning: DataFrame is highly fragmented.  This is usually the result of calling `frame.insert` many times, which has poor performance.  Consider joining all columns at once using pd.concat(axis=1) instead. To get a de-fragmented frame, use `newframe = frame.copy()`\n",
            "  amostras['Amostra_' + str(i)] = amostra_idade\n",
            "<ipython-input-54-2abac2b94257>:4: PerformanceWarning: DataFrame is highly fragmented.  This is usually the result of calling `frame.insert` many times, which has poor performance.  Consider joining all columns at once using pd.concat(axis=1) instead. To get a de-fragmented frame, use `newframe = frame.copy()`\n",
            "  amostras['Amostra_' + str(i)] = amostra_idade\n",
            "<ipython-input-54-2abac2b94257>:4: PerformanceWarning: DataFrame is highly fragmented.  This is usually the result of calling `frame.insert` many times, which has poor performance.  Consider joining all columns at once using pd.concat(axis=1) instead. To get a de-fragmented frame, use `newframe = frame.copy()`\n",
            "  amostras['Amostra_' + str(i)] = amostra_idade\n",
            "<ipython-input-54-2abac2b94257>:4: PerformanceWarning: DataFrame is highly fragmented.  This is usually the result of calling `frame.insert` many times, which has poor performance.  Consider joining all columns at once using pd.concat(axis=1) instead. To get a de-fragmented frame, use `newframe = frame.copy()`\n",
            "  amostras['Amostra_' + str(i)] = amostra_idade\n",
            "<ipython-input-54-2abac2b94257>:4: PerformanceWarning: DataFrame is highly fragmented.  This is usually the result of calling `frame.insert` many times, which has poor performance.  Consider joining all columns at once using pd.concat(axis=1) instead. To get a de-fragmented frame, use `newframe = frame.copy()`\n",
            "  amostras['Amostra_' + str(i)] = amostra_idade\n",
            "<ipython-input-54-2abac2b94257>:4: PerformanceWarning: DataFrame is highly fragmented.  This is usually the result of calling `frame.insert` many times, which has poor performance.  Consider joining all columns at once using pd.concat(axis=1) instead. To get a de-fragmented frame, use `newframe = frame.copy()`\n",
            "  amostras['Amostra_' + str(i)] = amostra_idade\n",
            "<ipython-input-54-2abac2b94257>:4: PerformanceWarning: DataFrame is highly fragmented.  This is usually the result of calling `frame.insert` many times, which has poor performance.  Consider joining all columns at once using pd.concat(axis=1) instead. To get a de-fragmented frame, use `newframe = frame.copy()`\n",
            "  amostras['Amostra_' + str(i)] = amostra_idade\n",
            "<ipython-input-54-2abac2b94257>:4: PerformanceWarning: DataFrame is highly fragmented.  This is usually the result of calling `frame.insert` many times, which has poor performance.  Consider joining all columns at once using pd.concat(axis=1) instead. To get a de-fragmented frame, use `newframe = frame.copy()`\n",
            "  amostras['Amostra_' + str(i)] = amostra_idade\n",
            "<ipython-input-54-2abac2b94257>:4: PerformanceWarning: DataFrame is highly fragmented.  This is usually the result of calling `frame.insert` many times, which has poor performance.  Consider joining all columns at once using pd.concat(axis=1) instead. To get a de-fragmented frame, use `newframe = frame.copy()`\n",
            "  amostras['Amostra_' + str(i)] = amostra_idade\n",
            "<ipython-input-54-2abac2b94257>:4: PerformanceWarning: DataFrame is highly fragmented.  This is usually the result of calling `frame.insert` many times, which has poor performance.  Consider joining all columns at once using pd.concat(axis=1) instead. To get a de-fragmented frame, use `newframe = frame.copy()`\n",
            "  amostras['Amostra_' + str(i)] = amostra_idade\n",
            "<ipython-input-54-2abac2b94257>:4: PerformanceWarning: DataFrame is highly fragmented.  This is usually the result of calling `frame.insert` many times, which has poor performance.  Consider joining all columns at once using pd.concat(axis=1) instead. To get a de-fragmented frame, use `newframe = frame.copy()`\n",
            "  amostras['Amostra_' + str(i)] = amostra_idade\n",
            "<ipython-input-54-2abac2b94257>:4: PerformanceWarning: DataFrame is highly fragmented.  This is usually the result of calling `frame.insert` many times, which has poor performance.  Consider joining all columns at once using pd.concat(axis=1) instead. To get a de-fragmented frame, use `newframe = frame.copy()`\n",
            "  amostras['Amostra_' + str(i)] = amostra_idade\n",
            "<ipython-input-54-2abac2b94257>:4: PerformanceWarning: DataFrame is highly fragmented.  This is usually the result of calling `frame.insert` many times, which has poor performance.  Consider joining all columns at once using pd.concat(axis=1) instead. To get a de-fragmented frame, use `newframe = frame.copy()`\n",
            "  amostras['Amostra_' + str(i)] = amostra_idade\n",
            "<ipython-input-54-2abac2b94257>:4: PerformanceWarning: DataFrame is highly fragmented.  This is usually the result of calling `frame.insert` many times, which has poor performance.  Consider joining all columns at once using pd.concat(axis=1) instead. To get a de-fragmented frame, use `newframe = frame.copy()`\n",
            "  amostras['Amostra_' + str(i)] = amostra_idade\n",
            "<ipython-input-54-2abac2b94257>:4: PerformanceWarning: DataFrame is highly fragmented.  This is usually the result of calling `frame.insert` many times, which has poor performance.  Consider joining all columns at once using pd.concat(axis=1) instead. To get a de-fragmented frame, use `newframe = frame.copy()`\n",
            "  amostras['Amostra_' + str(i)] = amostra_idade\n",
            "<ipython-input-54-2abac2b94257>:4: PerformanceWarning: DataFrame is highly fragmented.  This is usually the result of calling `frame.insert` many times, which has poor performance.  Consider joining all columns at once using pd.concat(axis=1) instead. To get a de-fragmented frame, use `newframe = frame.copy()`\n",
            "  amostras['Amostra_' + str(i)] = amostra_idade\n",
            "<ipython-input-54-2abac2b94257>:4: PerformanceWarning: DataFrame is highly fragmented.  This is usually the result of calling `frame.insert` many times, which has poor performance.  Consider joining all columns at once using pd.concat(axis=1) instead. To get a de-fragmented frame, use `newframe = frame.copy()`\n",
            "  amostras['Amostra_' + str(i)] = amostra_idade\n",
            "<ipython-input-54-2abac2b94257>:4: PerformanceWarning: DataFrame is highly fragmented.  This is usually the result of calling `frame.insert` many times, which has poor performance.  Consider joining all columns at once using pd.concat(axis=1) instead. To get a de-fragmented frame, use `newframe = frame.copy()`\n",
            "  amostras['Amostra_' + str(i)] = amostra_idade\n",
            "<ipython-input-54-2abac2b94257>:4: PerformanceWarning: DataFrame is highly fragmented.  This is usually the result of calling `frame.insert` many times, which has poor performance.  Consider joining all columns at once using pd.concat(axis=1) instead. To get a de-fragmented frame, use `newframe = frame.copy()`\n",
            "  amostras['Amostra_' + str(i)] = amostra_idade\n",
            "<ipython-input-54-2abac2b94257>:4: PerformanceWarning: DataFrame is highly fragmented.  This is usually the result of calling `frame.insert` many times, which has poor performance.  Consider joining all columns at once using pd.concat(axis=1) instead. To get a de-fragmented frame, use `newframe = frame.copy()`\n",
            "  amostras['Amostra_' + str(i)] = amostra_idade\n",
            "<ipython-input-54-2abac2b94257>:4: PerformanceWarning: DataFrame is highly fragmented.  This is usually the result of calling `frame.insert` many times, which has poor performance.  Consider joining all columns at once using pd.concat(axis=1) instead. To get a de-fragmented frame, use `newframe = frame.copy()`\n",
            "  amostras['Amostra_' + str(i)] = amostra_idade\n",
            "<ipython-input-54-2abac2b94257>:4: PerformanceWarning: DataFrame is highly fragmented.  This is usually the result of calling `frame.insert` many times, which has poor performance.  Consider joining all columns at once using pd.concat(axis=1) instead. To get a de-fragmented frame, use `newframe = frame.copy()`\n",
            "  amostras['Amostra_' + str(i)] = amostra_idade\n",
            "<ipython-input-54-2abac2b94257>:4: PerformanceWarning: DataFrame is highly fragmented.  This is usually the result of calling `frame.insert` many times, which has poor performance.  Consider joining all columns at once using pd.concat(axis=1) instead. To get a de-fragmented frame, use `newframe = frame.copy()`\n",
            "  amostras['Amostra_' + str(i)] = amostra_idade\n",
            "<ipython-input-54-2abac2b94257>:4: PerformanceWarning: DataFrame is highly fragmented.  This is usually the result of calling `frame.insert` many times, which has poor performance.  Consider joining all columns at once using pd.concat(axis=1) instead. To get a de-fragmented frame, use `newframe = frame.copy()`\n",
            "  amostras['Amostra_' + str(i)] = amostra_idade\n",
            "<ipython-input-54-2abac2b94257>:4: PerformanceWarning: DataFrame is highly fragmented.  This is usually the result of calling `frame.insert` many times, which has poor performance.  Consider joining all columns at once using pd.concat(axis=1) instead. To get a de-fragmented frame, use `newframe = frame.copy()`\n",
            "  amostras['Amostra_' + str(i)] = amostra_idade\n",
            "<ipython-input-54-2abac2b94257>:4: PerformanceWarning: DataFrame is highly fragmented.  This is usually the result of calling `frame.insert` many times, which has poor performance.  Consider joining all columns at once using pd.concat(axis=1) instead. To get a de-fragmented frame, use `newframe = frame.copy()`\n",
            "  amostras['Amostra_' + str(i)] = amostra_idade\n",
            "<ipython-input-54-2abac2b94257>:4: PerformanceWarning: DataFrame is highly fragmented.  This is usually the result of calling `frame.insert` many times, which has poor performance.  Consider joining all columns at once using pd.concat(axis=1) instead. To get a de-fragmented frame, use `newframe = frame.copy()`\n",
            "  amostras['Amostra_' + str(i)] = amostra_idade\n",
            "<ipython-input-54-2abac2b94257>:4: PerformanceWarning: DataFrame is highly fragmented.  This is usually the result of calling `frame.insert` many times, which has poor performance.  Consider joining all columns at once using pd.concat(axis=1) instead. To get a de-fragmented frame, use `newframe = frame.copy()`\n",
            "  amostras['Amostra_' + str(i)] = amostra_idade\n",
            "<ipython-input-54-2abac2b94257>:4: PerformanceWarning: DataFrame is highly fragmented.  This is usually the result of calling `frame.insert` many times, which has poor performance.  Consider joining all columns at once using pd.concat(axis=1) instead. To get a de-fragmented frame, use `newframe = frame.copy()`\n",
            "  amostras['Amostra_' + str(i)] = amostra_idade\n",
            "<ipython-input-54-2abac2b94257>:4: PerformanceWarning: DataFrame is highly fragmented.  This is usually the result of calling `frame.insert` many times, which has poor performance.  Consider joining all columns at once using pd.concat(axis=1) instead. To get a de-fragmented frame, use `newframe = frame.copy()`\n",
            "  amostras['Amostra_' + str(i)] = amostra_idade\n",
            "<ipython-input-54-2abac2b94257>:4: PerformanceWarning: DataFrame is highly fragmented.  This is usually the result of calling `frame.insert` many times, which has poor performance.  Consider joining all columns at once using pd.concat(axis=1) instead. To get a de-fragmented frame, use `newframe = frame.copy()`\n",
            "  amostras['Amostra_' + str(i)] = amostra_idade\n",
            "<ipython-input-54-2abac2b94257>:4: PerformanceWarning: DataFrame is highly fragmented.  This is usually the result of calling `frame.insert` many times, which has poor performance.  Consider joining all columns at once using pd.concat(axis=1) instead. To get a de-fragmented frame, use `newframe = frame.copy()`\n",
            "  amostras['Amostra_' + str(i)] = amostra_idade\n",
            "<ipython-input-54-2abac2b94257>:4: PerformanceWarning: DataFrame is highly fragmented.  This is usually the result of calling `frame.insert` many times, which has poor performance.  Consider joining all columns at once using pd.concat(axis=1) instead. To get a de-fragmented frame, use `newframe = frame.copy()`\n",
            "  amostras['Amostra_' + str(i)] = amostra_idade\n",
            "<ipython-input-54-2abac2b94257>:4: PerformanceWarning: DataFrame is highly fragmented.  This is usually the result of calling `frame.insert` many times, which has poor performance.  Consider joining all columns at once using pd.concat(axis=1) instead. To get a de-fragmented frame, use `newframe = frame.copy()`\n",
            "  amostras['Amostra_' + str(i)] = amostra_idade\n",
            "<ipython-input-54-2abac2b94257>:4: PerformanceWarning: DataFrame is highly fragmented.  This is usually the result of calling `frame.insert` many times, which has poor performance.  Consider joining all columns at once using pd.concat(axis=1) instead. To get a de-fragmented frame, use `newframe = frame.copy()`\n",
            "  amostras['Amostra_' + str(i)] = amostra_idade\n",
            "<ipython-input-54-2abac2b94257>:4: PerformanceWarning: DataFrame is highly fragmented.  This is usually the result of calling `frame.insert` many times, which has poor performance.  Consider joining all columns at once using pd.concat(axis=1) instead. To get a de-fragmented frame, use `newframe = frame.copy()`\n",
            "  amostras['Amostra_' + str(i)] = amostra_idade\n",
            "<ipython-input-54-2abac2b94257>:4: PerformanceWarning: DataFrame is highly fragmented.  This is usually the result of calling `frame.insert` many times, which has poor performance.  Consider joining all columns at once using pd.concat(axis=1) instead. To get a de-fragmented frame, use `newframe = frame.copy()`\n",
            "  amostras['Amostra_' + str(i)] = amostra_idade\n",
            "<ipython-input-54-2abac2b94257>:4: PerformanceWarning: DataFrame is highly fragmented.  This is usually the result of calling `frame.insert` many times, which has poor performance.  Consider joining all columns at once using pd.concat(axis=1) instead. To get a de-fragmented frame, use `newframe = frame.copy()`\n",
            "  amostras['Amostra_' + str(i)] = amostra_idade\n",
            "<ipython-input-54-2abac2b94257>:4: PerformanceWarning: DataFrame is highly fragmented.  This is usually the result of calling `frame.insert` many times, which has poor performance.  Consider joining all columns at once using pd.concat(axis=1) instead. To get a de-fragmented frame, use `newframe = frame.copy()`\n",
            "  amostras['Amostra_' + str(i)] = amostra_idade\n",
            "<ipython-input-54-2abac2b94257>:4: PerformanceWarning: DataFrame is highly fragmented.  This is usually the result of calling `frame.insert` many times, which has poor performance.  Consider joining all columns at once using pd.concat(axis=1) instead. To get a de-fragmented frame, use `newframe = frame.copy()`\n",
            "  amostras['Amostra_' + str(i)] = amostra_idade\n",
            "<ipython-input-54-2abac2b94257>:4: PerformanceWarning: DataFrame is highly fragmented.  This is usually the result of calling `frame.insert` many times, which has poor performance.  Consider joining all columns at once using pd.concat(axis=1) instead. To get a de-fragmented frame, use `newframe = frame.copy()`\n",
            "  amostras['Amostra_' + str(i)] = amostra_idade\n",
            "<ipython-input-54-2abac2b94257>:4: PerformanceWarning: DataFrame is highly fragmented.  This is usually the result of calling `frame.insert` many times, which has poor performance.  Consider joining all columns at once using pd.concat(axis=1) instead. To get a de-fragmented frame, use `newframe = frame.copy()`\n",
            "  amostras['Amostra_' + str(i)] = amostra_idade\n",
            "<ipython-input-54-2abac2b94257>:4: PerformanceWarning: DataFrame is highly fragmented.  This is usually the result of calling `frame.insert` many times, which has poor performance.  Consider joining all columns at once using pd.concat(axis=1) instead. To get a de-fragmented frame, use `newframe = frame.copy()`\n",
            "  amostras['Amostra_' + str(i)] = amostra_idade\n",
            "<ipython-input-54-2abac2b94257>:4: PerformanceWarning: DataFrame is highly fragmented.  This is usually the result of calling `frame.insert` many times, which has poor performance.  Consider joining all columns at once using pd.concat(axis=1) instead. To get a de-fragmented frame, use `newframe = frame.copy()`\n",
            "  amostras['Amostra_' + str(i)] = amostra_idade\n",
            "<ipython-input-54-2abac2b94257>:4: PerformanceWarning: DataFrame is highly fragmented.  This is usually the result of calling `frame.insert` many times, which has poor performance.  Consider joining all columns at once using pd.concat(axis=1) instead. To get a de-fragmented frame, use `newframe = frame.copy()`\n",
            "  amostras['Amostra_' + str(i)] = amostra_idade\n",
            "<ipython-input-54-2abac2b94257>:4: PerformanceWarning: DataFrame is highly fragmented.  This is usually the result of calling `frame.insert` many times, which has poor performance.  Consider joining all columns at once using pd.concat(axis=1) instead. To get a de-fragmented frame, use `newframe = frame.copy()`\n",
            "  amostras['Amostra_' + str(i)] = amostra_idade\n",
            "<ipython-input-54-2abac2b94257>:4: PerformanceWarning: DataFrame is highly fragmented.  This is usually the result of calling `frame.insert` many times, which has poor performance.  Consider joining all columns at once using pd.concat(axis=1) instead. To get a de-fragmented frame, use `newframe = frame.copy()`\n",
            "  amostras['Amostra_' + str(i)] = amostra_idade\n",
            "<ipython-input-54-2abac2b94257>:4: PerformanceWarning: DataFrame is highly fragmented.  This is usually the result of calling `frame.insert` many times, which has poor performance.  Consider joining all columns at once using pd.concat(axis=1) instead. To get a de-fragmented frame, use `newframe = frame.copy()`\n",
            "  amostras['Amostra_' + str(i)] = amostra_idade\n",
            "<ipython-input-54-2abac2b94257>:4: PerformanceWarning: DataFrame is highly fragmented.  This is usually the result of calling `frame.insert` many times, which has poor performance.  Consider joining all columns at once using pd.concat(axis=1) instead. To get a de-fragmented frame, use `newframe = frame.copy()`\n",
            "  amostras['Amostra_' + str(i)] = amostra_idade\n",
            "<ipython-input-54-2abac2b94257>:4: PerformanceWarning: DataFrame is highly fragmented.  This is usually the result of calling `frame.insert` many times, which has poor performance.  Consider joining all columns at once using pd.concat(axis=1) instead. To get a de-fragmented frame, use `newframe = frame.copy()`\n",
            "  amostras['Amostra_' + str(i)] = amostra_idade\n",
            "<ipython-input-54-2abac2b94257>:4: PerformanceWarning: DataFrame is highly fragmented.  This is usually the result of calling `frame.insert` many times, which has poor performance.  Consider joining all columns at once using pd.concat(axis=1) instead. To get a de-fragmented frame, use `newframe = frame.copy()`\n",
            "  amostras['Amostra_' + str(i)] = amostra_idade\n",
            "<ipython-input-54-2abac2b94257>:4: PerformanceWarning: DataFrame is highly fragmented.  This is usually the result of calling `frame.insert` many times, which has poor performance.  Consider joining all columns at once using pd.concat(axis=1) instead. To get a de-fragmented frame, use `newframe = frame.copy()`\n",
            "  amostras['Amostra_' + str(i)] = amostra_idade\n",
            "<ipython-input-54-2abac2b94257>:4: PerformanceWarning: DataFrame is highly fragmented.  This is usually the result of calling `frame.insert` many times, which has poor performance.  Consider joining all columns at once using pd.concat(axis=1) instead. To get a de-fragmented frame, use `newframe = frame.copy()`\n",
            "  amostras['Amostra_' + str(i)] = amostra_idade\n",
            "<ipython-input-54-2abac2b94257>:4: PerformanceWarning: DataFrame is highly fragmented.  This is usually the result of calling `frame.insert` many times, which has poor performance.  Consider joining all columns at once using pd.concat(axis=1) instead. To get a de-fragmented frame, use `newframe = frame.copy()`\n",
            "  amostras['Amostra_' + str(i)] = amostra_idade\n",
            "<ipython-input-54-2abac2b94257>:4: PerformanceWarning: DataFrame is highly fragmented.  This is usually the result of calling `frame.insert` many times, which has poor performance.  Consider joining all columns at once using pd.concat(axis=1) instead. To get a de-fragmented frame, use `newframe = frame.copy()`\n",
            "  amostras['Amostra_' + str(i)] = amostra_idade\n",
            "<ipython-input-54-2abac2b94257>:4: PerformanceWarning: DataFrame is highly fragmented.  This is usually the result of calling `frame.insert` many times, which has poor performance.  Consider joining all columns at once using pd.concat(axis=1) instead. To get a de-fragmented frame, use `newframe = frame.copy()`\n",
            "  amostras['Amostra_' + str(i)] = amostra_idade\n",
            "<ipython-input-54-2abac2b94257>:4: PerformanceWarning: DataFrame is highly fragmented.  This is usually the result of calling `frame.insert` many times, which has poor performance.  Consider joining all columns at once using pd.concat(axis=1) instead. To get a de-fragmented frame, use `newframe = frame.copy()`\n",
            "  amostras['Amostra_' + str(i)] = amostra_idade\n",
            "<ipython-input-54-2abac2b94257>:4: PerformanceWarning: DataFrame is highly fragmented.  This is usually the result of calling `frame.insert` many times, which has poor performance.  Consider joining all columns at once using pd.concat(axis=1) instead. To get a de-fragmented frame, use `newframe = frame.copy()`\n",
            "  amostras['Amostra_' + str(i)] = amostra_idade\n",
            "<ipython-input-54-2abac2b94257>:4: PerformanceWarning: DataFrame is highly fragmented.  This is usually the result of calling `frame.insert` many times, which has poor performance.  Consider joining all columns at once using pd.concat(axis=1) instead. To get a de-fragmented frame, use `newframe = frame.copy()`\n",
            "  amostras['Amostra_' + str(i)] = amostra_idade\n",
            "<ipython-input-54-2abac2b94257>:4: PerformanceWarning: DataFrame is highly fragmented.  This is usually the result of calling `frame.insert` many times, which has poor performance.  Consider joining all columns at once using pd.concat(axis=1) instead. To get a de-fragmented frame, use `newframe = frame.copy()`\n",
            "  amostras['Amostra_' + str(i)] = amostra_idade\n",
            "<ipython-input-54-2abac2b94257>:4: PerformanceWarning: DataFrame is highly fragmented.  This is usually the result of calling `frame.insert` many times, which has poor performance.  Consider joining all columns at once using pd.concat(axis=1) instead. To get a de-fragmented frame, use `newframe = frame.copy()`\n",
            "  amostras['Amostra_' + str(i)] = amostra_idade\n",
            "<ipython-input-54-2abac2b94257>:4: PerformanceWarning: DataFrame is highly fragmented.  This is usually the result of calling `frame.insert` many times, which has poor performance.  Consider joining all columns at once using pd.concat(axis=1) instead. To get a de-fragmented frame, use `newframe = frame.copy()`\n",
            "  amostras['Amostra_' + str(i)] = amostra_idade\n",
            "<ipython-input-54-2abac2b94257>:4: PerformanceWarning: DataFrame is highly fragmented.  This is usually the result of calling `frame.insert` many times, which has poor performance.  Consider joining all columns at once using pd.concat(axis=1) instead. To get a de-fragmented frame, use `newframe = frame.copy()`\n",
            "  amostras['Amostra_' + str(i)] = amostra_idade\n",
            "<ipython-input-54-2abac2b94257>:4: PerformanceWarning: DataFrame is highly fragmented.  This is usually the result of calling `frame.insert` many times, which has poor performance.  Consider joining all columns at once using pd.concat(axis=1) instead. To get a de-fragmented frame, use `newframe = frame.copy()`\n",
            "  amostras['Amostra_' + str(i)] = amostra_idade\n",
            "<ipython-input-54-2abac2b94257>:4: PerformanceWarning: DataFrame is highly fragmented.  This is usually the result of calling `frame.insert` many times, which has poor performance.  Consider joining all columns at once using pd.concat(axis=1) instead. To get a de-fragmented frame, use `newframe = frame.copy()`\n",
            "  amostras['Amostra_' + str(i)] = amostra_idade\n",
            "<ipython-input-54-2abac2b94257>:4: PerformanceWarning: DataFrame is highly fragmented.  This is usually the result of calling `frame.insert` many times, which has poor performance.  Consider joining all columns at once using pd.concat(axis=1) instead. To get a de-fragmented frame, use `newframe = frame.copy()`\n",
            "  amostras['Amostra_' + str(i)] = amostra_idade\n",
            "<ipython-input-54-2abac2b94257>:4: PerformanceWarning: DataFrame is highly fragmented.  This is usually the result of calling `frame.insert` many times, which has poor performance.  Consider joining all columns at once using pd.concat(axis=1) instead. To get a de-fragmented frame, use `newframe = frame.copy()`\n",
            "  amostras['Amostra_' + str(i)] = amostra_idade\n",
            "<ipython-input-54-2abac2b94257>:4: PerformanceWarning: DataFrame is highly fragmented.  This is usually the result of calling `frame.insert` many times, which has poor performance.  Consider joining all columns at once using pd.concat(axis=1) instead. To get a de-fragmented frame, use `newframe = frame.copy()`\n",
            "  amostras['Amostra_' + str(i)] = amostra_idade\n",
            "<ipython-input-54-2abac2b94257>:4: PerformanceWarning: DataFrame is highly fragmented.  This is usually the result of calling `frame.insert` many times, which has poor performance.  Consider joining all columns at once using pd.concat(axis=1) instead. To get a de-fragmented frame, use `newframe = frame.copy()`\n",
            "  amostras['Amostra_' + str(i)] = amostra_idade\n",
            "<ipython-input-54-2abac2b94257>:4: PerformanceWarning: DataFrame is highly fragmented.  This is usually the result of calling `frame.insert` many times, which has poor performance.  Consider joining all columns at once using pd.concat(axis=1) instead. To get a de-fragmented frame, use `newframe = frame.copy()`\n",
            "  amostras['Amostra_' + str(i)] = amostra_idade\n",
            "<ipython-input-54-2abac2b94257>:4: PerformanceWarning: DataFrame is highly fragmented.  This is usually the result of calling `frame.insert` many times, which has poor performance.  Consider joining all columns at once using pd.concat(axis=1) instead. To get a de-fragmented frame, use `newframe = frame.copy()`\n",
            "  amostras['Amostra_' + str(i)] = amostra_idade\n",
            "<ipython-input-54-2abac2b94257>:4: PerformanceWarning: DataFrame is highly fragmented.  This is usually the result of calling `frame.insert` many times, which has poor performance.  Consider joining all columns at once using pd.concat(axis=1) instead. To get a de-fragmented frame, use `newframe = frame.copy()`\n",
            "  amostras['Amostra_' + str(i)] = amostra_idade\n",
            "<ipython-input-54-2abac2b94257>:4: PerformanceWarning: DataFrame is highly fragmented.  This is usually the result of calling `frame.insert` many times, which has poor performance.  Consider joining all columns at once using pd.concat(axis=1) instead. To get a de-fragmented frame, use `newframe = frame.copy()`\n",
            "  amostras['Amostra_' + str(i)] = amostra_idade\n",
            "<ipython-input-54-2abac2b94257>:4: PerformanceWarning: DataFrame is highly fragmented.  This is usually the result of calling `frame.insert` many times, which has poor performance.  Consider joining all columns at once using pd.concat(axis=1) instead. To get a de-fragmented frame, use `newframe = frame.copy()`\n",
            "  amostras['Amostra_' + str(i)] = amostra_idade\n",
            "<ipython-input-54-2abac2b94257>:4: PerformanceWarning: DataFrame is highly fragmented.  This is usually the result of calling `frame.insert` many times, which has poor performance.  Consider joining all columns at once using pd.concat(axis=1) instead. To get a de-fragmented frame, use `newframe = frame.copy()`\n",
            "  amostras['Amostra_' + str(i)] = amostra_idade\n",
            "<ipython-input-54-2abac2b94257>:4: PerformanceWarning: DataFrame is highly fragmented.  This is usually the result of calling `frame.insert` many times, which has poor performance.  Consider joining all columns at once using pd.concat(axis=1) instead. To get a de-fragmented frame, use `newframe = frame.copy()`\n",
            "  amostras['Amostra_' + str(i)] = amostra_idade\n",
            "<ipython-input-54-2abac2b94257>:4: PerformanceWarning: DataFrame is highly fragmented.  This is usually the result of calling `frame.insert` many times, which has poor performance.  Consider joining all columns at once using pd.concat(axis=1) instead. To get a de-fragmented frame, use `newframe = frame.copy()`\n",
            "  amostras['Amostra_' + str(i)] = amostra_idade\n",
            "<ipython-input-54-2abac2b94257>:4: PerformanceWarning: DataFrame is highly fragmented.  This is usually the result of calling `frame.insert` many times, which has poor performance.  Consider joining all columns at once using pd.concat(axis=1) instead. To get a de-fragmented frame, use `newframe = frame.copy()`\n",
            "  amostras['Amostra_' + str(i)] = amostra_idade\n",
            "<ipython-input-54-2abac2b94257>:4: PerformanceWarning: DataFrame is highly fragmented.  This is usually the result of calling `frame.insert` many times, which has poor performance.  Consider joining all columns at once using pd.concat(axis=1) instead. To get a de-fragmented frame, use `newframe = frame.copy()`\n",
            "  amostras['Amostra_' + str(i)] = amostra_idade\n",
            "<ipython-input-54-2abac2b94257>:4: PerformanceWarning: DataFrame is highly fragmented.  This is usually the result of calling `frame.insert` many times, which has poor performance.  Consider joining all columns at once using pd.concat(axis=1) instead. To get a de-fragmented frame, use `newframe = frame.copy()`\n",
            "  amostras['Amostra_' + str(i)] = amostra_idade\n",
            "<ipython-input-54-2abac2b94257>:4: PerformanceWarning: DataFrame is highly fragmented.  This is usually the result of calling `frame.insert` many times, which has poor performance.  Consider joining all columns at once using pd.concat(axis=1) instead. To get a de-fragmented frame, use `newframe = frame.copy()`\n",
            "  amostras['Amostra_' + str(i)] = amostra_idade\n",
            "<ipython-input-54-2abac2b94257>:4: PerformanceWarning: DataFrame is highly fragmented.  This is usually the result of calling `frame.insert` many times, which has poor performance.  Consider joining all columns at once using pd.concat(axis=1) instead. To get a de-fragmented frame, use `newframe = frame.copy()`\n",
            "  amostras['Amostra_' + str(i)] = amostra_idade\n",
            "<ipython-input-54-2abac2b94257>:4: PerformanceWarning: DataFrame is highly fragmented.  This is usually the result of calling `frame.insert` many times, which has poor performance.  Consider joining all columns at once using pd.concat(axis=1) instead. To get a de-fragmented frame, use `newframe = frame.copy()`\n",
            "  amostras['Amostra_' + str(i)] = amostra_idade\n",
            "<ipython-input-54-2abac2b94257>:4: PerformanceWarning: DataFrame is highly fragmented.  This is usually the result of calling `frame.insert` many times, which has poor performance.  Consider joining all columns at once using pd.concat(axis=1) instead. To get a de-fragmented frame, use `newframe = frame.copy()`\n",
            "  amostras['Amostra_' + str(i)] = amostra_idade\n",
            "<ipython-input-54-2abac2b94257>:4: PerformanceWarning: DataFrame is highly fragmented.  This is usually the result of calling `frame.insert` many times, which has poor performance.  Consider joining all columns at once using pd.concat(axis=1) instead. To get a de-fragmented frame, use `newframe = frame.copy()`\n",
            "  amostras['Amostra_' + str(i)] = amostra_idade\n",
            "<ipython-input-54-2abac2b94257>:4: PerformanceWarning: DataFrame is highly fragmented.  This is usually the result of calling `frame.insert` many times, which has poor performance.  Consider joining all columns at once using pd.concat(axis=1) instead. To get a de-fragmented frame, use `newframe = frame.copy()`\n",
            "  amostras['Amostra_' + str(i)] = amostra_idade\n",
            "<ipython-input-54-2abac2b94257>:4: PerformanceWarning: DataFrame is highly fragmented.  This is usually the result of calling `frame.insert` many times, which has poor performance.  Consider joining all columns at once using pd.concat(axis=1) instead. To get a de-fragmented frame, use `newframe = frame.copy()`\n",
            "  amostras['Amostra_' + str(i)] = amostra_idade\n",
            "<ipython-input-54-2abac2b94257>:4: PerformanceWarning: DataFrame is highly fragmented.  This is usually the result of calling `frame.insert` many times, which has poor performance.  Consider joining all columns at once using pd.concat(axis=1) instead. To get a de-fragmented frame, use `newframe = frame.copy()`\n",
            "  amostras['Amostra_' + str(i)] = amostra_idade\n",
            "<ipython-input-54-2abac2b94257>:4: PerformanceWarning: DataFrame is highly fragmented.  This is usually the result of calling `frame.insert` many times, which has poor performance.  Consider joining all columns at once using pd.concat(axis=1) instead. To get a de-fragmented frame, use `newframe = frame.copy()`\n",
            "  amostras['Amostra_' + str(i)] = amostra_idade\n",
            "<ipython-input-54-2abac2b94257>:4: PerformanceWarning: DataFrame is highly fragmented.  This is usually the result of calling `frame.insert` many times, which has poor performance.  Consider joining all columns at once using pd.concat(axis=1) instead. To get a de-fragmented frame, use `newframe = frame.copy()`\n",
            "  amostras['Amostra_' + str(i)] = amostra_idade\n",
            "<ipython-input-54-2abac2b94257>:4: PerformanceWarning: DataFrame is highly fragmented.  This is usually the result of calling `frame.insert` many times, which has poor performance.  Consider joining all columns at once using pd.concat(axis=1) instead. To get a de-fragmented frame, use `newframe = frame.copy()`\n",
            "  amostras['Amostra_' + str(i)] = amostra_idade\n",
            "<ipython-input-54-2abac2b94257>:4: PerformanceWarning: DataFrame is highly fragmented.  This is usually the result of calling `frame.insert` many times, which has poor performance.  Consider joining all columns at once using pd.concat(axis=1) instead. To get a de-fragmented frame, use `newframe = frame.copy()`\n",
            "  amostras['Amostra_' + str(i)] = amostra_idade\n",
            "<ipython-input-54-2abac2b94257>:4: PerformanceWarning: DataFrame is highly fragmented.  This is usually the result of calling `frame.insert` many times, which has poor performance.  Consider joining all columns at once using pd.concat(axis=1) instead. To get a de-fragmented frame, use `newframe = frame.copy()`\n",
            "  amostras['Amostra_' + str(i)] = amostra_idade\n",
            "<ipython-input-54-2abac2b94257>:4: PerformanceWarning: DataFrame is highly fragmented.  This is usually the result of calling `frame.insert` many times, which has poor performance.  Consider joining all columns at once using pd.concat(axis=1) instead. To get a de-fragmented frame, use `newframe = frame.copy()`\n",
            "  amostras['Amostra_' + str(i)] = amostra_idade\n",
            "<ipython-input-54-2abac2b94257>:4: PerformanceWarning: DataFrame is highly fragmented.  This is usually the result of calling `frame.insert` many times, which has poor performance.  Consider joining all columns at once using pd.concat(axis=1) instead. To get a de-fragmented frame, use `newframe = frame.copy()`\n",
            "  amostras['Amostra_' + str(i)] = amostra_idade\n",
            "<ipython-input-54-2abac2b94257>:4: PerformanceWarning: DataFrame is highly fragmented.  This is usually the result of calling `frame.insert` many times, which has poor performance.  Consider joining all columns at once using pd.concat(axis=1) instead. To get a de-fragmented frame, use `newframe = frame.copy()`\n",
            "  amostras['Amostra_' + str(i)] = amostra_idade\n",
            "<ipython-input-54-2abac2b94257>:4: PerformanceWarning: DataFrame is highly fragmented.  This is usually the result of calling `frame.insert` many times, which has poor performance.  Consider joining all columns at once using pd.concat(axis=1) instead. To get a de-fragmented frame, use `newframe = frame.copy()`\n",
            "  amostras['Amostra_' + str(i)] = amostra_idade\n",
            "<ipython-input-54-2abac2b94257>:4: PerformanceWarning: DataFrame is highly fragmented.  This is usually the result of calling `frame.insert` many times, which has poor performance.  Consider joining all columns at once using pd.concat(axis=1) instead. To get a de-fragmented frame, use `newframe = frame.copy()`\n",
            "  amostras['Amostra_' + str(i)] = amostra_idade\n",
            "<ipython-input-54-2abac2b94257>:4: PerformanceWarning: DataFrame is highly fragmented.  This is usually the result of calling `frame.insert` many times, which has poor performance.  Consider joining all columns at once using pd.concat(axis=1) instead. To get a de-fragmented frame, use `newframe = frame.copy()`\n",
            "  amostras['Amostra_' + str(i)] = amostra_idade\n",
            "<ipython-input-54-2abac2b94257>:4: PerformanceWarning: DataFrame is highly fragmented.  This is usually the result of calling `frame.insert` many times, which has poor performance.  Consider joining all columns at once using pd.concat(axis=1) instead. To get a de-fragmented frame, use `newframe = frame.copy()`\n",
            "  amostras['Amostra_' + str(i)] = amostra_idade\n",
            "<ipython-input-54-2abac2b94257>:4: PerformanceWarning: DataFrame is highly fragmented.  This is usually the result of calling `frame.insert` many times, which has poor performance.  Consider joining all columns at once using pd.concat(axis=1) instead. To get a de-fragmented frame, use `newframe = frame.copy()`\n",
            "  amostras['Amostra_' + str(i)] = amostra_idade\n",
            "<ipython-input-54-2abac2b94257>:4: PerformanceWarning: DataFrame is highly fragmented.  This is usually the result of calling `frame.insert` many times, which has poor performance.  Consider joining all columns at once using pd.concat(axis=1) instead. To get a de-fragmented frame, use `newframe = frame.copy()`\n",
            "  amostras['Amostra_' + str(i)] = amostra_idade\n",
            "<ipython-input-54-2abac2b94257>:4: PerformanceWarning: DataFrame is highly fragmented.  This is usually the result of calling `frame.insert` many times, which has poor performance.  Consider joining all columns at once using pd.concat(axis=1) instead. To get a de-fragmented frame, use `newframe = frame.copy()`\n",
            "  amostras['Amostra_' + str(i)] = amostra_idade\n",
            "<ipython-input-54-2abac2b94257>:4: PerformanceWarning: DataFrame is highly fragmented.  This is usually the result of calling `frame.insert` many times, which has poor performance.  Consider joining all columns at once using pd.concat(axis=1) instead. To get a de-fragmented frame, use `newframe = frame.copy()`\n",
            "  amostras['Amostra_' + str(i)] = amostra_idade\n",
            "<ipython-input-54-2abac2b94257>:4: PerformanceWarning: DataFrame is highly fragmented.  This is usually the result of calling `frame.insert` many times, which has poor performance.  Consider joining all columns at once using pd.concat(axis=1) instead. To get a de-fragmented frame, use `newframe = frame.copy()`\n",
            "  amostras['Amostra_' + str(i)] = amostra_idade\n",
            "<ipython-input-54-2abac2b94257>:4: PerformanceWarning: DataFrame is highly fragmented.  This is usually the result of calling `frame.insert` many times, which has poor performance.  Consider joining all columns at once using pd.concat(axis=1) instead. To get a de-fragmented frame, use `newframe = frame.copy()`\n",
            "  amostras['Amostra_' + str(i)] = amostra_idade\n",
            "<ipython-input-54-2abac2b94257>:4: PerformanceWarning: DataFrame is highly fragmented.  This is usually the result of calling `frame.insert` many times, which has poor performance.  Consider joining all columns at once using pd.concat(axis=1) instead. To get a de-fragmented frame, use `newframe = frame.copy()`\n",
            "  amostras['Amostra_' + str(i)] = amostra_idade\n",
            "<ipython-input-54-2abac2b94257>:4: PerformanceWarning: DataFrame is highly fragmented.  This is usually the result of calling `frame.insert` many times, which has poor performance.  Consider joining all columns at once using pd.concat(axis=1) instead. To get a de-fragmented frame, use `newframe = frame.copy()`\n",
            "  amostras['Amostra_' + str(i)] = amostra_idade\n",
            "<ipython-input-54-2abac2b94257>:4: PerformanceWarning: DataFrame is highly fragmented.  This is usually the result of calling `frame.insert` many times, which has poor performance.  Consider joining all columns at once using pd.concat(axis=1) instead. To get a de-fragmented frame, use `newframe = frame.copy()`\n",
            "  amostras['Amostra_' + str(i)] = amostra_idade\n",
            "<ipython-input-54-2abac2b94257>:4: PerformanceWarning: DataFrame is highly fragmented.  This is usually the result of calling `frame.insert` many times, which has poor performance.  Consider joining all columns at once using pd.concat(axis=1) instead. To get a de-fragmented frame, use `newframe = frame.copy()`\n",
            "  amostras['Amostra_' + str(i)] = amostra_idade\n",
            "<ipython-input-54-2abac2b94257>:4: PerformanceWarning: DataFrame is highly fragmented.  This is usually the result of calling `frame.insert` many times, which has poor performance.  Consider joining all columns at once using pd.concat(axis=1) instead. To get a de-fragmented frame, use `newframe = frame.copy()`\n",
            "  amostras['Amostra_' + str(i)] = amostra_idade\n",
            "<ipython-input-54-2abac2b94257>:4: PerformanceWarning: DataFrame is highly fragmented.  This is usually the result of calling `frame.insert` many times, which has poor performance.  Consider joining all columns at once using pd.concat(axis=1) instead. To get a de-fragmented frame, use `newframe = frame.copy()`\n",
            "  amostras['Amostra_' + str(i)] = amostra_idade\n",
            "<ipython-input-54-2abac2b94257>:4: PerformanceWarning: DataFrame is highly fragmented.  This is usually the result of calling `frame.insert` many times, which has poor performance.  Consider joining all columns at once using pd.concat(axis=1) instead. To get a de-fragmented frame, use `newframe = frame.copy()`\n",
            "  amostras['Amostra_' + str(i)] = amostra_idade\n",
            "<ipython-input-54-2abac2b94257>:4: PerformanceWarning: DataFrame is highly fragmented.  This is usually the result of calling `frame.insert` many times, which has poor performance.  Consider joining all columns at once using pd.concat(axis=1) instead. To get a de-fragmented frame, use `newframe = frame.copy()`\n",
            "  amostras['Amostra_' + str(i)] = amostra_idade\n",
            "<ipython-input-54-2abac2b94257>:4: PerformanceWarning: DataFrame is highly fragmented.  This is usually the result of calling `frame.insert` many times, which has poor performance.  Consider joining all columns at once using pd.concat(axis=1) instead. To get a de-fragmented frame, use `newframe = frame.copy()`\n",
            "  amostras['Amostra_' + str(i)] = amostra_idade\n",
            "<ipython-input-54-2abac2b94257>:4: PerformanceWarning: DataFrame is highly fragmented.  This is usually the result of calling `frame.insert` many times, which has poor performance.  Consider joining all columns at once using pd.concat(axis=1) instead. To get a de-fragmented frame, use `newframe = frame.copy()`\n",
            "  amostras['Amostra_' + str(i)] = amostra_idade\n",
            "<ipython-input-54-2abac2b94257>:4: PerformanceWarning: DataFrame is highly fragmented.  This is usually the result of calling `frame.insert` many times, which has poor performance.  Consider joining all columns at once using pd.concat(axis=1) instead. To get a de-fragmented frame, use `newframe = frame.copy()`\n",
            "  amostras['Amostra_' + str(i)] = amostra_idade\n",
            "<ipython-input-54-2abac2b94257>:4: PerformanceWarning: DataFrame is highly fragmented.  This is usually the result of calling `frame.insert` many times, which has poor performance.  Consider joining all columns at once using pd.concat(axis=1) instead. To get a de-fragmented frame, use `newframe = frame.copy()`\n",
            "  amostras['Amostra_' + str(i)] = amostra_idade\n",
            "<ipython-input-54-2abac2b94257>:4: PerformanceWarning: DataFrame is highly fragmented.  This is usually the result of calling `frame.insert` many times, which has poor performance.  Consider joining all columns at once using pd.concat(axis=1) instead. To get a de-fragmented frame, use `newframe = frame.copy()`\n",
            "  amostras['Amostra_' + str(i)] = amostra_idade\n",
            "<ipython-input-54-2abac2b94257>:4: PerformanceWarning: DataFrame is highly fragmented.  This is usually the result of calling `frame.insert` many times, which has poor performance.  Consider joining all columns at once using pd.concat(axis=1) instead. To get a de-fragmented frame, use `newframe = frame.copy()`\n",
            "  amostras['Amostra_' + str(i)] = amostra_idade\n",
            "<ipython-input-54-2abac2b94257>:4: PerformanceWarning: DataFrame is highly fragmented.  This is usually the result of calling `frame.insert` many times, which has poor performance.  Consider joining all columns at once using pd.concat(axis=1) instead. To get a de-fragmented frame, use `newframe = frame.copy()`\n",
            "  amostras['Amostra_' + str(i)] = amostra_idade\n",
            "<ipython-input-54-2abac2b94257>:4: PerformanceWarning: DataFrame is highly fragmented.  This is usually the result of calling `frame.insert` many times, which has poor performance.  Consider joining all columns at once using pd.concat(axis=1) instead. To get a de-fragmented frame, use `newframe = frame.copy()`\n",
            "  amostras['Amostra_' + str(i)] = amostra_idade\n",
            "<ipython-input-54-2abac2b94257>:4: PerformanceWarning: DataFrame is highly fragmented.  This is usually the result of calling `frame.insert` many times, which has poor performance.  Consider joining all columns at once using pd.concat(axis=1) instead. To get a de-fragmented frame, use `newframe = frame.copy()`\n",
            "  amostras['Amostra_' + str(i)] = amostra_idade\n",
            "<ipython-input-54-2abac2b94257>:4: PerformanceWarning: DataFrame is highly fragmented.  This is usually the result of calling `frame.insert` many times, which has poor performance.  Consider joining all columns at once using pd.concat(axis=1) instead. To get a de-fragmented frame, use `newframe = frame.copy()`\n",
            "  amostras['Amostra_' + str(i)] = amostra_idade\n",
            "<ipython-input-54-2abac2b94257>:4: PerformanceWarning: DataFrame is highly fragmented.  This is usually the result of calling `frame.insert` many times, which has poor performance.  Consider joining all columns at once using pd.concat(axis=1) instead. To get a de-fragmented frame, use `newframe = frame.copy()`\n",
            "  amostras['Amostra_' + str(i)] = amostra_idade\n",
            "<ipython-input-54-2abac2b94257>:4: PerformanceWarning: DataFrame is highly fragmented.  This is usually the result of calling `frame.insert` many times, which has poor performance.  Consider joining all columns at once using pd.concat(axis=1) instead. To get a de-fragmented frame, use `newframe = frame.copy()`\n",
            "  amostras['Amostra_' + str(i)] = amostra_idade\n",
            "<ipython-input-54-2abac2b94257>:4: PerformanceWarning: DataFrame is highly fragmented.  This is usually the result of calling `frame.insert` many times, which has poor performance.  Consider joining all columns at once using pd.concat(axis=1) instead. To get a de-fragmented frame, use `newframe = frame.copy()`\n",
            "  amostras['Amostra_' + str(i)] = amostra_idade\n",
            "<ipython-input-54-2abac2b94257>:4: PerformanceWarning: DataFrame is highly fragmented.  This is usually the result of calling `frame.insert` many times, which has poor performance.  Consider joining all columns at once using pd.concat(axis=1) instead. To get a de-fragmented frame, use `newframe = frame.copy()`\n",
            "  amostras['Amostra_' + str(i)] = amostra_idade\n",
            "<ipython-input-54-2abac2b94257>:4: PerformanceWarning: DataFrame is highly fragmented.  This is usually the result of calling `frame.insert` many times, which has poor performance.  Consider joining all columns at once using pd.concat(axis=1) instead. To get a de-fragmented frame, use `newframe = frame.copy()`\n",
            "  amostras['Amostra_' + str(i)] = amostra_idade\n",
            "<ipython-input-54-2abac2b94257>:4: PerformanceWarning: DataFrame is highly fragmented.  This is usually the result of calling `frame.insert` many times, which has poor performance.  Consider joining all columns at once using pd.concat(axis=1) instead. To get a de-fragmented frame, use `newframe = frame.copy()`\n",
            "  amostras['Amostra_' + str(i)] = amostra_idade\n",
            "<ipython-input-54-2abac2b94257>:4: PerformanceWarning: DataFrame is highly fragmented.  This is usually the result of calling `frame.insert` many times, which has poor performance.  Consider joining all columns at once using pd.concat(axis=1) instead. To get a de-fragmented frame, use `newframe = frame.copy()`\n",
            "  amostras['Amostra_' + str(i)] = amostra_idade\n",
            "<ipython-input-54-2abac2b94257>:4: PerformanceWarning: DataFrame is highly fragmented.  This is usually the result of calling `frame.insert` many times, which has poor performance.  Consider joining all columns at once using pd.concat(axis=1) instead. To get a de-fragmented frame, use `newframe = frame.copy()`\n",
            "  amostras['Amostra_' + str(i)] = amostra_idade\n",
            "<ipython-input-54-2abac2b94257>:4: PerformanceWarning: DataFrame is highly fragmented.  This is usually the result of calling `frame.insert` many times, which has poor performance.  Consider joining all columns at once using pd.concat(axis=1) instead. To get a de-fragmented frame, use `newframe = frame.copy()`\n",
            "  amostras['Amostra_' + str(i)] = amostra_idade\n",
            "<ipython-input-54-2abac2b94257>:4: PerformanceWarning: DataFrame is highly fragmented.  This is usually the result of calling `frame.insert` many times, which has poor performance.  Consider joining all columns at once using pd.concat(axis=1) instead. To get a de-fragmented frame, use `newframe = frame.copy()`\n",
            "  amostras['Amostra_' + str(i)] = amostra_idade\n",
            "<ipython-input-54-2abac2b94257>:4: PerformanceWarning: DataFrame is highly fragmented.  This is usually the result of calling `frame.insert` many times, which has poor performance.  Consider joining all columns at once using pd.concat(axis=1) instead. To get a de-fragmented frame, use `newframe = frame.copy()`\n",
            "  amostras['Amostra_' + str(i)] = amostra_idade\n",
            "<ipython-input-54-2abac2b94257>:4: PerformanceWarning: DataFrame is highly fragmented.  This is usually the result of calling `frame.insert` many times, which has poor performance.  Consider joining all columns at once using pd.concat(axis=1) instead. To get a de-fragmented frame, use `newframe = frame.copy()`\n",
            "  amostras['Amostra_' + str(i)] = amostra_idade\n",
            "<ipython-input-54-2abac2b94257>:4: PerformanceWarning: DataFrame is highly fragmented.  This is usually the result of calling `frame.insert` many times, which has poor performance.  Consider joining all columns at once using pd.concat(axis=1) instead. To get a de-fragmented frame, use `newframe = frame.copy()`\n",
            "  amostras['Amostra_' + str(i)] = amostra_idade\n",
            "<ipython-input-54-2abac2b94257>:4: PerformanceWarning: DataFrame is highly fragmented.  This is usually the result of calling `frame.insert` many times, which has poor performance.  Consider joining all columns at once using pd.concat(axis=1) instead. To get a de-fragmented frame, use `newframe = frame.copy()`\n",
            "  amostras['Amostra_' + str(i)] = amostra_idade\n",
            "<ipython-input-54-2abac2b94257>:4: PerformanceWarning: DataFrame is highly fragmented.  This is usually the result of calling `frame.insert` many times, which has poor performance.  Consider joining all columns at once using pd.concat(axis=1) instead. To get a de-fragmented frame, use `newframe = frame.copy()`\n",
            "  amostras['Amostra_' + str(i)] = amostra_idade\n",
            "<ipython-input-54-2abac2b94257>:4: PerformanceWarning: DataFrame is highly fragmented.  This is usually the result of calling `frame.insert` many times, which has poor performance.  Consider joining all columns at once using pd.concat(axis=1) instead. To get a de-fragmented frame, use `newframe = frame.copy()`\n",
            "  amostras['Amostra_' + str(i)] = amostra_idade\n",
            "<ipython-input-54-2abac2b94257>:4: PerformanceWarning: DataFrame is highly fragmented.  This is usually the result of calling `frame.insert` many times, which has poor performance.  Consider joining all columns at once using pd.concat(axis=1) instead. To get a de-fragmented frame, use `newframe = frame.copy()`\n",
            "  amostras['Amostra_' + str(i)] = amostra_idade\n",
            "<ipython-input-54-2abac2b94257>:4: PerformanceWarning: DataFrame is highly fragmented.  This is usually the result of calling `frame.insert` many times, which has poor performance.  Consider joining all columns at once using pd.concat(axis=1) instead. To get a de-fragmented frame, use `newframe = frame.copy()`\n",
            "  amostras['Amostra_' + str(i)] = amostra_idade\n",
            "<ipython-input-54-2abac2b94257>:4: PerformanceWarning: DataFrame is highly fragmented.  This is usually the result of calling `frame.insert` many times, which has poor performance.  Consider joining all columns at once using pd.concat(axis=1) instead. To get a de-fragmented frame, use `newframe = frame.copy()`\n",
            "  amostras['Amostra_' + str(i)] = amostra_idade\n",
            "<ipython-input-54-2abac2b94257>:4: PerformanceWarning: DataFrame is highly fragmented.  This is usually the result of calling `frame.insert` many times, which has poor performance.  Consider joining all columns at once using pd.concat(axis=1) instead. To get a de-fragmented frame, use `newframe = frame.copy()`\n",
            "  amostras['Amostra_' + str(i)] = amostra_idade\n",
            "<ipython-input-54-2abac2b94257>:4: PerformanceWarning: DataFrame is highly fragmented.  This is usually the result of calling `frame.insert` many times, which has poor performance.  Consider joining all columns at once using pd.concat(axis=1) instead. To get a de-fragmented frame, use `newframe = frame.copy()`\n",
            "  amostras['Amostra_' + str(i)] = amostra_idade\n",
            "<ipython-input-54-2abac2b94257>:4: PerformanceWarning: DataFrame is highly fragmented.  This is usually the result of calling `frame.insert` many times, which has poor performance.  Consider joining all columns at once using pd.concat(axis=1) instead. To get a de-fragmented frame, use `newframe = frame.copy()`\n",
            "  amostras['Amostra_' + str(i)] = amostra_idade\n",
            "<ipython-input-54-2abac2b94257>:4: PerformanceWarning: DataFrame is highly fragmented.  This is usually the result of calling `frame.insert` many times, which has poor performance.  Consider joining all columns at once using pd.concat(axis=1) instead. To get a de-fragmented frame, use `newframe = frame.copy()`\n",
            "  amostras['Amostra_' + str(i)] = amostra_idade\n",
            "<ipython-input-54-2abac2b94257>:4: PerformanceWarning: DataFrame is highly fragmented.  This is usually the result of calling `frame.insert` many times, which has poor performance.  Consider joining all columns at once using pd.concat(axis=1) instead. To get a de-fragmented frame, use `newframe = frame.copy()`\n",
            "  amostras['Amostra_' + str(i)] = amostra_idade\n",
            "<ipython-input-54-2abac2b94257>:4: PerformanceWarning: DataFrame is highly fragmented.  This is usually the result of calling `frame.insert` many times, which has poor performance.  Consider joining all columns at once using pd.concat(axis=1) instead. To get a de-fragmented frame, use `newframe = frame.copy()`\n",
            "  amostras['Amostra_' + str(i)] = amostra_idade\n",
            "<ipython-input-54-2abac2b94257>:4: PerformanceWarning: DataFrame is highly fragmented.  This is usually the result of calling `frame.insert` many times, which has poor performance.  Consider joining all columns at once using pd.concat(axis=1) instead. To get a de-fragmented frame, use `newframe = frame.copy()`\n",
            "  amostras['Amostra_' + str(i)] = amostra_idade\n",
            "<ipython-input-54-2abac2b94257>:4: PerformanceWarning: DataFrame is highly fragmented.  This is usually the result of calling `frame.insert` many times, which has poor performance.  Consider joining all columns at once using pd.concat(axis=1) instead. To get a de-fragmented frame, use `newframe = frame.copy()`\n",
            "  amostras['Amostra_' + str(i)] = amostra_idade\n",
            "<ipython-input-54-2abac2b94257>:4: PerformanceWarning: DataFrame is highly fragmented.  This is usually the result of calling `frame.insert` many times, which has poor performance.  Consider joining all columns at once using pd.concat(axis=1) instead. To get a de-fragmented frame, use `newframe = frame.copy()`\n",
            "  amostras['Amostra_' + str(i)] = amostra_idade\n",
            "<ipython-input-54-2abac2b94257>:4: PerformanceWarning: DataFrame is highly fragmented.  This is usually the result of calling `frame.insert` many times, which has poor performance.  Consider joining all columns at once using pd.concat(axis=1) instead. To get a de-fragmented frame, use `newframe = frame.copy()`\n",
            "  amostras['Amostra_' + str(i)] = amostra_idade\n",
            "<ipython-input-54-2abac2b94257>:4: PerformanceWarning: DataFrame is highly fragmented.  This is usually the result of calling `frame.insert` many times, which has poor performance.  Consider joining all columns at once using pd.concat(axis=1) instead. To get a de-fragmented frame, use `newframe = frame.copy()`\n",
            "  amostras['Amostra_' + str(i)] = amostra_idade\n",
            "<ipython-input-54-2abac2b94257>:4: PerformanceWarning: DataFrame is highly fragmented.  This is usually the result of calling `frame.insert` many times, which has poor performance.  Consider joining all columns at once using pd.concat(axis=1) instead. To get a de-fragmented frame, use `newframe = frame.copy()`\n",
            "  amostras['Amostra_' + str(i)] = amostra_idade\n",
            "<ipython-input-54-2abac2b94257>:4: PerformanceWarning: DataFrame is highly fragmented.  This is usually the result of calling `frame.insert` many times, which has poor performance.  Consider joining all columns at once using pd.concat(axis=1) instead. To get a de-fragmented frame, use `newframe = frame.copy()`\n",
            "  amostras['Amostra_' + str(i)] = amostra_idade\n",
            "<ipython-input-54-2abac2b94257>:4: PerformanceWarning: DataFrame is highly fragmented.  This is usually the result of calling `frame.insert` many times, which has poor performance.  Consider joining all columns at once using pd.concat(axis=1) instead. To get a de-fragmented frame, use `newframe = frame.copy()`\n",
            "  amostras['Amostra_' + str(i)] = amostra_idade\n",
            "<ipython-input-54-2abac2b94257>:4: PerformanceWarning: DataFrame is highly fragmented.  This is usually the result of calling `frame.insert` many times, which has poor performance.  Consider joining all columns at once using pd.concat(axis=1) instead. To get a de-fragmented frame, use `newframe = frame.copy()`\n",
            "  amostras['Amostra_' + str(i)] = amostra_idade\n",
            "<ipython-input-54-2abac2b94257>:4: PerformanceWarning: DataFrame is highly fragmented.  This is usually the result of calling `frame.insert` many times, which has poor performance.  Consider joining all columns at once using pd.concat(axis=1) instead. To get a de-fragmented frame, use `newframe = frame.copy()`\n",
            "  amostras['Amostra_' + str(i)] = amostra_idade\n",
            "<ipython-input-54-2abac2b94257>:4: PerformanceWarning: DataFrame is highly fragmented.  This is usually the result of calling `frame.insert` many times, which has poor performance.  Consider joining all columns at once using pd.concat(axis=1) instead. To get a de-fragmented frame, use `newframe = frame.copy()`\n",
            "  amostras['Amostra_' + str(i)] = amostra_idade\n",
            "<ipython-input-54-2abac2b94257>:4: PerformanceWarning: DataFrame is highly fragmented.  This is usually the result of calling `frame.insert` many times, which has poor performance.  Consider joining all columns at once using pd.concat(axis=1) instead. To get a de-fragmented frame, use `newframe = frame.copy()`\n",
            "  amostras['Amostra_' + str(i)] = amostra_idade\n",
            "<ipython-input-54-2abac2b94257>:4: PerformanceWarning: DataFrame is highly fragmented.  This is usually the result of calling `frame.insert` many times, which has poor performance.  Consider joining all columns at once using pd.concat(axis=1) instead. To get a de-fragmented frame, use `newframe = frame.copy()`\n",
            "  amostras['Amostra_' + str(i)] = amostra_idade\n",
            "<ipython-input-54-2abac2b94257>:4: PerformanceWarning: DataFrame is highly fragmented.  This is usually the result of calling `frame.insert` many times, which has poor performance.  Consider joining all columns at once using pd.concat(axis=1) instead. To get a de-fragmented frame, use `newframe = frame.copy()`\n",
            "  amostras['Amostra_' + str(i)] = amostra_idade\n",
            "<ipython-input-54-2abac2b94257>:4: PerformanceWarning: DataFrame is highly fragmented.  This is usually the result of calling `frame.insert` many times, which has poor performance.  Consider joining all columns at once using pd.concat(axis=1) instead. To get a de-fragmented frame, use `newframe = frame.copy()`\n",
            "  amostras['Amostra_' + str(i)] = amostra_idade\n",
            "<ipython-input-54-2abac2b94257>:4: PerformanceWarning: DataFrame is highly fragmented.  This is usually the result of calling `frame.insert` many times, which has poor performance.  Consider joining all columns at once using pd.concat(axis=1) instead. To get a de-fragmented frame, use `newframe = frame.copy()`\n",
            "  amostras['Amostra_' + str(i)] = amostra_idade\n",
            "<ipython-input-54-2abac2b94257>:4: PerformanceWarning: DataFrame is highly fragmented.  This is usually the result of calling `frame.insert` many times, which has poor performance.  Consider joining all columns at once using pd.concat(axis=1) instead. To get a de-fragmented frame, use `newframe = frame.copy()`\n",
            "  amostras['Amostra_' + str(i)] = amostra_idade\n",
            "<ipython-input-54-2abac2b94257>:4: PerformanceWarning: DataFrame is highly fragmented.  This is usually the result of calling `frame.insert` many times, which has poor performance.  Consider joining all columns at once using pd.concat(axis=1) instead. To get a de-fragmented frame, use `newframe = frame.copy()`\n",
            "  amostras['Amostra_' + str(i)] = amostra_idade\n",
            "<ipython-input-54-2abac2b94257>:4: PerformanceWarning: DataFrame is highly fragmented.  This is usually the result of calling `frame.insert` many times, which has poor performance.  Consider joining all columns at once using pd.concat(axis=1) instead. To get a de-fragmented frame, use `newframe = frame.copy()`\n",
            "  amostras['Amostra_' + str(i)] = amostra_idade\n",
            "<ipython-input-54-2abac2b94257>:4: PerformanceWarning: DataFrame is highly fragmented.  This is usually the result of calling `frame.insert` many times, which has poor performance.  Consider joining all columns at once using pd.concat(axis=1) instead. To get a de-fragmented frame, use `newframe = frame.copy()`\n",
            "  amostras['Amostra_' + str(i)] = amostra_idade\n",
            "<ipython-input-54-2abac2b94257>:4: PerformanceWarning: DataFrame is highly fragmented.  This is usually the result of calling `frame.insert` many times, which has poor performance.  Consider joining all columns at once using pd.concat(axis=1) instead. To get a de-fragmented frame, use `newframe = frame.copy()`\n",
            "  amostras['Amostra_' + str(i)] = amostra_idade\n",
            "<ipython-input-54-2abac2b94257>:4: PerformanceWarning: DataFrame is highly fragmented.  This is usually the result of calling `frame.insert` many times, which has poor performance.  Consider joining all columns at once using pd.concat(axis=1) instead. To get a de-fragmented frame, use `newframe = frame.copy()`\n",
            "  amostras['Amostra_' + str(i)] = amostra_idade\n",
            "<ipython-input-54-2abac2b94257>:4: PerformanceWarning: DataFrame is highly fragmented.  This is usually the result of calling `frame.insert` many times, which has poor performance.  Consider joining all columns at once using pd.concat(axis=1) instead. To get a de-fragmented frame, use `newframe = frame.copy()`\n",
            "  amostras['Amostra_' + str(i)] = amostra_idade\n",
            "<ipython-input-54-2abac2b94257>:4: PerformanceWarning: DataFrame is highly fragmented.  This is usually the result of calling `frame.insert` many times, which has poor performance.  Consider joining all columns at once using pd.concat(axis=1) instead. To get a de-fragmented frame, use `newframe = frame.copy()`\n",
            "  amostras['Amostra_' + str(i)] = amostra_idade\n",
            "<ipython-input-54-2abac2b94257>:4: PerformanceWarning: DataFrame is highly fragmented.  This is usually the result of calling `frame.insert` many times, which has poor performance.  Consider joining all columns at once using pd.concat(axis=1) instead. To get a de-fragmented frame, use `newframe = frame.copy()`\n",
            "  amostras['Amostra_' + str(i)] = amostra_idade\n",
            "<ipython-input-54-2abac2b94257>:4: PerformanceWarning: DataFrame is highly fragmented.  This is usually the result of calling `frame.insert` many times, which has poor performance.  Consider joining all columns at once using pd.concat(axis=1) instead. To get a de-fragmented frame, use `newframe = frame.copy()`\n",
            "  amostras['Amostra_' + str(i)] = amostra_idade\n",
            "<ipython-input-54-2abac2b94257>:4: PerformanceWarning: DataFrame is highly fragmented.  This is usually the result of calling `frame.insert` many times, which has poor performance.  Consider joining all columns at once using pd.concat(axis=1) instead. To get a de-fragmented frame, use `newframe = frame.copy()`\n",
            "  amostras['Amostra_' + str(i)] = amostra_idade\n",
            "<ipython-input-54-2abac2b94257>:4: PerformanceWarning: DataFrame is highly fragmented.  This is usually the result of calling `frame.insert` many times, which has poor performance.  Consider joining all columns at once using pd.concat(axis=1) instead. To get a de-fragmented frame, use `newframe = frame.copy()`\n",
            "  amostras['Amostra_' + str(i)] = amostra_idade\n",
            "<ipython-input-54-2abac2b94257>:4: PerformanceWarning: DataFrame is highly fragmented.  This is usually the result of calling `frame.insert` many times, which has poor performance.  Consider joining all columns at once using pd.concat(axis=1) instead. To get a de-fragmented frame, use `newframe = frame.copy()`\n",
            "  amostras['Amostra_' + str(i)] = amostra_idade\n",
            "<ipython-input-54-2abac2b94257>:4: PerformanceWarning: DataFrame is highly fragmented.  This is usually the result of calling `frame.insert` many times, which has poor performance.  Consider joining all columns at once using pd.concat(axis=1) instead. To get a de-fragmented frame, use `newframe = frame.copy()`\n",
            "  amostras['Amostra_' + str(i)] = amostra_idade\n",
            "<ipython-input-54-2abac2b94257>:4: PerformanceWarning: DataFrame is highly fragmented.  This is usually the result of calling `frame.insert` many times, which has poor performance.  Consider joining all columns at once using pd.concat(axis=1) instead. To get a de-fragmented frame, use `newframe = frame.copy()`\n",
            "  amostras['Amostra_' + str(i)] = amostra_idade\n",
            "<ipython-input-54-2abac2b94257>:4: PerformanceWarning: DataFrame is highly fragmented.  This is usually the result of calling `frame.insert` many times, which has poor performance.  Consider joining all columns at once using pd.concat(axis=1) instead. To get a de-fragmented frame, use `newframe = frame.copy()`\n",
            "  amostras['Amostra_' + str(i)] = amostra_idade\n",
            "<ipython-input-54-2abac2b94257>:4: PerformanceWarning: DataFrame is highly fragmented.  This is usually the result of calling `frame.insert` many times, which has poor performance.  Consider joining all columns at once using pd.concat(axis=1) instead. To get a de-fragmented frame, use `newframe = frame.copy()`\n",
            "  amostras['Amostra_' + str(i)] = amostra_idade\n",
            "<ipython-input-54-2abac2b94257>:4: PerformanceWarning: DataFrame is highly fragmented.  This is usually the result of calling `frame.insert` many times, which has poor performance.  Consider joining all columns at once using pd.concat(axis=1) instead. To get a de-fragmented frame, use `newframe = frame.copy()`\n",
            "  amostras['Amostra_' + str(i)] = amostra_idade\n",
            "<ipython-input-54-2abac2b94257>:4: PerformanceWarning: DataFrame is highly fragmented.  This is usually the result of calling `frame.insert` many times, which has poor performance.  Consider joining all columns at once using pd.concat(axis=1) instead. To get a de-fragmented frame, use `newframe = frame.copy()`\n",
            "  amostras['Amostra_' + str(i)] = amostra_idade\n",
            "<ipython-input-54-2abac2b94257>:4: PerformanceWarning: DataFrame is highly fragmented.  This is usually the result of calling `frame.insert` many times, which has poor performance.  Consider joining all columns at once using pd.concat(axis=1) instead. To get a de-fragmented frame, use `newframe = frame.copy()`\n",
            "  amostras['Amostra_' + str(i)] = amostra_idade\n",
            "<ipython-input-54-2abac2b94257>:4: PerformanceWarning: DataFrame is highly fragmented.  This is usually the result of calling `frame.insert` many times, which has poor performance.  Consider joining all columns at once using pd.concat(axis=1) instead. To get a de-fragmented frame, use `newframe = frame.copy()`\n",
            "  amostras['Amostra_' + str(i)] = amostra_idade\n",
            "<ipython-input-54-2abac2b94257>:4: PerformanceWarning: DataFrame is highly fragmented.  This is usually the result of calling `frame.insert` many times, which has poor performance.  Consider joining all columns at once using pd.concat(axis=1) instead. To get a de-fragmented frame, use `newframe = frame.copy()`\n",
            "  amostras['Amostra_' + str(i)] = amostra_idade\n",
            "<ipython-input-54-2abac2b94257>:4: PerformanceWarning: DataFrame is highly fragmented.  This is usually the result of calling `frame.insert` many times, which has poor performance.  Consider joining all columns at once using pd.concat(axis=1) instead. To get a de-fragmented frame, use `newframe = frame.copy()`\n",
            "  amostras['Amostra_' + str(i)] = amostra_idade\n",
            "<ipython-input-54-2abac2b94257>:4: PerformanceWarning: DataFrame is highly fragmented.  This is usually the result of calling `frame.insert` many times, which has poor performance.  Consider joining all columns at once using pd.concat(axis=1) instead. To get a de-fragmented frame, use `newframe = frame.copy()`\n",
            "  amostras['Amostra_' + str(i)] = amostra_idade\n",
            "<ipython-input-54-2abac2b94257>:4: PerformanceWarning: DataFrame is highly fragmented.  This is usually the result of calling `frame.insert` many times, which has poor performance.  Consider joining all columns at once using pd.concat(axis=1) instead. To get a de-fragmented frame, use `newframe = frame.copy()`\n",
            "  amostras['Amostra_' + str(i)] = amostra_idade\n",
            "<ipython-input-54-2abac2b94257>:4: PerformanceWarning: DataFrame is highly fragmented.  This is usually the result of calling `frame.insert` many times, which has poor performance.  Consider joining all columns at once using pd.concat(axis=1) instead. To get a de-fragmented frame, use `newframe = frame.copy()`\n",
            "  amostras['Amostra_' + str(i)] = amostra_idade\n",
            "<ipython-input-54-2abac2b94257>:4: PerformanceWarning: DataFrame is highly fragmented.  This is usually the result of calling `frame.insert` many times, which has poor performance.  Consider joining all columns at once using pd.concat(axis=1) instead. To get a de-fragmented frame, use `newframe = frame.copy()`\n",
            "  amostras['Amostra_' + str(i)] = amostra_idade\n",
            "<ipython-input-54-2abac2b94257>:4: PerformanceWarning: DataFrame is highly fragmented.  This is usually the result of calling `frame.insert` many times, which has poor performance.  Consider joining all columns at once using pd.concat(axis=1) instead. To get a de-fragmented frame, use `newframe = frame.copy()`\n",
            "  amostras['Amostra_' + str(i)] = amostra_idade\n",
            "<ipython-input-54-2abac2b94257>:4: PerformanceWarning: DataFrame is highly fragmented.  This is usually the result of calling `frame.insert` many times, which has poor performance.  Consider joining all columns at once using pd.concat(axis=1) instead. To get a de-fragmented frame, use `newframe = frame.copy()`\n",
            "  amostras['Amostra_' + str(i)] = amostra_idade\n",
            "<ipython-input-54-2abac2b94257>:4: PerformanceWarning: DataFrame is highly fragmented.  This is usually the result of calling `frame.insert` many times, which has poor performance.  Consider joining all columns at once using pd.concat(axis=1) instead. To get a de-fragmented frame, use `newframe = frame.copy()`\n",
            "  amostras['Amostra_' + str(i)] = amostra_idade\n",
            "<ipython-input-54-2abac2b94257>:4: PerformanceWarning: DataFrame is highly fragmented.  This is usually the result of calling `frame.insert` many times, which has poor performance.  Consider joining all columns at once using pd.concat(axis=1) instead. To get a de-fragmented frame, use `newframe = frame.copy()`\n",
            "  amostras['Amostra_' + str(i)] = amostra_idade\n",
            "<ipython-input-54-2abac2b94257>:4: PerformanceWarning: DataFrame is highly fragmented.  This is usually the result of calling `frame.insert` many times, which has poor performance.  Consider joining all columns at once using pd.concat(axis=1) instead. To get a de-fragmented frame, use `newframe = frame.copy()`\n",
            "  amostras['Amostra_' + str(i)] = amostra_idade\n",
            "<ipython-input-54-2abac2b94257>:4: PerformanceWarning: DataFrame is highly fragmented.  This is usually the result of calling `frame.insert` many times, which has poor performance.  Consider joining all columns at once using pd.concat(axis=1) instead. To get a de-fragmented frame, use `newframe = frame.copy()`\n",
            "  amostras['Amostra_' + str(i)] = amostra_idade\n",
            "<ipython-input-54-2abac2b94257>:4: PerformanceWarning: DataFrame is highly fragmented.  This is usually the result of calling `frame.insert` many times, which has poor performance.  Consider joining all columns at once using pd.concat(axis=1) instead. To get a de-fragmented frame, use `newframe = frame.copy()`\n",
            "  amostras['Amostra_' + str(i)] = amostra_idade\n",
            "<ipython-input-54-2abac2b94257>:4: PerformanceWarning: DataFrame is highly fragmented.  This is usually the result of calling `frame.insert` many times, which has poor performance.  Consider joining all columns at once using pd.concat(axis=1) instead. To get a de-fragmented frame, use `newframe = frame.copy()`\n",
            "  amostras['Amostra_' + str(i)] = amostra_idade\n",
            "<ipython-input-54-2abac2b94257>:4: PerformanceWarning: DataFrame is highly fragmented.  This is usually the result of calling `frame.insert` many times, which has poor performance.  Consider joining all columns at once using pd.concat(axis=1) instead. To get a de-fragmented frame, use `newframe = frame.copy()`\n",
            "  amostras['Amostra_' + str(i)] = amostra_idade\n",
            "<ipython-input-54-2abac2b94257>:4: PerformanceWarning: DataFrame is highly fragmented.  This is usually the result of calling `frame.insert` many times, which has poor performance.  Consider joining all columns at once using pd.concat(axis=1) instead. To get a de-fragmented frame, use `newframe = frame.copy()`\n",
            "  amostras['Amostra_' + str(i)] = amostra_idade\n",
            "<ipython-input-54-2abac2b94257>:4: PerformanceWarning: DataFrame is highly fragmented.  This is usually the result of calling `frame.insert` many times, which has poor performance.  Consider joining all columns at once using pd.concat(axis=1) instead. To get a de-fragmented frame, use `newframe = frame.copy()`\n",
            "  amostras['Amostra_' + str(i)] = amostra_idade\n",
            "<ipython-input-54-2abac2b94257>:4: PerformanceWarning: DataFrame is highly fragmented.  This is usually the result of calling `frame.insert` many times, which has poor performance.  Consider joining all columns at once using pd.concat(axis=1) instead. To get a de-fragmented frame, use `newframe = frame.copy()`\n",
            "  amostras['Amostra_' + str(i)] = amostra_idade\n",
            "<ipython-input-54-2abac2b94257>:4: PerformanceWarning: DataFrame is highly fragmented.  This is usually the result of calling `frame.insert` many times, which has poor performance.  Consider joining all columns at once using pd.concat(axis=1) instead. To get a de-fragmented frame, use `newframe = frame.copy()`\n",
            "  amostras['Amostra_' + str(i)] = amostra_idade\n",
            "<ipython-input-54-2abac2b94257>:4: PerformanceWarning: DataFrame is highly fragmented.  This is usually the result of calling `frame.insert` many times, which has poor performance.  Consider joining all columns at once using pd.concat(axis=1) instead. To get a de-fragmented frame, use `newframe = frame.copy()`\n",
            "  amostras['Amostra_' + str(i)] = amostra_idade\n",
            "<ipython-input-54-2abac2b94257>:4: PerformanceWarning: DataFrame is highly fragmented.  This is usually the result of calling `frame.insert` many times, which has poor performance.  Consider joining all columns at once using pd.concat(axis=1) instead. To get a de-fragmented frame, use `newframe = frame.copy()`\n",
            "  amostras['Amostra_' + str(i)] = amostra_idade\n",
            "<ipython-input-54-2abac2b94257>:4: PerformanceWarning: DataFrame is highly fragmented.  This is usually the result of calling `frame.insert` many times, which has poor performance.  Consider joining all columns at once using pd.concat(axis=1) instead. To get a de-fragmented frame, use `newframe = frame.copy()`\n",
            "  amostras['Amostra_' + str(i)] = amostra_idade\n",
            "<ipython-input-54-2abac2b94257>:4: PerformanceWarning: DataFrame is highly fragmented.  This is usually the result of calling `frame.insert` many times, which has poor performance.  Consider joining all columns at once using pd.concat(axis=1) instead. To get a de-fragmented frame, use `newframe = frame.copy()`\n",
            "  amostras['Amostra_' + str(i)] = amostra_idade\n",
            "<ipython-input-54-2abac2b94257>:4: PerformanceWarning: DataFrame is highly fragmented.  This is usually the result of calling `frame.insert` many times, which has poor performance.  Consider joining all columns at once using pd.concat(axis=1) instead. To get a de-fragmented frame, use `newframe = frame.copy()`\n",
            "  amostras['Amostra_' + str(i)] = amostra_idade\n",
            "<ipython-input-54-2abac2b94257>:4: PerformanceWarning: DataFrame is highly fragmented.  This is usually the result of calling `frame.insert` many times, which has poor performance.  Consider joining all columns at once using pd.concat(axis=1) instead. To get a de-fragmented frame, use `newframe = frame.copy()`\n",
            "  amostras['Amostra_' + str(i)] = amostra_idade\n",
            "<ipython-input-54-2abac2b94257>:4: PerformanceWarning: DataFrame is highly fragmented.  This is usually the result of calling `frame.insert` many times, which has poor performance.  Consider joining all columns at once using pd.concat(axis=1) instead. To get a de-fragmented frame, use `newframe = frame.copy()`\n",
            "  amostras['Amostra_' + str(i)] = amostra_idade\n",
            "<ipython-input-54-2abac2b94257>:4: PerformanceWarning: DataFrame is highly fragmented.  This is usually the result of calling `frame.insert` many times, which has poor performance.  Consider joining all columns at once using pd.concat(axis=1) instead. To get a de-fragmented frame, use `newframe = frame.copy()`\n",
            "  amostras['Amostra_' + str(i)] = amostra_idade\n",
            "<ipython-input-54-2abac2b94257>:4: PerformanceWarning: DataFrame is highly fragmented.  This is usually the result of calling `frame.insert` many times, which has poor performance.  Consider joining all columns at once using pd.concat(axis=1) instead. To get a de-fragmented frame, use `newframe = frame.copy()`\n",
            "  amostras['Amostra_' + str(i)] = amostra_idade\n",
            "<ipython-input-54-2abac2b94257>:4: PerformanceWarning: DataFrame is highly fragmented.  This is usually the result of calling `frame.insert` many times, which has poor performance.  Consider joining all columns at once using pd.concat(axis=1) instead. To get a de-fragmented frame, use `newframe = frame.copy()`\n",
            "  amostras['Amostra_' + str(i)] = amostra_idade\n",
            "<ipython-input-54-2abac2b94257>:4: PerformanceWarning: DataFrame is highly fragmented.  This is usually the result of calling `frame.insert` many times, which has poor performance.  Consider joining all columns at once using pd.concat(axis=1) instead. To get a de-fragmented frame, use `newframe = frame.copy()`\n",
            "  amostras['Amostra_' + str(i)] = amostra_idade\n",
            "<ipython-input-54-2abac2b94257>:4: PerformanceWarning: DataFrame is highly fragmented.  This is usually the result of calling `frame.insert` many times, which has poor performance.  Consider joining all columns at once using pd.concat(axis=1) instead. To get a de-fragmented frame, use `newframe = frame.copy()`\n",
            "  amostras['Amostra_' + str(i)] = amostra_idade\n",
            "<ipython-input-54-2abac2b94257>:4: PerformanceWarning: DataFrame is highly fragmented.  This is usually the result of calling `frame.insert` many times, which has poor performance.  Consider joining all columns at once using pd.concat(axis=1) instead. To get a de-fragmented frame, use `newframe = frame.copy()`\n",
            "  amostras['Amostra_' + str(i)] = amostra_idade\n",
            "<ipython-input-54-2abac2b94257>:4: PerformanceWarning: DataFrame is highly fragmented.  This is usually the result of calling `frame.insert` many times, which has poor performance.  Consider joining all columns at once using pd.concat(axis=1) instead. To get a de-fragmented frame, use `newframe = frame.copy()`\n",
            "  amostras['Amostra_' + str(i)] = amostra_idade\n",
            "<ipython-input-54-2abac2b94257>:4: PerformanceWarning: DataFrame is highly fragmented.  This is usually the result of calling `frame.insert` many times, which has poor performance.  Consider joining all columns at once using pd.concat(axis=1) instead. To get a de-fragmented frame, use `newframe = frame.copy()`\n",
            "  amostras['Amostra_' + str(i)] = amostra_idade\n",
            "<ipython-input-54-2abac2b94257>:4: PerformanceWarning: DataFrame is highly fragmented.  This is usually the result of calling `frame.insert` many times, which has poor performance.  Consider joining all columns at once using pd.concat(axis=1) instead. To get a de-fragmented frame, use `newframe = frame.copy()`\n",
            "  amostras['Amostra_' + str(i)] = amostra_idade\n",
            "<ipython-input-54-2abac2b94257>:4: PerformanceWarning: DataFrame is highly fragmented.  This is usually the result of calling `frame.insert` many times, which has poor performance.  Consider joining all columns at once using pd.concat(axis=1) instead. To get a de-fragmented frame, use `newframe = frame.copy()`\n",
            "  amostras['Amostra_' + str(i)] = amostra_idade\n",
            "<ipython-input-54-2abac2b94257>:4: PerformanceWarning: DataFrame is highly fragmented.  This is usually the result of calling `frame.insert` many times, which has poor performance.  Consider joining all columns at once using pd.concat(axis=1) instead. To get a de-fragmented frame, use `newframe = frame.copy()`\n",
            "  amostras['Amostra_' + str(i)] = amostra_idade\n",
            "<ipython-input-54-2abac2b94257>:4: PerformanceWarning: DataFrame is highly fragmented.  This is usually the result of calling `frame.insert` many times, which has poor performance.  Consider joining all columns at once using pd.concat(axis=1) instead. To get a de-fragmented frame, use `newframe = frame.copy()`\n",
            "  amostras['Amostra_' + str(i)] = amostra_idade\n",
            "<ipython-input-54-2abac2b94257>:4: PerformanceWarning: DataFrame is highly fragmented.  This is usually the result of calling `frame.insert` many times, which has poor performance.  Consider joining all columns at once using pd.concat(axis=1) instead. To get a de-fragmented frame, use `newframe = frame.copy()`\n",
            "  amostras['Amostra_' + str(i)] = amostra_idade\n",
            "<ipython-input-54-2abac2b94257>:4: PerformanceWarning: DataFrame is highly fragmented.  This is usually the result of calling `frame.insert` many times, which has poor performance.  Consider joining all columns at once using pd.concat(axis=1) instead. To get a de-fragmented frame, use `newframe = frame.copy()`\n",
            "  amostras['Amostra_' + str(i)] = amostra_idade\n",
            "<ipython-input-54-2abac2b94257>:4: PerformanceWarning: DataFrame is highly fragmented.  This is usually the result of calling `frame.insert` many times, which has poor performance.  Consider joining all columns at once using pd.concat(axis=1) instead. To get a de-fragmented frame, use `newframe = frame.copy()`\n",
            "  amostras['Amostra_' + str(i)] = amostra_idade\n",
            "<ipython-input-54-2abac2b94257>:4: PerformanceWarning: DataFrame is highly fragmented.  This is usually the result of calling `frame.insert` many times, which has poor performance.  Consider joining all columns at once using pd.concat(axis=1) instead. To get a de-fragmented frame, use `newframe = frame.copy()`\n",
            "  amostras['Amostra_' + str(i)] = amostra_idade\n",
            "<ipython-input-54-2abac2b94257>:4: PerformanceWarning: DataFrame is highly fragmented.  This is usually the result of calling `frame.insert` many times, which has poor performance.  Consider joining all columns at once using pd.concat(axis=1) instead. To get a de-fragmented frame, use `newframe = frame.copy()`\n",
            "  amostras['Amostra_' + str(i)] = amostra_idade\n",
            "<ipython-input-54-2abac2b94257>:4: PerformanceWarning: DataFrame is highly fragmented.  This is usually the result of calling `frame.insert` many times, which has poor performance.  Consider joining all columns at once using pd.concat(axis=1) instead. To get a de-fragmented frame, use `newframe = frame.copy()`\n",
            "  amostras['Amostra_' + str(i)] = amostra_idade\n",
            "<ipython-input-54-2abac2b94257>:4: PerformanceWarning: DataFrame is highly fragmented.  This is usually the result of calling `frame.insert` many times, which has poor performance.  Consider joining all columns at once using pd.concat(axis=1) instead. To get a de-fragmented frame, use `newframe = frame.copy()`\n",
            "  amostras['Amostra_' + str(i)] = amostra_idade\n",
            "<ipython-input-54-2abac2b94257>:4: PerformanceWarning: DataFrame is highly fragmented.  This is usually the result of calling `frame.insert` many times, which has poor performance.  Consider joining all columns at once using pd.concat(axis=1) instead. To get a de-fragmented frame, use `newframe = frame.copy()`\n",
            "  amostras['Amostra_' + str(i)] = amostra_idade\n",
            "<ipython-input-54-2abac2b94257>:4: PerformanceWarning: DataFrame is highly fragmented.  This is usually the result of calling `frame.insert` many times, which has poor performance.  Consider joining all columns at once using pd.concat(axis=1) instead. To get a de-fragmented frame, use `newframe = frame.copy()`\n",
            "  amostras['Amostra_' + str(i)] = amostra_idade\n",
            "<ipython-input-54-2abac2b94257>:4: PerformanceWarning: DataFrame is highly fragmented.  This is usually the result of calling `frame.insert` many times, which has poor performance.  Consider joining all columns at once using pd.concat(axis=1) instead. To get a de-fragmented frame, use `newframe = frame.copy()`\n",
            "  amostras['Amostra_' + str(i)] = amostra_idade\n",
            "<ipython-input-54-2abac2b94257>:4: PerformanceWarning: DataFrame is highly fragmented.  This is usually the result of calling `frame.insert` many times, which has poor performance.  Consider joining all columns at once using pd.concat(axis=1) instead. To get a de-fragmented frame, use `newframe = frame.copy()`\n",
            "  amostras['Amostra_' + str(i)] = amostra_idade\n",
            "<ipython-input-54-2abac2b94257>:4: PerformanceWarning: DataFrame is highly fragmented.  This is usually the result of calling `frame.insert` many times, which has poor performance.  Consider joining all columns at once using pd.concat(axis=1) instead. To get a de-fragmented frame, use `newframe = frame.copy()`\n",
            "  amostras['Amostra_' + str(i)] = amostra_idade\n",
            "<ipython-input-54-2abac2b94257>:4: PerformanceWarning: DataFrame is highly fragmented.  This is usually the result of calling `frame.insert` many times, which has poor performance.  Consider joining all columns at once using pd.concat(axis=1) instead. To get a de-fragmented frame, use `newframe = frame.copy()`\n",
            "  amostras['Amostra_' + str(i)] = amostra_idade\n",
            "<ipython-input-54-2abac2b94257>:4: PerformanceWarning: DataFrame is highly fragmented.  This is usually the result of calling `frame.insert` many times, which has poor performance.  Consider joining all columns at once using pd.concat(axis=1) instead. To get a de-fragmented frame, use `newframe = frame.copy()`\n",
            "  amostras['Amostra_' + str(i)] = amostra_idade\n",
            "<ipython-input-54-2abac2b94257>:4: PerformanceWarning: DataFrame is highly fragmented.  This is usually the result of calling `frame.insert` many times, which has poor performance.  Consider joining all columns at once using pd.concat(axis=1) instead. To get a de-fragmented frame, use `newframe = frame.copy()`\n",
            "  amostras['Amostra_' + str(i)] = amostra_idade\n",
            "<ipython-input-54-2abac2b94257>:4: PerformanceWarning: DataFrame is highly fragmented.  This is usually the result of calling `frame.insert` many times, which has poor performance.  Consider joining all columns at once using pd.concat(axis=1) instead. To get a de-fragmented frame, use `newframe = frame.copy()`\n",
            "  amostras['Amostra_' + str(i)] = amostra_idade\n",
            "<ipython-input-54-2abac2b94257>:4: PerformanceWarning: DataFrame is highly fragmented.  This is usually the result of calling `frame.insert` many times, which has poor performance.  Consider joining all columns at once using pd.concat(axis=1) instead. To get a de-fragmented frame, use `newframe = frame.copy()`\n",
            "  amostras['Amostra_' + str(i)] = amostra_idade\n",
            "<ipython-input-54-2abac2b94257>:4: PerformanceWarning: DataFrame is highly fragmented.  This is usually the result of calling `frame.insert` many times, which has poor performance.  Consider joining all columns at once using pd.concat(axis=1) instead. To get a de-fragmented frame, use `newframe = frame.copy()`\n",
            "  amostras['Amostra_' + str(i)] = amostra_idade\n",
            "<ipython-input-54-2abac2b94257>:4: PerformanceWarning: DataFrame is highly fragmented.  This is usually the result of calling `frame.insert` many times, which has poor performance.  Consider joining all columns at once using pd.concat(axis=1) instead. To get a de-fragmented frame, use `newframe = frame.copy()`\n",
            "  amostras['Amostra_' + str(i)] = amostra_idade\n",
            "<ipython-input-54-2abac2b94257>:4: PerformanceWarning: DataFrame is highly fragmented.  This is usually the result of calling `frame.insert` many times, which has poor performance.  Consider joining all columns at once using pd.concat(axis=1) instead. To get a de-fragmented frame, use `newframe = frame.copy()`\n",
            "  amostras['Amostra_' + str(i)] = amostra_idade\n",
            "<ipython-input-54-2abac2b94257>:4: PerformanceWarning: DataFrame is highly fragmented.  This is usually the result of calling `frame.insert` many times, which has poor performance.  Consider joining all columns at once using pd.concat(axis=1) instead. To get a de-fragmented frame, use `newframe = frame.copy()`\n",
            "  amostras['Amostra_' + str(i)] = amostra_idade\n",
            "<ipython-input-54-2abac2b94257>:4: PerformanceWarning: DataFrame is highly fragmented.  This is usually the result of calling `frame.insert` many times, which has poor performance.  Consider joining all columns at once using pd.concat(axis=1) instead. To get a de-fragmented frame, use `newframe = frame.copy()`\n",
            "  amostras['Amostra_' + str(i)] = amostra_idade\n",
            "<ipython-input-54-2abac2b94257>:4: PerformanceWarning: DataFrame is highly fragmented.  This is usually the result of calling `frame.insert` many times, which has poor performance.  Consider joining all columns at once using pd.concat(axis=1) instead. To get a de-fragmented frame, use `newframe = frame.copy()`\n",
            "  amostras['Amostra_' + str(i)] = amostra_idade\n",
            "<ipython-input-54-2abac2b94257>:4: PerformanceWarning: DataFrame is highly fragmented.  This is usually the result of calling `frame.insert` many times, which has poor performance.  Consider joining all columns at once using pd.concat(axis=1) instead. To get a de-fragmented frame, use `newframe = frame.copy()`\n",
            "  amostras['Amostra_' + str(i)] = amostra_idade\n",
            "<ipython-input-54-2abac2b94257>:4: PerformanceWarning: DataFrame is highly fragmented.  This is usually the result of calling `frame.insert` many times, which has poor performance.  Consider joining all columns at once using pd.concat(axis=1) instead. To get a de-fragmented frame, use `newframe = frame.copy()`\n",
            "  amostras['Amostra_' + str(i)] = amostra_idade\n",
            "<ipython-input-54-2abac2b94257>:4: PerformanceWarning: DataFrame is highly fragmented.  This is usually the result of calling `frame.insert` many times, which has poor performance.  Consider joining all columns at once using pd.concat(axis=1) instead. To get a de-fragmented frame, use `newframe = frame.copy()`\n",
            "  amostras['Amostra_' + str(i)] = amostra_idade\n",
            "<ipython-input-54-2abac2b94257>:4: PerformanceWarning: DataFrame is highly fragmented.  This is usually the result of calling `frame.insert` many times, which has poor performance.  Consider joining all columns at once using pd.concat(axis=1) instead. To get a de-fragmented frame, use `newframe = frame.copy()`\n",
            "  amostras['Amostra_' + str(i)] = amostra_idade\n",
            "<ipython-input-54-2abac2b94257>:4: PerformanceWarning: DataFrame is highly fragmented.  This is usually the result of calling `frame.insert` many times, which has poor performance.  Consider joining all columns at once using pd.concat(axis=1) instead. To get a de-fragmented frame, use `newframe = frame.copy()`\n",
            "  amostras['Amostra_' + str(i)] = amostra_idade\n",
            "<ipython-input-54-2abac2b94257>:4: PerformanceWarning: DataFrame is highly fragmented.  This is usually the result of calling `frame.insert` many times, which has poor performance.  Consider joining all columns at once using pd.concat(axis=1) instead. To get a de-fragmented frame, use `newframe = frame.copy()`\n",
            "  amostras['Amostra_' + str(i)] = amostra_idade\n",
            "<ipython-input-54-2abac2b94257>:4: PerformanceWarning: DataFrame is highly fragmented.  This is usually the result of calling `frame.insert` many times, which has poor performance.  Consider joining all columns at once using pd.concat(axis=1) instead. To get a de-fragmented frame, use `newframe = frame.copy()`\n",
            "  amostras['Amostra_' + str(i)] = amostra_idade\n",
            "<ipython-input-54-2abac2b94257>:4: PerformanceWarning: DataFrame is highly fragmented.  This is usually the result of calling `frame.insert` many times, which has poor performance.  Consider joining all columns at once using pd.concat(axis=1) instead. To get a de-fragmented frame, use `newframe = frame.copy()`\n",
            "  amostras['Amostra_' + str(i)] = amostra_idade\n",
            "<ipython-input-54-2abac2b94257>:4: PerformanceWarning: DataFrame is highly fragmented.  This is usually the result of calling `frame.insert` many times, which has poor performance.  Consider joining all columns at once using pd.concat(axis=1) instead. To get a de-fragmented frame, use `newframe = frame.copy()`\n",
            "  amostras['Amostra_' + str(i)] = amostra_idade\n",
            "<ipython-input-54-2abac2b94257>:4: PerformanceWarning: DataFrame is highly fragmented.  This is usually the result of calling `frame.insert` many times, which has poor performance.  Consider joining all columns at once using pd.concat(axis=1) instead. To get a de-fragmented frame, use `newframe = frame.copy()`\n",
            "  amostras['Amostra_' + str(i)] = amostra_idade\n",
            "<ipython-input-54-2abac2b94257>:4: PerformanceWarning: DataFrame is highly fragmented.  This is usually the result of calling `frame.insert` many times, which has poor performance.  Consider joining all columns at once using pd.concat(axis=1) instead. To get a de-fragmented frame, use `newframe = frame.copy()`\n",
            "  amostras['Amostra_' + str(i)] = amostra_idade\n",
            "<ipython-input-54-2abac2b94257>:4: PerformanceWarning: DataFrame is highly fragmented.  This is usually the result of calling `frame.insert` many times, which has poor performance.  Consider joining all columns at once using pd.concat(axis=1) instead. To get a de-fragmented frame, use `newframe = frame.copy()`\n",
            "  amostras['Amostra_' + str(i)] = amostra_idade\n",
            "<ipython-input-54-2abac2b94257>:4: PerformanceWarning: DataFrame is highly fragmented.  This is usually the result of calling `frame.insert` many times, which has poor performance.  Consider joining all columns at once using pd.concat(axis=1) instead. To get a de-fragmented frame, use `newframe = frame.copy()`\n",
            "  amostras['Amostra_' + str(i)] = amostra_idade\n",
            "<ipython-input-54-2abac2b94257>:4: PerformanceWarning: DataFrame is highly fragmented.  This is usually the result of calling `frame.insert` many times, which has poor performance.  Consider joining all columns at once using pd.concat(axis=1) instead. To get a de-fragmented frame, use `newframe = frame.copy()`\n",
            "  amostras['Amostra_' + str(i)] = amostra_idade\n",
            "<ipython-input-54-2abac2b94257>:4: PerformanceWarning: DataFrame is highly fragmented.  This is usually the result of calling `frame.insert` many times, which has poor performance.  Consider joining all columns at once using pd.concat(axis=1) instead. To get a de-fragmented frame, use `newframe = frame.copy()`\n",
            "  amostras['Amostra_' + str(i)] = amostra_idade\n",
            "<ipython-input-54-2abac2b94257>:4: PerformanceWarning: DataFrame is highly fragmented.  This is usually the result of calling `frame.insert` many times, which has poor performance.  Consider joining all columns at once using pd.concat(axis=1) instead. To get a de-fragmented frame, use `newframe = frame.copy()`\n",
            "  amostras['Amostra_' + str(i)] = amostra_idade\n",
            "<ipython-input-54-2abac2b94257>:4: PerformanceWarning: DataFrame is highly fragmented.  This is usually the result of calling `frame.insert` many times, which has poor performance.  Consider joining all columns at once using pd.concat(axis=1) instead. To get a de-fragmented frame, use `newframe = frame.copy()`\n",
            "  amostras['Amostra_' + str(i)] = amostra_idade\n",
            "<ipython-input-54-2abac2b94257>:4: PerformanceWarning: DataFrame is highly fragmented.  This is usually the result of calling `frame.insert` many times, which has poor performance.  Consider joining all columns at once using pd.concat(axis=1) instead. To get a de-fragmented frame, use `newframe = frame.copy()`\n",
            "  amostras['Amostra_' + str(i)] = amostra_idade\n",
            "<ipython-input-54-2abac2b94257>:4: PerformanceWarning: DataFrame is highly fragmented.  This is usually the result of calling `frame.insert` many times, which has poor performance.  Consider joining all columns at once using pd.concat(axis=1) instead. To get a de-fragmented frame, use `newframe = frame.copy()`\n",
            "  amostras['Amostra_' + str(i)] = amostra_idade\n",
            "<ipython-input-54-2abac2b94257>:4: PerformanceWarning: DataFrame is highly fragmented.  This is usually the result of calling `frame.insert` many times, which has poor performance.  Consider joining all columns at once using pd.concat(axis=1) instead. To get a de-fragmented frame, use `newframe = frame.copy()`\n",
            "  amostras['Amostra_' + str(i)] = amostra_idade\n",
            "<ipython-input-54-2abac2b94257>:4: PerformanceWarning: DataFrame is highly fragmented.  This is usually the result of calling `frame.insert` many times, which has poor performance.  Consider joining all columns at once using pd.concat(axis=1) instead. To get a de-fragmented frame, use `newframe = frame.copy()`\n",
            "  amostras['Amostra_' + str(i)] = amostra_idade\n",
            "<ipython-input-54-2abac2b94257>:4: PerformanceWarning: DataFrame is highly fragmented.  This is usually the result of calling `frame.insert` many times, which has poor performance.  Consider joining all columns at once using pd.concat(axis=1) instead. To get a de-fragmented frame, use `newframe = frame.copy()`\n",
            "  amostras['Amostra_' + str(i)] = amostra_idade\n",
            "<ipython-input-54-2abac2b94257>:4: PerformanceWarning: DataFrame is highly fragmented.  This is usually the result of calling `frame.insert` many times, which has poor performance.  Consider joining all columns at once using pd.concat(axis=1) instead. To get a de-fragmented frame, use `newframe = frame.copy()`\n",
            "  amostras['Amostra_' + str(i)] = amostra_idade\n",
            "<ipython-input-54-2abac2b94257>:4: PerformanceWarning: DataFrame is highly fragmented.  This is usually the result of calling `frame.insert` many times, which has poor performance.  Consider joining all columns at once using pd.concat(axis=1) instead. To get a de-fragmented frame, use `newframe = frame.copy()`\n",
            "  amostras['Amostra_' + str(i)] = amostra_idade\n",
            "<ipython-input-54-2abac2b94257>:4: PerformanceWarning: DataFrame is highly fragmented.  This is usually the result of calling `frame.insert` many times, which has poor performance.  Consider joining all columns at once using pd.concat(axis=1) instead. To get a de-fragmented frame, use `newframe = frame.copy()`\n",
            "  amostras['Amostra_' + str(i)] = amostra_idade\n",
            "<ipython-input-54-2abac2b94257>:4: PerformanceWarning: DataFrame is highly fragmented.  This is usually the result of calling `frame.insert` many times, which has poor performance.  Consider joining all columns at once using pd.concat(axis=1) instead. To get a de-fragmented frame, use `newframe = frame.copy()`\n",
            "  amostras['Amostra_' + str(i)] = amostra_idade\n",
            "<ipython-input-54-2abac2b94257>:4: PerformanceWarning: DataFrame is highly fragmented.  This is usually the result of calling `frame.insert` many times, which has poor performance.  Consider joining all columns at once using pd.concat(axis=1) instead. To get a de-fragmented frame, use `newframe = frame.copy()`\n",
            "  amostras['Amostra_' + str(i)] = amostra_idade\n",
            "<ipython-input-54-2abac2b94257>:4: PerformanceWarning: DataFrame is highly fragmented.  This is usually the result of calling `frame.insert` many times, which has poor performance.  Consider joining all columns at once using pd.concat(axis=1) instead. To get a de-fragmented frame, use `newframe = frame.copy()`\n",
            "  amostras['Amostra_' + str(i)] = amostra_idade\n",
            "<ipython-input-54-2abac2b94257>:4: PerformanceWarning: DataFrame is highly fragmented.  This is usually the result of calling `frame.insert` many times, which has poor performance.  Consider joining all columns at once using pd.concat(axis=1) instead. To get a de-fragmented frame, use `newframe = frame.copy()`\n",
            "  amostras['Amostra_' + str(i)] = amostra_idade\n",
            "<ipython-input-54-2abac2b94257>:4: PerformanceWarning: DataFrame is highly fragmented.  This is usually the result of calling `frame.insert` many times, which has poor performance.  Consider joining all columns at once using pd.concat(axis=1) instead. To get a de-fragmented frame, use `newframe = frame.copy()`\n",
            "  amostras['Amostra_' + str(i)] = amostra_idade\n",
            "<ipython-input-54-2abac2b94257>:4: PerformanceWarning: DataFrame is highly fragmented.  This is usually the result of calling `frame.insert` many times, which has poor performance.  Consider joining all columns at once using pd.concat(axis=1) instead. To get a de-fragmented frame, use `newframe = frame.copy()`\n",
            "  amostras['Amostra_' + str(i)] = amostra_idade\n",
            "<ipython-input-54-2abac2b94257>:4: PerformanceWarning: DataFrame is highly fragmented.  This is usually the result of calling `frame.insert` many times, which has poor performance.  Consider joining all columns at once using pd.concat(axis=1) instead. To get a de-fragmented frame, use `newframe = frame.copy()`\n",
            "  amostras['Amostra_' + str(i)] = amostra_idade\n",
            "<ipython-input-54-2abac2b94257>:4: PerformanceWarning: DataFrame is highly fragmented.  This is usually the result of calling `frame.insert` many times, which has poor performance.  Consider joining all columns at once using pd.concat(axis=1) instead. To get a de-fragmented frame, use `newframe = frame.copy()`\n",
            "  amostras['Amostra_' + str(i)] = amostra_idade\n",
            "<ipython-input-54-2abac2b94257>:4: PerformanceWarning: DataFrame is highly fragmented.  This is usually the result of calling `frame.insert` many times, which has poor performance.  Consider joining all columns at once using pd.concat(axis=1) instead. To get a de-fragmented frame, use `newframe = frame.copy()`\n",
            "  amostras['Amostra_' + str(i)] = amostra_idade\n",
            "<ipython-input-54-2abac2b94257>:4: PerformanceWarning: DataFrame is highly fragmented.  This is usually the result of calling `frame.insert` many times, which has poor performance.  Consider joining all columns at once using pd.concat(axis=1) instead. To get a de-fragmented frame, use `newframe = frame.copy()`\n",
            "  amostras['Amostra_' + str(i)] = amostra_idade\n",
            "<ipython-input-54-2abac2b94257>:4: PerformanceWarning: DataFrame is highly fragmented.  This is usually the result of calling `frame.insert` many times, which has poor performance.  Consider joining all columns at once using pd.concat(axis=1) instead. To get a de-fragmented frame, use `newframe = frame.copy()`\n",
            "  amostras['Amostra_' + str(i)] = amostra_idade\n",
            "<ipython-input-54-2abac2b94257>:4: PerformanceWarning: DataFrame is highly fragmented.  This is usually the result of calling `frame.insert` many times, which has poor performance.  Consider joining all columns at once using pd.concat(axis=1) instead. To get a de-fragmented frame, use `newframe = frame.copy()`\n",
            "  amostras['Amostra_' + str(i)] = amostra_idade\n",
            "<ipython-input-54-2abac2b94257>:4: PerformanceWarning: DataFrame is highly fragmented.  This is usually the result of calling `frame.insert` many times, which has poor performance.  Consider joining all columns at once using pd.concat(axis=1) instead. To get a de-fragmented frame, use `newframe = frame.copy()`\n",
            "  amostras['Amostra_' + str(i)] = amostra_idade\n",
            "<ipython-input-54-2abac2b94257>:4: PerformanceWarning: DataFrame is highly fragmented.  This is usually the result of calling `frame.insert` many times, which has poor performance.  Consider joining all columns at once using pd.concat(axis=1) instead. To get a de-fragmented frame, use `newframe = frame.copy()`\n",
            "  amostras['Amostra_' + str(i)] = amostra_idade\n",
            "<ipython-input-54-2abac2b94257>:4: PerformanceWarning: DataFrame is highly fragmented.  This is usually the result of calling `frame.insert` many times, which has poor performance.  Consider joining all columns at once using pd.concat(axis=1) instead. To get a de-fragmented frame, use `newframe = frame.copy()`\n",
            "  amostras['Amostra_' + str(i)] = amostra_idade\n",
            "<ipython-input-54-2abac2b94257>:4: PerformanceWarning: DataFrame is highly fragmented.  This is usually the result of calling `frame.insert` many times, which has poor performance.  Consider joining all columns at once using pd.concat(axis=1) instead. To get a de-fragmented frame, use `newframe = frame.copy()`\n",
            "  amostras['Amostra_' + str(i)] = amostra_idade\n",
            "<ipython-input-54-2abac2b94257>:4: PerformanceWarning: DataFrame is highly fragmented.  This is usually the result of calling `frame.insert` many times, which has poor performance.  Consider joining all columns at once using pd.concat(axis=1) instead. To get a de-fragmented frame, use `newframe = frame.copy()`\n",
            "  amostras['Amostra_' + str(i)] = amostra_idade\n",
            "<ipython-input-54-2abac2b94257>:4: PerformanceWarning: DataFrame is highly fragmented.  This is usually the result of calling `frame.insert` many times, which has poor performance.  Consider joining all columns at once using pd.concat(axis=1) instead. To get a de-fragmented frame, use `newframe = frame.copy()`\n",
            "  amostras['Amostra_' + str(i)] = amostra_idade\n",
            "<ipython-input-54-2abac2b94257>:4: PerformanceWarning: DataFrame is highly fragmented.  This is usually the result of calling `frame.insert` many times, which has poor performance.  Consider joining all columns at once using pd.concat(axis=1) instead. To get a de-fragmented frame, use `newframe = frame.copy()`\n",
            "  amostras['Amostra_' + str(i)] = amostra_idade\n",
            "<ipython-input-54-2abac2b94257>:4: PerformanceWarning: DataFrame is highly fragmented.  This is usually the result of calling `frame.insert` many times, which has poor performance.  Consider joining all columns at once using pd.concat(axis=1) instead. To get a de-fragmented frame, use `newframe = frame.copy()`\n",
            "  amostras['Amostra_' + str(i)] = amostra_idade\n",
            "<ipython-input-54-2abac2b94257>:4: PerformanceWarning: DataFrame is highly fragmented.  This is usually the result of calling `frame.insert` many times, which has poor performance.  Consider joining all columns at once using pd.concat(axis=1) instead. To get a de-fragmented frame, use `newframe = frame.copy()`\n",
            "  amostras['Amostra_' + str(i)] = amostra_idade\n",
            "<ipython-input-54-2abac2b94257>:4: PerformanceWarning: DataFrame is highly fragmented.  This is usually the result of calling `frame.insert` many times, which has poor performance.  Consider joining all columns at once using pd.concat(axis=1) instead. To get a de-fragmented frame, use `newframe = frame.copy()`\n",
            "  amostras['Amostra_' + str(i)] = amostra_idade\n",
            "<ipython-input-54-2abac2b94257>:4: PerformanceWarning: DataFrame is highly fragmented.  This is usually the result of calling `frame.insert` many times, which has poor performance.  Consider joining all columns at once using pd.concat(axis=1) instead. To get a de-fragmented frame, use `newframe = frame.copy()`\n",
            "  amostras['Amostra_' + str(i)] = amostra_idade\n",
            "<ipython-input-54-2abac2b94257>:4: PerformanceWarning: DataFrame is highly fragmented.  This is usually the result of calling `frame.insert` many times, which has poor performance.  Consider joining all columns at once using pd.concat(axis=1) instead. To get a de-fragmented frame, use `newframe = frame.copy()`\n",
            "  amostras['Amostra_' + str(i)] = amostra_idade\n",
            "<ipython-input-54-2abac2b94257>:4: PerformanceWarning: DataFrame is highly fragmented.  This is usually the result of calling `frame.insert` many times, which has poor performance.  Consider joining all columns at once using pd.concat(axis=1) instead. To get a de-fragmented frame, use `newframe = frame.copy()`\n",
            "  amostras['Amostra_' + str(i)] = amostra_idade\n",
            "<ipython-input-54-2abac2b94257>:4: PerformanceWarning: DataFrame is highly fragmented.  This is usually the result of calling `frame.insert` many times, which has poor performance.  Consider joining all columns at once using pd.concat(axis=1) instead. To get a de-fragmented frame, use `newframe = frame.copy()`\n",
            "  amostras['Amostra_' + str(i)] = amostra_idade\n",
            "<ipython-input-54-2abac2b94257>:4: PerformanceWarning: DataFrame is highly fragmented.  This is usually the result of calling `frame.insert` many times, which has poor performance.  Consider joining all columns at once using pd.concat(axis=1) instead. To get a de-fragmented frame, use `newframe = frame.copy()`\n",
            "  amostras['Amostra_' + str(i)] = amostra_idade\n",
            "<ipython-input-54-2abac2b94257>:4: PerformanceWarning: DataFrame is highly fragmented.  This is usually the result of calling `frame.insert` many times, which has poor performance.  Consider joining all columns at once using pd.concat(axis=1) instead. To get a de-fragmented frame, use `newframe = frame.copy()`\n",
            "  amostras['Amostra_' + str(i)] = amostra_idade\n",
            "<ipython-input-54-2abac2b94257>:4: PerformanceWarning: DataFrame is highly fragmented.  This is usually the result of calling `frame.insert` many times, which has poor performance.  Consider joining all columns at once using pd.concat(axis=1) instead. To get a de-fragmented frame, use `newframe = frame.copy()`\n",
            "  amostras['Amostra_' + str(i)] = amostra_idade\n",
            "<ipython-input-54-2abac2b94257>:4: PerformanceWarning: DataFrame is highly fragmented.  This is usually the result of calling `frame.insert` many times, which has poor performance.  Consider joining all columns at once using pd.concat(axis=1) instead. To get a de-fragmented frame, use `newframe = frame.copy()`\n",
            "  amostras['Amostra_' + str(i)] = amostra_idade\n",
            "<ipython-input-54-2abac2b94257>:4: PerformanceWarning: DataFrame is highly fragmented.  This is usually the result of calling `frame.insert` many times, which has poor performance.  Consider joining all columns at once using pd.concat(axis=1) instead. To get a de-fragmented frame, use `newframe = frame.copy()`\n",
            "  amostras['Amostra_' + str(i)] = amostra_idade\n",
            "<ipython-input-54-2abac2b94257>:4: PerformanceWarning: DataFrame is highly fragmented.  This is usually the result of calling `frame.insert` many times, which has poor performance.  Consider joining all columns at once using pd.concat(axis=1) instead. To get a de-fragmented frame, use `newframe = frame.copy()`\n",
            "  amostras['Amostra_' + str(i)] = amostra_idade\n",
            "<ipython-input-54-2abac2b94257>:4: PerformanceWarning: DataFrame is highly fragmented.  This is usually the result of calling `frame.insert` many times, which has poor performance.  Consider joining all columns at once using pd.concat(axis=1) instead. To get a de-fragmented frame, use `newframe = frame.copy()`\n",
            "  amostras['Amostra_' + str(i)] = amostra_idade\n",
            "<ipython-input-54-2abac2b94257>:4: PerformanceWarning: DataFrame is highly fragmented.  This is usually the result of calling `frame.insert` many times, which has poor performance.  Consider joining all columns at once using pd.concat(axis=1) instead. To get a de-fragmented frame, use `newframe = frame.copy()`\n",
            "  amostras['Amostra_' + str(i)] = amostra_idade\n",
            "<ipython-input-54-2abac2b94257>:4: PerformanceWarning: DataFrame is highly fragmented.  This is usually the result of calling `frame.insert` many times, which has poor performance.  Consider joining all columns at once using pd.concat(axis=1) instead. To get a de-fragmented frame, use `newframe = frame.copy()`\n",
            "  amostras['Amostra_' + str(i)] = amostra_idade\n",
            "<ipython-input-54-2abac2b94257>:4: PerformanceWarning: DataFrame is highly fragmented.  This is usually the result of calling `frame.insert` many times, which has poor performance.  Consider joining all columns at once using pd.concat(axis=1) instead. To get a de-fragmented frame, use `newframe = frame.copy()`\n",
            "  amostras['Amostra_' + str(i)] = amostra_idade\n",
            "<ipython-input-54-2abac2b94257>:4: PerformanceWarning: DataFrame is highly fragmented.  This is usually the result of calling `frame.insert` many times, which has poor performance.  Consider joining all columns at once using pd.concat(axis=1) instead. To get a de-fragmented frame, use `newframe = frame.copy()`\n",
            "  amostras['Amostra_' + str(i)] = amostra_idade\n",
            "<ipython-input-54-2abac2b94257>:4: PerformanceWarning: DataFrame is highly fragmented.  This is usually the result of calling `frame.insert` many times, which has poor performance.  Consider joining all columns at once using pd.concat(axis=1) instead. To get a de-fragmented frame, use `newframe = frame.copy()`\n",
            "  amostras['Amostra_' + str(i)] = amostra_idade\n",
            "<ipython-input-54-2abac2b94257>:4: PerformanceWarning: DataFrame is highly fragmented.  This is usually the result of calling `frame.insert` many times, which has poor performance.  Consider joining all columns at once using pd.concat(axis=1) instead. To get a de-fragmented frame, use `newframe = frame.copy()`\n",
            "  amostras['Amostra_' + str(i)] = amostra_idade\n",
            "<ipython-input-54-2abac2b94257>:4: PerformanceWarning: DataFrame is highly fragmented.  This is usually the result of calling `frame.insert` many times, which has poor performance.  Consider joining all columns at once using pd.concat(axis=1) instead. To get a de-fragmented frame, use `newframe = frame.copy()`\n",
            "  amostras['Amostra_' + str(i)] = amostra_idade\n",
            "<ipython-input-54-2abac2b94257>:4: PerformanceWarning: DataFrame is highly fragmented.  This is usually the result of calling `frame.insert` many times, which has poor performance.  Consider joining all columns at once using pd.concat(axis=1) instead. To get a de-fragmented frame, use `newframe = frame.copy()`\n",
            "  amostras['Amostra_' + str(i)] = amostra_idade\n",
            "<ipython-input-54-2abac2b94257>:4: PerformanceWarning: DataFrame is highly fragmented.  This is usually the result of calling `frame.insert` many times, which has poor performance.  Consider joining all columns at once using pd.concat(axis=1) instead. To get a de-fragmented frame, use `newframe = frame.copy()`\n",
            "  amostras['Amostra_' + str(i)] = amostra_idade\n",
            "<ipython-input-54-2abac2b94257>:4: PerformanceWarning: DataFrame is highly fragmented.  This is usually the result of calling `frame.insert` many times, which has poor performance.  Consider joining all columns at once using pd.concat(axis=1) instead. To get a de-fragmented frame, use `newframe = frame.copy()`\n",
            "  amostras['Amostra_' + str(i)] = amostra_idade\n",
            "<ipython-input-54-2abac2b94257>:4: PerformanceWarning: DataFrame is highly fragmented.  This is usually the result of calling `frame.insert` many times, which has poor performance.  Consider joining all columns at once using pd.concat(axis=1) instead. To get a de-fragmented frame, use `newframe = frame.copy()`\n",
            "  amostras['Amostra_' + str(i)] = amostra_idade\n",
            "<ipython-input-54-2abac2b94257>:4: PerformanceWarning: DataFrame is highly fragmented.  This is usually the result of calling `frame.insert` many times, which has poor performance.  Consider joining all columns at once using pd.concat(axis=1) instead. To get a de-fragmented frame, use `newframe = frame.copy()`\n",
            "  amostras['Amostra_' + str(i)] = amostra_idade\n",
            "<ipython-input-54-2abac2b94257>:4: PerformanceWarning: DataFrame is highly fragmented.  This is usually the result of calling `frame.insert` many times, which has poor performance.  Consider joining all columns at once using pd.concat(axis=1) instead. To get a de-fragmented frame, use `newframe = frame.copy()`\n",
            "  amostras['Amostra_' + str(i)] = amostra_idade\n",
            "<ipython-input-54-2abac2b94257>:4: PerformanceWarning: DataFrame is highly fragmented.  This is usually the result of calling `frame.insert` many times, which has poor performance.  Consider joining all columns at once using pd.concat(axis=1) instead. To get a de-fragmented frame, use `newframe = frame.copy()`\n",
            "  amostras['Amostra_' + str(i)] = amostra_idade\n",
            "<ipython-input-54-2abac2b94257>:4: PerformanceWarning: DataFrame is highly fragmented.  This is usually the result of calling `frame.insert` many times, which has poor performance.  Consider joining all columns at once using pd.concat(axis=1) instead. To get a de-fragmented frame, use `newframe = frame.copy()`\n",
            "  amostras['Amostra_' + str(i)] = amostra_idade\n",
            "<ipython-input-54-2abac2b94257>:4: PerformanceWarning: DataFrame is highly fragmented.  This is usually the result of calling `frame.insert` many times, which has poor performance.  Consider joining all columns at once using pd.concat(axis=1) instead. To get a de-fragmented frame, use `newframe = frame.copy()`\n",
            "  amostras['Amostra_' + str(i)] = amostra_idade\n",
            "<ipython-input-54-2abac2b94257>:4: PerformanceWarning: DataFrame is highly fragmented.  This is usually the result of calling `frame.insert` many times, which has poor performance.  Consider joining all columns at once using pd.concat(axis=1) instead. To get a de-fragmented frame, use `newframe = frame.copy()`\n",
            "  amostras['Amostra_' + str(i)] = amostra_idade\n",
            "<ipython-input-54-2abac2b94257>:4: PerformanceWarning: DataFrame is highly fragmented.  This is usually the result of calling `frame.insert` many times, which has poor performance.  Consider joining all columns at once using pd.concat(axis=1) instead. To get a de-fragmented frame, use `newframe = frame.copy()`\n",
            "  amostras['Amostra_' + str(i)] = amostra_idade\n",
            "<ipython-input-54-2abac2b94257>:4: PerformanceWarning: DataFrame is highly fragmented.  This is usually the result of calling `frame.insert` many times, which has poor performance.  Consider joining all columns at once using pd.concat(axis=1) instead. To get a de-fragmented frame, use `newframe = frame.copy()`\n",
            "  amostras['Amostra_' + str(i)] = amostra_idade\n",
            "<ipython-input-54-2abac2b94257>:4: PerformanceWarning: DataFrame is highly fragmented.  This is usually the result of calling `frame.insert` many times, which has poor performance.  Consider joining all columns at once using pd.concat(axis=1) instead. To get a de-fragmented frame, use `newframe = frame.copy()`\n",
            "  amostras['Amostra_' + str(i)] = amostra_idade\n",
            "<ipython-input-54-2abac2b94257>:4: PerformanceWarning: DataFrame is highly fragmented.  This is usually the result of calling `frame.insert` many times, which has poor performance.  Consider joining all columns at once using pd.concat(axis=1) instead. To get a de-fragmented frame, use `newframe = frame.copy()`\n",
            "  amostras['Amostra_' + str(i)] = amostra_idade\n",
            "<ipython-input-54-2abac2b94257>:4: PerformanceWarning: DataFrame is highly fragmented.  This is usually the result of calling `frame.insert` many times, which has poor performance.  Consider joining all columns at once using pd.concat(axis=1) instead. To get a de-fragmented frame, use `newframe = frame.copy()`\n",
            "  amostras['Amostra_' + str(i)] = amostra_idade\n",
            "<ipython-input-54-2abac2b94257>:4: PerformanceWarning: DataFrame is highly fragmented.  This is usually the result of calling `frame.insert` many times, which has poor performance.  Consider joining all columns at once using pd.concat(axis=1) instead. To get a de-fragmented frame, use `newframe = frame.copy()`\n",
            "  amostras['Amostra_' + str(i)] = amostra_idade\n",
            "<ipython-input-54-2abac2b94257>:4: PerformanceWarning: DataFrame is highly fragmented.  This is usually the result of calling `frame.insert` many times, which has poor performance.  Consider joining all columns at once using pd.concat(axis=1) instead. To get a de-fragmented frame, use `newframe = frame.copy()`\n",
            "  amostras['Amostra_' + str(i)] = amostra_idade\n",
            "<ipython-input-54-2abac2b94257>:4: PerformanceWarning: DataFrame is highly fragmented.  This is usually the result of calling `frame.insert` many times, which has poor performance.  Consider joining all columns at once using pd.concat(axis=1) instead. To get a de-fragmented frame, use `newframe = frame.copy()`\n",
            "  amostras['Amostra_' + str(i)] = amostra_idade\n",
            "<ipython-input-54-2abac2b94257>:4: PerformanceWarning: DataFrame is highly fragmented.  This is usually the result of calling `frame.insert` many times, which has poor performance.  Consider joining all columns at once using pd.concat(axis=1) instead. To get a de-fragmented frame, use `newframe = frame.copy()`\n",
            "  amostras['Amostra_' + str(i)] = amostra_idade\n",
            "<ipython-input-54-2abac2b94257>:4: PerformanceWarning: DataFrame is highly fragmented.  This is usually the result of calling `frame.insert` many times, which has poor performance.  Consider joining all columns at once using pd.concat(axis=1) instead. To get a de-fragmented frame, use `newframe = frame.copy()`\n",
            "  amostras['Amostra_' + str(i)] = amostra_idade\n",
            "<ipython-input-54-2abac2b94257>:4: PerformanceWarning: DataFrame is highly fragmented.  This is usually the result of calling `frame.insert` many times, which has poor performance.  Consider joining all columns at once using pd.concat(axis=1) instead. To get a de-fragmented frame, use `newframe = frame.copy()`\n",
            "  amostras['Amostra_' + str(i)] = amostra_idade\n",
            "<ipython-input-54-2abac2b94257>:4: PerformanceWarning: DataFrame is highly fragmented.  This is usually the result of calling `frame.insert` many times, which has poor performance.  Consider joining all columns at once using pd.concat(axis=1) instead. To get a de-fragmented frame, use `newframe = frame.copy()`\n",
            "  amostras['Amostra_' + str(i)] = amostra_idade\n",
            "<ipython-input-54-2abac2b94257>:4: PerformanceWarning: DataFrame is highly fragmented.  This is usually the result of calling `frame.insert` many times, which has poor performance.  Consider joining all columns at once using pd.concat(axis=1) instead. To get a de-fragmented frame, use `newframe = frame.copy()`\n",
            "  amostras['Amostra_' + str(i)] = amostra_idade\n",
            "<ipython-input-54-2abac2b94257>:4: PerformanceWarning: DataFrame is highly fragmented.  This is usually the result of calling `frame.insert` many times, which has poor performance.  Consider joining all columns at once using pd.concat(axis=1) instead. To get a de-fragmented frame, use `newframe = frame.copy()`\n",
            "  amostras['Amostra_' + str(i)] = amostra_idade\n",
            "<ipython-input-54-2abac2b94257>:4: PerformanceWarning: DataFrame is highly fragmented.  This is usually the result of calling `frame.insert` many times, which has poor performance.  Consider joining all columns at once using pd.concat(axis=1) instead. To get a de-fragmented frame, use `newframe = frame.copy()`\n",
            "  amostras['Amostra_' + str(i)] = amostra_idade\n",
            "<ipython-input-54-2abac2b94257>:4: PerformanceWarning: DataFrame is highly fragmented.  This is usually the result of calling `frame.insert` many times, which has poor performance.  Consider joining all columns at once using pd.concat(axis=1) instead. To get a de-fragmented frame, use `newframe = frame.copy()`\n",
            "  amostras['Amostra_' + str(i)] = amostra_idade\n",
            "<ipython-input-54-2abac2b94257>:4: PerformanceWarning: DataFrame is highly fragmented.  This is usually the result of calling `frame.insert` many times, which has poor performance.  Consider joining all columns at once using pd.concat(axis=1) instead. To get a de-fragmented frame, use `newframe = frame.copy()`\n",
            "  amostras['Amostra_' + str(i)] = amostra_idade\n",
            "<ipython-input-54-2abac2b94257>:4: PerformanceWarning: DataFrame is highly fragmented.  This is usually the result of calling `frame.insert` many times, which has poor performance.  Consider joining all columns at once using pd.concat(axis=1) instead. To get a de-fragmented frame, use `newframe = frame.copy()`\n",
            "  amostras['Amostra_' + str(i)] = amostra_idade\n",
            "<ipython-input-54-2abac2b94257>:4: PerformanceWarning: DataFrame is highly fragmented.  This is usually the result of calling `frame.insert` many times, which has poor performance.  Consider joining all columns at once using pd.concat(axis=1) instead. To get a de-fragmented frame, use `newframe = frame.copy()`\n",
            "  amostras['Amostra_' + str(i)] = amostra_idade\n",
            "<ipython-input-54-2abac2b94257>:4: PerformanceWarning: DataFrame is highly fragmented.  This is usually the result of calling `frame.insert` many times, which has poor performance.  Consider joining all columns at once using pd.concat(axis=1) instead. To get a de-fragmented frame, use `newframe = frame.copy()`\n",
            "  amostras['Amostra_' + str(i)] = amostra_idade\n",
            "<ipython-input-54-2abac2b94257>:4: PerformanceWarning: DataFrame is highly fragmented.  This is usually the result of calling `frame.insert` many times, which has poor performance.  Consider joining all columns at once using pd.concat(axis=1) instead. To get a de-fragmented frame, use `newframe = frame.copy()`\n",
            "  amostras['Amostra_' + str(i)] = amostra_idade\n",
            "<ipython-input-54-2abac2b94257>:4: PerformanceWarning: DataFrame is highly fragmented.  This is usually the result of calling `frame.insert` many times, which has poor performance.  Consider joining all columns at once using pd.concat(axis=1) instead. To get a de-fragmented frame, use `newframe = frame.copy()`\n",
            "  amostras['Amostra_' + str(i)] = amostra_idade\n",
            "<ipython-input-54-2abac2b94257>:4: PerformanceWarning: DataFrame is highly fragmented.  This is usually the result of calling `frame.insert` many times, which has poor performance.  Consider joining all columns at once using pd.concat(axis=1) instead. To get a de-fragmented frame, use `newframe = frame.copy()`\n",
            "  amostras['Amostra_' + str(i)] = amostra_idade\n",
            "<ipython-input-54-2abac2b94257>:4: PerformanceWarning: DataFrame is highly fragmented.  This is usually the result of calling `frame.insert` many times, which has poor performance.  Consider joining all columns at once using pd.concat(axis=1) instead. To get a de-fragmented frame, use `newframe = frame.copy()`\n",
            "  amostras['Amostra_' + str(i)] = amostra_idade\n",
            "<ipython-input-54-2abac2b94257>:4: PerformanceWarning: DataFrame is highly fragmented.  This is usually the result of calling `frame.insert` many times, which has poor performance.  Consider joining all columns at once using pd.concat(axis=1) instead. To get a de-fragmented frame, use `newframe = frame.copy()`\n",
            "  amostras['Amostra_' + str(i)] = amostra_idade\n",
            "<ipython-input-54-2abac2b94257>:4: PerformanceWarning: DataFrame is highly fragmented.  This is usually the result of calling `frame.insert` many times, which has poor performance.  Consider joining all columns at once using pd.concat(axis=1) instead. To get a de-fragmented frame, use `newframe = frame.copy()`\n",
            "  amostras['Amostra_' + str(i)] = amostra_idade\n",
            "<ipython-input-54-2abac2b94257>:4: PerformanceWarning: DataFrame is highly fragmented.  This is usually the result of calling `frame.insert` many times, which has poor performance.  Consider joining all columns at once using pd.concat(axis=1) instead. To get a de-fragmented frame, use `newframe = frame.copy()`\n",
            "  amostras['Amostra_' + str(i)] = amostra_idade\n",
            "<ipython-input-54-2abac2b94257>:4: PerformanceWarning: DataFrame is highly fragmented.  This is usually the result of calling `frame.insert` many times, which has poor performance.  Consider joining all columns at once using pd.concat(axis=1) instead. To get a de-fragmented frame, use `newframe = frame.copy()`\n",
            "  amostras['Amostra_' + str(i)] = amostra_idade\n",
            "<ipython-input-54-2abac2b94257>:4: PerformanceWarning: DataFrame is highly fragmented.  This is usually the result of calling `frame.insert` many times, which has poor performance.  Consider joining all columns at once using pd.concat(axis=1) instead. To get a de-fragmented frame, use `newframe = frame.copy()`\n",
            "  amostras['Amostra_' + str(i)] = amostra_idade\n",
            "<ipython-input-54-2abac2b94257>:4: PerformanceWarning: DataFrame is highly fragmented.  This is usually the result of calling `frame.insert` many times, which has poor performance.  Consider joining all columns at once using pd.concat(axis=1) instead. To get a de-fragmented frame, use `newframe = frame.copy()`\n",
            "  amostras['Amostra_' + str(i)] = amostra_idade\n",
            "<ipython-input-54-2abac2b94257>:4: PerformanceWarning: DataFrame is highly fragmented.  This is usually the result of calling `frame.insert` many times, which has poor performance.  Consider joining all columns at once using pd.concat(axis=1) instead. To get a de-fragmented frame, use `newframe = frame.copy()`\n",
            "  amostras['Amostra_' + str(i)] = amostra_idade\n",
            "<ipython-input-54-2abac2b94257>:4: PerformanceWarning: DataFrame is highly fragmented.  This is usually the result of calling `frame.insert` many times, which has poor performance.  Consider joining all columns at once using pd.concat(axis=1) instead. To get a de-fragmented frame, use `newframe = frame.copy()`\n",
            "  amostras['Amostra_' + str(i)] = amostra_idade\n",
            "<ipython-input-54-2abac2b94257>:4: PerformanceWarning: DataFrame is highly fragmented.  This is usually the result of calling `frame.insert` many times, which has poor performance.  Consider joining all columns at once using pd.concat(axis=1) instead. To get a de-fragmented frame, use `newframe = frame.copy()`\n",
            "  amostras['Amostra_' + str(i)] = amostra_idade\n",
            "<ipython-input-54-2abac2b94257>:4: PerformanceWarning: DataFrame is highly fragmented.  This is usually the result of calling `frame.insert` many times, which has poor performance.  Consider joining all columns at once using pd.concat(axis=1) instead. To get a de-fragmented frame, use `newframe = frame.copy()`\n",
            "  amostras['Amostra_' + str(i)] = amostra_idade\n",
            "<ipython-input-54-2abac2b94257>:4: PerformanceWarning: DataFrame is highly fragmented.  This is usually the result of calling `frame.insert` many times, which has poor performance.  Consider joining all columns at once using pd.concat(axis=1) instead. To get a de-fragmented frame, use `newframe = frame.copy()`\n",
            "  amostras['Amostra_' + str(i)] = amostra_idade\n",
            "<ipython-input-54-2abac2b94257>:4: PerformanceWarning: DataFrame is highly fragmented.  This is usually the result of calling `frame.insert` many times, which has poor performance.  Consider joining all columns at once using pd.concat(axis=1) instead. To get a de-fragmented frame, use `newframe = frame.copy()`\n",
            "  amostras['Amostra_' + str(i)] = amostra_idade\n",
            "<ipython-input-54-2abac2b94257>:4: PerformanceWarning: DataFrame is highly fragmented.  This is usually the result of calling `frame.insert` many times, which has poor performance.  Consider joining all columns at once using pd.concat(axis=1) instead. To get a de-fragmented frame, use `newframe = frame.copy()`\n",
            "  amostras['Amostra_' + str(i)] = amostra_idade\n",
            "<ipython-input-54-2abac2b94257>:4: PerformanceWarning: DataFrame is highly fragmented.  This is usually the result of calling `frame.insert` many times, which has poor performance.  Consider joining all columns at once using pd.concat(axis=1) instead. To get a de-fragmented frame, use `newframe = frame.copy()`\n",
            "  amostras['Amostra_' + str(i)] = amostra_idade\n",
            "<ipython-input-54-2abac2b94257>:4: PerformanceWarning: DataFrame is highly fragmented.  This is usually the result of calling `frame.insert` many times, which has poor performance.  Consider joining all columns at once using pd.concat(axis=1) instead. To get a de-fragmented frame, use `newframe = frame.copy()`\n",
            "  amostras['Amostra_' + str(i)] = amostra_idade\n",
            "<ipython-input-54-2abac2b94257>:4: PerformanceWarning: DataFrame is highly fragmented.  This is usually the result of calling `frame.insert` many times, which has poor performance.  Consider joining all columns at once using pd.concat(axis=1) instead. To get a de-fragmented frame, use `newframe = frame.copy()`\n",
            "  amostras['Amostra_' + str(i)] = amostra_idade\n",
            "<ipython-input-54-2abac2b94257>:4: PerformanceWarning: DataFrame is highly fragmented.  This is usually the result of calling `frame.insert` many times, which has poor performance.  Consider joining all columns at once using pd.concat(axis=1) instead. To get a de-fragmented frame, use `newframe = frame.copy()`\n",
            "  amostras['Amostra_' + str(i)] = amostra_idade\n",
            "<ipython-input-54-2abac2b94257>:4: PerformanceWarning: DataFrame is highly fragmented.  This is usually the result of calling `frame.insert` many times, which has poor performance.  Consider joining all columns at once using pd.concat(axis=1) instead. To get a de-fragmented frame, use `newframe = frame.copy()`\n",
            "  amostras['Amostra_' + str(i)] = amostra_idade\n",
            "<ipython-input-54-2abac2b94257>:4: PerformanceWarning: DataFrame is highly fragmented.  This is usually the result of calling `frame.insert` many times, which has poor performance.  Consider joining all columns at once using pd.concat(axis=1) instead. To get a de-fragmented frame, use `newframe = frame.copy()`\n",
            "  amostras['Amostra_' + str(i)] = amostra_idade\n",
            "<ipython-input-54-2abac2b94257>:4: PerformanceWarning: DataFrame is highly fragmented.  This is usually the result of calling `frame.insert` many times, which has poor performance.  Consider joining all columns at once using pd.concat(axis=1) instead. To get a de-fragmented frame, use `newframe = frame.copy()`\n",
            "  amostras['Amostra_' + str(i)] = amostra_idade\n",
            "<ipython-input-54-2abac2b94257>:4: PerformanceWarning: DataFrame is highly fragmented.  This is usually the result of calling `frame.insert` many times, which has poor performance.  Consider joining all columns at once using pd.concat(axis=1) instead. To get a de-fragmented frame, use `newframe = frame.copy()`\n",
            "  amostras['Amostra_' + str(i)] = amostra_idade\n",
            "<ipython-input-54-2abac2b94257>:4: PerformanceWarning: DataFrame is highly fragmented.  This is usually the result of calling `frame.insert` many times, which has poor performance.  Consider joining all columns at once using pd.concat(axis=1) instead. To get a de-fragmented frame, use `newframe = frame.copy()`\n",
            "  amostras['Amostra_' + str(i)] = amostra_idade\n",
            "<ipython-input-54-2abac2b94257>:4: PerformanceWarning: DataFrame is highly fragmented.  This is usually the result of calling `frame.insert` many times, which has poor performance.  Consider joining all columns at once using pd.concat(axis=1) instead. To get a de-fragmented frame, use `newframe = frame.copy()`\n",
            "  amostras['Amostra_' + str(i)] = amostra_idade\n",
            "<ipython-input-54-2abac2b94257>:4: PerformanceWarning: DataFrame is highly fragmented.  This is usually the result of calling `frame.insert` many times, which has poor performance.  Consider joining all columns at once using pd.concat(axis=1) instead. To get a de-fragmented frame, use `newframe = frame.copy()`\n",
            "  amostras['Amostra_' + str(i)] = amostra_idade\n",
            "<ipython-input-54-2abac2b94257>:4: PerformanceWarning: DataFrame is highly fragmented.  This is usually the result of calling `frame.insert` many times, which has poor performance.  Consider joining all columns at once using pd.concat(axis=1) instead. To get a de-fragmented frame, use `newframe = frame.copy()`\n",
            "  amostras['Amostra_' + str(i)] = amostra_idade\n",
            "<ipython-input-54-2abac2b94257>:4: PerformanceWarning: DataFrame is highly fragmented.  This is usually the result of calling `frame.insert` many times, which has poor performance.  Consider joining all columns at once using pd.concat(axis=1) instead. To get a de-fragmented frame, use `newframe = frame.copy()`\n",
            "  amostras['Amostra_' + str(i)] = amostra_idade\n",
            "<ipython-input-54-2abac2b94257>:4: PerformanceWarning: DataFrame is highly fragmented.  This is usually the result of calling `frame.insert` many times, which has poor performance.  Consider joining all columns at once using pd.concat(axis=1) instead. To get a de-fragmented frame, use `newframe = frame.copy()`\n",
            "  amostras['Amostra_' + str(i)] = amostra_idade\n",
            "<ipython-input-54-2abac2b94257>:4: PerformanceWarning: DataFrame is highly fragmented.  This is usually the result of calling `frame.insert` many times, which has poor performance.  Consider joining all columns at once using pd.concat(axis=1) instead. To get a de-fragmented frame, use `newframe = frame.copy()`\n",
            "  amostras['Amostra_' + str(i)] = amostra_idade\n",
            "<ipython-input-54-2abac2b94257>:4: PerformanceWarning: DataFrame is highly fragmented.  This is usually the result of calling `frame.insert` many times, which has poor performance.  Consider joining all columns at once using pd.concat(axis=1) instead. To get a de-fragmented frame, use `newframe = frame.copy()`\n",
            "  amostras['Amostra_' + str(i)] = amostra_idade\n",
            "<ipython-input-54-2abac2b94257>:4: PerformanceWarning: DataFrame is highly fragmented.  This is usually the result of calling `frame.insert` many times, which has poor performance.  Consider joining all columns at once using pd.concat(axis=1) instead. To get a de-fragmented frame, use `newframe = frame.copy()`\n",
            "  amostras['Amostra_' + str(i)] = amostra_idade\n",
            "<ipython-input-54-2abac2b94257>:4: PerformanceWarning: DataFrame is highly fragmented.  This is usually the result of calling `frame.insert` many times, which has poor performance.  Consider joining all columns at once using pd.concat(axis=1) instead. To get a de-fragmented frame, use `newframe = frame.copy()`\n",
            "  amostras['Amostra_' + str(i)] = amostra_idade\n",
            "<ipython-input-54-2abac2b94257>:4: PerformanceWarning: DataFrame is highly fragmented.  This is usually the result of calling `frame.insert` many times, which has poor performance.  Consider joining all columns at once using pd.concat(axis=1) instead. To get a de-fragmented frame, use `newframe = frame.copy()`\n",
            "  amostras['Amostra_' + str(i)] = amostra_idade\n",
            "<ipython-input-54-2abac2b94257>:4: PerformanceWarning: DataFrame is highly fragmented.  This is usually the result of calling `frame.insert` many times, which has poor performance.  Consider joining all columns at once using pd.concat(axis=1) instead. To get a de-fragmented frame, use `newframe = frame.copy()`\n",
            "  amostras['Amostra_' + str(i)] = amostra_idade\n",
            "<ipython-input-54-2abac2b94257>:4: PerformanceWarning: DataFrame is highly fragmented.  This is usually the result of calling `frame.insert` many times, which has poor performance.  Consider joining all columns at once using pd.concat(axis=1) instead. To get a de-fragmented frame, use `newframe = frame.copy()`\n",
            "  amostras['Amostra_' + str(i)] = amostra_idade\n",
            "<ipython-input-54-2abac2b94257>:4: PerformanceWarning: DataFrame is highly fragmented.  This is usually the result of calling `frame.insert` many times, which has poor performance.  Consider joining all columns at once using pd.concat(axis=1) instead. To get a de-fragmented frame, use `newframe = frame.copy()`\n",
            "  amostras['Amostra_' + str(i)] = amostra_idade\n",
            "<ipython-input-54-2abac2b94257>:4: PerformanceWarning: DataFrame is highly fragmented.  This is usually the result of calling `frame.insert` many times, which has poor performance.  Consider joining all columns at once using pd.concat(axis=1) instead. To get a de-fragmented frame, use `newframe = frame.copy()`\n",
            "  amostras['Amostra_' + str(i)] = amostra_idade\n",
            "<ipython-input-54-2abac2b94257>:4: PerformanceWarning: DataFrame is highly fragmented.  This is usually the result of calling `frame.insert` many times, which has poor performance.  Consider joining all columns at once using pd.concat(axis=1) instead. To get a de-fragmented frame, use `newframe = frame.copy()`\n",
            "  amostras['Amostra_' + str(i)] = amostra_idade\n",
            "<ipython-input-54-2abac2b94257>:4: PerformanceWarning: DataFrame is highly fragmented.  This is usually the result of calling `frame.insert` many times, which has poor performance.  Consider joining all columns at once using pd.concat(axis=1) instead. To get a de-fragmented frame, use `newframe = frame.copy()`\n",
            "  amostras['Amostra_' + str(i)] = amostra_idade\n",
            "<ipython-input-54-2abac2b94257>:4: PerformanceWarning: DataFrame is highly fragmented.  This is usually the result of calling `frame.insert` many times, which has poor performance.  Consider joining all columns at once using pd.concat(axis=1) instead. To get a de-fragmented frame, use `newframe = frame.copy()`\n",
            "  amostras['Amostra_' + str(i)] = amostra_idade\n",
            "<ipython-input-54-2abac2b94257>:4: PerformanceWarning: DataFrame is highly fragmented.  This is usually the result of calling `frame.insert` many times, which has poor performance.  Consider joining all columns at once using pd.concat(axis=1) instead. To get a de-fragmented frame, use `newframe = frame.copy()`\n",
            "  amostras['Amostra_' + str(i)] = amostra_idade\n",
            "<ipython-input-54-2abac2b94257>:4: PerformanceWarning: DataFrame is highly fragmented.  This is usually the result of calling `frame.insert` many times, which has poor performance.  Consider joining all columns at once using pd.concat(axis=1) instead. To get a de-fragmented frame, use `newframe = frame.copy()`\n",
            "  amostras['Amostra_' + str(i)] = amostra_idade\n",
            "<ipython-input-54-2abac2b94257>:4: PerformanceWarning: DataFrame is highly fragmented.  This is usually the result of calling `frame.insert` many times, which has poor performance.  Consider joining all columns at once using pd.concat(axis=1) instead. To get a de-fragmented frame, use `newframe = frame.copy()`\n",
            "  amostras['Amostra_' + str(i)] = amostra_idade\n",
            "<ipython-input-54-2abac2b94257>:4: PerformanceWarning: DataFrame is highly fragmented.  This is usually the result of calling `frame.insert` many times, which has poor performance.  Consider joining all columns at once using pd.concat(axis=1) instead. To get a de-fragmented frame, use `newframe = frame.copy()`\n",
            "  amostras['Amostra_' + str(i)] = amostra_idade\n",
            "<ipython-input-54-2abac2b94257>:4: PerformanceWarning: DataFrame is highly fragmented.  This is usually the result of calling `frame.insert` many times, which has poor performance.  Consider joining all columns at once using pd.concat(axis=1) instead. To get a de-fragmented frame, use `newframe = frame.copy()`\n",
            "  amostras['Amostra_' + str(i)] = amostra_idade\n",
            "<ipython-input-54-2abac2b94257>:4: PerformanceWarning: DataFrame is highly fragmented.  This is usually the result of calling `frame.insert` many times, which has poor performance.  Consider joining all columns at once using pd.concat(axis=1) instead. To get a de-fragmented frame, use `newframe = frame.copy()`\n",
            "  amostras['Amostra_' + str(i)] = amostra_idade\n",
            "<ipython-input-54-2abac2b94257>:4: PerformanceWarning: DataFrame is highly fragmented.  This is usually the result of calling `frame.insert` many times, which has poor performance.  Consider joining all columns at once using pd.concat(axis=1) instead. To get a de-fragmented frame, use `newframe = frame.copy()`\n",
            "  amostras['Amostra_' + str(i)] = amostra_idade\n",
            "<ipython-input-54-2abac2b94257>:4: PerformanceWarning: DataFrame is highly fragmented.  This is usually the result of calling `frame.insert` many times, which has poor performance.  Consider joining all columns at once using pd.concat(axis=1) instead. To get a de-fragmented frame, use `newframe = frame.copy()`\n",
            "  amostras['Amostra_' + str(i)] = amostra_idade\n",
            "<ipython-input-54-2abac2b94257>:4: PerformanceWarning: DataFrame is highly fragmented.  This is usually the result of calling `frame.insert` many times, which has poor performance.  Consider joining all columns at once using pd.concat(axis=1) instead. To get a de-fragmented frame, use `newframe = frame.copy()`\n",
            "  amostras['Amostra_' + str(i)] = amostra_idade\n",
            "<ipython-input-54-2abac2b94257>:4: PerformanceWarning: DataFrame is highly fragmented.  This is usually the result of calling `frame.insert` many times, which has poor performance.  Consider joining all columns at once using pd.concat(axis=1) instead. To get a de-fragmented frame, use `newframe = frame.copy()`\n",
            "  amostras['Amostra_' + str(i)] = amostra_idade\n",
            "<ipython-input-54-2abac2b94257>:4: PerformanceWarning: DataFrame is highly fragmented.  This is usually the result of calling `frame.insert` many times, which has poor performance.  Consider joining all columns at once using pd.concat(axis=1) instead. To get a de-fragmented frame, use `newframe = frame.copy()`\n",
            "  amostras['Amostra_' + str(i)] = amostra_idade\n",
            "<ipython-input-54-2abac2b94257>:4: PerformanceWarning: DataFrame is highly fragmented.  This is usually the result of calling `frame.insert` many times, which has poor performance.  Consider joining all columns at once using pd.concat(axis=1) instead. To get a de-fragmented frame, use `newframe = frame.copy()`\n",
            "  amostras['Amostra_' + str(i)] = amostra_idade\n",
            "<ipython-input-54-2abac2b94257>:4: PerformanceWarning: DataFrame is highly fragmented.  This is usually the result of calling `frame.insert` many times, which has poor performance.  Consider joining all columns at once using pd.concat(axis=1) instead. To get a de-fragmented frame, use `newframe = frame.copy()`\n",
            "  amostras['Amostra_' + str(i)] = amostra_idade\n",
            "<ipython-input-54-2abac2b94257>:4: PerformanceWarning: DataFrame is highly fragmented.  This is usually the result of calling `frame.insert` many times, which has poor performance.  Consider joining all columns at once using pd.concat(axis=1) instead. To get a de-fragmented frame, use `newframe = frame.copy()`\n",
            "  amostras['Amostra_' + str(i)] = amostra_idade\n",
            "<ipython-input-54-2abac2b94257>:4: PerformanceWarning: DataFrame is highly fragmented.  This is usually the result of calling `frame.insert` many times, which has poor performance.  Consider joining all columns at once using pd.concat(axis=1) instead. To get a de-fragmented frame, use `newframe = frame.copy()`\n",
            "  amostras['Amostra_' + str(i)] = amostra_idade\n",
            "<ipython-input-54-2abac2b94257>:4: PerformanceWarning: DataFrame is highly fragmented.  This is usually the result of calling `frame.insert` many times, which has poor performance.  Consider joining all columns at once using pd.concat(axis=1) instead. To get a de-fragmented frame, use `newframe = frame.copy()`\n",
            "  amostras['Amostra_' + str(i)] = amostra_idade\n",
            "<ipython-input-54-2abac2b94257>:4: PerformanceWarning: DataFrame is highly fragmented.  This is usually the result of calling `frame.insert` many times, which has poor performance.  Consider joining all columns at once using pd.concat(axis=1) instead. To get a de-fragmented frame, use `newframe = frame.copy()`\n",
            "  amostras['Amostra_' + str(i)] = amostra_idade\n",
            "<ipython-input-54-2abac2b94257>:4: PerformanceWarning: DataFrame is highly fragmented.  This is usually the result of calling `frame.insert` many times, which has poor performance.  Consider joining all columns at once using pd.concat(axis=1) instead. To get a de-fragmented frame, use `newframe = frame.copy()`\n",
            "  amostras['Amostra_' + str(i)] = amostra_idade\n",
            "<ipython-input-54-2abac2b94257>:4: PerformanceWarning: DataFrame is highly fragmented.  This is usually the result of calling `frame.insert` many times, which has poor performance.  Consider joining all columns at once using pd.concat(axis=1) instead. To get a de-fragmented frame, use `newframe = frame.copy()`\n",
            "  amostras['Amostra_' + str(i)] = amostra_idade\n",
            "<ipython-input-54-2abac2b94257>:4: PerformanceWarning: DataFrame is highly fragmented.  This is usually the result of calling `frame.insert` many times, which has poor performance.  Consider joining all columns at once using pd.concat(axis=1) instead. To get a de-fragmented frame, use `newframe = frame.copy()`\n",
            "  amostras['Amostra_' + str(i)] = amostra_idade\n",
            "<ipython-input-54-2abac2b94257>:4: PerformanceWarning: DataFrame is highly fragmented.  This is usually the result of calling `frame.insert` many times, which has poor performance.  Consider joining all columns at once using pd.concat(axis=1) instead. To get a de-fragmented frame, use `newframe = frame.copy()`\n",
            "  amostras['Amostra_' + str(i)] = amostra_idade\n",
            "<ipython-input-54-2abac2b94257>:4: PerformanceWarning: DataFrame is highly fragmented.  This is usually the result of calling `frame.insert` many times, which has poor performance.  Consider joining all columns at once using pd.concat(axis=1) instead. To get a de-fragmented frame, use `newframe = frame.copy()`\n",
            "  amostras['Amostra_' + str(i)] = amostra_idade\n",
            "<ipython-input-54-2abac2b94257>:4: PerformanceWarning: DataFrame is highly fragmented.  This is usually the result of calling `frame.insert` many times, which has poor performance.  Consider joining all columns at once using pd.concat(axis=1) instead. To get a de-fragmented frame, use `newframe = frame.copy()`\n",
            "  amostras['Amostra_' + str(i)] = amostra_idade\n",
            "<ipython-input-54-2abac2b94257>:4: PerformanceWarning: DataFrame is highly fragmented.  This is usually the result of calling `frame.insert` many times, which has poor performance.  Consider joining all columns at once using pd.concat(axis=1) instead. To get a de-fragmented frame, use `newframe = frame.copy()`\n",
            "  amostras['Amostra_' + str(i)] = amostra_idade\n",
            "<ipython-input-54-2abac2b94257>:4: PerformanceWarning: DataFrame is highly fragmented.  This is usually the result of calling `frame.insert` many times, which has poor performance.  Consider joining all columns at once using pd.concat(axis=1) instead. To get a de-fragmented frame, use `newframe = frame.copy()`\n",
            "  amostras['Amostra_' + str(i)] = amostra_idade\n",
            "<ipython-input-54-2abac2b94257>:4: PerformanceWarning: DataFrame is highly fragmented.  This is usually the result of calling `frame.insert` many times, which has poor performance.  Consider joining all columns at once using pd.concat(axis=1) instead. To get a de-fragmented frame, use `newframe = frame.copy()`\n",
            "  amostras['Amostra_' + str(i)] = amostra_idade\n",
            "<ipython-input-54-2abac2b94257>:4: PerformanceWarning: DataFrame is highly fragmented.  This is usually the result of calling `frame.insert` many times, which has poor performance.  Consider joining all columns at once using pd.concat(axis=1) instead. To get a de-fragmented frame, use `newframe = frame.copy()`\n",
            "  amostras['Amostra_' + str(i)] = amostra_idade\n",
            "<ipython-input-54-2abac2b94257>:4: PerformanceWarning: DataFrame is highly fragmented.  This is usually the result of calling `frame.insert` many times, which has poor performance.  Consider joining all columns at once using pd.concat(axis=1) instead. To get a de-fragmented frame, use `newframe = frame.copy()`\n",
            "  amostras['Amostra_' + str(i)] = amostra_idade\n",
            "<ipython-input-54-2abac2b94257>:4: PerformanceWarning: DataFrame is highly fragmented.  This is usually the result of calling `frame.insert` many times, which has poor performance.  Consider joining all columns at once using pd.concat(axis=1) instead. To get a de-fragmented frame, use `newframe = frame.copy()`\n",
            "  amostras['Amostra_' + str(i)] = amostra_idade\n",
            "<ipython-input-54-2abac2b94257>:4: PerformanceWarning: DataFrame is highly fragmented.  This is usually the result of calling `frame.insert` many times, which has poor performance.  Consider joining all columns at once using pd.concat(axis=1) instead. To get a de-fragmented frame, use `newframe = frame.copy()`\n",
            "  amostras['Amostra_' + str(i)] = amostra_idade\n",
            "<ipython-input-54-2abac2b94257>:4: PerformanceWarning: DataFrame is highly fragmented.  This is usually the result of calling `frame.insert` many times, which has poor performance.  Consider joining all columns at once using pd.concat(axis=1) instead. To get a de-fragmented frame, use `newframe = frame.copy()`\n",
            "  amostras['Amostra_' + str(i)] = amostra_idade\n",
            "<ipython-input-54-2abac2b94257>:4: PerformanceWarning: DataFrame is highly fragmented.  This is usually the result of calling `frame.insert` many times, which has poor performance.  Consider joining all columns at once using pd.concat(axis=1) instead. To get a de-fragmented frame, use `newframe = frame.copy()`\n",
            "  amostras['Amostra_' + str(i)] = amostra_idade\n",
            "<ipython-input-54-2abac2b94257>:4: PerformanceWarning: DataFrame is highly fragmented.  This is usually the result of calling `frame.insert` many times, which has poor performance.  Consider joining all columns at once using pd.concat(axis=1) instead. To get a de-fragmented frame, use `newframe = frame.copy()`\n",
            "  amostras['Amostra_' + str(i)] = amostra_idade\n",
            "<ipython-input-54-2abac2b94257>:4: PerformanceWarning: DataFrame is highly fragmented.  This is usually the result of calling `frame.insert` many times, which has poor performance.  Consider joining all columns at once using pd.concat(axis=1) instead. To get a de-fragmented frame, use `newframe = frame.copy()`\n",
            "  amostras['Amostra_' + str(i)] = amostra_idade\n",
            "<ipython-input-54-2abac2b94257>:4: PerformanceWarning: DataFrame is highly fragmented.  This is usually the result of calling `frame.insert` many times, which has poor performance.  Consider joining all columns at once using pd.concat(axis=1) instead. To get a de-fragmented frame, use `newframe = frame.copy()`\n",
            "  amostras['Amostra_' + str(i)] = amostra_idade\n",
            "<ipython-input-54-2abac2b94257>:4: PerformanceWarning: DataFrame is highly fragmented.  This is usually the result of calling `frame.insert` many times, which has poor performance.  Consider joining all columns at once using pd.concat(axis=1) instead. To get a de-fragmented frame, use `newframe = frame.copy()`\n",
            "  amostras['Amostra_' + str(i)] = amostra_idade\n",
            "<ipython-input-54-2abac2b94257>:4: PerformanceWarning: DataFrame is highly fragmented.  This is usually the result of calling `frame.insert` many times, which has poor performance.  Consider joining all columns at once using pd.concat(axis=1) instead. To get a de-fragmented frame, use `newframe = frame.copy()`\n",
            "  amostras['Amostra_' + str(i)] = amostra_idade\n",
            "<ipython-input-54-2abac2b94257>:4: PerformanceWarning: DataFrame is highly fragmented.  This is usually the result of calling `frame.insert` many times, which has poor performance.  Consider joining all columns at once using pd.concat(axis=1) instead. To get a de-fragmented frame, use `newframe = frame.copy()`\n",
            "  amostras['Amostra_' + str(i)] = amostra_idade\n",
            "<ipython-input-54-2abac2b94257>:4: PerformanceWarning: DataFrame is highly fragmented.  This is usually the result of calling `frame.insert` many times, which has poor performance.  Consider joining all columns at once using pd.concat(axis=1) instead. To get a de-fragmented frame, use `newframe = frame.copy()`\n",
            "  amostras['Amostra_' + str(i)] = amostra_idade\n",
            "<ipython-input-54-2abac2b94257>:4: PerformanceWarning: DataFrame is highly fragmented.  This is usually the result of calling `frame.insert` many times, which has poor performance.  Consider joining all columns at once using pd.concat(axis=1) instead. To get a de-fragmented frame, use `newframe = frame.copy()`\n",
            "  amostras['Amostra_' + str(i)] = amostra_idade\n",
            "<ipython-input-54-2abac2b94257>:4: PerformanceWarning: DataFrame is highly fragmented.  This is usually the result of calling `frame.insert` many times, which has poor performance.  Consider joining all columns at once using pd.concat(axis=1) instead. To get a de-fragmented frame, use `newframe = frame.copy()`\n",
            "  amostras['Amostra_' + str(i)] = amostra_idade\n",
            "<ipython-input-54-2abac2b94257>:4: PerformanceWarning: DataFrame is highly fragmented.  This is usually the result of calling `frame.insert` many times, which has poor performance.  Consider joining all columns at once using pd.concat(axis=1) instead. To get a de-fragmented frame, use `newframe = frame.copy()`\n",
            "  amostras['Amostra_' + str(i)] = amostra_idade\n",
            "<ipython-input-54-2abac2b94257>:4: PerformanceWarning: DataFrame is highly fragmented.  This is usually the result of calling `frame.insert` many times, which has poor performance.  Consider joining all columns at once using pd.concat(axis=1) instead. To get a de-fragmented frame, use `newframe = frame.copy()`\n",
            "  amostras['Amostra_' + str(i)] = amostra_idade\n",
            "<ipython-input-54-2abac2b94257>:4: PerformanceWarning: DataFrame is highly fragmented.  This is usually the result of calling `frame.insert` many times, which has poor performance.  Consider joining all columns at once using pd.concat(axis=1) instead. To get a de-fragmented frame, use `newframe = frame.copy()`\n",
            "  amostras['Amostra_' + str(i)] = amostra_idade\n",
            "<ipython-input-54-2abac2b94257>:4: PerformanceWarning: DataFrame is highly fragmented.  This is usually the result of calling `frame.insert` many times, which has poor performance.  Consider joining all columns at once using pd.concat(axis=1) instead. To get a de-fragmented frame, use `newframe = frame.copy()`\n",
            "  amostras['Amostra_' + str(i)] = amostra_idade\n",
            "<ipython-input-54-2abac2b94257>:4: PerformanceWarning: DataFrame is highly fragmented.  This is usually the result of calling `frame.insert` many times, which has poor performance.  Consider joining all columns at once using pd.concat(axis=1) instead. To get a de-fragmented frame, use `newframe = frame.copy()`\n",
            "  amostras['Amostra_' + str(i)] = amostra_idade\n",
            "<ipython-input-54-2abac2b94257>:4: PerformanceWarning: DataFrame is highly fragmented.  This is usually the result of calling `frame.insert` many times, which has poor performance.  Consider joining all columns at once using pd.concat(axis=1) instead. To get a de-fragmented frame, use `newframe = frame.copy()`\n",
            "  amostras['Amostra_' + str(i)] = amostra_idade\n",
            "<ipython-input-54-2abac2b94257>:4: PerformanceWarning: DataFrame is highly fragmented.  This is usually the result of calling `frame.insert` many times, which has poor performance.  Consider joining all columns at once using pd.concat(axis=1) instead. To get a de-fragmented frame, use `newframe = frame.copy()`\n",
            "  amostras['Amostra_' + str(i)] = amostra_idade\n",
            "<ipython-input-54-2abac2b94257>:4: PerformanceWarning: DataFrame is highly fragmented.  This is usually the result of calling `frame.insert` many times, which has poor performance.  Consider joining all columns at once using pd.concat(axis=1) instead. To get a de-fragmented frame, use `newframe = frame.copy()`\n",
            "  amostras['Amostra_' + str(i)] = amostra_idade\n",
            "<ipython-input-54-2abac2b94257>:4: PerformanceWarning: DataFrame is highly fragmented.  This is usually the result of calling `frame.insert` many times, which has poor performance.  Consider joining all columns at once using pd.concat(axis=1) instead. To get a de-fragmented frame, use `newframe = frame.copy()`\n",
            "  amostras['Amostra_' + str(i)] = amostra_idade\n",
            "<ipython-input-54-2abac2b94257>:4: PerformanceWarning: DataFrame is highly fragmented.  This is usually the result of calling `frame.insert` many times, which has poor performance.  Consider joining all columns at once using pd.concat(axis=1) instead. To get a de-fragmented frame, use `newframe = frame.copy()`\n",
            "  amostras['Amostra_' + str(i)] = amostra_idade\n",
            "<ipython-input-54-2abac2b94257>:4: PerformanceWarning: DataFrame is highly fragmented.  This is usually the result of calling `frame.insert` many times, which has poor performance.  Consider joining all columns at once using pd.concat(axis=1) instead. To get a de-fragmented frame, use `newframe = frame.copy()`\n",
            "  amostras['Amostra_' + str(i)] = amostra_idade\n",
            "<ipython-input-54-2abac2b94257>:4: PerformanceWarning: DataFrame is highly fragmented.  This is usually the result of calling `frame.insert` many times, which has poor performance.  Consider joining all columns at once using pd.concat(axis=1) instead. To get a de-fragmented frame, use `newframe = frame.copy()`\n",
            "  amostras['Amostra_' + str(i)] = amostra_idade\n",
            "<ipython-input-54-2abac2b94257>:4: PerformanceWarning: DataFrame is highly fragmented.  This is usually the result of calling `frame.insert` many times, which has poor performance.  Consider joining all columns at once using pd.concat(axis=1) instead. To get a de-fragmented frame, use `newframe = frame.copy()`\n",
            "  amostras['Amostra_' + str(i)] = amostra_idade\n",
            "<ipython-input-54-2abac2b94257>:4: PerformanceWarning: DataFrame is highly fragmented.  This is usually the result of calling `frame.insert` many times, which has poor performance.  Consider joining all columns at once using pd.concat(axis=1) instead. To get a de-fragmented frame, use `newframe = frame.copy()`\n",
            "  amostras['Amostra_' + str(i)] = amostra_idade\n",
            "<ipython-input-54-2abac2b94257>:4: PerformanceWarning: DataFrame is highly fragmented.  This is usually the result of calling `frame.insert` many times, which has poor performance.  Consider joining all columns at once using pd.concat(axis=1) instead. To get a de-fragmented frame, use `newframe = frame.copy()`\n",
            "  amostras['Amostra_' + str(i)] = amostra_idade\n",
            "<ipython-input-54-2abac2b94257>:4: PerformanceWarning: DataFrame is highly fragmented.  This is usually the result of calling `frame.insert` many times, which has poor performance.  Consider joining all columns at once using pd.concat(axis=1) instead. To get a de-fragmented frame, use `newframe = frame.copy()`\n",
            "  amostras['Amostra_' + str(i)] = amostra_idade\n",
            "<ipython-input-54-2abac2b94257>:4: PerformanceWarning: DataFrame is highly fragmented.  This is usually the result of calling `frame.insert` many times, which has poor performance.  Consider joining all columns at once using pd.concat(axis=1) instead. To get a de-fragmented frame, use `newframe = frame.copy()`\n",
            "  amostras['Amostra_' + str(i)] = amostra_idade\n",
            "<ipython-input-54-2abac2b94257>:4: PerformanceWarning: DataFrame is highly fragmented.  This is usually the result of calling `frame.insert` many times, which has poor performance.  Consider joining all columns at once using pd.concat(axis=1) instead. To get a de-fragmented frame, use `newframe = frame.copy()`\n",
            "  amostras['Amostra_' + str(i)] = amostra_idade\n",
            "<ipython-input-54-2abac2b94257>:4: PerformanceWarning: DataFrame is highly fragmented.  This is usually the result of calling `frame.insert` many times, which has poor performance.  Consider joining all columns at once using pd.concat(axis=1) instead. To get a de-fragmented frame, use `newframe = frame.copy()`\n",
            "  amostras['Amostra_' + str(i)] = amostra_idade\n",
            "<ipython-input-54-2abac2b94257>:4: PerformanceWarning: DataFrame is highly fragmented.  This is usually the result of calling `frame.insert` many times, which has poor performance.  Consider joining all columns at once using pd.concat(axis=1) instead. To get a de-fragmented frame, use `newframe = frame.copy()`\n",
            "  amostras['Amostra_' + str(i)] = amostra_idade\n",
            "<ipython-input-54-2abac2b94257>:4: PerformanceWarning: DataFrame is highly fragmented.  This is usually the result of calling `frame.insert` many times, which has poor performance.  Consider joining all columns at once using pd.concat(axis=1) instead. To get a de-fragmented frame, use `newframe = frame.copy()`\n",
            "  amostras['Amostra_' + str(i)] = amostra_idade\n",
            "<ipython-input-54-2abac2b94257>:4: PerformanceWarning: DataFrame is highly fragmented.  This is usually the result of calling `frame.insert` many times, which has poor performance.  Consider joining all columns at once using pd.concat(axis=1) instead. To get a de-fragmented frame, use `newframe = frame.copy()`\n",
            "  amostras['Amostra_' + str(i)] = amostra_idade\n",
            "<ipython-input-54-2abac2b94257>:4: PerformanceWarning: DataFrame is highly fragmented.  This is usually the result of calling `frame.insert` many times, which has poor performance.  Consider joining all columns at once using pd.concat(axis=1) instead. To get a de-fragmented frame, use `newframe = frame.copy()`\n",
            "  amostras['Amostra_' + str(i)] = amostra_idade\n",
            "<ipython-input-54-2abac2b94257>:4: PerformanceWarning: DataFrame is highly fragmented.  This is usually the result of calling `frame.insert` many times, which has poor performance.  Consider joining all columns at once using pd.concat(axis=1) instead. To get a de-fragmented frame, use `newframe = frame.copy()`\n",
            "  amostras['Amostra_' + str(i)] = amostra_idade\n",
            "<ipython-input-54-2abac2b94257>:4: PerformanceWarning: DataFrame is highly fragmented.  This is usually the result of calling `frame.insert` many times, which has poor performance.  Consider joining all columns at once using pd.concat(axis=1) instead. To get a de-fragmented frame, use `newframe = frame.copy()`\n",
            "  amostras['Amostra_' + str(i)] = amostra_idade\n",
            "<ipython-input-54-2abac2b94257>:4: PerformanceWarning: DataFrame is highly fragmented.  This is usually the result of calling `frame.insert` many times, which has poor performance.  Consider joining all columns at once using pd.concat(axis=1) instead. To get a de-fragmented frame, use `newframe = frame.copy()`\n",
            "  amostras['Amostra_' + str(i)] = amostra_idade\n",
            "<ipython-input-54-2abac2b94257>:4: PerformanceWarning: DataFrame is highly fragmented.  This is usually the result of calling `frame.insert` many times, which has poor performance.  Consider joining all columns at once using pd.concat(axis=1) instead. To get a de-fragmented frame, use `newframe = frame.copy()`\n",
            "  amostras['Amostra_' + str(i)] = amostra_idade\n",
            "<ipython-input-54-2abac2b94257>:4: PerformanceWarning: DataFrame is highly fragmented.  This is usually the result of calling `frame.insert` many times, which has poor performance.  Consider joining all columns at once using pd.concat(axis=1) instead. To get a de-fragmented frame, use `newframe = frame.copy()`\n",
            "  amostras['Amostra_' + str(i)] = amostra_idade\n",
            "<ipython-input-54-2abac2b94257>:4: PerformanceWarning: DataFrame is highly fragmented.  This is usually the result of calling `frame.insert` many times, which has poor performance.  Consider joining all columns at once using pd.concat(axis=1) instead. To get a de-fragmented frame, use `newframe = frame.copy()`\n",
            "  amostras['Amostra_' + str(i)] = amostra_idade\n",
            "<ipython-input-54-2abac2b94257>:4: PerformanceWarning: DataFrame is highly fragmented.  This is usually the result of calling `frame.insert` many times, which has poor performance.  Consider joining all columns at once using pd.concat(axis=1) instead. To get a de-fragmented frame, use `newframe = frame.copy()`\n",
            "  amostras['Amostra_' + str(i)] = amostra_idade\n",
            "<ipython-input-54-2abac2b94257>:4: PerformanceWarning: DataFrame is highly fragmented.  This is usually the result of calling `frame.insert` many times, which has poor performance.  Consider joining all columns at once using pd.concat(axis=1) instead. To get a de-fragmented frame, use `newframe = frame.copy()`\n",
            "  amostras['Amostra_' + str(i)] = amostra_idade\n",
            "<ipython-input-54-2abac2b94257>:4: PerformanceWarning: DataFrame is highly fragmented.  This is usually the result of calling `frame.insert` many times, which has poor performance.  Consider joining all columns at once using pd.concat(axis=1) instead. To get a de-fragmented frame, use `newframe = frame.copy()`\n",
            "  amostras['Amostra_' + str(i)] = amostra_idade\n",
            "<ipython-input-54-2abac2b94257>:4: PerformanceWarning: DataFrame is highly fragmented.  This is usually the result of calling `frame.insert` many times, which has poor performance.  Consider joining all columns at once using pd.concat(axis=1) instead. To get a de-fragmented frame, use `newframe = frame.copy()`\n",
            "  amostras['Amostra_' + str(i)] = amostra_idade\n",
            "<ipython-input-54-2abac2b94257>:4: PerformanceWarning: DataFrame is highly fragmented.  This is usually the result of calling `frame.insert` many times, which has poor performance.  Consider joining all columns at once using pd.concat(axis=1) instead. To get a de-fragmented frame, use `newframe = frame.copy()`\n",
            "  amostras['Amostra_' + str(i)] = amostra_idade\n",
            "<ipython-input-54-2abac2b94257>:4: PerformanceWarning: DataFrame is highly fragmented.  This is usually the result of calling `frame.insert` many times, which has poor performance.  Consider joining all columns at once using pd.concat(axis=1) instead. To get a de-fragmented frame, use `newframe = frame.copy()`\n",
            "  amostras['Amostra_' + str(i)] = amostra_idade\n",
            "<ipython-input-54-2abac2b94257>:4: PerformanceWarning: DataFrame is highly fragmented.  This is usually the result of calling `frame.insert` many times, which has poor performance.  Consider joining all columns at once using pd.concat(axis=1) instead. To get a de-fragmented frame, use `newframe = frame.copy()`\n",
            "  amostras['Amostra_' + str(i)] = amostra_idade\n",
            "<ipython-input-54-2abac2b94257>:4: PerformanceWarning: DataFrame is highly fragmented.  This is usually the result of calling `frame.insert` many times, which has poor performance.  Consider joining all columns at once using pd.concat(axis=1) instead. To get a de-fragmented frame, use `newframe = frame.copy()`\n",
            "  amostras['Amostra_' + str(i)] = amostra_idade\n",
            "<ipython-input-54-2abac2b94257>:4: PerformanceWarning: DataFrame is highly fragmented.  This is usually the result of calling `frame.insert` many times, which has poor performance.  Consider joining all columns at once using pd.concat(axis=1) instead. To get a de-fragmented frame, use `newframe = frame.copy()`\n",
            "  amostras['Amostra_' + str(i)] = amostra_idade\n",
            "<ipython-input-54-2abac2b94257>:4: PerformanceWarning: DataFrame is highly fragmented.  This is usually the result of calling `frame.insert` many times, which has poor performance.  Consider joining all columns at once using pd.concat(axis=1) instead. To get a de-fragmented frame, use `newframe = frame.copy()`\n",
            "  amostras['Amostra_' + str(i)] = amostra_idade\n",
            "<ipython-input-54-2abac2b94257>:4: PerformanceWarning: DataFrame is highly fragmented.  This is usually the result of calling `frame.insert` many times, which has poor performance.  Consider joining all columns at once using pd.concat(axis=1) instead. To get a de-fragmented frame, use `newframe = frame.copy()`\n",
            "  amostras['Amostra_' + str(i)] = amostra_idade\n",
            "<ipython-input-54-2abac2b94257>:4: PerformanceWarning: DataFrame is highly fragmented.  This is usually the result of calling `frame.insert` many times, which has poor performance.  Consider joining all columns at once using pd.concat(axis=1) instead. To get a de-fragmented frame, use `newframe = frame.copy()`\n",
            "  amostras['Amostra_' + str(i)] = amostra_idade\n",
            "<ipython-input-54-2abac2b94257>:4: PerformanceWarning: DataFrame is highly fragmented.  This is usually the result of calling `frame.insert` many times, which has poor performance.  Consider joining all columns at once using pd.concat(axis=1) instead. To get a de-fragmented frame, use `newframe = frame.copy()`\n",
            "  amostras['Amostra_' + str(i)] = amostra_idade\n",
            "<ipython-input-54-2abac2b94257>:4: PerformanceWarning: DataFrame is highly fragmented.  This is usually the result of calling `frame.insert` many times, which has poor performance.  Consider joining all columns at once using pd.concat(axis=1) instead. To get a de-fragmented frame, use `newframe = frame.copy()`\n",
            "  amostras['Amostra_' + str(i)] = amostra_idade\n",
            "<ipython-input-54-2abac2b94257>:4: PerformanceWarning: DataFrame is highly fragmented.  This is usually the result of calling `frame.insert` many times, which has poor performance.  Consider joining all columns at once using pd.concat(axis=1) instead. To get a de-fragmented frame, use `newframe = frame.copy()`\n",
            "  amostras['Amostra_' + str(i)] = amostra_idade\n",
            "<ipython-input-54-2abac2b94257>:4: PerformanceWarning: DataFrame is highly fragmented.  This is usually the result of calling `frame.insert` many times, which has poor performance.  Consider joining all columns at once using pd.concat(axis=1) instead. To get a de-fragmented frame, use `newframe = frame.copy()`\n",
            "  amostras['Amostra_' + str(i)] = amostra_idade\n",
            "<ipython-input-54-2abac2b94257>:4: PerformanceWarning: DataFrame is highly fragmented.  This is usually the result of calling `frame.insert` many times, which has poor performance.  Consider joining all columns at once using pd.concat(axis=1) instead. To get a de-fragmented frame, use `newframe = frame.copy()`\n",
            "  amostras['Amostra_' + str(i)] = amostra_idade\n",
            "<ipython-input-54-2abac2b94257>:4: PerformanceWarning: DataFrame is highly fragmented.  This is usually the result of calling `frame.insert` many times, which has poor performance.  Consider joining all columns at once using pd.concat(axis=1) instead. To get a de-fragmented frame, use `newframe = frame.copy()`\n",
            "  amostras['Amostra_' + str(i)] = amostra_idade\n",
            "<ipython-input-54-2abac2b94257>:4: PerformanceWarning: DataFrame is highly fragmented.  This is usually the result of calling `frame.insert` many times, which has poor performance.  Consider joining all columns at once using pd.concat(axis=1) instead. To get a de-fragmented frame, use `newframe = frame.copy()`\n",
            "  amostras['Amostra_' + str(i)] = amostra_idade\n",
            "<ipython-input-54-2abac2b94257>:4: PerformanceWarning: DataFrame is highly fragmented.  This is usually the result of calling `frame.insert` many times, which has poor performance.  Consider joining all columns at once using pd.concat(axis=1) instead. To get a de-fragmented frame, use `newframe = frame.copy()`\n",
            "  amostras['Amostra_' + str(i)] = amostra_idade\n",
            "<ipython-input-54-2abac2b94257>:4: PerformanceWarning: DataFrame is highly fragmented.  This is usually the result of calling `frame.insert` many times, which has poor performance.  Consider joining all columns at once using pd.concat(axis=1) instead. To get a de-fragmented frame, use `newframe = frame.copy()`\n",
            "  amostras['Amostra_' + str(i)] = amostra_idade\n",
            "<ipython-input-54-2abac2b94257>:4: PerformanceWarning: DataFrame is highly fragmented.  This is usually the result of calling `frame.insert` many times, which has poor performance.  Consider joining all columns at once using pd.concat(axis=1) instead. To get a de-fragmented frame, use `newframe = frame.copy()`\n",
            "  amostras['Amostra_' + str(i)] = amostra_idade\n",
            "<ipython-input-54-2abac2b94257>:4: PerformanceWarning: DataFrame is highly fragmented.  This is usually the result of calling `frame.insert` many times, which has poor performance.  Consider joining all columns at once using pd.concat(axis=1) instead. To get a de-fragmented frame, use `newframe = frame.copy()`\n",
            "  amostras['Amostra_' + str(i)] = amostra_idade\n",
            "<ipython-input-54-2abac2b94257>:4: PerformanceWarning: DataFrame is highly fragmented.  This is usually the result of calling `frame.insert` many times, which has poor performance.  Consider joining all columns at once using pd.concat(axis=1) instead. To get a de-fragmented frame, use `newframe = frame.copy()`\n",
            "  amostras['Amostra_' + str(i)] = amostra_idade\n",
            "<ipython-input-54-2abac2b94257>:4: PerformanceWarning: DataFrame is highly fragmented.  This is usually the result of calling `frame.insert` many times, which has poor performance.  Consider joining all columns at once using pd.concat(axis=1) instead. To get a de-fragmented frame, use `newframe = frame.copy()`\n",
            "  amostras['Amostra_' + str(i)] = amostra_idade\n",
            "<ipython-input-54-2abac2b94257>:4: PerformanceWarning: DataFrame is highly fragmented.  This is usually the result of calling `frame.insert` many times, which has poor performance.  Consider joining all columns at once using pd.concat(axis=1) instead. To get a de-fragmented frame, use `newframe = frame.copy()`\n",
            "  amostras['Amostra_' + str(i)] = amostra_idade\n",
            "<ipython-input-54-2abac2b94257>:4: PerformanceWarning: DataFrame is highly fragmented.  This is usually the result of calling `frame.insert` many times, which has poor performance.  Consider joining all columns at once using pd.concat(axis=1) instead. To get a de-fragmented frame, use `newframe = frame.copy()`\n",
            "  amostras['Amostra_' + str(i)] = amostra_idade\n",
            "<ipython-input-54-2abac2b94257>:4: PerformanceWarning: DataFrame is highly fragmented.  This is usually the result of calling `frame.insert` many times, which has poor performance.  Consider joining all columns at once using pd.concat(axis=1) instead. To get a de-fragmented frame, use `newframe = frame.copy()`\n",
            "  amostras['Amostra_' + str(i)] = amostra_idade\n",
            "<ipython-input-54-2abac2b94257>:4: PerformanceWarning: DataFrame is highly fragmented.  This is usually the result of calling `frame.insert` many times, which has poor performance.  Consider joining all columns at once using pd.concat(axis=1) instead. To get a de-fragmented frame, use `newframe = frame.copy()`\n",
            "  amostras['Amostra_' + str(i)] = amostra_idade\n",
            "<ipython-input-54-2abac2b94257>:4: PerformanceWarning: DataFrame is highly fragmented.  This is usually the result of calling `frame.insert` many times, which has poor performance.  Consider joining all columns at once using pd.concat(axis=1) instead. To get a de-fragmented frame, use `newframe = frame.copy()`\n",
            "  amostras['Amostra_' + str(i)] = amostra_idade\n",
            "<ipython-input-54-2abac2b94257>:4: PerformanceWarning: DataFrame is highly fragmented.  This is usually the result of calling `frame.insert` many times, which has poor performance.  Consider joining all columns at once using pd.concat(axis=1) instead. To get a de-fragmented frame, use `newframe = frame.copy()`\n",
            "  amostras['Amostra_' + str(i)] = amostra_idade\n",
            "<ipython-input-54-2abac2b94257>:4: PerformanceWarning: DataFrame is highly fragmented.  This is usually the result of calling `frame.insert` many times, which has poor performance.  Consider joining all columns at once using pd.concat(axis=1) instead. To get a de-fragmented frame, use `newframe = frame.copy()`\n",
            "  amostras['Amostra_' + str(i)] = amostra_idade\n",
            "<ipython-input-54-2abac2b94257>:4: PerformanceWarning: DataFrame is highly fragmented.  This is usually the result of calling `frame.insert` many times, which has poor performance.  Consider joining all columns at once using pd.concat(axis=1) instead. To get a de-fragmented frame, use `newframe = frame.copy()`\n",
            "  amostras['Amostra_' + str(i)] = amostra_idade\n",
            "<ipython-input-54-2abac2b94257>:4: PerformanceWarning: DataFrame is highly fragmented.  This is usually the result of calling `frame.insert` many times, which has poor performance.  Consider joining all columns at once using pd.concat(axis=1) instead. To get a de-fragmented frame, use `newframe = frame.copy()`\n",
            "  amostras['Amostra_' + str(i)] = amostra_idade\n",
            "<ipython-input-54-2abac2b94257>:4: PerformanceWarning: DataFrame is highly fragmented.  This is usually the result of calling `frame.insert` many times, which has poor performance.  Consider joining all columns at once using pd.concat(axis=1) instead. To get a de-fragmented frame, use `newframe = frame.copy()`\n",
            "  amostras['Amostra_' + str(i)] = amostra_idade\n",
            "<ipython-input-54-2abac2b94257>:4: PerformanceWarning: DataFrame is highly fragmented.  This is usually the result of calling `frame.insert` many times, which has poor performance.  Consider joining all columns at once using pd.concat(axis=1) instead. To get a de-fragmented frame, use `newframe = frame.copy()`\n",
            "  amostras['Amostra_' + str(i)] = amostra_idade\n",
            "<ipython-input-54-2abac2b94257>:4: PerformanceWarning: DataFrame is highly fragmented.  This is usually the result of calling `frame.insert` many times, which has poor performance.  Consider joining all columns at once using pd.concat(axis=1) instead. To get a de-fragmented frame, use `newframe = frame.copy()`\n",
            "  amostras['Amostra_' + str(i)] = amostra_idade\n",
            "<ipython-input-54-2abac2b94257>:4: PerformanceWarning: DataFrame is highly fragmented.  This is usually the result of calling `frame.insert` many times, which has poor performance.  Consider joining all columns at once using pd.concat(axis=1) instead. To get a de-fragmented frame, use `newframe = frame.copy()`\n",
            "  amostras['Amostra_' + str(i)] = amostra_idade\n",
            "<ipython-input-54-2abac2b94257>:4: PerformanceWarning: DataFrame is highly fragmented.  This is usually the result of calling `frame.insert` many times, which has poor performance.  Consider joining all columns at once using pd.concat(axis=1) instead. To get a de-fragmented frame, use `newframe = frame.copy()`\n",
            "  amostras['Amostra_' + str(i)] = amostra_idade\n",
            "<ipython-input-54-2abac2b94257>:4: PerformanceWarning: DataFrame is highly fragmented.  This is usually the result of calling `frame.insert` many times, which has poor performance.  Consider joining all columns at once using pd.concat(axis=1) instead. To get a de-fragmented frame, use `newframe = frame.copy()`\n",
            "  amostras['Amostra_' + str(i)] = amostra_idade\n",
            "<ipython-input-54-2abac2b94257>:4: PerformanceWarning: DataFrame is highly fragmented.  This is usually the result of calling `frame.insert` many times, which has poor performance.  Consider joining all columns at once using pd.concat(axis=1) instead. To get a de-fragmented frame, use `newframe = frame.copy()`\n",
            "  amostras['Amostra_' + str(i)] = amostra_idade\n",
            "<ipython-input-54-2abac2b94257>:4: PerformanceWarning: DataFrame is highly fragmented.  This is usually the result of calling `frame.insert` many times, which has poor performance.  Consider joining all columns at once using pd.concat(axis=1) instead. To get a de-fragmented frame, use `newframe = frame.copy()`\n",
            "  amostras['Amostra_' + str(i)] = amostra_idade\n",
            "<ipython-input-54-2abac2b94257>:4: PerformanceWarning: DataFrame is highly fragmented.  This is usually the result of calling `frame.insert` many times, which has poor performance.  Consider joining all columns at once using pd.concat(axis=1) instead. To get a de-fragmented frame, use `newframe = frame.copy()`\n",
            "  amostras['Amostra_' + str(i)] = amostra_idade\n",
            "<ipython-input-54-2abac2b94257>:4: PerformanceWarning: DataFrame is highly fragmented.  This is usually the result of calling `frame.insert` many times, which has poor performance.  Consider joining all columns at once using pd.concat(axis=1) instead. To get a de-fragmented frame, use `newframe = frame.copy()`\n",
            "  amostras['Amostra_' + str(i)] = amostra_idade\n",
            "<ipython-input-54-2abac2b94257>:4: PerformanceWarning: DataFrame is highly fragmented.  This is usually the result of calling `frame.insert` many times, which has poor performance.  Consider joining all columns at once using pd.concat(axis=1) instead. To get a de-fragmented frame, use `newframe = frame.copy()`\n",
            "  amostras['Amostra_' + str(i)] = amostra_idade\n",
            "<ipython-input-54-2abac2b94257>:4: PerformanceWarning: DataFrame is highly fragmented.  This is usually the result of calling `frame.insert` many times, which has poor performance.  Consider joining all columns at once using pd.concat(axis=1) instead. To get a de-fragmented frame, use `newframe = frame.copy()`\n",
            "  amostras['Amostra_' + str(i)] = amostra_idade\n",
            "<ipython-input-54-2abac2b94257>:4: PerformanceWarning: DataFrame is highly fragmented.  This is usually the result of calling `frame.insert` many times, which has poor performance.  Consider joining all columns at once using pd.concat(axis=1) instead. To get a de-fragmented frame, use `newframe = frame.copy()`\n",
            "  amostras['Amostra_' + str(i)] = amostra_idade\n",
            "<ipython-input-54-2abac2b94257>:4: PerformanceWarning: DataFrame is highly fragmented.  This is usually the result of calling `frame.insert` many times, which has poor performance.  Consider joining all columns at once using pd.concat(axis=1) instead. To get a de-fragmented frame, use `newframe = frame.copy()`\n",
            "  amostras['Amostra_' + str(i)] = amostra_idade\n",
            "<ipython-input-54-2abac2b94257>:4: PerformanceWarning: DataFrame is highly fragmented.  This is usually the result of calling `frame.insert` many times, which has poor performance.  Consider joining all columns at once using pd.concat(axis=1) instead. To get a de-fragmented frame, use `newframe = frame.copy()`\n",
            "  amostras['Amostra_' + str(i)] = amostra_idade\n",
            "<ipython-input-54-2abac2b94257>:4: PerformanceWarning: DataFrame is highly fragmented.  This is usually the result of calling `frame.insert` many times, which has poor performance.  Consider joining all columns at once using pd.concat(axis=1) instead. To get a de-fragmented frame, use `newframe = frame.copy()`\n",
            "  amostras['Amostra_' + str(i)] = amostra_idade\n",
            "<ipython-input-54-2abac2b94257>:4: PerformanceWarning: DataFrame is highly fragmented.  This is usually the result of calling `frame.insert` many times, which has poor performance.  Consider joining all columns at once using pd.concat(axis=1) instead. To get a de-fragmented frame, use `newframe = frame.copy()`\n",
            "  amostras['Amostra_' + str(i)] = amostra_idade\n",
            "<ipython-input-54-2abac2b94257>:4: PerformanceWarning: DataFrame is highly fragmented.  This is usually the result of calling `frame.insert` many times, which has poor performance.  Consider joining all columns at once using pd.concat(axis=1) instead. To get a de-fragmented frame, use `newframe = frame.copy()`\n",
            "  amostras['Amostra_' + str(i)] = amostra_idade\n",
            "<ipython-input-54-2abac2b94257>:4: PerformanceWarning: DataFrame is highly fragmented.  This is usually the result of calling `frame.insert` many times, which has poor performance.  Consider joining all columns at once using pd.concat(axis=1) instead. To get a de-fragmented frame, use `newframe = frame.copy()`\n",
            "  amostras['Amostra_' + str(i)] = amostra_idade\n",
            "<ipython-input-54-2abac2b94257>:4: PerformanceWarning: DataFrame is highly fragmented.  This is usually the result of calling `frame.insert` many times, which has poor performance.  Consider joining all columns at once using pd.concat(axis=1) instead. To get a de-fragmented frame, use `newframe = frame.copy()`\n",
            "  amostras['Amostra_' + str(i)] = amostra_idade\n",
            "<ipython-input-54-2abac2b94257>:4: PerformanceWarning: DataFrame is highly fragmented.  This is usually the result of calling `frame.insert` many times, which has poor performance.  Consider joining all columns at once using pd.concat(axis=1) instead. To get a de-fragmented frame, use `newframe = frame.copy()`\n",
            "  amostras['Amostra_' + str(i)] = amostra_idade\n",
            "<ipython-input-54-2abac2b94257>:4: PerformanceWarning: DataFrame is highly fragmented.  This is usually the result of calling `frame.insert` many times, which has poor performance.  Consider joining all columns at once using pd.concat(axis=1) instead. To get a de-fragmented frame, use `newframe = frame.copy()`\n",
            "  amostras['Amostra_' + str(i)] = amostra_idade\n",
            "<ipython-input-54-2abac2b94257>:4: PerformanceWarning: DataFrame is highly fragmented.  This is usually the result of calling `frame.insert` many times, which has poor performance.  Consider joining all columns at once using pd.concat(axis=1) instead. To get a de-fragmented frame, use `newframe = frame.copy()`\n",
            "  amostras['Amostra_' + str(i)] = amostra_idade\n",
            "<ipython-input-54-2abac2b94257>:4: PerformanceWarning: DataFrame is highly fragmented.  This is usually the result of calling `frame.insert` many times, which has poor performance.  Consider joining all columns at once using pd.concat(axis=1) instead. To get a de-fragmented frame, use `newframe = frame.copy()`\n",
            "  amostras['Amostra_' + str(i)] = amostra_idade\n",
            "<ipython-input-54-2abac2b94257>:4: PerformanceWarning: DataFrame is highly fragmented.  This is usually the result of calling `frame.insert` many times, which has poor performance.  Consider joining all columns at once using pd.concat(axis=1) instead. To get a de-fragmented frame, use `newframe = frame.copy()`\n",
            "  amostras['Amostra_' + str(i)] = amostra_idade\n",
            "<ipython-input-54-2abac2b94257>:4: PerformanceWarning: DataFrame is highly fragmented.  This is usually the result of calling `frame.insert` many times, which has poor performance.  Consider joining all columns at once using pd.concat(axis=1) instead. To get a de-fragmented frame, use `newframe = frame.copy()`\n",
            "  amostras['Amostra_' + str(i)] = amostra_idade\n",
            "<ipython-input-54-2abac2b94257>:4: PerformanceWarning: DataFrame is highly fragmented.  This is usually the result of calling `frame.insert` many times, which has poor performance.  Consider joining all columns at once using pd.concat(axis=1) instead. To get a de-fragmented frame, use `newframe = frame.copy()`\n",
            "  amostras['Amostra_' + str(i)] = amostra_idade\n",
            "<ipython-input-54-2abac2b94257>:4: PerformanceWarning: DataFrame is highly fragmented.  This is usually the result of calling `frame.insert` many times, which has poor performance.  Consider joining all columns at once using pd.concat(axis=1) instead. To get a de-fragmented frame, use `newframe = frame.copy()`\n",
            "  amostras['Amostra_' + str(i)] = amostra_idade\n",
            "<ipython-input-54-2abac2b94257>:4: PerformanceWarning: DataFrame is highly fragmented.  This is usually the result of calling `frame.insert` many times, which has poor performance.  Consider joining all columns at once using pd.concat(axis=1) instead. To get a de-fragmented frame, use `newframe = frame.copy()`\n",
            "  amostras['Amostra_' + str(i)] = amostra_idade\n",
            "<ipython-input-54-2abac2b94257>:4: PerformanceWarning: DataFrame is highly fragmented.  This is usually the result of calling `frame.insert` many times, which has poor performance.  Consider joining all columns at once using pd.concat(axis=1) instead. To get a de-fragmented frame, use `newframe = frame.copy()`\n",
            "  amostras['Amostra_' + str(i)] = amostra_idade\n",
            "<ipython-input-54-2abac2b94257>:4: PerformanceWarning: DataFrame is highly fragmented.  This is usually the result of calling `frame.insert` many times, which has poor performance.  Consider joining all columns at once using pd.concat(axis=1) instead. To get a de-fragmented frame, use `newframe = frame.copy()`\n",
            "  amostras['Amostra_' + str(i)] = amostra_idade\n",
            "<ipython-input-54-2abac2b94257>:4: PerformanceWarning: DataFrame is highly fragmented.  This is usually the result of calling `frame.insert` many times, which has poor performance.  Consider joining all columns at once using pd.concat(axis=1) instead. To get a de-fragmented frame, use `newframe = frame.copy()`\n",
            "  amostras['Amostra_' + str(i)] = amostra_idade\n",
            "<ipython-input-54-2abac2b94257>:4: PerformanceWarning: DataFrame is highly fragmented.  This is usually the result of calling `frame.insert` many times, which has poor performance.  Consider joining all columns at once using pd.concat(axis=1) instead. To get a de-fragmented frame, use `newframe = frame.copy()`\n",
            "  amostras['Amostra_' + str(i)] = amostra_idade\n",
            "<ipython-input-54-2abac2b94257>:4: PerformanceWarning: DataFrame is highly fragmented.  This is usually the result of calling `frame.insert` many times, which has poor performance.  Consider joining all columns at once using pd.concat(axis=1) instead. To get a de-fragmented frame, use `newframe = frame.copy()`\n",
            "  amostras['Amostra_' + str(i)] = amostra_idade\n",
            "<ipython-input-54-2abac2b94257>:4: PerformanceWarning: DataFrame is highly fragmented.  This is usually the result of calling `frame.insert` many times, which has poor performance.  Consider joining all columns at once using pd.concat(axis=1) instead. To get a de-fragmented frame, use `newframe = frame.copy()`\n",
            "  amostras['Amostra_' + str(i)] = amostra_idade\n",
            "<ipython-input-54-2abac2b94257>:4: PerformanceWarning: DataFrame is highly fragmented.  This is usually the result of calling `frame.insert` many times, which has poor performance.  Consider joining all columns at once using pd.concat(axis=1) instead. To get a de-fragmented frame, use `newframe = frame.copy()`\n",
            "  amostras['Amostra_' + str(i)] = amostra_idade\n",
            "<ipython-input-54-2abac2b94257>:4: PerformanceWarning: DataFrame is highly fragmented.  This is usually the result of calling `frame.insert` many times, which has poor performance.  Consider joining all columns at once using pd.concat(axis=1) instead. To get a de-fragmented frame, use `newframe = frame.copy()`\n",
            "  amostras['Amostra_' + str(i)] = amostra_idade\n",
            "<ipython-input-54-2abac2b94257>:4: PerformanceWarning: DataFrame is highly fragmented.  This is usually the result of calling `frame.insert` many times, which has poor performance.  Consider joining all columns at once using pd.concat(axis=1) instead. To get a de-fragmented frame, use `newframe = frame.copy()`\n",
            "  amostras['Amostra_' + str(i)] = amostra_idade\n",
            "<ipython-input-54-2abac2b94257>:4: PerformanceWarning: DataFrame is highly fragmented.  This is usually the result of calling `frame.insert` many times, which has poor performance.  Consider joining all columns at once using pd.concat(axis=1) instead. To get a de-fragmented frame, use `newframe = frame.copy()`\n",
            "  amostras['Amostra_' + str(i)] = amostra_idade\n",
            "<ipython-input-54-2abac2b94257>:4: PerformanceWarning: DataFrame is highly fragmented.  This is usually the result of calling `frame.insert` many times, which has poor performance.  Consider joining all columns at once using pd.concat(axis=1) instead. To get a de-fragmented frame, use `newframe = frame.copy()`\n",
            "  amostras['Amostra_' + str(i)] = amostra_idade\n",
            "<ipython-input-54-2abac2b94257>:4: PerformanceWarning: DataFrame is highly fragmented.  This is usually the result of calling `frame.insert` many times, which has poor performance.  Consider joining all columns at once using pd.concat(axis=1) instead. To get a de-fragmented frame, use `newframe = frame.copy()`\n",
            "  amostras['Amostra_' + str(i)] = amostra_idade\n",
            "<ipython-input-54-2abac2b94257>:4: PerformanceWarning: DataFrame is highly fragmented.  This is usually the result of calling `frame.insert` many times, which has poor performance.  Consider joining all columns at once using pd.concat(axis=1) instead. To get a de-fragmented frame, use `newframe = frame.copy()`\n",
            "  amostras['Amostra_' + str(i)] = amostra_idade\n",
            "<ipython-input-54-2abac2b94257>:4: PerformanceWarning: DataFrame is highly fragmented.  This is usually the result of calling `frame.insert` many times, which has poor performance.  Consider joining all columns at once using pd.concat(axis=1) instead. To get a de-fragmented frame, use `newframe = frame.copy()`\n",
            "  amostras['Amostra_' + str(i)] = amostra_idade\n",
            "<ipython-input-54-2abac2b94257>:4: PerformanceWarning: DataFrame is highly fragmented.  This is usually the result of calling `frame.insert` many times, which has poor performance.  Consider joining all columns at once using pd.concat(axis=1) instead. To get a de-fragmented frame, use `newframe = frame.copy()`\n",
            "  amostras['Amostra_' + str(i)] = amostra_idade\n",
            "<ipython-input-54-2abac2b94257>:4: PerformanceWarning: DataFrame is highly fragmented.  This is usually the result of calling `frame.insert` many times, which has poor performance.  Consider joining all columns at once using pd.concat(axis=1) instead. To get a de-fragmented frame, use `newframe = frame.copy()`\n",
            "  amostras['Amostra_' + str(i)] = amostra_idade\n",
            "<ipython-input-54-2abac2b94257>:4: PerformanceWarning: DataFrame is highly fragmented.  This is usually the result of calling `frame.insert` many times, which has poor performance.  Consider joining all columns at once using pd.concat(axis=1) instead. To get a de-fragmented frame, use `newframe = frame.copy()`\n",
            "  amostras['Amostra_' + str(i)] = amostra_idade\n",
            "<ipython-input-54-2abac2b94257>:4: PerformanceWarning: DataFrame is highly fragmented.  This is usually the result of calling `frame.insert` many times, which has poor performance.  Consider joining all columns at once using pd.concat(axis=1) instead. To get a de-fragmented frame, use `newframe = frame.copy()`\n",
            "  amostras['Amostra_' + str(i)] = amostra_idade\n",
            "<ipython-input-54-2abac2b94257>:4: PerformanceWarning: DataFrame is highly fragmented.  This is usually the result of calling `frame.insert` many times, which has poor performance.  Consider joining all columns at once using pd.concat(axis=1) instead. To get a de-fragmented frame, use `newframe = frame.copy()`\n",
            "  amostras['Amostra_' + str(i)] = amostra_idade\n",
            "<ipython-input-54-2abac2b94257>:4: PerformanceWarning: DataFrame is highly fragmented.  This is usually the result of calling `frame.insert` many times, which has poor performance.  Consider joining all columns at once using pd.concat(axis=1) instead. To get a de-fragmented frame, use `newframe = frame.copy()`\n",
            "  amostras['Amostra_' + str(i)] = amostra_idade\n",
            "<ipython-input-54-2abac2b94257>:4: PerformanceWarning: DataFrame is highly fragmented.  This is usually the result of calling `frame.insert` many times, which has poor performance.  Consider joining all columns at once using pd.concat(axis=1) instead. To get a de-fragmented frame, use `newframe = frame.copy()`\n",
            "  amostras['Amostra_' + str(i)] = amostra_idade\n",
            "<ipython-input-54-2abac2b94257>:4: PerformanceWarning: DataFrame is highly fragmented.  This is usually the result of calling `frame.insert` many times, which has poor performance.  Consider joining all columns at once using pd.concat(axis=1) instead. To get a de-fragmented frame, use `newframe = frame.copy()`\n",
            "  amostras['Amostra_' + str(i)] = amostra_idade\n",
            "<ipython-input-54-2abac2b94257>:4: PerformanceWarning: DataFrame is highly fragmented.  This is usually the result of calling `frame.insert` many times, which has poor performance.  Consider joining all columns at once using pd.concat(axis=1) instead. To get a de-fragmented frame, use `newframe = frame.copy()`\n",
            "  amostras['Amostra_' + str(i)] = amostra_idade\n",
            "<ipython-input-54-2abac2b94257>:4: PerformanceWarning: DataFrame is highly fragmented.  This is usually the result of calling `frame.insert` many times, which has poor performance.  Consider joining all columns at once using pd.concat(axis=1) instead. To get a de-fragmented frame, use `newframe = frame.copy()`\n",
            "  amostras['Amostra_' + str(i)] = amostra_idade\n",
            "<ipython-input-54-2abac2b94257>:4: PerformanceWarning: DataFrame is highly fragmented.  This is usually the result of calling `frame.insert` many times, which has poor performance.  Consider joining all columns at once using pd.concat(axis=1) instead. To get a de-fragmented frame, use `newframe = frame.copy()`\n",
            "  amostras['Amostra_' + str(i)] = amostra_idade\n",
            "<ipython-input-54-2abac2b94257>:4: PerformanceWarning: DataFrame is highly fragmented.  This is usually the result of calling `frame.insert` many times, which has poor performance.  Consider joining all columns at once using pd.concat(axis=1) instead. To get a de-fragmented frame, use `newframe = frame.copy()`\n",
            "  amostras['Amostra_' + str(i)] = amostra_idade\n",
            "<ipython-input-54-2abac2b94257>:4: PerformanceWarning: DataFrame is highly fragmented.  This is usually the result of calling `frame.insert` many times, which has poor performance.  Consider joining all columns at once using pd.concat(axis=1) instead. To get a de-fragmented frame, use `newframe = frame.copy()`\n",
            "  amostras['Amostra_' + str(i)] = amostra_idade\n",
            "<ipython-input-54-2abac2b94257>:4: PerformanceWarning: DataFrame is highly fragmented.  This is usually the result of calling `frame.insert` many times, which has poor performance.  Consider joining all columns at once using pd.concat(axis=1) instead. To get a de-fragmented frame, use `newframe = frame.copy()`\n",
            "  amostras['Amostra_' + str(i)] = amostra_idade\n",
            "<ipython-input-54-2abac2b94257>:4: PerformanceWarning: DataFrame is highly fragmented.  This is usually the result of calling `frame.insert` many times, which has poor performance.  Consider joining all columns at once using pd.concat(axis=1) instead. To get a de-fragmented frame, use `newframe = frame.copy()`\n",
            "  amostras['Amostra_' + str(i)] = amostra_idade\n",
            "<ipython-input-54-2abac2b94257>:4: PerformanceWarning: DataFrame is highly fragmented.  This is usually the result of calling `frame.insert` many times, which has poor performance.  Consider joining all columns at once using pd.concat(axis=1) instead. To get a de-fragmented frame, use `newframe = frame.copy()`\n",
            "  amostras['Amostra_' + str(i)] = amostra_idade\n",
            "<ipython-input-54-2abac2b94257>:4: PerformanceWarning: DataFrame is highly fragmented.  This is usually the result of calling `frame.insert` many times, which has poor performance.  Consider joining all columns at once using pd.concat(axis=1) instead. To get a de-fragmented frame, use `newframe = frame.copy()`\n",
            "  amostras['Amostra_' + str(i)] = amostra_idade\n",
            "<ipython-input-54-2abac2b94257>:4: PerformanceWarning: DataFrame is highly fragmented.  This is usually the result of calling `frame.insert` many times, which has poor performance.  Consider joining all columns at once using pd.concat(axis=1) instead. To get a de-fragmented frame, use `newframe = frame.copy()`\n",
            "  amostras['Amostra_' + str(i)] = amostra_idade\n",
            "<ipython-input-54-2abac2b94257>:4: PerformanceWarning: DataFrame is highly fragmented.  This is usually the result of calling `frame.insert` many times, which has poor performance.  Consider joining all columns at once using pd.concat(axis=1) instead. To get a de-fragmented frame, use `newframe = frame.copy()`\n",
            "  amostras['Amostra_' + str(i)] = amostra_idade\n",
            "<ipython-input-54-2abac2b94257>:4: PerformanceWarning: DataFrame is highly fragmented.  This is usually the result of calling `frame.insert` many times, which has poor performance.  Consider joining all columns at once using pd.concat(axis=1) instead. To get a de-fragmented frame, use `newframe = frame.copy()`\n",
            "  amostras['Amostra_' + str(i)] = amostra_idade\n",
            "<ipython-input-54-2abac2b94257>:4: PerformanceWarning: DataFrame is highly fragmented.  This is usually the result of calling `frame.insert` many times, which has poor performance.  Consider joining all columns at once using pd.concat(axis=1) instead. To get a de-fragmented frame, use `newframe = frame.copy()`\n",
            "  amostras['Amostra_' + str(i)] = amostra_idade\n",
            "<ipython-input-54-2abac2b94257>:4: PerformanceWarning: DataFrame is highly fragmented.  This is usually the result of calling `frame.insert` many times, which has poor performance.  Consider joining all columns at once using pd.concat(axis=1) instead. To get a de-fragmented frame, use `newframe = frame.copy()`\n",
            "  amostras['Amostra_' + str(i)] = amostra_idade\n",
            "<ipython-input-54-2abac2b94257>:4: PerformanceWarning: DataFrame is highly fragmented.  This is usually the result of calling `frame.insert` many times, which has poor performance.  Consider joining all columns at once using pd.concat(axis=1) instead. To get a de-fragmented frame, use `newframe = frame.copy()`\n",
            "  amostras['Amostra_' + str(i)] = amostra_idade\n",
            "<ipython-input-54-2abac2b94257>:4: PerformanceWarning: DataFrame is highly fragmented.  This is usually the result of calling `frame.insert` many times, which has poor performance.  Consider joining all columns at once using pd.concat(axis=1) instead. To get a de-fragmented frame, use `newframe = frame.copy()`\n",
            "  amostras['Amostra_' + str(i)] = amostra_idade\n",
            "<ipython-input-54-2abac2b94257>:4: PerformanceWarning: DataFrame is highly fragmented.  This is usually the result of calling `frame.insert` many times, which has poor performance.  Consider joining all columns at once using pd.concat(axis=1) instead. To get a de-fragmented frame, use `newframe = frame.copy()`\n",
            "  amostras['Amostra_' + str(i)] = amostra_idade\n",
            "<ipython-input-54-2abac2b94257>:4: PerformanceWarning: DataFrame is highly fragmented.  This is usually the result of calling `frame.insert` many times, which has poor performance.  Consider joining all columns at once using pd.concat(axis=1) instead. To get a de-fragmented frame, use `newframe = frame.copy()`\n",
            "  amostras['Amostra_' + str(i)] = amostra_idade\n",
            "<ipython-input-54-2abac2b94257>:4: PerformanceWarning: DataFrame is highly fragmented.  This is usually the result of calling `frame.insert` many times, which has poor performance.  Consider joining all columns at once using pd.concat(axis=1) instead. To get a de-fragmented frame, use `newframe = frame.copy()`\n",
            "  amostras['Amostra_' + str(i)] = amostra_idade\n",
            "<ipython-input-54-2abac2b94257>:4: PerformanceWarning: DataFrame is highly fragmented.  This is usually the result of calling `frame.insert` many times, which has poor performance.  Consider joining all columns at once using pd.concat(axis=1) instead. To get a de-fragmented frame, use `newframe = frame.copy()`\n",
            "  amostras['Amostra_' + str(i)] = amostra_idade\n",
            "<ipython-input-54-2abac2b94257>:4: PerformanceWarning: DataFrame is highly fragmented.  This is usually the result of calling `frame.insert` many times, which has poor performance.  Consider joining all columns at once using pd.concat(axis=1) instead. To get a de-fragmented frame, use `newframe = frame.copy()`\n",
            "  amostras['Amostra_' + str(i)] = amostra_idade\n",
            "<ipython-input-54-2abac2b94257>:4: PerformanceWarning: DataFrame is highly fragmented.  This is usually the result of calling `frame.insert` many times, which has poor performance.  Consider joining all columns at once using pd.concat(axis=1) instead. To get a de-fragmented frame, use `newframe = frame.copy()`\n",
            "  amostras['Amostra_' + str(i)] = amostra_idade\n",
            "<ipython-input-54-2abac2b94257>:4: PerformanceWarning: DataFrame is highly fragmented.  This is usually the result of calling `frame.insert` many times, which has poor performance.  Consider joining all columns at once using pd.concat(axis=1) instead. To get a de-fragmented frame, use `newframe = frame.copy()`\n",
            "  amostras['Amostra_' + str(i)] = amostra_idade\n",
            "<ipython-input-54-2abac2b94257>:4: PerformanceWarning: DataFrame is highly fragmented.  This is usually the result of calling `frame.insert` many times, which has poor performance.  Consider joining all columns at once using pd.concat(axis=1) instead. To get a de-fragmented frame, use `newframe = frame.copy()`\n",
            "  amostras['Amostra_' + str(i)] = amostra_idade\n",
            "<ipython-input-54-2abac2b94257>:4: PerformanceWarning: DataFrame is highly fragmented.  This is usually the result of calling `frame.insert` many times, which has poor performance.  Consider joining all columns at once using pd.concat(axis=1) instead. To get a de-fragmented frame, use `newframe = frame.copy()`\n",
            "  amostras['Amostra_' + str(i)] = amostra_idade\n",
            "<ipython-input-54-2abac2b94257>:4: PerformanceWarning: DataFrame is highly fragmented.  This is usually the result of calling `frame.insert` many times, which has poor performance.  Consider joining all columns at once using pd.concat(axis=1) instead. To get a de-fragmented frame, use `newframe = frame.copy()`\n",
            "  amostras['Amostra_' + str(i)] = amostra_idade\n",
            "<ipython-input-54-2abac2b94257>:4: PerformanceWarning: DataFrame is highly fragmented.  This is usually the result of calling `frame.insert` many times, which has poor performance.  Consider joining all columns at once using pd.concat(axis=1) instead. To get a de-fragmented frame, use `newframe = frame.copy()`\n",
            "  amostras['Amostra_' + str(i)] = amostra_idade\n",
            "<ipython-input-54-2abac2b94257>:4: PerformanceWarning: DataFrame is highly fragmented.  This is usually the result of calling `frame.insert` many times, which has poor performance.  Consider joining all columns at once using pd.concat(axis=1) instead. To get a de-fragmented frame, use `newframe = frame.copy()`\n",
            "  amostras['Amostra_' + str(i)] = amostra_idade\n",
            "<ipython-input-54-2abac2b94257>:4: PerformanceWarning: DataFrame is highly fragmented.  This is usually the result of calling `frame.insert` many times, which has poor performance.  Consider joining all columns at once using pd.concat(axis=1) instead. To get a de-fragmented frame, use `newframe = frame.copy()`\n",
            "  amostras['Amostra_' + str(i)] = amostra_idade\n",
            "<ipython-input-54-2abac2b94257>:4: PerformanceWarning: DataFrame is highly fragmented.  This is usually the result of calling `frame.insert` many times, which has poor performance.  Consider joining all columns at once using pd.concat(axis=1) instead. To get a de-fragmented frame, use `newframe = frame.copy()`\n",
            "  amostras['Amostra_' + str(i)] = amostra_idade\n",
            "<ipython-input-54-2abac2b94257>:4: PerformanceWarning: DataFrame is highly fragmented.  This is usually the result of calling `frame.insert` many times, which has poor performance.  Consider joining all columns at once using pd.concat(axis=1) instead. To get a de-fragmented frame, use `newframe = frame.copy()`\n",
            "  amostras['Amostra_' + str(i)] = amostra_idade\n",
            "<ipython-input-54-2abac2b94257>:4: PerformanceWarning: DataFrame is highly fragmented.  This is usually the result of calling `frame.insert` many times, which has poor performance.  Consider joining all columns at once using pd.concat(axis=1) instead. To get a de-fragmented frame, use `newframe = frame.copy()`\n",
            "  amostras['Amostra_' + str(i)] = amostra_idade\n",
            "<ipython-input-54-2abac2b94257>:4: PerformanceWarning: DataFrame is highly fragmented.  This is usually the result of calling `frame.insert` many times, which has poor performance.  Consider joining all columns at once using pd.concat(axis=1) instead. To get a de-fragmented frame, use `newframe = frame.copy()`\n",
            "  amostras['Amostra_' + str(i)] = amostra_idade\n",
            "<ipython-input-54-2abac2b94257>:4: PerformanceWarning: DataFrame is highly fragmented.  This is usually the result of calling `frame.insert` many times, which has poor performance.  Consider joining all columns at once using pd.concat(axis=1) instead. To get a de-fragmented frame, use `newframe = frame.copy()`\n",
            "  amostras['Amostra_' + str(i)] = amostra_idade\n",
            "<ipython-input-54-2abac2b94257>:4: PerformanceWarning: DataFrame is highly fragmented.  This is usually the result of calling `frame.insert` many times, which has poor performance.  Consider joining all columns at once using pd.concat(axis=1) instead. To get a de-fragmented frame, use `newframe = frame.copy()`\n",
            "  amostras['Amostra_' + str(i)] = amostra_idade\n",
            "<ipython-input-54-2abac2b94257>:4: PerformanceWarning: DataFrame is highly fragmented.  This is usually the result of calling `frame.insert` many times, which has poor performance.  Consider joining all columns at once using pd.concat(axis=1) instead. To get a de-fragmented frame, use `newframe = frame.copy()`\n",
            "  amostras['Amostra_' + str(i)] = amostra_idade\n",
            "<ipython-input-54-2abac2b94257>:4: PerformanceWarning: DataFrame is highly fragmented.  This is usually the result of calling `frame.insert` many times, which has poor performance.  Consider joining all columns at once using pd.concat(axis=1) instead. To get a de-fragmented frame, use `newframe = frame.copy()`\n",
            "  amostras['Amostra_' + str(i)] = amostra_idade\n",
            "<ipython-input-54-2abac2b94257>:4: PerformanceWarning: DataFrame is highly fragmented.  This is usually the result of calling `frame.insert` many times, which has poor performance.  Consider joining all columns at once using pd.concat(axis=1) instead. To get a de-fragmented frame, use `newframe = frame.copy()`\n",
            "  amostras['Amostra_' + str(i)] = amostra_idade\n",
            "<ipython-input-54-2abac2b94257>:4: PerformanceWarning: DataFrame is highly fragmented.  This is usually the result of calling `frame.insert` many times, which has poor performance.  Consider joining all columns at once using pd.concat(axis=1) instead. To get a de-fragmented frame, use `newframe = frame.copy()`\n",
            "  amostras['Amostra_' + str(i)] = amostra_idade\n",
            "<ipython-input-54-2abac2b94257>:4: PerformanceWarning: DataFrame is highly fragmented.  This is usually the result of calling `frame.insert` many times, which has poor performance.  Consider joining all columns at once using pd.concat(axis=1) instead. To get a de-fragmented frame, use `newframe = frame.copy()`\n",
            "  amostras['Amostra_' + str(i)] = amostra_idade\n",
            "<ipython-input-54-2abac2b94257>:4: PerformanceWarning: DataFrame is highly fragmented.  This is usually the result of calling `frame.insert` many times, which has poor performance.  Consider joining all columns at once using pd.concat(axis=1) instead. To get a de-fragmented frame, use `newframe = frame.copy()`\n",
            "  amostras['Amostra_' + str(i)] = amostra_idade\n",
            "<ipython-input-54-2abac2b94257>:4: PerformanceWarning: DataFrame is highly fragmented.  This is usually the result of calling `frame.insert` many times, which has poor performance.  Consider joining all columns at once using pd.concat(axis=1) instead. To get a de-fragmented frame, use `newframe = frame.copy()`\n",
            "  amostras['Amostra_' + str(i)] = amostra_idade\n",
            "<ipython-input-54-2abac2b94257>:4: PerformanceWarning: DataFrame is highly fragmented.  This is usually the result of calling `frame.insert` many times, which has poor performance.  Consider joining all columns at once using pd.concat(axis=1) instead. To get a de-fragmented frame, use `newframe = frame.copy()`\n",
            "  amostras['Amostra_' + str(i)] = amostra_idade\n",
            "<ipython-input-54-2abac2b94257>:4: PerformanceWarning: DataFrame is highly fragmented.  This is usually the result of calling `frame.insert` many times, which has poor performance.  Consider joining all columns at once using pd.concat(axis=1) instead. To get a de-fragmented frame, use `newframe = frame.copy()`\n",
            "  amostras['Amostra_' + str(i)] = amostra_idade\n",
            "<ipython-input-54-2abac2b94257>:4: PerformanceWarning: DataFrame is highly fragmented.  This is usually the result of calling `frame.insert` many times, which has poor performance.  Consider joining all columns at once using pd.concat(axis=1) instead. To get a de-fragmented frame, use `newframe = frame.copy()`\n",
            "  amostras['Amostra_' + str(i)] = amostra_idade\n",
            "<ipython-input-54-2abac2b94257>:4: PerformanceWarning: DataFrame is highly fragmented.  This is usually the result of calling `frame.insert` many times, which has poor performance.  Consider joining all columns at once using pd.concat(axis=1) instead. To get a de-fragmented frame, use `newframe = frame.copy()`\n",
            "  amostras['Amostra_' + str(i)] = amostra_idade\n",
            "<ipython-input-54-2abac2b94257>:4: PerformanceWarning: DataFrame is highly fragmented.  This is usually the result of calling `frame.insert` many times, which has poor performance.  Consider joining all columns at once using pd.concat(axis=1) instead. To get a de-fragmented frame, use `newframe = frame.copy()`\n",
            "  amostras['Amostra_' + str(i)] = amostra_idade\n",
            "<ipython-input-54-2abac2b94257>:4: PerformanceWarning: DataFrame is highly fragmented.  This is usually the result of calling `frame.insert` many times, which has poor performance.  Consider joining all columns at once using pd.concat(axis=1) instead. To get a de-fragmented frame, use `newframe = frame.copy()`\n",
            "  amostras['Amostra_' + str(i)] = amostra_idade\n",
            "<ipython-input-54-2abac2b94257>:4: PerformanceWarning: DataFrame is highly fragmented.  This is usually the result of calling `frame.insert` many times, which has poor performance.  Consider joining all columns at once using pd.concat(axis=1) instead. To get a de-fragmented frame, use `newframe = frame.copy()`\n",
            "  amostras['Amostra_' + str(i)] = amostra_idade\n",
            "<ipython-input-54-2abac2b94257>:4: PerformanceWarning: DataFrame is highly fragmented.  This is usually the result of calling `frame.insert` many times, which has poor performance.  Consider joining all columns at once using pd.concat(axis=1) instead. To get a de-fragmented frame, use `newframe = frame.copy()`\n",
            "  amostras['Amostra_' + str(i)] = amostra_idade\n",
            "<ipython-input-54-2abac2b94257>:4: PerformanceWarning: DataFrame is highly fragmented.  This is usually the result of calling `frame.insert` many times, which has poor performance.  Consider joining all columns at once using pd.concat(axis=1) instead. To get a de-fragmented frame, use `newframe = frame.copy()`\n",
            "  amostras['Amostra_' + str(i)] = amostra_idade\n",
            "<ipython-input-54-2abac2b94257>:4: PerformanceWarning: DataFrame is highly fragmented.  This is usually the result of calling `frame.insert` many times, which has poor performance.  Consider joining all columns at once using pd.concat(axis=1) instead. To get a de-fragmented frame, use `newframe = frame.copy()`\n",
            "  amostras['Amostra_' + str(i)] = amostra_idade\n",
            "<ipython-input-54-2abac2b94257>:4: PerformanceWarning: DataFrame is highly fragmented.  This is usually the result of calling `frame.insert` many times, which has poor performance.  Consider joining all columns at once using pd.concat(axis=1) instead. To get a de-fragmented frame, use `newframe = frame.copy()`\n",
            "  amostras['Amostra_' + str(i)] = amostra_idade\n",
            "<ipython-input-54-2abac2b94257>:4: PerformanceWarning: DataFrame is highly fragmented.  This is usually the result of calling `frame.insert` many times, which has poor performance.  Consider joining all columns at once using pd.concat(axis=1) instead. To get a de-fragmented frame, use `newframe = frame.copy()`\n",
            "  amostras['Amostra_' + str(i)] = amostra_idade\n",
            "<ipython-input-54-2abac2b94257>:4: PerformanceWarning: DataFrame is highly fragmented.  This is usually the result of calling `frame.insert` many times, which has poor performance.  Consider joining all columns at once using pd.concat(axis=1) instead. To get a de-fragmented frame, use `newframe = frame.copy()`\n",
            "  amostras['Amostra_' + str(i)] = amostra_idade\n",
            "<ipython-input-54-2abac2b94257>:4: PerformanceWarning: DataFrame is highly fragmented.  This is usually the result of calling `frame.insert` many times, which has poor performance.  Consider joining all columns at once using pd.concat(axis=1) instead. To get a de-fragmented frame, use `newframe = frame.copy()`\n",
            "  amostras['Amostra_' + str(i)] = amostra_idade\n",
            "<ipython-input-54-2abac2b94257>:4: PerformanceWarning: DataFrame is highly fragmented.  This is usually the result of calling `frame.insert` many times, which has poor performance.  Consider joining all columns at once using pd.concat(axis=1) instead. To get a de-fragmented frame, use `newframe = frame.copy()`\n",
            "  amostras['Amostra_' + str(i)] = amostra_idade\n",
            "<ipython-input-54-2abac2b94257>:4: PerformanceWarning: DataFrame is highly fragmented.  This is usually the result of calling `frame.insert` many times, which has poor performance.  Consider joining all columns at once using pd.concat(axis=1) instead. To get a de-fragmented frame, use `newframe = frame.copy()`\n",
            "  amostras['Amostra_' + str(i)] = amostra_idade\n",
            "<ipython-input-54-2abac2b94257>:4: PerformanceWarning: DataFrame is highly fragmented.  This is usually the result of calling `frame.insert` many times, which has poor performance.  Consider joining all columns at once using pd.concat(axis=1) instead. To get a de-fragmented frame, use `newframe = frame.copy()`\n",
            "  amostras['Amostra_' + str(i)] = amostra_idade\n",
            "<ipython-input-54-2abac2b94257>:4: PerformanceWarning: DataFrame is highly fragmented.  This is usually the result of calling `frame.insert` many times, which has poor performance.  Consider joining all columns at once using pd.concat(axis=1) instead. To get a de-fragmented frame, use `newframe = frame.copy()`\n",
            "  amostras['Amostra_' + str(i)] = amostra_idade\n",
            "<ipython-input-54-2abac2b94257>:4: PerformanceWarning: DataFrame is highly fragmented.  This is usually the result of calling `frame.insert` many times, which has poor performance.  Consider joining all columns at once using pd.concat(axis=1) instead. To get a de-fragmented frame, use `newframe = frame.copy()`\n",
            "  amostras['Amostra_' + str(i)] = amostra_idade\n",
            "<ipython-input-54-2abac2b94257>:4: PerformanceWarning: DataFrame is highly fragmented.  This is usually the result of calling `frame.insert` many times, which has poor performance.  Consider joining all columns at once using pd.concat(axis=1) instead. To get a de-fragmented frame, use `newframe = frame.copy()`\n",
            "  amostras['Amostra_' + str(i)] = amostra_idade\n",
            "<ipython-input-54-2abac2b94257>:4: PerformanceWarning: DataFrame is highly fragmented.  This is usually the result of calling `frame.insert` many times, which has poor performance.  Consider joining all columns at once using pd.concat(axis=1) instead. To get a de-fragmented frame, use `newframe = frame.copy()`\n",
            "  amostras['Amostra_' + str(i)] = amostra_idade\n",
            "<ipython-input-54-2abac2b94257>:4: PerformanceWarning: DataFrame is highly fragmented.  This is usually the result of calling `frame.insert` many times, which has poor performance.  Consider joining all columns at once using pd.concat(axis=1) instead. To get a de-fragmented frame, use `newframe = frame.copy()`\n",
            "  amostras['Amostra_' + str(i)] = amostra_idade\n",
            "<ipython-input-54-2abac2b94257>:4: PerformanceWarning: DataFrame is highly fragmented.  This is usually the result of calling `frame.insert` many times, which has poor performance.  Consider joining all columns at once using pd.concat(axis=1) instead. To get a de-fragmented frame, use `newframe = frame.copy()`\n",
            "  amostras['Amostra_' + str(i)] = amostra_idade\n",
            "<ipython-input-54-2abac2b94257>:4: PerformanceWarning: DataFrame is highly fragmented.  This is usually the result of calling `frame.insert` many times, which has poor performance.  Consider joining all columns at once using pd.concat(axis=1) instead. To get a de-fragmented frame, use `newframe = frame.copy()`\n",
            "  amostras['Amostra_' + str(i)] = amostra_idade\n",
            "<ipython-input-54-2abac2b94257>:4: PerformanceWarning: DataFrame is highly fragmented.  This is usually the result of calling `frame.insert` many times, which has poor performance.  Consider joining all columns at once using pd.concat(axis=1) instead. To get a de-fragmented frame, use `newframe = frame.copy()`\n",
            "  amostras['Amostra_' + str(i)] = amostra_idade\n",
            "<ipython-input-54-2abac2b94257>:4: PerformanceWarning: DataFrame is highly fragmented.  This is usually the result of calling `frame.insert` many times, which has poor performance.  Consider joining all columns at once using pd.concat(axis=1) instead. To get a de-fragmented frame, use `newframe = frame.copy()`\n",
            "  amostras['Amostra_' + str(i)] = amostra_idade\n",
            "<ipython-input-54-2abac2b94257>:4: PerformanceWarning: DataFrame is highly fragmented.  This is usually the result of calling `frame.insert` many times, which has poor performance.  Consider joining all columns at once using pd.concat(axis=1) instead. To get a de-fragmented frame, use `newframe = frame.copy()`\n",
            "  amostras['Amostra_' + str(i)] = amostra_idade\n",
            "<ipython-input-54-2abac2b94257>:4: PerformanceWarning: DataFrame is highly fragmented.  This is usually the result of calling `frame.insert` many times, which has poor performance.  Consider joining all columns at once using pd.concat(axis=1) instead. To get a de-fragmented frame, use `newframe = frame.copy()`\n",
            "  amostras['Amostra_' + str(i)] = amostra_idade\n",
            "<ipython-input-54-2abac2b94257>:4: PerformanceWarning: DataFrame is highly fragmented.  This is usually the result of calling `frame.insert` many times, which has poor performance.  Consider joining all columns at once using pd.concat(axis=1) instead. To get a de-fragmented frame, use `newframe = frame.copy()`\n",
            "  amostras['Amostra_' + str(i)] = amostra_idade\n",
            "<ipython-input-54-2abac2b94257>:4: PerformanceWarning: DataFrame is highly fragmented.  This is usually the result of calling `frame.insert` many times, which has poor performance.  Consider joining all columns at once using pd.concat(axis=1) instead. To get a de-fragmented frame, use `newframe = frame.copy()`\n",
            "  amostras['Amostra_' + str(i)] = amostra_idade\n",
            "<ipython-input-54-2abac2b94257>:4: PerformanceWarning: DataFrame is highly fragmented.  This is usually the result of calling `frame.insert` many times, which has poor performance.  Consider joining all columns at once using pd.concat(axis=1) instead. To get a de-fragmented frame, use `newframe = frame.copy()`\n",
            "  amostras['Amostra_' + str(i)] = amostra_idade\n",
            "<ipython-input-54-2abac2b94257>:4: PerformanceWarning: DataFrame is highly fragmented.  This is usually the result of calling `frame.insert` many times, which has poor performance.  Consider joining all columns at once using pd.concat(axis=1) instead. To get a de-fragmented frame, use `newframe = frame.copy()`\n",
            "  amostras['Amostra_' + str(i)] = amostra_idade\n",
            "<ipython-input-54-2abac2b94257>:4: PerformanceWarning: DataFrame is highly fragmented.  This is usually the result of calling `frame.insert` many times, which has poor performance.  Consider joining all columns at once using pd.concat(axis=1) instead. To get a de-fragmented frame, use `newframe = frame.copy()`\n",
            "  amostras['Amostra_' + str(i)] = amostra_idade\n",
            "<ipython-input-54-2abac2b94257>:4: PerformanceWarning: DataFrame is highly fragmented.  This is usually the result of calling `frame.insert` many times, which has poor performance.  Consider joining all columns at once using pd.concat(axis=1) instead. To get a de-fragmented frame, use `newframe = frame.copy()`\n",
            "  amostras['Amostra_' + str(i)] = amostra_idade\n",
            "<ipython-input-54-2abac2b94257>:4: PerformanceWarning: DataFrame is highly fragmented.  This is usually the result of calling `frame.insert` many times, which has poor performance.  Consider joining all columns at once using pd.concat(axis=1) instead. To get a de-fragmented frame, use `newframe = frame.copy()`\n",
            "  amostras['Amostra_' + str(i)] = amostra_idade\n",
            "<ipython-input-54-2abac2b94257>:4: PerformanceWarning: DataFrame is highly fragmented.  This is usually the result of calling `frame.insert` many times, which has poor performance.  Consider joining all columns at once using pd.concat(axis=1) instead. To get a de-fragmented frame, use `newframe = frame.copy()`\n",
            "  amostras['Amostra_' + str(i)] = amostra_idade\n",
            "<ipython-input-54-2abac2b94257>:4: PerformanceWarning: DataFrame is highly fragmented.  This is usually the result of calling `frame.insert` many times, which has poor performance.  Consider joining all columns at once using pd.concat(axis=1) instead. To get a de-fragmented frame, use `newframe = frame.copy()`\n",
            "  amostras['Amostra_' + str(i)] = amostra_idade\n",
            "<ipython-input-54-2abac2b94257>:4: PerformanceWarning: DataFrame is highly fragmented.  This is usually the result of calling `frame.insert` many times, which has poor performance.  Consider joining all columns at once using pd.concat(axis=1) instead. To get a de-fragmented frame, use `newframe = frame.copy()`\n",
            "  amostras['Amostra_' + str(i)] = amostra_idade\n",
            "<ipython-input-54-2abac2b94257>:4: PerformanceWarning: DataFrame is highly fragmented.  This is usually the result of calling `frame.insert` many times, which has poor performance.  Consider joining all columns at once using pd.concat(axis=1) instead. To get a de-fragmented frame, use `newframe = frame.copy()`\n",
            "  amostras['Amostra_' + str(i)] = amostra_idade\n",
            "<ipython-input-54-2abac2b94257>:4: PerformanceWarning: DataFrame is highly fragmented.  This is usually the result of calling `frame.insert` many times, which has poor performance.  Consider joining all columns at once using pd.concat(axis=1) instead. To get a de-fragmented frame, use `newframe = frame.copy()`\n",
            "  amostras['Amostra_' + str(i)] = amostra_idade\n",
            "<ipython-input-54-2abac2b94257>:4: PerformanceWarning: DataFrame is highly fragmented.  This is usually the result of calling `frame.insert` many times, which has poor performance.  Consider joining all columns at once using pd.concat(axis=1) instead. To get a de-fragmented frame, use `newframe = frame.copy()`\n",
            "  amostras['Amostra_' + str(i)] = amostra_idade\n",
            "<ipython-input-54-2abac2b94257>:4: PerformanceWarning: DataFrame is highly fragmented.  This is usually the result of calling `frame.insert` many times, which has poor performance.  Consider joining all columns at once using pd.concat(axis=1) instead. To get a de-fragmented frame, use `newframe = frame.copy()`\n",
            "  amostras['Amostra_' + str(i)] = amostra_idade\n",
            "<ipython-input-54-2abac2b94257>:4: PerformanceWarning: DataFrame is highly fragmented.  This is usually the result of calling `frame.insert` many times, which has poor performance.  Consider joining all columns at once using pd.concat(axis=1) instead. To get a de-fragmented frame, use `newframe = frame.copy()`\n",
            "  amostras['Amostra_' + str(i)] = amostra_idade\n",
            "<ipython-input-54-2abac2b94257>:4: PerformanceWarning: DataFrame is highly fragmented.  This is usually the result of calling `frame.insert` many times, which has poor performance.  Consider joining all columns at once using pd.concat(axis=1) instead. To get a de-fragmented frame, use `newframe = frame.copy()`\n",
            "  amostras['Amostra_' + str(i)] = amostra_idade\n",
            "<ipython-input-54-2abac2b94257>:4: PerformanceWarning: DataFrame is highly fragmented.  This is usually the result of calling `frame.insert` many times, which has poor performance.  Consider joining all columns at once using pd.concat(axis=1) instead. To get a de-fragmented frame, use `newframe = frame.copy()`\n",
            "  amostras['Amostra_' + str(i)] = amostra_idade\n",
            "<ipython-input-54-2abac2b94257>:4: PerformanceWarning: DataFrame is highly fragmented.  This is usually the result of calling `frame.insert` many times, which has poor performance.  Consider joining all columns at once using pd.concat(axis=1) instead. To get a de-fragmented frame, use `newframe = frame.copy()`\n",
            "  amostras['Amostra_' + str(i)] = amostra_idade\n",
            "<ipython-input-54-2abac2b94257>:4: PerformanceWarning: DataFrame is highly fragmented.  This is usually the result of calling `frame.insert` many times, which has poor performance.  Consider joining all columns at once using pd.concat(axis=1) instead. To get a de-fragmented frame, use `newframe = frame.copy()`\n",
            "  amostras['Amostra_' + str(i)] = amostra_idade\n",
            "<ipython-input-54-2abac2b94257>:4: PerformanceWarning: DataFrame is highly fragmented.  This is usually the result of calling `frame.insert` many times, which has poor performance.  Consider joining all columns at once using pd.concat(axis=1) instead. To get a de-fragmented frame, use `newframe = frame.copy()`\n",
            "  amostras['Amostra_' + str(i)] = amostra_idade\n",
            "<ipython-input-54-2abac2b94257>:4: PerformanceWarning: DataFrame is highly fragmented.  This is usually the result of calling `frame.insert` many times, which has poor performance.  Consider joining all columns at once using pd.concat(axis=1) instead. To get a de-fragmented frame, use `newframe = frame.copy()`\n",
            "  amostras['Amostra_' + str(i)] = amostra_idade\n",
            "<ipython-input-54-2abac2b94257>:4: PerformanceWarning: DataFrame is highly fragmented.  This is usually the result of calling `frame.insert` many times, which has poor performance.  Consider joining all columns at once using pd.concat(axis=1) instead. To get a de-fragmented frame, use `newframe = frame.copy()`\n",
            "  amostras['Amostra_' + str(i)] = amostra_idade\n",
            "<ipython-input-54-2abac2b94257>:4: PerformanceWarning: DataFrame is highly fragmented.  This is usually the result of calling `frame.insert` many times, which has poor performance.  Consider joining all columns at once using pd.concat(axis=1) instead. To get a de-fragmented frame, use `newframe = frame.copy()`\n",
            "  amostras['Amostra_' + str(i)] = amostra_idade\n",
            "<ipython-input-54-2abac2b94257>:4: PerformanceWarning: DataFrame is highly fragmented.  This is usually the result of calling `frame.insert` many times, which has poor performance.  Consider joining all columns at once using pd.concat(axis=1) instead. To get a de-fragmented frame, use `newframe = frame.copy()`\n",
            "  amostras['Amostra_' + str(i)] = amostra_idade\n",
            "<ipython-input-54-2abac2b94257>:4: PerformanceWarning: DataFrame is highly fragmented.  This is usually the result of calling `frame.insert` many times, which has poor performance.  Consider joining all columns at once using pd.concat(axis=1) instead. To get a de-fragmented frame, use `newframe = frame.copy()`\n",
            "  amostras['Amostra_' + str(i)] = amostra_idade\n",
            "<ipython-input-54-2abac2b94257>:4: PerformanceWarning: DataFrame is highly fragmented.  This is usually the result of calling `frame.insert` many times, which has poor performance.  Consider joining all columns at once using pd.concat(axis=1) instead. To get a de-fragmented frame, use `newframe = frame.copy()`\n",
            "  amostras['Amostra_' + str(i)] = amostra_idade\n",
            "<ipython-input-54-2abac2b94257>:4: PerformanceWarning: DataFrame is highly fragmented.  This is usually the result of calling `frame.insert` many times, which has poor performance.  Consider joining all columns at once using pd.concat(axis=1) instead. To get a de-fragmented frame, use `newframe = frame.copy()`\n",
            "  amostras['Amostra_' + str(i)] = amostra_idade\n",
            "<ipython-input-54-2abac2b94257>:4: PerformanceWarning: DataFrame is highly fragmented.  This is usually the result of calling `frame.insert` many times, which has poor performance.  Consider joining all columns at once using pd.concat(axis=1) instead. To get a de-fragmented frame, use `newframe = frame.copy()`\n",
            "  amostras['Amostra_' + str(i)] = amostra_idade\n",
            "<ipython-input-54-2abac2b94257>:4: PerformanceWarning: DataFrame is highly fragmented.  This is usually the result of calling `frame.insert` many times, which has poor performance.  Consider joining all columns at once using pd.concat(axis=1) instead. To get a de-fragmented frame, use `newframe = frame.copy()`\n",
            "  amostras['Amostra_' + str(i)] = amostra_idade\n",
            "<ipython-input-54-2abac2b94257>:4: PerformanceWarning: DataFrame is highly fragmented.  This is usually the result of calling `frame.insert` many times, which has poor performance.  Consider joining all columns at once using pd.concat(axis=1) instead. To get a de-fragmented frame, use `newframe = frame.copy()`\n",
            "  amostras['Amostra_' + str(i)] = amostra_idade\n",
            "<ipython-input-54-2abac2b94257>:4: PerformanceWarning: DataFrame is highly fragmented.  This is usually the result of calling `frame.insert` many times, which has poor performance.  Consider joining all columns at once using pd.concat(axis=1) instead. To get a de-fragmented frame, use `newframe = frame.copy()`\n",
            "  amostras['Amostra_' + str(i)] = amostra_idade\n",
            "<ipython-input-54-2abac2b94257>:4: PerformanceWarning: DataFrame is highly fragmented.  This is usually the result of calling `frame.insert` many times, which has poor performance.  Consider joining all columns at once using pd.concat(axis=1) instead. To get a de-fragmented frame, use `newframe = frame.copy()`\n",
            "  amostras['Amostra_' + str(i)] = amostra_idade\n",
            "<ipython-input-54-2abac2b94257>:4: PerformanceWarning: DataFrame is highly fragmented.  This is usually the result of calling `frame.insert` many times, which has poor performance.  Consider joining all columns at once using pd.concat(axis=1) instead. To get a de-fragmented frame, use `newframe = frame.copy()`\n",
            "  amostras['Amostra_' + str(i)] = amostra_idade\n",
            "<ipython-input-54-2abac2b94257>:4: PerformanceWarning: DataFrame is highly fragmented.  This is usually the result of calling `frame.insert` many times, which has poor performance.  Consider joining all columns at once using pd.concat(axis=1) instead. To get a de-fragmented frame, use `newframe = frame.copy()`\n",
            "  amostras['Amostra_' + str(i)] = amostra_idade\n",
            "<ipython-input-54-2abac2b94257>:4: PerformanceWarning: DataFrame is highly fragmented.  This is usually the result of calling `frame.insert` many times, which has poor performance.  Consider joining all columns at once using pd.concat(axis=1) instead. To get a de-fragmented frame, use `newframe = frame.copy()`\n",
            "  amostras['Amostra_' + str(i)] = amostra_idade\n",
            "<ipython-input-54-2abac2b94257>:4: PerformanceWarning: DataFrame is highly fragmented.  This is usually the result of calling `frame.insert` many times, which has poor performance.  Consider joining all columns at once using pd.concat(axis=1) instead. To get a de-fragmented frame, use `newframe = frame.copy()`\n",
            "  amostras['Amostra_' + str(i)] = amostra_idade\n",
            "<ipython-input-54-2abac2b94257>:4: PerformanceWarning: DataFrame is highly fragmented.  This is usually the result of calling `frame.insert` many times, which has poor performance.  Consider joining all columns at once using pd.concat(axis=1) instead. To get a de-fragmented frame, use `newframe = frame.copy()`\n",
            "  amostras['Amostra_' + str(i)] = amostra_idade\n",
            "<ipython-input-54-2abac2b94257>:4: PerformanceWarning: DataFrame is highly fragmented.  This is usually the result of calling `frame.insert` many times, which has poor performance.  Consider joining all columns at once using pd.concat(axis=1) instead. To get a de-fragmented frame, use `newframe = frame.copy()`\n",
            "  amostras['Amostra_' + str(i)] = amostra_idade\n",
            "<ipython-input-54-2abac2b94257>:4: PerformanceWarning: DataFrame is highly fragmented.  This is usually the result of calling `frame.insert` many times, which has poor performance.  Consider joining all columns at once using pd.concat(axis=1) instead. To get a de-fragmented frame, use `newframe = frame.copy()`\n",
            "  amostras['Amostra_' + str(i)] = amostra_idade\n",
            "<ipython-input-54-2abac2b94257>:4: PerformanceWarning: DataFrame is highly fragmented.  This is usually the result of calling `frame.insert` many times, which has poor performance.  Consider joining all columns at once using pd.concat(axis=1) instead. To get a de-fragmented frame, use `newframe = frame.copy()`\n",
            "  amostras['Amostra_' + str(i)] = amostra_idade\n",
            "<ipython-input-54-2abac2b94257>:4: PerformanceWarning: DataFrame is highly fragmented.  This is usually the result of calling `frame.insert` many times, which has poor performance.  Consider joining all columns at once using pd.concat(axis=1) instead. To get a de-fragmented frame, use `newframe = frame.copy()`\n",
            "  amostras['Amostra_' + str(i)] = amostra_idade\n",
            "<ipython-input-54-2abac2b94257>:4: PerformanceWarning: DataFrame is highly fragmented.  This is usually the result of calling `frame.insert` many times, which has poor performance.  Consider joining all columns at once using pd.concat(axis=1) instead. To get a de-fragmented frame, use `newframe = frame.copy()`\n",
            "  amostras['Amostra_' + str(i)] = amostra_idade\n",
            "<ipython-input-54-2abac2b94257>:4: PerformanceWarning: DataFrame is highly fragmented.  This is usually the result of calling `frame.insert` many times, which has poor performance.  Consider joining all columns at once using pd.concat(axis=1) instead. To get a de-fragmented frame, use `newframe = frame.copy()`\n",
            "  amostras['Amostra_' + str(i)] = amostra_idade\n",
            "<ipython-input-54-2abac2b94257>:4: PerformanceWarning: DataFrame is highly fragmented.  This is usually the result of calling `frame.insert` many times, which has poor performance.  Consider joining all columns at once using pd.concat(axis=1) instead. To get a de-fragmented frame, use `newframe = frame.copy()`\n",
            "  amostras['Amostra_' + str(i)] = amostra_idade\n",
            "<ipython-input-54-2abac2b94257>:4: PerformanceWarning: DataFrame is highly fragmented.  This is usually the result of calling `frame.insert` many times, which has poor performance.  Consider joining all columns at once using pd.concat(axis=1) instead. To get a de-fragmented frame, use `newframe = frame.copy()`\n",
            "  amostras['Amostra_' + str(i)] = amostra_idade\n",
            "<ipython-input-54-2abac2b94257>:4: PerformanceWarning: DataFrame is highly fragmented.  This is usually the result of calling `frame.insert` many times, which has poor performance.  Consider joining all columns at once using pd.concat(axis=1) instead. To get a de-fragmented frame, use `newframe = frame.copy()`\n",
            "  amostras['Amostra_' + str(i)] = amostra_idade\n",
            "<ipython-input-54-2abac2b94257>:4: PerformanceWarning: DataFrame is highly fragmented.  This is usually the result of calling `frame.insert` many times, which has poor performance.  Consider joining all columns at once using pd.concat(axis=1) instead. To get a de-fragmented frame, use `newframe = frame.copy()`\n",
            "  amostras['Amostra_' + str(i)] = amostra_idade\n",
            "<ipython-input-54-2abac2b94257>:4: PerformanceWarning: DataFrame is highly fragmented.  This is usually the result of calling `frame.insert` many times, which has poor performance.  Consider joining all columns at once using pd.concat(axis=1) instead. To get a de-fragmented frame, use `newframe = frame.copy()`\n",
            "  amostras['Amostra_' + str(i)] = amostra_idade\n",
            "<ipython-input-54-2abac2b94257>:4: PerformanceWarning: DataFrame is highly fragmented.  This is usually the result of calling `frame.insert` many times, which has poor performance.  Consider joining all columns at once using pd.concat(axis=1) instead. To get a de-fragmented frame, use `newframe = frame.copy()`\n",
            "  amostras['Amostra_' + str(i)] = amostra_idade\n",
            "<ipython-input-54-2abac2b94257>:4: PerformanceWarning: DataFrame is highly fragmented.  This is usually the result of calling `frame.insert` many times, which has poor performance.  Consider joining all columns at once using pd.concat(axis=1) instead. To get a de-fragmented frame, use `newframe = frame.copy()`\n",
            "  amostras['Amostra_' + str(i)] = amostra_idade\n",
            "<ipython-input-54-2abac2b94257>:4: PerformanceWarning: DataFrame is highly fragmented.  This is usually the result of calling `frame.insert` many times, which has poor performance.  Consider joining all columns at once using pd.concat(axis=1) instead. To get a de-fragmented frame, use `newframe = frame.copy()`\n",
            "  amostras['Amostra_' + str(i)] = amostra_idade\n",
            "<ipython-input-54-2abac2b94257>:4: PerformanceWarning: DataFrame is highly fragmented.  This is usually the result of calling `frame.insert` many times, which has poor performance.  Consider joining all columns at once using pd.concat(axis=1) instead. To get a de-fragmented frame, use `newframe = frame.copy()`\n",
            "  amostras['Amostra_' + str(i)] = amostra_idade\n",
            "<ipython-input-54-2abac2b94257>:4: PerformanceWarning: DataFrame is highly fragmented.  This is usually the result of calling `frame.insert` many times, which has poor performance.  Consider joining all columns at once using pd.concat(axis=1) instead. To get a de-fragmented frame, use `newframe = frame.copy()`\n",
            "  amostras['Amostra_' + str(i)] = amostra_idade\n",
            "<ipython-input-54-2abac2b94257>:4: PerformanceWarning: DataFrame is highly fragmented.  This is usually the result of calling `frame.insert` many times, which has poor performance.  Consider joining all columns at once using pd.concat(axis=1) instead. To get a de-fragmented frame, use `newframe = frame.copy()`\n",
            "  amostras['Amostra_' + str(i)] = amostra_idade\n",
            "<ipython-input-54-2abac2b94257>:4: PerformanceWarning: DataFrame is highly fragmented.  This is usually the result of calling `frame.insert` many times, which has poor performance.  Consider joining all columns at once using pd.concat(axis=1) instead. To get a de-fragmented frame, use `newframe = frame.copy()`\n",
            "  amostras['Amostra_' + str(i)] = amostra_idade\n",
            "<ipython-input-54-2abac2b94257>:4: PerformanceWarning: DataFrame is highly fragmented.  This is usually the result of calling `frame.insert` many times, which has poor performance.  Consider joining all columns at once using pd.concat(axis=1) instead. To get a de-fragmented frame, use `newframe = frame.copy()`\n",
            "  amostras['Amostra_' + str(i)] = amostra_idade\n",
            "<ipython-input-54-2abac2b94257>:4: PerformanceWarning: DataFrame is highly fragmented.  This is usually the result of calling `frame.insert` many times, which has poor performance.  Consider joining all columns at once using pd.concat(axis=1) instead. To get a de-fragmented frame, use `newframe = frame.copy()`\n",
            "  amostras['Amostra_' + str(i)] = amostra_idade\n",
            "<ipython-input-54-2abac2b94257>:4: PerformanceWarning: DataFrame is highly fragmented.  This is usually the result of calling `frame.insert` many times, which has poor performance.  Consider joining all columns at once using pd.concat(axis=1) instead. To get a de-fragmented frame, use `newframe = frame.copy()`\n",
            "  amostras['Amostra_' + str(i)] = amostra_idade\n",
            "<ipython-input-54-2abac2b94257>:4: PerformanceWarning: DataFrame is highly fragmented.  This is usually the result of calling `frame.insert` many times, which has poor performance.  Consider joining all columns at once using pd.concat(axis=1) instead. To get a de-fragmented frame, use `newframe = frame.copy()`\n",
            "  amostras['Amostra_' + str(i)] = amostra_idade\n",
            "<ipython-input-54-2abac2b94257>:4: PerformanceWarning: DataFrame is highly fragmented.  This is usually the result of calling `frame.insert` many times, which has poor performance.  Consider joining all columns at once using pd.concat(axis=1) instead. To get a de-fragmented frame, use `newframe = frame.copy()`\n",
            "  amostras['Amostra_' + str(i)] = amostra_idade\n",
            "<ipython-input-54-2abac2b94257>:4: PerformanceWarning: DataFrame is highly fragmented.  This is usually the result of calling `frame.insert` many times, which has poor performance.  Consider joining all columns at once using pd.concat(axis=1) instead. To get a de-fragmented frame, use `newframe = frame.copy()`\n",
            "  amostras['Amostra_' + str(i)] = amostra_idade\n",
            "<ipython-input-54-2abac2b94257>:4: PerformanceWarning: DataFrame is highly fragmented.  This is usually the result of calling `frame.insert` many times, which has poor performance.  Consider joining all columns at once using pd.concat(axis=1) instead. To get a de-fragmented frame, use `newframe = frame.copy()`\n",
            "  amostras['Amostra_' + str(i)] = amostra_idade\n",
            "<ipython-input-54-2abac2b94257>:4: PerformanceWarning: DataFrame is highly fragmented.  This is usually the result of calling `frame.insert` many times, which has poor performance.  Consider joining all columns at once using pd.concat(axis=1) instead. To get a de-fragmented frame, use `newframe = frame.copy()`\n",
            "  amostras['Amostra_' + str(i)] = amostra_idade\n",
            "<ipython-input-54-2abac2b94257>:4: PerformanceWarning: DataFrame is highly fragmented.  This is usually the result of calling `frame.insert` many times, which has poor performance.  Consider joining all columns at once using pd.concat(axis=1) instead. To get a de-fragmented frame, use `newframe = frame.copy()`\n",
            "  amostras['Amostra_' + str(i)] = amostra_idade\n",
            "<ipython-input-54-2abac2b94257>:4: PerformanceWarning: DataFrame is highly fragmented.  This is usually the result of calling `frame.insert` many times, which has poor performance.  Consider joining all columns at once using pd.concat(axis=1) instead. To get a de-fragmented frame, use `newframe = frame.copy()`\n",
            "  amostras['Amostra_' + str(i)] = amostra_idade\n",
            "<ipython-input-54-2abac2b94257>:4: PerformanceWarning: DataFrame is highly fragmented.  This is usually the result of calling `frame.insert` many times, which has poor performance.  Consider joining all columns at once using pd.concat(axis=1) instead. To get a de-fragmented frame, use `newframe = frame.copy()`\n",
            "  amostras['Amostra_' + str(i)] = amostra_idade\n",
            "<ipython-input-54-2abac2b94257>:4: PerformanceWarning: DataFrame is highly fragmented.  This is usually the result of calling `frame.insert` many times, which has poor performance.  Consider joining all columns at once using pd.concat(axis=1) instead. To get a de-fragmented frame, use `newframe = frame.copy()`\n",
            "  amostras['Amostra_' + str(i)] = amostra_idade\n",
            "<ipython-input-54-2abac2b94257>:4: PerformanceWarning: DataFrame is highly fragmented.  This is usually the result of calling `frame.insert` many times, which has poor performance.  Consider joining all columns at once using pd.concat(axis=1) instead. To get a de-fragmented frame, use `newframe = frame.copy()`\n",
            "  amostras['Amostra_' + str(i)] = amostra_idade\n",
            "<ipython-input-54-2abac2b94257>:4: PerformanceWarning: DataFrame is highly fragmented.  This is usually the result of calling `frame.insert` many times, which has poor performance.  Consider joining all columns at once using pd.concat(axis=1) instead. To get a de-fragmented frame, use `newframe = frame.copy()`\n",
            "  amostras['Amostra_' + str(i)] = amostra_idade\n",
            "<ipython-input-54-2abac2b94257>:4: PerformanceWarning: DataFrame is highly fragmented.  This is usually the result of calling `frame.insert` many times, which has poor performance.  Consider joining all columns at once using pd.concat(axis=1) instead. To get a de-fragmented frame, use `newframe = frame.copy()`\n",
            "  amostras['Amostra_' + str(i)] = amostra_idade\n",
            "<ipython-input-54-2abac2b94257>:4: PerformanceWarning: DataFrame is highly fragmented.  This is usually the result of calling `frame.insert` many times, which has poor performance.  Consider joining all columns at once using pd.concat(axis=1) instead. To get a de-fragmented frame, use `newframe = frame.copy()`\n",
            "  amostras['Amostra_' + str(i)] = amostra_idade\n",
            "<ipython-input-54-2abac2b94257>:4: PerformanceWarning: DataFrame is highly fragmented.  This is usually the result of calling `frame.insert` many times, which has poor performance.  Consider joining all columns at once using pd.concat(axis=1) instead. To get a de-fragmented frame, use `newframe = frame.copy()`\n",
            "  amostras['Amostra_' + str(i)] = amostra_idade\n",
            "<ipython-input-54-2abac2b94257>:4: PerformanceWarning: DataFrame is highly fragmented.  This is usually the result of calling `frame.insert` many times, which has poor performance.  Consider joining all columns at once using pd.concat(axis=1) instead. To get a de-fragmented frame, use `newframe = frame.copy()`\n",
            "  amostras['Amostra_' + str(i)] = amostra_idade\n",
            "<ipython-input-54-2abac2b94257>:4: PerformanceWarning: DataFrame is highly fragmented.  This is usually the result of calling `frame.insert` many times, which has poor performance.  Consider joining all columns at once using pd.concat(axis=1) instead. To get a de-fragmented frame, use `newframe = frame.copy()`\n",
            "  amostras['Amostra_' + str(i)] = amostra_idade\n",
            "<ipython-input-54-2abac2b94257>:4: PerformanceWarning: DataFrame is highly fragmented.  This is usually the result of calling `frame.insert` many times, which has poor performance.  Consider joining all columns at once using pd.concat(axis=1) instead. To get a de-fragmented frame, use `newframe = frame.copy()`\n",
            "  amostras['Amostra_' + str(i)] = amostra_idade\n",
            "<ipython-input-54-2abac2b94257>:4: PerformanceWarning: DataFrame is highly fragmented.  This is usually the result of calling `frame.insert` many times, which has poor performance.  Consider joining all columns at once using pd.concat(axis=1) instead. To get a de-fragmented frame, use `newframe = frame.copy()`\n",
            "  amostras['Amostra_' + str(i)] = amostra_idade\n",
            "<ipython-input-54-2abac2b94257>:4: PerformanceWarning: DataFrame is highly fragmented.  This is usually the result of calling `frame.insert` many times, which has poor performance.  Consider joining all columns at once using pd.concat(axis=1) instead. To get a de-fragmented frame, use `newframe = frame.copy()`\n",
            "  amostras['Amostra_' + str(i)] = amostra_idade\n",
            "<ipython-input-54-2abac2b94257>:4: PerformanceWarning: DataFrame is highly fragmented.  This is usually the result of calling `frame.insert` many times, which has poor performance.  Consider joining all columns at once using pd.concat(axis=1) instead. To get a de-fragmented frame, use `newframe = frame.copy()`\n",
            "  amostras['Amostra_' + str(i)] = amostra_idade\n",
            "<ipython-input-54-2abac2b94257>:4: PerformanceWarning: DataFrame is highly fragmented.  This is usually the result of calling `frame.insert` many times, which has poor performance.  Consider joining all columns at once using pd.concat(axis=1) instead. To get a de-fragmented frame, use `newframe = frame.copy()`\n",
            "  amostras['Amostra_' + str(i)] = amostra_idade\n",
            "<ipython-input-54-2abac2b94257>:4: PerformanceWarning: DataFrame is highly fragmented.  This is usually the result of calling `frame.insert` many times, which has poor performance.  Consider joining all columns at once using pd.concat(axis=1) instead. To get a de-fragmented frame, use `newframe = frame.copy()`\n",
            "  amostras['Amostra_' + str(i)] = amostra_idade\n",
            "<ipython-input-54-2abac2b94257>:4: PerformanceWarning: DataFrame is highly fragmented.  This is usually the result of calling `frame.insert` many times, which has poor performance.  Consider joining all columns at once using pd.concat(axis=1) instead. To get a de-fragmented frame, use `newframe = frame.copy()`\n",
            "  amostras['Amostra_' + str(i)] = amostra_idade\n",
            "<ipython-input-54-2abac2b94257>:4: PerformanceWarning: DataFrame is highly fragmented.  This is usually the result of calling `frame.insert` many times, which has poor performance.  Consider joining all columns at once using pd.concat(axis=1) instead. To get a de-fragmented frame, use `newframe = frame.copy()`\n",
            "  amostras['Amostra_' + str(i)] = amostra_idade\n",
            "<ipython-input-54-2abac2b94257>:4: PerformanceWarning: DataFrame is highly fragmented.  This is usually the result of calling `frame.insert` many times, which has poor performance.  Consider joining all columns at once using pd.concat(axis=1) instead. To get a de-fragmented frame, use `newframe = frame.copy()`\n",
            "  amostras['Amostra_' + str(i)] = amostra_idade\n",
            "<ipython-input-54-2abac2b94257>:4: PerformanceWarning: DataFrame is highly fragmented.  This is usually the result of calling `frame.insert` many times, which has poor performance.  Consider joining all columns at once using pd.concat(axis=1) instead. To get a de-fragmented frame, use `newframe = frame.copy()`\n",
            "  amostras['Amostra_' + str(i)] = amostra_idade\n",
            "<ipython-input-54-2abac2b94257>:4: PerformanceWarning: DataFrame is highly fragmented.  This is usually the result of calling `frame.insert` many times, which has poor performance.  Consider joining all columns at once using pd.concat(axis=1) instead. To get a de-fragmented frame, use `newframe = frame.copy()`\n",
            "  amostras['Amostra_' + str(i)] = amostra_idade\n",
            "<ipython-input-54-2abac2b94257>:4: PerformanceWarning: DataFrame is highly fragmented.  This is usually the result of calling `frame.insert` many times, which has poor performance.  Consider joining all columns at once using pd.concat(axis=1) instead. To get a de-fragmented frame, use `newframe = frame.copy()`\n",
            "  amostras['Amostra_' + str(i)] = amostra_idade\n",
            "<ipython-input-54-2abac2b94257>:4: PerformanceWarning: DataFrame is highly fragmented.  This is usually the result of calling `frame.insert` many times, which has poor performance.  Consider joining all columns at once using pd.concat(axis=1) instead. To get a de-fragmented frame, use `newframe = frame.copy()`\n",
            "  amostras['Amostra_' + str(i)] = amostra_idade\n",
            "<ipython-input-54-2abac2b94257>:4: PerformanceWarning: DataFrame is highly fragmented.  This is usually the result of calling `frame.insert` many times, which has poor performance.  Consider joining all columns at once using pd.concat(axis=1) instead. To get a de-fragmented frame, use `newframe = frame.copy()`\n",
            "  amostras['Amostra_' + str(i)] = amostra_idade\n",
            "<ipython-input-54-2abac2b94257>:4: PerformanceWarning: DataFrame is highly fragmented.  This is usually the result of calling `frame.insert` many times, which has poor performance.  Consider joining all columns at once using pd.concat(axis=1) instead. To get a de-fragmented frame, use `newframe = frame.copy()`\n",
            "  amostras['Amostra_' + str(i)] = amostra_idade\n",
            "<ipython-input-54-2abac2b94257>:4: PerformanceWarning: DataFrame is highly fragmented.  This is usually the result of calling `frame.insert` many times, which has poor performance.  Consider joining all columns at once using pd.concat(axis=1) instead. To get a de-fragmented frame, use `newframe = frame.copy()`\n",
            "  amostras['Amostra_' + str(i)] = amostra_idade\n",
            "<ipython-input-54-2abac2b94257>:4: PerformanceWarning: DataFrame is highly fragmented.  This is usually the result of calling `frame.insert` many times, which has poor performance.  Consider joining all columns at once using pd.concat(axis=1) instead. To get a de-fragmented frame, use `newframe = frame.copy()`\n",
            "  amostras['Amostra_' + str(i)] = amostra_idade\n",
            "<ipython-input-54-2abac2b94257>:4: PerformanceWarning: DataFrame is highly fragmented.  This is usually the result of calling `frame.insert` many times, which has poor performance.  Consider joining all columns at once using pd.concat(axis=1) instead. To get a de-fragmented frame, use `newframe = frame.copy()`\n",
            "  amostras['Amostra_' + str(i)] = amostra_idade\n",
            "<ipython-input-54-2abac2b94257>:4: PerformanceWarning: DataFrame is highly fragmented.  This is usually the result of calling `frame.insert` many times, which has poor performance.  Consider joining all columns at once using pd.concat(axis=1) instead. To get a de-fragmented frame, use `newframe = frame.copy()`\n",
            "  amostras['Amostra_' + str(i)] = amostra_idade\n",
            "<ipython-input-54-2abac2b94257>:4: PerformanceWarning: DataFrame is highly fragmented.  This is usually the result of calling `frame.insert` many times, which has poor performance.  Consider joining all columns at once using pd.concat(axis=1) instead. To get a de-fragmented frame, use `newframe = frame.copy()`\n",
            "  amostras['Amostra_' + str(i)] = amostra_idade\n",
            "<ipython-input-54-2abac2b94257>:4: PerformanceWarning: DataFrame is highly fragmented.  This is usually the result of calling `frame.insert` many times, which has poor performance.  Consider joining all columns at once using pd.concat(axis=1) instead. To get a de-fragmented frame, use `newframe = frame.copy()`\n",
            "  amostras['Amostra_' + str(i)] = amostra_idade\n",
            "<ipython-input-54-2abac2b94257>:4: PerformanceWarning: DataFrame is highly fragmented.  This is usually the result of calling `frame.insert` many times, which has poor performance.  Consider joining all columns at once using pd.concat(axis=1) instead. To get a de-fragmented frame, use `newframe = frame.copy()`\n",
            "  amostras['Amostra_' + str(i)] = amostra_idade\n",
            "<ipython-input-54-2abac2b94257>:4: PerformanceWarning: DataFrame is highly fragmented.  This is usually the result of calling `frame.insert` many times, which has poor performance.  Consider joining all columns at once using pd.concat(axis=1) instead. To get a de-fragmented frame, use `newframe = frame.copy()`\n",
            "  amostras['Amostra_' + str(i)] = amostra_idade\n",
            "<ipython-input-54-2abac2b94257>:4: PerformanceWarning: DataFrame is highly fragmented.  This is usually the result of calling `frame.insert` many times, which has poor performance.  Consider joining all columns at once using pd.concat(axis=1) instead. To get a de-fragmented frame, use `newframe = frame.copy()`\n",
            "  amostras['Amostra_' + str(i)] = amostra_idade\n",
            "<ipython-input-54-2abac2b94257>:4: PerformanceWarning: DataFrame is highly fragmented.  This is usually the result of calling `frame.insert` many times, which has poor performance.  Consider joining all columns at once using pd.concat(axis=1) instead. To get a de-fragmented frame, use `newframe = frame.copy()`\n",
            "  amostras['Amostra_' + str(i)] = amostra_idade\n",
            "<ipython-input-54-2abac2b94257>:4: PerformanceWarning: DataFrame is highly fragmented.  This is usually the result of calling `frame.insert` many times, which has poor performance.  Consider joining all columns at once using pd.concat(axis=1) instead. To get a de-fragmented frame, use `newframe = frame.copy()`\n",
            "  amostras['Amostra_' + str(i)] = amostra_idade\n",
            "<ipython-input-54-2abac2b94257>:4: PerformanceWarning: DataFrame is highly fragmented.  This is usually the result of calling `frame.insert` many times, which has poor performance.  Consider joining all columns at once using pd.concat(axis=1) instead. To get a de-fragmented frame, use `newframe = frame.copy()`\n",
            "  amostras['Amostra_' + str(i)] = amostra_idade\n",
            "<ipython-input-54-2abac2b94257>:4: PerformanceWarning: DataFrame is highly fragmented.  This is usually the result of calling `frame.insert` many times, which has poor performance.  Consider joining all columns at once using pd.concat(axis=1) instead. To get a de-fragmented frame, use `newframe = frame.copy()`\n",
            "  amostras['Amostra_' + str(i)] = amostra_idade\n",
            "<ipython-input-54-2abac2b94257>:4: PerformanceWarning: DataFrame is highly fragmented.  This is usually the result of calling `frame.insert` many times, which has poor performance.  Consider joining all columns at once using pd.concat(axis=1) instead. To get a de-fragmented frame, use `newframe = frame.copy()`\n",
            "  amostras['Amostra_' + str(i)] = amostra_idade\n",
            "<ipython-input-54-2abac2b94257>:4: PerformanceWarning: DataFrame is highly fragmented.  This is usually the result of calling `frame.insert` many times, which has poor performance.  Consider joining all columns at once using pd.concat(axis=1) instead. To get a de-fragmented frame, use `newframe = frame.copy()`\n",
            "  amostras['Amostra_' + str(i)] = amostra_idade\n",
            "<ipython-input-54-2abac2b94257>:4: PerformanceWarning: DataFrame is highly fragmented.  This is usually the result of calling `frame.insert` many times, which has poor performance.  Consider joining all columns at once using pd.concat(axis=1) instead. To get a de-fragmented frame, use `newframe = frame.copy()`\n",
            "  amostras['Amostra_' + str(i)] = amostra_idade\n",
            "<ipython-input-54-2abac2b94257>:4: PerformanceWarning: DataFrame is highly fragmented.  This is usually the result of calling `frame.insert` many times, which has poor performance.  Consider joining all columns at once using pd.concat(axis=1) instead. To get a de-fragmented frame, use `newframe = frame.copy()`\n",
            "  amostras['Amostra_' + str(i)] = amostra_idade\n",
            "<ipython-input-54-2abac2b94257>:4: PerformanceWarning: DataFrame is highly fragmented.  This is usually the result of calling `frame.insert` many times, which has poor performance.  Consider joining all columns at once using pd.concat(axis=1) instead. To get a de-fragmented frame, use `newframe = frame.copy()`\n",
            "  amostras['Amostra_' + str(i)] = amostra_idade\n",
            "<ipython-input-54-2abac2b94257>:4: PerformanceWarning: DataFrame is highly fragmented.  This is usually the result of calling `frame.insert` many times, which has poor performance.  Consider joining all columns at once using pd.concat(axis=1) instead. To get a de-fragmented frame, use `newframe = frame.copy()`\n",
            "  amostras['Amostra_' + str(i)] = amostra_idade\n",
            "<ipython-input-54-2abac2b94257>:4: PerformanceWarning: DataFrame is highly fragmented.  This is usually the result of calling `frame.insert` many times, which has poor performance.  Consider joining all columns at once using pd.concat(axis=1) instead. To get a de-fragmented frame, use `newframe = frame.copy()`\n",
            "  amostras['Amostra_' + str(i)] = amostra_idade\n",
            "<ipython-input-54-2abac2b94257>:4: PerformanceWarning: DataFrame is highly fragmented.  This is usually the result of calling `frame.insert` many times, which has poor performance.  Consider joining all columns at once using pd.concat(axis=1) instead. To get a de-fragmented frame, use `newframe = frame.copy()`\n",
            "  amostras['Amostra_' + str(i)] = amostra_idade\n",
            "<ipython-input-54-2abac2b94257>:4: PerformanceWarning: DataFrame is highly fragmented.  This is usually the result of calling `frame.insert` many times, which has poor performance.  Consider joining all columns at once using pd.concat(axis=1) instead. To get a de-fragmented frame, use `newframe = frame.copy()`\n",
            "  amostras['Amostra_' + str(i)] = amostra_idade\n",
            "<ipython-input-54-2abac2b94257>:4: PerformanceWarning: DataFrame is highly fragmented.  This is usually the result of calling `frame.insert` many times, which has poor performance.  Consider joining all columns at once using pd.concat(axis=1) instead. To get a de-fragmented frame, use `newframe = frame.copy()`\n",
            "  amostras['Amostra_' + str(i)] = amostra_idade\n",
            "<ipython-input-54-2abac2b94257>:4: PerformanceWarning: DataFrame is highly fragmented.  This is usually the result of calling `frame.insert` many times, which has poor performance.  Consider joining all columns at once using pd.concat(axis=1) instead. To get a de-fragmented frame, use `newframe = frame.copy()`\n",
            "  amostras['Amostra_' + str(i)] = amostra_idade\n",
            "<ipython-input-54-2abac2b94257>:4: PerformanceWarning: DataFrame is highly fragmented.  This is usually the result of calling `frame.insert` many times, which has poor performance.  Consider joining all columns at once using pd.concat(axis=1) instead. To get a de-fragmented frame, use `newframe = frame.copy()`\n",
            "  amostras['Amostra_' + str(i)] = amostra_idade\n",
            "<ipython-input-54-2abac2b94257>:4: PerformanceWarning: DataFrame is highly fragmented.  This is usually the result of calling `frame.insert` many times, which has poor performance.  Consider joining all columns at once using pd.concat(axis=1) instead. To get a de-fragmented frame, use `newframe = frame.copy()`\n",
            "  amostras['Amostra_' + str(i)] = amostra_idade\n",
            "<ipython-input-54-2abac2b94257>:4: PerformanceWarning: DataFrame is highly fragmented.  This is usually the result of calling `frame.insert` many times, which has poor performance.  Consider joining all columns at once using pd.concat(axis=1) instead. To get a de-fragmented frame, use `newframe = frame.copy()`\n",
            "  amostras['Amostra_' + str(i)] = amostra_idade\n",
            "<ipython-input-54-2abac2b94257>:4: PerformanceWarning: DataFrame is highly fragmented.  This is usually the result of calling `frame.insert` many times, which has poor performance.  Consider joining all columns at once using pd.concat(axis=1) instead. To get a de-fragmented frame, use `newframe = frame.copy()`\n",
            "  amostras['Amostra_' + str(i)] = amostra_idade\n",
            "<ipython-input-54-2abac2b94257>:4: PerformanceWarning: DataFrame is highly fragmented.  This is usually the result of calling `frame.insert` many times, which has poor performance.  Consider joining all columns at once using pd.concat(axis=1) instead. To get a de-fragmented frame, use `newframe = frame.copy()`\n",
            "  amostras['Amostra_' + str(i)] = amostra_idade\n",
            "<ipython-input-54-2abac2b94257>:4: PerformanceWarning: DataFrame is highly fragmented.  This is usually the result of calling `frame.insert` many times, which has poor performance.  Consider joining all columns at once using pd.concat(axis=1) instead. To get a de-fragmented frame, use `newframe = frame.copy()`\n",
            "  amostras['Amostra_' + str(i)] = amostra_idade\n",
            "<ipython-input-54-2abac2b94257>:4: PerformanceWarning: DataFrame is highly fragmented.  This is usually the result of calling `frame.insert` many times, which has poor performance.  Consider joining all columns at once using pd.concat(axis=1) instead. To get a de-fragmented frame, use `newframe = frame.copy()`\n",
            "  amostras['Amostra_' + str(i)] = amostra_idade\n",
            "<ipython-input-54-2abac2b94257>:4: PerformanceWarning: DataFrame is highly fragmented.  This is usually the result of calling `frame.insert` many times, which has poor performance.  Consider joining all columns at once using pd.concat(axis=1) instead. To get a de-fragmented frame, use `newframe = frame.copy()`\n",
            "  amostras['Amostra_' + str(i)] = amostra_idade\n",
            "<ipython-input-54-2abac2b94257>:4: PerformanceWarning: DataFrame is highly fragmented.  This is usually the result of calling `frame.insert` many times, which has poor performance.  Consider joining all columns at once using pd.concat(axis=1) instead. To get a de-fragmented frame, use `newframe = frame.copy()`\n",
            "  amostras['Amostra_' + str(i)] = amostra_idade\n",
            "<ipython-input-54-2abac2b94257>:4: PerformanceWarning: DataFrame is highly fragmented.  This is usually the result of calling `frame.insert` many times, which has poor performance.  Consider joining all columns at once using pd.concat(axis=1) instead. To get a de-fragmented frame, use `newframe = frame.copy()`\n",
            "  amostras['Amostra_' + str(i)] = amostra_idade\n",
            "<ipython-input-54-2abac2b94257>:4: PerformanceWarning: DataFrame is highly fragmented.  This is usually the result of calling `frame.insert` many times, which has poor performance.  Consider joining all columns at once using pd.concat(axis=1) instead. To get a de-fragmented frame, use `newframe = frame.copy()`\n",
            "  amostras['Amostra_' + str(i)] = amostra_idade\n",
            "<ipython-input-54-2abac2b94257>:4: PerformanceWarning: DataFrame is highly fragmented.  This is usually the result of calling `frame.insert` many times, which has poor performance.  Consider joining all columns at once using pd.concat(axis=1) instead. To get a de-fragmented frame, use `newframe = frame.copy()`\n",
            "  amostras['Amostra_' + str(i)] = amostra_idade\n",
            "<ipython-input-54-2abac2b94257>:4: PerformanceWarning: DataFrame is highly fragmented.  This is usually the result of calling `frame.insert` many times, which has poor performance.  Consider joining all columns at once using pd.concat(axis=1) instead. To get a de-fragmented frame, use `newframe = frame.copy()`\n",
            "  amostras['Amostra_' + str(i)] = amostra_idade\n",
            "<ipython-input-54-2abac2b94257>:4: PerformanceWarning: DataFrame is highly fragmented.  This is usually the result of calling `frame.insert` many times, which has poor performance.  Consider joining all columns at once using pd.concat(axis=1) instead. To get a de-fragmented frame, use `newframe = frame.copy()`\n",
            "  amostras['Amostra_' + str(i)] = amostra_idade\n",
            "<ipython-input-54-2abac2b94257>:4: PerformanceWarning: DataFrame is highly fragmented.  This is usually the result of calling `frame.insert` many times, which has poor performance.  Consider joining all columns at once using pd.concat(axis=1) instead. To get a de-fragmented frame, use `newframe = frame.copy()`\n",
            "  amostras['Amostra_' + str(i)] = amostra_idade\n",
            "<ipython-input-54-2abac2b94257>:4: PerformanceWarning: DataFrame is highly fragmented.  This is usually the result of calling `frame.insert` many times, which has poor performance.  Consider joining all columns at once using pd.concat(axis=1) instead. To get a de-fragmented frame, use `newframe = frame.copy()`\n",
            "  amostras['Amostra_' + str(i)] = amostra_idade\n",
            "<ipython-input-54-2abac2b94257>:4: PerformanceWarning: DataFrame is highly fragmented.  This is usually the result of calling `frame.insert` many times, which has poor performance.  Consider joining all columns at once using pd.concat(axis=1) instead. To get a de-fragmented frame, use `newframe = frame.copy()`\n",
            "  amostras['Amostra_' + str(i)] = amostra_idade\n",
            "<ipython-input-54-2abac2b94257>:4: PerformanceWarning: DataFrame is highly fragmented.  This is usually the result of calling `frame.insert` many times, which has poor performance.  Consider joining all columns at once using pd.concat(axis=1) instead. To get a de-fragmented frame, use `newframe = frame.copy()`\n",
            "  amostras['Amostra_' + str(i)] = amostra_idade\n",
            "<ipython-input-54-2abac2b94257>:4: PerformanceWarning: DataFrame is highly fragmented.  This is usually the result of calling `frame.insert` many times, which has poor performance.  Consider joining all columns at once using pd.concat(axis=1) instead. To get a de-fragmented frame, use `newframe = frame.copy()`\n",
            "  amostras['Amostra_' + str(i)] = amostra_idade\n",
            "<ipython-input-54-2abac2b94257>:4: PerformanceWarning: DataFrame is highly fragmented.  This is usually the result of calling `frame.insert` many times, which has poor performance.  Consider joining all columns at once using pd.concat(axis=1) instead. To get a de-fragmented frame, use `newframe = frame.copy()`\n",
            "  amostras['Amostra_' + str(i)] = amostra_idade\n",
            "<ipython-input-54-2abac2b94257>:4: PerformanceWarning: DataFrame is highly fragmented.  This is usually the result of calling `frame.insert` many times, which has poor performance.  Consider joining all columns at once using pd.concat(axis=1) instead. To get a de-fragmented frame, use `newframe = frame.copy()`\n",
            "  amostras['Amostra_' + str(i)] = amostra_idade\n",
            "<ipython-input-54-2abac2b94257>:4: PerformanceWarning: DataFrame is highly fragmented.  This is usually the result of calling `frame.insert` many times, which has poor performance.  Consider joining all columns at once using pd.concat(axis=1) instead. To get a de-fragmented frame, use `newframe = frame.copy()`\n",
            "  amostras['Amostra_' + str(i)] = amostra_idade\n",
            "<ipython-input-54-2abac2b94257>:4: PerformanceWarning: DataFrame is highly fragmented.  This is usually the result of calling `frame.insert` many times, which has poor performance.  Consider joining all columns at once using pd.concat(axis=1) instead. To get a de-fragmented frame, use `newframe = frame.copy()`\n",
            "  amostras['Amostra_' + str(i)] = amostra_idade\n",
            "<ipython-input-54-2abac2b94257>:4: PerformanceWarning: DataFrame is highly fragmented.  This is usually the result of calling `frame.insert` many times, which has poor performance.  Consider joining all columns at once using pd.concat(axis=1) instead. To get a de-fragmented frame, use `newframe = frame.copy()`\n",
            "  amostras['Amostra_' + str(i)] = amostra_idade\n",
            "<ipython-input-54-2abac2b94257>:4: PerformanceWarning: DataFrame is highly fragmented.  This is usually the result of calling `frame.insert` many times, which has poor performance.  Consider joining all columns at once using pd.concat(axis=1) instead. To get a de-fragmented frame, use `newframe = frame.copy()`\n",
            "  amostras['Amostra_' + str(i)] = amostra_idade\n",
            "<ipython-input-54-2abac2b94257>:4: PerformanceWarning: DataFrame is highly fragmented.  This is usually the result of calling `frame.insert` many times, which has poor performance.  Consider joining all columns at once using pd.concat(axis=1) instead. To get a de-fragmented frame, use `newframe = frame.copy()`\n",
            "  amostras['Amostra_' + str(i)] = amostra_idade\n",
            "<ipython-input-54-2abac2b94257>:4: PerformanceWarning: DataFrame is highly fragmented.  This is usually the result of calling `frame.insert` many times, which has poor performance.  Consider joining all columns at once using pd.concat(axis=1) instead. To get a de-fragmented frame, use `newframe = frame.copy()`\n",
            "  amostras['Amostra_' + str(i)] = amostra_idade\n",
            "<ipython-input-54-2abac2b94257>:4: PerformanceWarning: DataFrame is highly fragmented.  This is usually the result of calling `frame.insert` many times, which has poor performance.  Consider joining all columns at once using pd.concat(axis=1) instead. To get a de-fragmented frame, use `newframe = frame.copy()`\n",
            "  amostras['Amostra_' + str(i)] = amostra_idade\n",
            "<ipython-input-54-2abac2b94257>:4: PerformanceWarning: DataFrame is highly fragmented.  This is usually the result of calling `frame.insert` many times, which has poor performance.  Consider joining all columns at once using pd.concat(axis=1) instead. To get a de-fragmented frame, use `newframe = frame.copy()`\n",
            "  amostras['Amostra_' + str(i)] = amostra_idade\n",
            "<ipython-input-54-2abac2b94257>:4: PerformanceWarning: DataFrame is highly fragmented.  This is usually the result of calling `frame.insert` many times, which has poor performance.  Consider joining all columns at once using pd.concat(axis=1) instead. To get a de-fragmented frame, use `newframe = frame.copy()`\n",
            "  amostras['Amostra_' + str(i)] = amostra_idade\n",
            "<ipython-input-54-2abac2b94257>:4: PerformanceWarning: DataFrame is highly fragmented.  This is usually the result of calling `frame.insert` many times, which has poor performance.  Consider joining all columns at once using pd.concat(axis=1) instead. To get a de-fragmented frame, use `newframe = frame.copy()`\n",
            "  amostras['Amostra_' + str(i)] = amostra_idade\n",
            "<ipython-input-54-2abac2b94257>:4: PerformanceWarning: DataFrame is highly fragmented.  This is usually the result of calling `frame.insert` many times, which has poor performance.  Consider joining all columns at once using pd.concat(axis=1) instead. To get a de-fragmented frame, use `newframe = frame.copy()`\n",
            "  amostras['Amostra_' + str(i)] = amostra_idade\n",
            "<ipython-input-54-2abac2b94257>:4: PerformanceWarning: DataFrame is highly fragmented.  This is usually the result of calling `frame.insert` many times, which has poor performance.  Consider joining all columns at once using pd.concat(axis=1) instead. To get a de-fragmented frame, use `newframe = frame.copy()`\n",
            "  amostras['Amostra_' + str(i)] = amostra_idade\n",
            "<ipython-input-54-2abac2b94257>:4: PerformanceWarning: DataFrame is highly fragmented.  This is usually the result of calling `frame.insert` many times, which has poor performance.  Consider joining all columns at once using pd.concat(axis=1) instead. To get a de-fragmented frame, use `newframe = frame.copy()`\n",
            "  amostras['Amostra_' + str(i)] = amostra_idade\n",
            "<ipython-input-54-2abac2b94257>:4: PerformanceWarning: DataFrame is highly fragmented.  This is usually the result of calling `frame.insert` many times, which has poor performance.  Consider joining all columns at once using pd.concat(axis=1) instead. To get a de-fragmented frame, use `newframe = frame.copy()`\n",
            "  amostras['Amostra_' + str(i)] = amostra_idade\n",
            "<ipython-input-54-2abac2b94257>:4: PerformanceWarning: DataFrame is highly fragmented.  This is usually the result of calling `frame.insert` many times, which has poor performance.  Consider joining all columns at once using pd.concat(axis=1) instead. To get a de-fragmented frame, use `newframe = frame.copy()`\n",
            "  amostras['Amostra_' + str(i)] = amostra_idade\n",
            "<ipython-input-54-2abac2b94257>:4: PerformanceWarning: DataFrame is highly fragmented.  This is usually the result of calling `frame.insert` many times, which has poor performance.  Consider joining all columns at once using pd.concat(axis=1) instead. To get a de-fragmented frame, use `newframe = frame.copy()`\n",
            "  amostras['Amostra_' + str(i)] = amostra_idade\n",
            "<ipython-input-54-2abac2b94257>:4: PerformanceWarning: DataFrame is highly fragmented.  This is usually the result of calling `frame.insert` many times, which has poor performance.  Consider joining all columns at once using pd.concat(axis=1) instead. To get a de-fragmented frame, use `newframe = frame.copy()`\n",
            "  amostras['Amostra_' + str(i)] = amostra_idade\n",
            "<ipython-input-54-2abac2b94257>:4: PerformanceWarning: DataFrame is highly fragmented.  This is usually the result of calling `frame.insert` many times, which has poor performance.  Consider joining all columns at once using pd.concat(axis=1) instead. To get a de-fragmented frame, use `newframe = frame.copy()`\n",
            "  amostras['Amostra_' + str(i)] = amostra_idade\n",
            "<ipython-input-54-2abac2b94257>:4: PerformanceWarning: DataFrame is highly fragmented.  This is usually the result of calling `frame.insert` many times, which has poor performance.  Consider joining all columns at once using pd.concat(axis=1) instead. To get a de-fragmented frame, use `newframe = frame.copy()`\n",
            "  amostras['Amostra_' + str(i)] = amostra_idade\n",
            "<ipython-input-54-2abac2b94257>:4: PerformanceWarning: DataFrame is highly fragmented.  This is usually the result of calling `frame.insert` many times, which has poor performance.  Consider joining all columns at once using pd.concat(axis=1) instead. To get a de-fragmented frame, use `newframe = frame.copy()`\n",
            "  amostras['Amostra_' + str(i)] = amostra_idade\n"
          ]
        }
      ],
      "source": [
        "for i in range(total_de_amostras):\n",
        "  amostra_idade = dados.Idade.sample(n)\n",
        "  amostra_idade.index = range(amostra_idade.shape[0])\n",
        "  amostras['Amostra_' + str(i)] = amostra_idade"
      ]
    },
    {
      "cell_type": "code",
      "source": [
        "amostras"
      ],
      "metadata": {
        "colab": {
          "base_uri": "https://localhost:8080/",
          "height": 444
        },
        "id": "5iYbjxcks_NC",
        "outputId": "8ea43159-a0a5-4527-edce-d4a25cc1f590"
      },
      "execution_count": 55,
      "outputs": [
        {
          "output_type": "execute_result",
          "data": {
            "text/plain": [
              "      Amostra_0  Amostra_1  Amostra_2  Amostra_3  Amostra_4  Amostra_5  \\\n",
              "0            46         46         44         40         33         36   \n",
              "1            56         61         71         34         43         38   \n",
              "2            48         38         69         54         69         55   \n",
              "3            25         47         63         25         23         36   \n",
              "4            52         23         42         52         39         32   \n",
              "...         ...        ...        ...        ...        ...        ...   \n",
              "1995         40         32         52         31         50         40   \n",
              "1996         55         47         54         49         50         54   \n",
              "1997         60         51         51         43         26         49   \n",
              "1998         29         43         23         27         46         45   \n",
              "1999         45         38         64         27         57         34   \n",
              "\n",
              "      Amostra_6  Amostra_7  Amostra_8  Amostra_9  ...  Amostra_1490  \\\n",
              "0            48         37         29         54  ...            59   \n",
              "1            30         35         33         29  ...            56   \n",
              "2            28         51         36         34  ...            29   \n",
              "3            46         30         22         35  ...            41   \n",
              "4            52         46         37         50  ...            49   \n",
              "...         ...        ...        ...        ...  ...           ...   \n",
              "1995         54         24         58         65  ...            43   \n",
              "1996         53         24         54         46  ...            46   \n",
              "1997         51         37         57         63  ...            50   \n",
              "1998         42         28         53         58  ...            28   \n",
              "1999         47         53         40         30  ...            44   \n",
              "\n",
              "      Amostra_1491  Amostra_1492  Amostra_1493  Amostra_1494  Amostra_1495  \\\n",
              "0               47            45            43            62            54   \n",
              "1               21            38            42            24            49   \n",
              "2               24            47            32            49            40   \n",
              "3               53            35            55            29            63   \n",
              "4               42            24            27            48            34   \n",
              "...            ...           ...           ...           ...           ...   \n",
              "1995            40            53            45            61            25   \n",
              "1996            37            46            32            40            24   \n",
              "1997            48            61            33            40            36   \n",
              "1998            35            32            43            37            49   \n",
              "1999            45            45            42            23            22   \n",
              "\n",
              "      Amostra_1496  Amostra_1497  Amostra_1498  Amostra_1499  \n",
              "0               57            44            56            29  \n",
              "1               42            24            60            42  \n",
              "2               43            62            40            57  \n",
              "3               77            58            44            44  \n",
              "4               80            35            59            54  \n",
              "...            ...           ...           ...           ...  \n",
              "1995            29            64            33            62  \n",
              "1996            56            25            21            57  \n",
              "1997            35            36            38            34  \n",
              "1998            47            43            42            46  \n",
              "1999            31            45            61            48  \n",
              "\n",
              "[2000 rows x 1500 columns]"
            ],
            "text/html": [
              "\n",
              "  <div id=\"df-8090f308-423d-4234-8c01-151a2bf68528\" class=\"colab-df-container\">\n",
              "    <div>\n",
              "<style scoped>\n",
              "    .dataframe tbody tr th:only-of-type {\n",
              "        vertical-align: middle;\n",
              "    }\n",
              "\n",
              "    .dataframe tbody tr th {\n",
              "        vertical-align: top;\n",
              "    }\n",
              "\n",
              "    .dataframe thead th {\n",
              "        text-align: right;\n",
              "    }\n",
              "</style>\n",
              "<table border=\"1\" class=\"dataframe\">\n",
              "  <thead>\n",
              "    <tr style=\"text-align: right;\">\n",
              "      <th></th>\n",
              "      <th>Amostra_0</th>\n",
              "      <th>Amostra_1</th>\n",
              "      <th>Amostra_2</th>\n",
              "      <th>Amostra_3</th>\n",
              "      <th>Amostra_4</th>\n",
              "      <th>Amostra_5</th>\n",
              "      <th>Amostra_6</th>\n",
              "      <th>Amostra_7</th>\n",
              "      <th>Amostra_8</th>\n",
              "      <th>Amostra_9</th>\n",
              "      <th>...</th>\n",
              "      <th>Amostra_1490</th>\n",
              "      <th>Amostra_1491</th>\n",
              "      <th>Amostra_1492</th>\n",
              "      <th>Amostra_1493</th>\n",
              "      <th>Amostra_1494</th>\n",
              "      <th>Amostra_1495</th>\n",
              "      <th>Amostra_1496</th>\n",
              "      <th>Amostra_1497</th>\n",
              "      <th>Amostra_1498</th>\n",
              "      <th>Amostra_1499</th>\n",
              "    </tr>\n",
              "  </thead>\n",
              "  <tbody>\n",
              "    <tr>\n",
              "      <th>0</th>\n",
              "      <td>46</td>\n",
              "      <td>46</td>\n",
              "      <td>44</td>\n",
              "      <td>40</td>\n",
              "      <td>33</td>\n",
              "      <td>36</td>\n",
              "      <td>48</td>\n",
              "      <td>37</td>\n",
              "      <td>29</td>\n",
              "      <td>54</td>\n",
              "      <td>...</td>\n",
              "      <td>59</td>\n",
              "      <td>47</td>\n",
              "      <td>45</td>\n",
              "      <td>43</td>\n",
              "      <td>62</td>\n",
              "      <td>54</td>\n",
              "      <td>57</td>\n",
              "      <td>44</td>\n",
              "      <td>56</td>\n",
              "      <td>29</td>\n",
              "    </tr>\n",
              "    <tr>\n",
              "      <th>1</th>\n",
              "      <td>56</td>\n",
              "      <td>61</td>\n",
              "      <td>71</td>\n",
              "      <td>34</td>\n",
              "      <td>43</td>\n",
              "      <td>38</td>\n",
              "      <td>30</td>\n",
              "      <td>35</td>\n",
              "      <td>33</td>\n",
              "      <td>29</td>\n",
              "      <td>...</td>\n",
              "      <td>56</td>\n",
              "      <td>21</td>\n",
              "      <td>38</td>\n",
              "      <td>42</td>\n",
              "      <td>24</td>\n",
              "      <td>49</td>\n",
              "      <td>42</td>\n",
              "      <td>24</td>\n",
              "      <td>60</td>\n",
              "      <td>42</td>\n",
              "    </tr>\n",
              "    <tr>\n",
              "      <th>2</th>\n",
              "      <td>48</td>\n",
              "      <td>38</td>\n",
              "      <td>69</td>\n",
              "      <td>54</td>\n",
              "      <td>69</td>\n",
              "      <td>55</td>\n",
              "      <td>28</td>\n",
              "      <td>51</td>\n",
              "      <td>36</td>\n",
              "      <td>34</td>\n",
              "      <td>...</td>\n",
              "      <td>29</td>\n",
              "      <td>24</td>\n",
              "      <td>47</td>\n",
              "      <td>32</td>\n",
              "      <td>49</td>\n",
              "      <td>40</td>\n",
              "      <td>43</td>\n",
              "      <td>62</td>\n",
              "      <td>40</td>\n",
              "      <td>57</td>\n",
              "    </tr>\n",
              "    <tr>\n",
              "      <th>3</th>\n",
              "      <td>25</td>\n",
              "      <td>47</td>\n",
              "      <td>63</td>\n",
              "      <td>25</td>\n",
              "      <td>23</td>\n",
              "      <td>36</td>\n",
              "      <td>46</td>\n",
              "      <td>30</td>\n",
              "      <td>22</td>\n",
              "      <td>35</td>\n",
              "      <td>...</td>\n",
              "      <td>41</td>\n",
              "      <td>53</td>\n",
              "      <td>35</td>\n",
              "      <td>55</td>\n",
              "      <td>29</td>\n",
              "      <td>63</td>\n",
              "      <td>77</td>\n",
              "      <td>58</td>\n",
              "      <td>44</td>\n",
              "      <td>44</td>\n",
              "    </tr>\n",
              "    <tr>\n",
              "      <th>4</th>\n",
              "      <td>52</td>\n",
              "      <td>23</td>\n",
              "      <td>42</td>\n",
              "      <td>52</td>\n",
              "      <td>39</td>\n",
              "      <td>32</td>\n",
              "      <td>52</td>\n",
              "      <td>46</td>\n",
              "      <td>37</td>\n",
              "      <td>50</td>\n",
              "      <td>...</td>\n",
              "      <td>49</td>\n",
              "      <td>42</td>\n",
              "      <td>24</td>\n",
              "      <td>27</td>\n",
              "      <td>48</td>\n",
              "      <td>34</td>\n",
              "      <td>80</td>\n",
              "      <td>35</td>\n",
              "      <td>59</td>\n",
              "      <td>54</td>\n",
              "    </tr>\n",
              "    <tr>\n",
              "      <th>...</th>\n",
              "      <td>...</td>\n",
              "      <td>...</td>\n",
              "      <td>...</td>\n",
              "      <td>...</td>\n",
              "      <td>...</td>\n",
              "      <td>...</td>\n",
              "      <td>...</td>\n",
              "      <td>...</td>\n",
              "      <td>...</td>\n",
              "      <td>...</td>\n",
              "      <td>...</td>\n",
              "      <td>...</td>\n",
              "      <td>...</td>\n",
              "      <td>...</td>\n",
              "      <td>...</td>\n",
              "      <td>...</td>\n",
              "      <td>...</td>\n",
              "      <td>...</td>\n",
              "      <td>...</td>\n",
              "      <td>...</td>\n",
              "      <td>...</td>\n",
              "    </tr>\n",
              "    <tr>\n",
              "      <th>1995</th>\n",
              "      <td>40</td>\n",
              "      <td>32</td>\n",
              "      <td>52</td>\n",
              "      <td>31</td>\n",
              "      <td>50</td>\n",
              "      <td>40</td>\n",
              "      <td>54</td>\n",
              "      <td>24</td>\n",
              "      <td>58</td>\n",
              "      <td>65</td>\n",
              "      <td>...</td>\n",
              "      <td>43</td>\n",
              "      <td>40</td>\n",
              "      <td>53</td>\n",
              "      <td>45</td>\n",
              "      <td>61</td>\n",
              "      <td>25</td>\n",
              "      <td>29</td>\n",
              "      <td>64</td>\n",
              "      <td>33</td>\n",
              "      <td>62</td>\n",
              "    </tr>\n",
              "    <tr>\n",
              "      <th>1996</th>\n",
              "      <td>55</td>\n",
              "      <td>47</td>\n",
              "      <td>54</td>\n",
              "      <td>49</td>\n",
              "      <td>50</td>\n",
              "      <td>54</td>\n",
              "      <td>53</td>\n",
              "      <td>24</td>\n",
              "      <td>54</td>\n",
              "      <td>46</td>\n",
              "      <td>...</td>\n",
              "      <td>46</td>\n",
              "      <td>37</td>\n",
              "      <td>46</td>\n",
              "      <td>32</td>\n",
              "      <td>40</td>\n",
              "      <td>24</td>\n",
              "      <td>56</td>\n",
              "      <td>25</td>\n",
              "      <td>21</td>\n",
              "      <td>57</td>\n",
              "    </tr>\n",
              "    <tr>\n",
              "      <th>1997</th>\n",
              "      <td>60</td>\n",
              "      <td>51</td>\n",
              "      <td>51</td>\n",
              "      <td>43</td>\n",
              "      <td>26</td>\n",
              "      <td>49</td>\n",
              "      <td>51</td>\n",
              "      <td>37</td>\n",
              "      <td>57</td>\n",
              "      <td>63</td>\n",
              "      <td>...</td>\n",
              "      <td>50</td>\n",
              "      <td>48</td>\n",
              "      <td>61</td>\n",
              "      <td>33</td>\n",
              "      <td>40</td>\n",
              "      <td>36</td>\n",
              "      <td>35</td>\n",
              "      <td>36</td>\n",
              "      <td>38</td>\n",
              "      <td>34</td>\n",
              "    </tr>\n",
              "    <tr>\n",
              "      <th>1998</th>\n",
              "      <td>29</td>\n",
              "      <td>43</td>\n",
              "      <td>23</td>\n",
              "      <td>27</td>\n",
              "      <td>46</td>\n",
              "      <td>45</td>\n",
              "      <td>42</td>\n",
              "      <td>28</td>\n",
              "      <td>53</td>\n",
              "      <td>58</td>\n",
              "      <td>...</td>\n",
              "      <td>28</td>\n",
              "      <td>35</td>\n",
              "      <td>32</td>\n",
              "      <td>43</td>\n",
              "      <td>37</td>\n",
              "      <td>49</td>\n",
              "      <td>47</td>\n",
              "      <td>43</td>\n",
              "      <td>42</td>\n",
              "      <td>46</td>\n",
              "    </tr>\n",
              "    <tr>\n",
              "      <th>1999</th>\n",
              "      <td>45</td>\n",
              "      <td>38</td>\n",
              "      <td>64</td>\n",
              "      <td>27</td>\n",
              "      <td>57</td>\n",
              "      <td>34</td>\n",
              "      <td>47</td>\n",
              "      <td>53</td>\n",
              "      <td>40</td>\n",
              "      <td>30</td>\n",
              "      <td>...</td>\n",
              "      <td>44</td>\n",
              "      <td>45</td>\n",
              "      <td>45</td>\n",
              "      <td>42</td>\n",
              "      <td>23</td>\n",
              "      <td>22</td>\n",
              "      <td>31</td>\n",
              "      <td>45</td>\n",
              "      <td>61</td>\n",
              "      <td>48</td>\n",
              "    </tr>\n",
              "  </tbody>\n",
              "</table>\n",
              "<p>2000 rows × 1500 columns</p>\n",
              "</div>\n",
              "    <div class=\"colab-df-buttons\">\n",
              "\n",
              "  <div class=\"colab-df-container\">\n",
              "    <button class=\"colab-df-convert\" onclick=\"convertToInteractive('df-8090f308-423d-4234-8c01-151a2bf68528')\"\n",
              "            title=\"Convert this dataframe to an interactive table.\"\n",
              "            style=\"display:none;\">\n",
              "\n",
              "  <svg xmlns=\"http://www.w3.org/2000/svg\" height=\"24px\" viewBox=\"0 -960 960 960\">\n",
              "    <path d=\"M120-120v-720h720v720H120Zm60-500h600v-160H180v160Zm220 220h160v-160H400v160Zm0 220h160v-160H400v160ZM180-400h160v-160H180v160Zm440 0h160v-160H620v160ZM180-180h160v-160H180v160Zm440 0h160v-160H620v160Z\"/>\n",
              "  </svg>\n",
              "    </button>\n",
              "\n",
              "  <style>\n",
              "    .colab-df-container {\n",
              "      display:flex;\n",
              "      gap: 12px;\n",
              "    }\n",
              "\n",
              "    .colab-df-convert {\n",
              "      background-color: #E8F0FE;\n",
              "      border: none;\n",
              "      border-radius: 50%;\n",
              "      cursor: pointer;\n",
              "      display: none;\n",
              "      fill: #1967D2;\n",
              "      height: 32px;\n",
              "      padding: 0 0 0 0;\n",
              "      width: 32px;\n",
              "    }\n",
              "\n",
              "    .colab-df-convert:hover {\n",
              "      background-color: #E2EBFA;\n",
              "      box-shadow: 0px 1px 2px rgba(60, 64, 67, 0.3), 0px 1px 3px 1px rgba(60, 64, 67, 0.15);\n",
              "      fill: #174EA6;\n",
              "    }\n",
              "\n",
              "    .colab-df-buttons div {\n",
              "      margin-bottom: 4px;\n",
              "    }\n",
              "\n",
              "    [theme=dark] .colab-df-convert {\n",
              "      background-color: #3B4455;\n",
              "      fill: #D2E3FC;\n",
              "    }\n",
              "\n",
              "    [theme=dark] .colab-df-convert:hover {\n",
              "      background-color: #434B5C;\n",
              "      box-shadow: 0px 1px 3px 1px rgba(0, 0, 0, 0.15);\n",
              "      filter: drop-shadow(0px 1px 2px rgba(0, 0, 0, 0.3));\n",
              "      fill: #FFFFFF;\n",
              "    }\n",
              "  </style>\n",
              "\n",
              "    <script>\n",
              "      const buttonEl =\n",
              "        document.querySelector('#df-8090f308-423d-4234-8c01-151a2bf68528 button.colab-df-convert');\n",
              "      buttonEl.style.display =\n",
              "        google.colab.kernel.accessAllowed ? 'block' : 'none';\n",
              "\n",
              "      async function convertToInteractive(key) {\n",
              "        const element = document.querySelector('#df-8090f308-423d-4234-8c01-151a2bf68528');\n",
              "        const dataTable =\n",
              "          await google.colab.kernel.invokeFunction('convertToInteractive',\n",
              "                                                    [key], {});\n",
              "        if (!dataTable) return;\n",
              "\n",
              "        const docLinkHtml = 'Like what you see? Visit the ' +\n",
              "          '<a target=\"_blank\" href=https://colab.research.google.com/notebooks/data_table.ipynb>data table notebook</a>'\n",
              "          + ' to learn more about interactive tables.';\n",
              "        element.innerHTML = '';\n",
              "        dataTable['output_type'] = 'display_data';\n",
              "        await google.colab.output.renderOutput(dataTable, element);\n",
              "        const docLink = document.createElement('div');\n",
              "        docLink.innerHTML = docLinkHtml;\n",
              "        element.appendChild(docLink);\n",
              "      }\n",
              "    </script>\n",
              "  </div>\n",
              "\n",
              "\n",
              "<div id=\"df-000228e9-8bf2-49b5-8c75-a354ca4520a6\">\n",
              "  <button class=\"colab-df-quickchart\" onclick=\"quickchart('df-000228e9-8bf2-49b5-8c75-a354ca4520a6')\"\n",
              "            title=\"Suggest charts\"\n",
              "            style=\"display:none;\">\n",
              "\n",
              "<svg xmlns=\"http://www.w3.org/2000/svg\" height=\"24px\"viewBox=\"0 0 24 24\"\n",
              "     width=\"24px\">\n",
              "    <g>\n",
              "        <path d=\"M19 3H5c-1.1 0-2 .9-2 2v14c0 1.1.9 2 2 2h14c1.1 0 2-.9 2-2V5c0-1.1-.9-2-2-2zM9 17H7v-7h2v7zm4 0h-2V7h2v10zm4 0h-2v-4h2v4z\"/>\n",
              "    </g>\n",
              "</svg>\n",
              "  </button>\n",
              "\n",
              "<style>\n",
              "  .colab-df-quickchart {\n",
              "      --bg-color: #E8F0FE;\n",
              "      --fill-color: #1967D2;\n",
              "      --hover-bg-color: #E2EBFA;\n",
              "      --hover-fill-color: #174EA6;\n",
              "      --disabled-fill-color: #AAA;\n",
              "      --disabled-bg-color: #DDD;\n",
              "  }\n",
              "\n",
              "  [theme=dark] .colab-df-quickchart {\n",
              "      --bg-color: #3B4455;\n",
              "      --fill-color: #D2E3FC;\n",
              "      --hover-bg-color: #434B5C;\n",
              "      --hover-fill-color: #FFFFFF;\n",
              "      --disabled-bg-color: #3B4455;\n",
              "      --disabled-fill-color: #666;\n",
              "  }\n",
              "\n",
              "  .colab-df-quickchart {\n",
              "    background-color: var(--bg-color);\n",
              "    border: none;\n",
              "    border-radius: 50%;\n",
              "    cursor: pointer;\n",
              "    display: none;\n",
              "    fill: var(--fill-color);\n",
              "    height: 32px;\n",
              "    padding: 0;\n",
              "    width: 32px;\n",
              "  }\n",
              "\n",
              "  .colab-df-quickchart:hover {\n",
              "    background-color: var(--hover-bg-color);\n",
              "    box-shadow: 0 1px 2px rgba(60, 64, 67, 0.3), 0 1px 3px 1px rgba(60, 64, 67, 0.15);\n",
              "    fill: var(--button-hover-fill-color);\n",
              "  }\n",
              "\n",
              "  .colab-df-quickchart-complete:disabled,\n",
              "  .colab-df-quickchart-complete:disabled:hover {\n",
              "    background-color: var(--disabled-bg-color);\n",
              "    fill: var(--disabled-fill-color);\n",
              "    box-shadow: none;\n",
              "  }\n",
              "\n",
              "  .colab-df-spinner {\n",
              "    border: 2px solid var(--fill-color);\n",
              "    border-color: transparent;\n",
              "    border-bottom-color: var(--fill-color);\n",
              "    animation:\n",
              "      spin 1s steps(1) infinite;\n",
              "  }\n",
              "\n",
              "  @keyframes spin {\n",
              "    0% {\n",
              "      border-color: transparent;\n",
              "      border-bottom-color: var(--fill-color);\n",
              "      border-left-color: var(--fill-color);\n",
              "    }\n",
              "    20% {\n",
              "      border-color: transparent;\n",
              "      border-left-color: var(--fill-color);\n",
              "      border-top-color: var(--fill-color);\n",
              "    }\n",
              "    30% {\n",
              "      border-color: transparent;\n",
              "      border-left-color: var(--fill-color);\n",
              "      border-top-color: var(--fill-color);\n",
              "      border-right-color: var(--fill-color);\n",
              "    }\n",
              "    40% {\n",
              "      border-color: transparent;\n",
              "      border-right-color: var(--fill-color);\n",
              "      border-top-color: var(--fill-color);\n",
              "    }\n",
              "    60% {\n",
              "      border-color: transparent;\n",
              "      border-right-color: var(--fill-color);\n",
              "    }\n",
              "    80% {\n",
              "      border-color: transparent;\n",
              "      border-right-color: var(--fill-color);\n",
              "      border-bottom-color: var(--fill-color);\n",
              "    }\n",
              "    90% {\n",
              "      border-color: transparent;\n",
              "      border-bottom-color: var(--fill-color);\n",
              "    }\n",
              "  }\n",
              "</style>\n",
              "\n",
              "  <script>\n",
              "    async function quickchart(key) {\n",
              "      const quickchartButtonEl =\n",
              "        document.querySelector('#' + key + ' button');\n",
              "      quickchartButtonEl.disabled = true;  // To prevent multiple clicks.\n",
              "      quickchartButtonEl.classList.add('colab-df-spinner');\n",
              "      try {\n",
              "        const charts = await google.colab.kernel.invokeFunction(\n",
              "            'suggestCharts', [key], {});\n",
              "      } catch (error) {\n",
              "        console.error('Error during call to suggestCharts:', error);\n",
              "      }\n",
              "      quickchartButtonEl.classList.remove('colab-df-spinner');\n",
              "      quickchartButtonEl.classList.add('colab-df-quickchart-complete');\n",
              "    }\n",
              "    (() => {\n",
              "      let quickchartButtonEl =\n",
              "        document.querySelector('#df-000228e9-8bf2-49b5-8c75-a354ca4520a6 button');\n",
              "      quickchartButtonEl.style.display =\n",
              "        google.colab.kernel.accessAllowed ? 'block' : 'none';\n",
              "    })();\n",
              "  </script>\n",
              "</div>\n",
              "\n",
              "  <div id=\"id_a4a44006-cdef-417f-a3b8-68dd8b1bb424\">\n",
              "    <style>\n",
              "      .colab-df-generate {\n",
              "        background-color: #E8F0FE;\n",
              "        border: none;\n",
              "        border-radius: 50%;\n",
              "        cursor: pointer;\n",
              "        display: none;\n",
              "        fill: #1967D2;\n",
              "        height: 32px;\n",
              "        padding: 0 0 0 0;\n",
              "        width: 32px;\n",
              "      }\n",
              "\n",
              "      .colab-df-generate:hover {\n",
              "        background-color: #E2EBFA;\n",
              "        box-shadow: 0px 1px 2px rgba(60, 64, 67, 0.3), 0px 1px 3px 1px rgba(60, 64, 67, 0.15);\n",
              "        fill: #174EA6;\n",
              "      }\n",
              "\n",
              "      [theme=dark] .colab-df-generate {\n",
              "        background-color: #3B4455;\n",
              "        fill: #D2E3FC;\n",
              "      }\n",
              "\n",
              "      [theme=dark] .colab-df-generate:hover {\n",
              "        background-color: #434B5C;\n",
              "        box-shadow: 0px 1px 3px 1px rgba(0, 0, 0, 0.15);\n",
              "        filter: drop-shadow(0px 1px 2px rgba(0, 0, 0, 0.3));\n",
              "        fill: #FFFFFF;\n",
              "      }\n",
              "    </style>\n",
              "    <button class=\"colab-df-generate\" onclick=\"generateWithVariable('amostras')\"\n",
              "            title=\"Generate code using this dataframe.\"\n",
              "            style=\"display:none;\">\n",
              "\n",
              "  <svg xmlns=\"http://www.w3.org/2000/svg\" height=\"24px\"viewBox=\"0 0 24 24\"\n",
              "       width=\"24px\">\n",
              "    <path d=\"M7,19H8.4L18.45,9,17,7.55,7,17.6ZM5,21V16.75L18.45,3.32a2,2,0,0,1,2.83,0l1.4,1.43a1.91,1.91,0,0,1,.58,1.4,1.91,1.91,0,0,1-.58,1.4L9.25,21ZM18.45,9,17,7.55Zm-12,3A5.31,5.31,0,0,0,4.9,8.1,5.31,5.31,0,0,0,1,6.5,5.31,5.31,0,0,0,4.9,4.9,5.31,5.31,0,0,0,6.5,1,5.31,5.31,0,0,0,8.1,4.9,5.31,5.31,0,0,0,12,6.5,5.46,5.46,0,0,0,6.5,12Z\"/>\n",
              "  </svg>\n",
              "    </button>\n",
              "    <script>\n",
              "      (() => {\n",
              "      const buttonEl =\n",
              "        document.querySelector('#id_a4a44006-cdef-417f-a3b8-68dd8b1bb424 button.colab-df-generate');\n",
              "      buttonEl.style.display =\n",
              "        google.colab.kernel.accessAllowed ? 'block' : 'none';\n",
              "\n",
              "      buttonEl.onclick = () => {\n",
              "        google.colab.notebook.generateWithVariable('amostras');\n",
              "      }\n",
              "      })();\n",
              "    </script>\n",
              "  </div>\n",
              "\n",
              "    </div>\n",
              "  </div>\n"
            ],
            "application/vnd.google.colaboratory.intrinsic+json": {
              "type": "dataframe",
              "variable_name": "amostras"
            }
          },
          "metadata": {},
          "execution_count": 55
        }
      ]
    },
    {
      "cell_type": "code",
      "execution_count": 56,
      "metadata": {
        "colab": {
          "base_uri": "https://localhost:8080/",
          "height": 458
        },
        "id": "v5Q-rnS_izNd",
        "outputId": "0037c810-1212-4262-969a-6b15efa11041",
        "scrolled": true
      },
      "outputs": [
        {
          "output_type": "execute_result",
          "data": {
            "text/plain": [
              "Amostra_0       44.2045\n",
              "Amostra_1       44.0750\n",
              "Amostra_2       43.9405\n",
              "Amostra_3       43.8625\n",
              "Amostra_4       44.6035\n",
              "                 ...   \n",
              "Amostra_1495    44.2445\n",
              "Amostra_1496    43.7125\n",
              "Amostra_1497    43.9840\n",
              "Amostra_1498    44.2450\n",
              "Amostra_1499    44.1905\n",
              "Length: 1500, dtype: float64"
            ],
            "text/html": [
              "<div>\n",
              "<style scoped>\n",
              "    .dataframe tbody tr th:only-of-type {\n",
              "        vertical-align: middle;\n",
              "    }\n",
              "\n",
              "    .dataframe tbody tr th {\n",
              "        vertical-align: top;\n",
              "    }\n",
              "\n",
              "    .dataframe thead th {\n",
              "        text-align: right;\n",
              "    }\n",
              "</style>\n",
              "<table border=\"1\" class=\"dataframe\">\n",
              "  <thead>\n",
              "    <tr style=\"text-align: right;\">\n",
              "      <th></th>\n",
              "      <th>0</th>\n",
              "    </tr>\n",
              "  </thead>\n",
              "  <tbody>\n",
              "    <tr>\n",
              "      <th>Amostra_0</th>\n",
              "      <td>44.2045</td>\n",
              "    </tr>\n",
              "    <tr>\n",
              "      <th>Amostra_1</th>\n",
              "      <td>44.0750</td>\n",
              "    </tr>\n",
              "    <tr>\n",
              "      <th>Amostra_2</th>\n",
              "      <td>43.9405</td>\n",
              "    </tr>\n",
              "    <tr>\n",
              "      <th>Amostra_3</th>\n",
              "      <td>43.8625</td>\n",
              "    </tr>\n",
              "    <tr>\n",
              "      <th>Amostra_4</th>\n",
              "      <td>44.6035</td>\n",
              "    </tr>\n",
              "    <tr>\n",
              "      <th>...</th>\n",
              "      <td>...</td>\n",
              "    </tr>\n",
              "    <tr>\n",
              "      <th>Amostra_1495</th>\n",
              "      <td>44.2445</td>\n",
              "    </tr>\n",
              "    <tr>\n",
              "      <th>Amostra_1496</th>\n",
              "      <td>43.7125</td>\n",
              "    </tr>\n",
              "    <tr>\n",
              "      <th>Amostra_1497</th>\n",
              "      <td>43.9840</td>\n",
              "    </tr>\n",
              "    <tr>\n",
              "      <th>Amostra_1498</th>\n",
              "      <td>44.2450</td>\n",
              "    </tr>\n",
              "    <tr>\n",
              "      <th>Amostra_1499</th>\n",
              "      <td>44.1905</td>\n",
              "    </tr>\n",
              "  </tbody>\n",
              "</table>\n",
              "<p>1500 rows × 1 columns</p>\n",
              "</div><br><label><b>dtype:</b> float64</label>"
            ]
          },
          "metadata": {},
          "execution_count": 56
        }
      ],
      "source": [
        "amostras.mean()"
      ]
    },
    {
      "cell_type": "markdown",
      "metadata": {
        "id": "JfgEBDx0jDzf"
      },
      "source": [
        "> O Teorema do Limite Central afirma que, **com o aumento do tamanho da amostra, a distribuição das médias amostrais se aproxima de uma distribuição normal** com média igual à média da população e desvio padrão igual ao desvio padrão da variável original dividido pela raiz quadrada do tamanho da amostra. Este fato é assegurado para n maior ou igual a 30."
      ]
    },
    {
      "cell_type": "code",
      "execution_count": 57,
      "metadata": {
        "colab": {
          "base_uri": "https://localhost:8080/",
          "height": 447
        },
        "id": "giJKqa_9izKF",
        "outputId": "1b84c4e7-e5d3-4597-9c4f-23cf957cf79e"
      },
      "outputs": [
        {
          "output_type": "execute_result",
          "data": {
            "text/plain": [
              "<Axes: >"
            ]
          },
          "metadata": {},
          "execution_count": 57
        },
        {
          "output_type": "display_data",
          "data": {
            "text/plain": [
              "<Figure size 640x480 with 1 Axes>"
            ],
            "image/png": "[encoded data removed]"
          },
          "metadata": {}
        }
      ],
      "source": [
        "amostras.mean().hist()"
      ]
    },
    {
      "cell_type": "markdown",
      "metadata": {
        "id": "_A4RKStwjkLI"
      },
      "source": [
        "> O Teorema do Limite Central afirma que, com o aumento do tamanho da amostra, a distribuição das médias amostrais se aproxima de uma distribuição normal **com média igual à média da população** e desvio padrão igual ao desvio padrão da variável original dividido pela raiz quadrada do tamanho da amostra. Este fato é assegurado para n maior ou igual a 30."
      ]
    },
    {
      "cell_type": "code",
      "execution_count": 58,
      "metadata": {
        "colab": {
          "base_uri": "https://localhost:8080/"
        },
        "id": "vXE-UOj_izGZ",
        "outputId": "137a9d5f-0cfd-467a-a079-96d3279359be"
      },
      "outputs": [
        {
          "output_type": "execute_result",
          "data": {
            "text/plain": [
              "44.07142113482561"
            ]
          },
          "metadata": {},
          "execution_count": 58
        }
      ],
      "source": [
        "dados.Idade.mean()"
      ]
    },
    {
      "cell_type": "code",
      "execution_count": 59,
      "metadata": {
        "colab": {
          "base_uri": "https://localhost:8080/"
        },
        "id": "bahA7_WYizC6",
        "outputId": "6cdada42-3001-4e26-e7c0-53ecd9f7b089"
      },
      "outputs": [
        {
          "output_type": "execute_result",
          "data": {
            "text/plain": [
              "44.06964333333333"
            ]
          },
          "metadata": {},
          "execution_count": 59
        }
      ],
      "source": [
        "amostras.mean().mean()"
      ]
    },
    {
      "cell_type": "markdown",
      "metadata": {
        "id": "7lIWJCAKlPmA"
      },
      "source": [
        "> O Teorema do Limite Central afirma que, com o aumento do tamanho da amostra, a distribuição das médias amostrais se aproxima de uma distribuição normal com média igual à média da população e **desvio padrão igual ao desvio padrão da variável original dividido pela raiz quadrada do tamanho da amostra**. Este fato é assegurado para n maior ou igual a 30.\n",
        "\n",
        "<font size=5> $$\\sigma_\\bar{x} = \\frac{\\sigma}{\\sqrt{n}}$$ </font>"
      ]
    },
    {
      "cell_type": "code",
      "execution_count": 60,
      "metadata": {
        "colab": {
          "base_uri": "https://localhost:8080/"
        },
        "id": "qKrG0zqhVNzn",
        "outputId": "5a70ba67-9d7f-4519-b654-4bed626eb4d8"
      },
      "outputs": [
        {
          "output_type": "execute_result",
          "data": {
            "text/plain": [
              "0.27602217413817765"
            ]
          },
          "metadata": {},
          "execution_count": 60
        }
      ],
      "source": [
        "amostras.mean().std()"
      ]
    },
    {
      "cell_type": "code",
      "execution_count": 61,
      "metadata": {
        "colab": {
          "base_uri": "https://localhost:8080/"
        },
        "id": "83ILp8Quiy_W",
        "outputId": "bd79ee23-c2bf-4e07-ac32-028dc781a6b5"
      },
      "outputs": [
        {
          "output_type": "execute_result",
          "data": {
            "text/plain": [
              "12.480583465360187"
            ]
          },
          "metadata": {},
          "execution_count": 61
        }
      ],
      "source": [
        "dados.Idade.std()"
      ]
    },
    {
      "cell_type": "code",
      "execution_count": 62,
      "metadata": {
        "colab": {
          "base_uri": "https://localhost:8080/"
        },
        "id": "IQ7wC-Nkiy75",
        "outputId": "c8491f44-1f64-4584-80df-2d962cd19b72"
      },
      "outputs": [
        {
          "output_type": "execute_result",
          "data": {
            "text/plain": [
              "0.2790743302740527"
            ]
          },
          "metadata": {},
          "execution_count": 62
        }
      ],
      "source": [
        "dados.Idade.std() / np.sqrt(n)"
      ]
    },
    {
      "cell_type": "markdown",
      "metadata": {
        "id": "ku8CE67iG3Ge"
      },
      "source": [
        "##  Níveis de confiança e significância\n",
        "***"
      ]
    },
    {
      "cell_type": "markdown",
      "metadata": {
        "id": "mk6ZsvgyG3Gf"
      },
      "source": [
        "*   O **nível de confiança** ($1 - \\alpha$) representa a probabilidade de acerto da estimativa.\n",
        "*   O **nível de significância** ($\\alpha$) expressa a probabilidade de erro da estimativa.\n",
        "\n",
        "O **nível de confiança** representa o grau de confiabilidade do resultado da estimativa estar dentro de determinado intervalo. Quando fixamos em uma pesquisa um **nível de confiança** de 95%, por exemplo, estamos assumindo que existe uma probabilidade de 95% dos resultados da pesquisa representarem bem a realidade, ou seja, estarem corretos.\n",
        "\n",
        "O **nível de confiança** de uma estimativa pode ser obtido a partir da área sob a curva normal como ilustrado na figura abaixo."
      ]
    },
    {
      "cell_type": "markdown",
      "metadata": {
        "id": "WeGyDfvaG3Gg"
      },
      "source": [
        "![alt text](https://caelum-online-public.s3.amazonaws.com/1178-estatistica-parte2/01/img007.png)"
      ]
    },
    {
      "cell_type": "markdown",
      "metadata": {
        "id": "AN8WDZ-HG3Gi"
      },
      "source": [
        "## Erro inferencial\n",
        "***"
      ]
    },
    {
      "cell_type": "markdown",
      "metadata": {
        "id": "tk-TwhhfG3Gi"
      },
      "source": [
        "O **erro inferencial** é definido pelo **desvio padrão das médias amostrais** $\\sigma_\\bar{x}$ e pelo **nível de confiança** determinado para o processo."
      ]
    },
    {
      "cell_type": "markdown",
      "metadata": {
        "id": "FKOQUPYHG3Gk"
      },
      "source": [
        "<font size=5> $$e = z \\frac{\\sigma}{\\sqrt{n}}$$ </font>"
      ]
    },
    {
      "cell_type": "markdown",
      "metadata": {
        "id": "ELbWQW4sG3HS"
      },
      "source": [
        "## Intervalos de confiança\n",
        "***"
      ]
    },
    {
      "cell_type": "markdown",
      "metadata": {
        "id": "-r6EMnH-G3HT"
      },
      "source": [
        "<font size=5> Intevalo de confiança para a média da população </font>"
      ]
    },
    {
      "cell_type": "markdown",
      "metadata": {
        "id": "QWgBFeRnG3HT"
      },
      "source": [
        "Com desvio padrão populacional conhecido\n",
        "\n",
        " <font size=5> $$\\mu = \\bar{x} \\pm z\\frac{\\sigma}{\\sqrt{n}}$$ <font>\n",
        "\n",
        " Com desvio padrão populacional desconhecido\n",
        "\n",
        " <font size=5> $$\\mu = \\bar{x} \\pm z\\frac{s}{\\sqrt{n}}$$ <font>"
      ]
    },
    {
      "cell_type": "markdown",
      "metadata": {
        "id": "R2qqLneeG3HT"
      },
      "source": [
        "## Exemplo"
      ]
    },
    {
      "cell_type": "markdown",
      "metadata": {
        "id": "AgnrFjdMG3HT"
      },
      "source": [
        "Suponha que os pesos dos sacos de arroz de uma indústria alimentícia se distribuem aproximadamente como uma normal de **desvio padrão populacional igual a 150 g**. Selecionada uma **amostra aleatório de 20 sacos** de um lote específico, obteve-se um **peso médio de 5.050 g**. Construa um intervalo de confiança para a **média populacional** assumindo um **nível de significância de 5%**."
      ]
    },
    {
      "cell_type": "markdown",
      "metadata": {
        "id": "LpGQGksTG3HU"
      },
      "source": [
        " Média amostral"
      ]
    },
    {
      "cell_type": "code",
      "execution_count": 79,
      "metadata": {
        "id": "aF2QQ0z3G3HU"
      },
      "outputs": [],
      "source": [
        "media_amostra = 5050"
      ]
    },
    {
      "cell_type": "markdown",
      "metadata": {
        "id": "Jly1bVP9G3HY"
      },
      "source": [
        " Nível de significância ($\\alpha$)"
      ]
    },
    {
      "cell_type": "code",
      "execution_count": 80,
      "metadata": {
        "id": "BzIgN3C7G3HY"
      },
      "outputs": [],
      "source": [
        "significancia = 0.05"
      ]
    },
    {
      "cell_type": "markdown",
      "metadata": {
        "id": "SrZAbQRKG3Ha"
      },
      "source": [
        " Nível de confiança ($1 - \\alpha$)"
      ]
    },
    {
      "cell_type": "code",
      "execution_count": 81,
      "metadata": {
        "id": "1JeWXwA6G3Ha"
      },
      "outputs": [],
      "source": [
        "confianca = 1 - significancia"
      ]
    },
    {
      "cell_type": "markdown",
      "metadata": {
        "id": "mZoUFr1nG3Hf"
      },
      "source": [
        " Obtendo $z$"
      ]
    },
    {
      "cell_type": "code",
      "execution_count": 66,
      "metadata": {
        "colab": {
          "base_uri": "https://localhost:8080/",
          "height": 363
        },
        "id": "f9IMOwY2Xeva",
        "outputId": "d53dada9-d28b-493f-84da-9957606d4449"
      },
      "outputs": [
        {
          "output_type": "execute_result",
          "data": {
            "text/plain": [
              "Z       0.00    0.01    0.02    0.03    0.04    0.05    0.06    0.07    0.08  \\\n",
              "1.60  0.9452  0.9463  0.9474  0.9484  0.9495  0.9505  0.9515  0.9525  0.9535   \n",
              "1.70  0.9554  0.9564  0.9573  0.9582  0.9591  0.9599  0.9608  0.9616  0.9625   \n",
              "1.80  0.9641  0.9649  0.9656  0.9664  0.9671  0.9678  0.9686  0.9693  0.9699   \n",
              "1.90  0.9713  0.9719  0.9726  0.9732  0.9738  0.9744  0.9750  0.9756  0.9761   \n",
              "2.00  0.9772  0.9778  0.9783  0.9788  0.9793  0.9798  0.9803  0.9808  0.9812   \n",
              "2.10  0.9821  0.9826  0.9830  0.9834  0.9838  0.9842  0.9846  0.9850  0.9854   \n",
              "2.20  0.9861  0.9864  0.9868  0.9871  0.9875  0.9878  0.9881  0.9884  0.9887   \n",
              "2.30  0.9893  0.9896  0.9898  0.9901  0.9904  0.9906  0.9909  0.9911  0.9913   \n",
              "2.40  0.9918  0.9920  0.9922  0.9925  0.9927  0.9929  0.9931  0.9932  0.9934   \n",
              "2.50  0.9938  0.9940  0.9941  0.9943  0.9945  0.9946  0.9948  0.9949  0.9951   \n",
              "\n",
              "Z       0.09  \n",
              "1.60  0.9545  \n",
              "1.70  0.9633  \n",
              "1.80  0.9706  \n",
              "1.90  0.9767  \n",
              "2.00  0.9817  \n",
              "2.10  0.9857  \n",
              "2.20  0.9890  \n",
              "2.30  0.9916  \n",
              "2.40  0.9936  \n",
              "2.50  0.9952  "
            ],
            "text/html": [
              "\n",
              "  <div id=\"df-60e26f54-e72e-4c2f-a87a-9e7e5272e08d\" class=\"colab-df-container\">\n",
              "    <div>\n",
              "<style scoped>\n",
              "    .dataframe tbody tr th:only-of-type {\n",
              "        vertical-align: middle;\n",
              "    }\n",
              "\n",
              "    .dataframe tbody tr th {\n",
              "        vertical-align: top;\n",
              "    }\n",
              "\n",
              "    .dataframe thead th {\n",
              "        text-align: right;\n",
              "    }\n",
              "</style>\n",
              "<table border=\"1\" class=\"dataframe\">\n",
              "  <thead>\n",
              "    <tr style=\"text-align: right;\">\n",
              "      <th>Z</th>\n",
              "      <th>0.00</th>\n",
              "      <th>0.01</th>\n",
              "      <th>0.02</th>\n",
              "      <th>0.03</th>\n",
              "      <th>0.04</th>\n",
              "      <th>0.05</th>\n",
              "      <th>0.06</th>\n",
              "      <th>0.07</th>\n",
              "      <th>0.08</th>\n",
              "      <th>0.09</th>\n",
              "    </tr>\n",
              "  </thead>\n",
              "  <tbody>\n",
              "    <tr>\n",
              "      <th>1.60</th>\n",
              "      <td>0.9452</td>\n",
              "      <td>0.9463</td>\n",
              "      <td>0.9474</td>\n",
              "      <td>0.9484</td>\n",
              "      <td>0.9495</td>\n",
              "      <td>0.9505</td>\n",
              "      <td>0.9515</td>\n",
              "      <td>0.9525</td>\n",
              "      <td>0.9535</td>\n",
              "      <td>0.9545</td>\n",
              "    </tr>\n",
              "    <tr>\n",
              "      <th>1.70</th>\n",
              "      <td>0.9554</td>\n",
              "      <td>0.9564</td>\n",
              "      <td>0.9573</td>\n",
              "      <td>0.9582</td>\n",
              "      <td>0.9591</td>\n",
              "      <td>0.9599</td>\n",
              "      <td>0.9608</td>\n",
              "      <td>0.9616</td>\n",
              "      <td>0.9625</td>\n",
              "      <td>0.9633</td>\n",
              "    </tr>\n",
              "    <tr>\n",
              "      <th>1.80</th>\n",
              "      <td>0.9641</td>\n",
              "      <td>0.9649</td>\n",
              "      <td>0.9656</td>\n",
              "      <td>0.9664</td>\n",
              "      <td>0.9671</td>\n",
              "      <td>0.9678</td>\n",
              "      <td>0.9686</td>\n",
              "      <td>0.9693</td>\n",
              "      <td>0.9699</td>\n",
              "      <td>0.9706</td>\n",
              "    </tr>\n",
              "    <tr>\n",
              "      <th>1.90</th>\n",
              "      <td>0.9713</td>\n",
              "      <td>0.9719</td>\n",
              "      <td>0.9726</td>\n",
              "      <td>0.9732</td>\n",
              "      <td>0.9738</td>\n",
              "      <td>0.9744</td>\n",
              "      <td>0.9750</td>\n",
              "      <td>0.9756</td>\n",
              "      <td>0.9761</td>\n",
              "      <td>0.9767</td>\n",
              "    </tr>\n",
              "    <tr>\n",
              "      <th>2.00</th>\n",
              "      <td>0.9772</td>\n",
              "      <td>0.9778</td>\n",
              "      <td>0.9783</td>\n",
              "      <td>0.9788</td>\n",
              "      <td>0.9793</td>\n",
              "      <td>0.9798</td>\n",
              "      <td>0.9803</td>\n",
              "      <td>0.9808</td>\n",
              "      <td>0.9812</td>\n",
              "      <td>0.9817</td>\n",
              "    </tr>\n",
              "    <tr>\n",
              "      <th>2.10</th>\n",
              "      <td>0.9821</td>\n",
              "      <td>0.9826</td>\n",
              "      <td>0.9830</td>\n",
              "      <td>0.9834</td>\n",
              "      <td>0.9838</td>\n",
              "      <td>0.9842</td>\n",
              "      <td>0.9846</td>\n",
              "      <td>0.9850</td>\n",
              "      <td>0.9854</td>\n",
              "      <td>0.9857</td>\n",
              "    </tr>\n",
              "    <tr>\n",
              "      <th>2.20</th>\n",
              "      <td>0.9861</td>\n",
              "      <td>0.9864</td>\n",
              "      <td>0.9868</td>\n",
              "      <td>0.9871</td>\n",
              "      <td>0.9875</td>\n",
              "      <td>0.9878</td>\n",
              "      <td>0.9881</td>\n",
              "      <td>0.9884</td>\n",
              "      <td>0.9887</td>\n",
              "      <td>0.9890</td>\n",
              "    </tr>\n",
              "    <tr>\n",
              "      <th>2.30</th>\n",
              "      <td>0.9893</td>\n",
              "      <td>0.9896</td>\n",
              "      <td>0.9898</td>\n",
              "      <td>0.9901</td>\n",
              "      <td>0.9904</td>\n",
              "      <td>0.9906</td>\n",
              "      <td>0.9909</td>\n",
              "      <td>0.9911</td>\n",
              "      <td>0.9913</td>\n",
              "      <td>0.9916</td>\n",
              "    </tr>\n",
              "    <tr>\n",
              "      <th>2.40</th>\n",
              "      <td>0.9918</td>\n",
              "      <td>0.9920</td>\n",
              "      <td>0.9922</td>\n",
              "      <td>0.9925</td>\n",
              "      <td>0.9927</td>\n",
              "      <td>0.9929</td>\n",
              "      <td>0.9931</td>\n",
              "      <td>0.9932</td>\n",
              "      <td>0.9934</td>\n",
              "      <td>0.9936</td>\n",
              "    </tr>\n",
              "    <tr>\n",
              "      <th>2.50</th>\n",
              "      <td>0.9938</td>\n",
              "      <td>0.9940</td>\n",
              "      <td>0.9941</td>\n",
              "      <td>0.9943</td>\n",
              "      <td>0.9945</td>\n",
              "      <td>0.9946</td>\n",
              "      <td>0.9948</td>\n",
              "      <td>0.9949</td>\n",
              "      <td>0.9951</td>\n",
              "      <td>0.9952</td>\n",
              "    </tr>\n",
              "  </tbody>\n",
              "</table>\n",
              "</div>\n",
              "    <div class=\"colab-df-buttons\">\n",
              "\n",
              "  <div class=\"colab-df-container\">\n",
              "    <button class=\"colab-df-convert\" onclick=\"convertToInteractive('df-60e26f54-e72e-4c2f-a87a-9e7e5272e08d')\"\n",
              "            title=\"Convert this dataframe to an interactive table.\"\n",
              "            style=\"display:none;\">\n",
              "\n",
              "  <svg xmlns=\"http://www.w3.org/2000/svg\" height=\"24px\" viewBox=\"0 -960 960 960\">\n",
              "    <path d=\"M120-120v-720h720v720H120Zm60-500h600v-160H180v160Zm220 220h160v-160H400v160Zm0 220h160v-160H400v160ZM180-400h160v-160H180v160Zm440 0h160v-160H620v160ZM180-180h160v-160H180v160Zm440 0h160v-160H620v160Z\"/>\n",
              "  </svg>\n",
              "    </button>\n",
              "\n",
              "  <style>\n",
              "    .colab-df-container {\n",
              "      display:flex;\n",
              "      gap: 12px;\n",
              "    }\n",
              "\n",
              "    .colab-df-convert {\n",
              "      background-color: #E8F0FE;\n",
              "      border: none;\n",
              "      border-radius: 50%;\n",
              "      cursor: pointer;\n",
              "      display: none;\n",
              "      fill: #1967D2;\n",
              "      height: 32px;\n",
              "      padding: 0 0 0 0;\n",
              "      width: 32px;\n",
              "    }\n",
              "\n",
              "    .colab-df-convert:hover {\n",
              "      background-color: #E2EBFA;\n",
              "      box-shadow: 0px 1px 2px rgba(60, 64, 67, 0.3), 0px 1px 3px 1px rgba(60, 64, 67, 0.15);\n",
              "      fill: #174EA6;\n",
              "    }\n",
              "\n",
              "    .colab-df-buttons div {\n",
              "      margin-bottom: 4px;\n",
              "    }\n",
              "\n",
              "    [theme=dark] .colab-df-convert {\n",
              "      background-color: #3B4455;\n",
              "      fill: #D2E3FC;\n",
              "    }\n",
              "\n",
              "    [theme=dark] .colab-df-convert:hover {\n",
              "      background-color: #434B5C;\n",
              "      box-shadow: 0px 1px 3px 1px rgba(0, 0, 0, 0.15);\n",
              "      filter: drop-shadow(0px 1px 2px rgba(0, 0, 0, 0.3));\n",
              "      fill: #FFFFFF;\n",
              "    }\n",
              "  </style>\n",
              "\n",
              "    <script>\n",
              "      const buttonEl =\n",
              "        document.querySelector('#df-60e26f54-e72e-4c2f-a87a-9e7e5272e08d button.colab-df-convert');\n",
              "      buttonEl.style.display =\n",
              "        google.colab.kernel.accessAllowed ? 'block' : 'none';\n",
              "\n",
              "      async function convertToInteractive(key) {\n",
              "        const element = document.querySelector('#df-60e26f54-e72e-4c2f-a87a-9e7e5272e08d');\n",
              "        const dataTable =\n",
              "          await google.colab.kernel.invokeFunction('convertToInteractive',\n",
              "                                                    [key], {});\n",
              "        if (!dataTable) return;\n",
              "\n",
              "        const docLinkHtml = 'Like what you see? Visit the ' +\n",
              "          '<a target=\"_blank\" href=https://colab.research.google.com/notebooks/data_table.ipynb>data table notebook</a>'\n",
              "          + ' to learn more about interactive tables.';\n",
              "        element.innerHTML = '';\n",
              "        dataTable['output_type'] = 'display_data';\n",
              "        await google.colab.output.renderOutput(dataTable, element);\n",
              "        const docLink = document.createElement('div');\n",
              "        docLink.innerHTML = docLinkHtml;\n",
              "        element.appendChild(docLink);\n",
              "      }\n",
              "    </script>\n",
              "  </div>\n",
              "\n",
              "\n",
              "<div id=\"df-a55ef246-5606-475f-bf8a-516585d1d8b6\">\n",
              "  <button class=\"colab-df-quickchart\" onclick=\"quickchart('df-a55ef246-5606-475f-bf8a-516585d1d8b6')\"\n",
              "            title=\"Suggest charts\"\n",
              "            style=\"display:none;\">\n",
              "\n",
              "<svg xmlns=\"http://www.w3.org/2000/svg\" height=\"24px\"viewBox=\"0 0 24 24\"\n",
              "     width=\"24px\">\n",
              "    <g>\n",
              "        <path d=\"M19 3H5c-1.1 0-2 .9-2 2v14c0 1.1.9 2 2 2h14c1.1 0 2-.9 2-2V5c0-1.1-.9-2-2-2zM9 17H7v-7h2v7zm4 0h-2V7h2v10zm4 0h-2v-4h2v4z\"/>\n",
              "    </g>\n",
              "</svg>\n",
              "  </button>\n",
              "\n",
              "<style>\n",
              "  .colab-df-quickchart {\n",
              "      --bg-color: #E8F0FE;\n",
              "      --fill-color: #1967D2;\n",
              "      --hover-bg-color: #E2EBFA;\n",
              "      --hover-fill-color: #174EA6;\n",
              "      --disabled-fill-color: #AAA;\n",
              "      --disabled-bg-color: #DDD;\n",
              "  }\n",
              "\n",
              "  [theme=dark] .colab-df-quickchart {\n",
              "      --bg-color: #3B4455;\n",
              "      --fill-color: #D2E3FC;\n",
              "      --hover-bg-color: #434B5C;\n",
              "      --hover-fill-color: #FFFFFF;\n",
              "      --disabled-bg-color: #3B4455;\n",
              "      --disabled-fill-color: #666;\n",
              "  }\n",
              "\n",
              "  .colab-df-quickchart {\n",
              "    background-color: var(--bg-color);\n",
              "    border: none;\n",
              "    border-radius: 50%;\n",
              "    cursor: pointer;\n",
              "    display: none;\n",
              "    fill: var(--fill-color);\n",
              "    height: 32px;\n",
              "    padding: 0;\n",
              "    width: 32px;\n",
              "  }\n",
              "\n",
              "  .colab-df-quickchart:hover {\n",
              "    background-color: var(--hover-bg-color);\n",
              "    box-shadow: 0 1px 2px rgba(60, 64, 67, 0.3), 0 1px 3px 1px rgba(60, 64, 67, 0.15);\n",
              "    fill: var(--button-hover-fill-color);\n",
              "  }\n",
              "\n",
              "  .colab-df-quickchart-complete:disabled,\n",
              "  .colab-df-quickchart-complete:disabled:hover {\n",
              "    background-color: var(--disabled-bg-color);\n",
              "    fill: var(--disabled-fill-color);\n",
              "    box-shadow: none;\n",
              "  }\n",
              "\n",
              "  .colab-df-spinner {\n",
              "    border: 2px solid var(--fill-color);\n",
              "    border-color: transparent;\n",
              "    border-bottom-color: var(--fill-color);\n",
              "    animation:\n",
              "      spin 1s steps(1) infinite;\n",
              "  }\n",
              "\n",
              "  @keyframes spin {\n",
              "    0% {\n",
              "      border-color: transparent;\n",
              "      border-bottom-color: var(--fill-color);\n",
              "      border-left-color: var(--fill-color);\n",
              "    }\n",
              "    20% {\n",
              "      border-color: transparent;\n",
              "      border-left-color: var(--fill-color);\n",
              "      border-top-color: var(--fill-color);\n",
              "    }\n",
              "    30% {\n",
              "      border-color: transparent;\n",
              "      border-left-color: var(--fill-color);\n",
              "      border-top-color: var(--fill-color);\n",
              "      border-right-color: var(--fill-color);\n",
              "    }\n",
              "    40% {\n",
              "      border-color: transparent;\n",
              "      border-right-color: var(--fill-color);\n",
              "      border-top-color: var(--fill-color);\n",
              "    }\n",
              "    60% {\n",
              "      border-color: transparent;\n",
              "      border-right-color: var(--fill-color);\n",
              "    }\n",
              "    80% {\n",
              "      border-color: transparent;\n",
              "      border-right-color: var(--fill-color);\n",
              "      border-bottom-color: var(--fill-color);\n",
              "    }\n",
              "    90% {\n",
              "      border-color: transparent;\n",
              "      border-bottom-color: var(--fill-color);\n",
              "    }\n",
              "  }\n",
              "</style>\n",
              "\n",
              "  <script>\n",
              "    async function quickchart(key) {\n",
              "      const quickchartButtonEl =\n",
              "        document.querySelector('#' + key + ' button');\n",
              "      quickchartButtonEl.disabled = true;  // To prevent multiple clicks.\n",
              "      quickchartButtonEl.classList.add('colab-df-spinner');\n",
              "      try {\n",
              "        const charts = await google.colab.kernel.invokeFunction(\n",
              "            'suggestCharts', [key], {});\n",
              "      } catch (error) {\n",
              "        console.error('Error during call to suggestCharts:', error);\n",
              "      }\n",
              "      quickchartButtonEl.classList.remove('colab-df-spinner');\n",
              "      quickchartButtonEl.classList.add('colab-df-quickchart-complete');\n",
              "    }\n",
              "    (() => {\n",
              "      let quickchartButtonEl =\n",
              "        document.querySelector('#df-a55ef246-5606-475f-bf8a-516585d1d8b6 button');\n",
              "      quickchartButtonEl.style.display =\n",
              "        google.colab.kernel.accessAllowed ? 'block' : 'none';\n",
              "    })();\n",
              "  </script>\n",
              "</div>\n",
              "\n",
              "    </div>\n",
              "  </div>\n"
            ],
            "application/vnd.google.colaboratory.intrinsic+json": {
              "type": "dataframe",
              "summary": "{\n  \"name\": \"tabela_normal_padronizada[16:26]\",\n  \"rows\": 10,\n  \"fields\": [\n    {\n      \"column\": \"0.00\",\n      \"properties\": {\n        \"dtype\": \"string\",\n        \"num_unique_values\": 10,\n        \"samples\": [\n          \"0.9918\",\n          \"0.9554\",\n          \"0.9821\"\n        ],\n        \"semantic_type\": \"\",\n        \"description\": \"\"\n      }\n    },\n    {\n      \"column\": \"0.01\",\n      \"properties\": {\n        \"dtype\": \"string\",\n        \"num_unique_values\": 10,\n        \"samples\": [\n          \"0.9920\",\n          \"0.9564\",\n          \"0.9826\"\n        ],\n        \"semantic_type\": \"\",\n        \"description\": \"\"\n      }\n    },\n    {\n      \"column\": \"0.02\",\n      \"properties\": {\n        \"dtype\": \"string\",\n        \"num_unique_values\": 10,\n        \"samples\": [\n          \"0.9922\",\n          \"0.9573\",\n          \"0.9830\"\n        ],\n        \"semantic_type\": \"\",\n        \"description\": \"\"\n      }\n    },\n    {\n      \"column\": \"0.03\",\n      \"properties\": {\n        \"dtype\": \"string\",\n        \"num_unique_values\": 10,\n        \"samples\": [\n          \"0.9925\",\n          \"0.9582\",\n          \"0.9834\"\n        ],\n        \"semantic_type\": \"\",\n        \"description\": \"\"\n      }\n    },\n    {\n      \"column\": \"0.04\",\n      \"properties\": {\n        \"dtype\": \"string\",\n        \"num_unique_values\": 10,\n        \"samples\": [\n          \"0.9927\",\n          \"0.9591\",\n          \"0.9838\"\n        ],\n        \"semantic_type\": \"\",\n        \"description\": \"\"\n      }\n    },\n    {\n      \"column\": \"0.05\",\n      \"properties\": {\n        \"dtype\": \"string\",\n        \"num_unique_values\": 10,\n        \"samples\": [\n          \"0.9929\",\n          \"0.9599\",\n          \"0.9842\"\n        ],\n        \"semantic_type\": \"\",\n        \"description\": \"\"\n      }\n    },\n    {\n      \"column\": \"0.06\",\n      \"properties\": {\n        \"dtype\": \"string\",\n        \"num_unique_values\": 10,\n        \"samples\": [\n          \"0.9931\",\n          \"0.9608\",\n          \"0.9846\"\n        ],\n        \"semantic_type\": \"\",\n        \"description\": \"\"\n      }\n    },\n    {\n      \"column\": \"0.07\",\n      \"properties\": {\n        \"dtype\": \"string\",\n        \"num_unique_values\": 10,\n        \"samples\": [\n          \"0.9932\",\n          \"0.9616\",\n          \"0.9850\"\n        ],\n        \"semantic_type\": \"\",\n        \"description\": \"\"\n      }\n    },\n    {\n      \"column\": \"0.08\",\n      \"properties\": {\n        \"dtype\": \"string\",\n        \"num_unique_values\": 10,\n        \"samples\": [\n          \"0.9934\",\n          \"0.9625\",\n          \"0.9854\"\n        ],\n        \"semantic_type\": \"\",\n        \"description\": \"\"\n      }\n    },\n    {\n      \"column\": \"0.09\",\n      \"properties\": {\n        \"dtype\": \"string\",\n        \"num_unique_values\": 10,\n        \"samples\": [\n          \"0.9936\",\n          \"0.9633\",\n          \"0.9857\"\n        ],\n        \"semantic_type\": \"\",\n        \"description\": \"\"\n      }\n    }\n  ]\n}"
            }
          },
          "metadata": {},
          "execution_count": 66
        }
      ],
      "source": [
        "tabela_normal_padronizada[16:26]"
      ]
    },
    {
      "cell_type": "markdown",
      "metadata": {
        "id": "rMRmnaNPG3Go"
      },
      "source": [
        " Obtendo $z$"
      ]
    },
    {
      "cell_type": "markdown",
      "metadata": {
        "id": "T-3mV1qlUj1t"
      },
      "source": [
        "![alt text](https://caelum-online-public.s3.amazonaws.com/1178-estatistica-parte2/01/img008.png)"
      ]
    },
    {
      "cell_type": "markdown",
      "source": [
        "Econtrando Z via tabela:"
      ],
      "metadata": {
        "id": "nt6RmKpV9niR"
      }
    },
    {
      "cell_type": "code",
      "execution_count": 67,
      "metadata": {
        "colab": {
          "base_uri": "https://localhost:8080/"
        },
        "id": "nT5ZTwjOG3Go",
        "outputId": "0ffce9b9-a230-40b8-dfe8-63ae160b5757"
      },
      "outputs": [
        {
          "output_type": "execute_result",
          "data": {
            "text/plain": [
              "0.475"
            ]
          },
          "metadata": {},
          "execution_count": 67
        }
      ],
      "source": [
        "0.95 / 2"
      ]
    },
    {
      "cell_type": "code",
      "execution_count": 68,
      "metadata": {
        "colab": {
          "base_uri": "https://localhost:8080/"
        },
        "id": "vMjck-3ZU_sz",
        "outputId": "a4ed57a4-10cb-4851-d394-997b9f42b12e"
      },
      "outputs": [
        {
          "output_type": "execute_result",
          "data": {
            "text/plain": [
              "0.975"
            ]
          },
          "metadata": {},
          "execution_count": 68
        }
      ],
      "source": [
        "0.5 + (0.95 / 2)"
      ]
    },
    {
      "cell_type": "markdown",
      "source": [
        "<font size=6> Para 95% de confiança sempre teremos: </font>\n",
        "\n",
        "![image.png](data:image/png;base64,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)"
      ],
      "metadata": {
        "id": "7MhQkBi79Htm"
      }
    },
    {
      "cell_type": "markdown",
      "source": [
        "![image.png](data:image/png;base64,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)"
      ],
      "metadata": {
        "id": "I65djK_q9SnI"
      }
    },
    {
      "cell_type": "code",
      "execution_count": 69,
      "metadata": {
        "colab": {
          "base_uri": "https://localhost:8080/"
        },
        "id": "L4CMGZ3oVHLX",
        "outputId": "2ecb0cdb-9278-4107-f758-3f186a8354a0"
      },
      "outputs": [
        {
          "output_type": "execute_result",
          "data": {
            "text/plain": [
              "1.96"
            ]
          },
          "metadata": {},
          "execution_count": 69
        }
      ],
      "source": [
        "1.9 + 0.06"
      ]
    },
    {
      "cell_type": "markdown",
      "source": [
        "Encontrando Z via fórmula:"
      ],
      "metadata": {
        "id": "OT_8aIfD9mT1"
      }
    },
    {
      "cell_type": "code",
      "execution_count": 82,
      "metadata": {
        "colab": {
          "base_uri": "https://localhost:8080/"
        },
        "id": "JJS6Z-85G3Hf",
        "outputId": "0fc1811a-ab1e-4f77-d5f8-b1e47e988cc6"
      },
      "outputs": [
        {
          "output_type": "execute_result",
          "data": {
            "text/plain": [
              "1.959963984540054"
            ]
          },
          "metadata": {},
          "execution_count": 82
        }
      ],
      "source": [
        "z = norm.ppf(0.975)\n",
        "z"
      ]
    },
    {
      "cell_type": "markdown",
      "metadata": {
        "id": "ggXXP8QqTyNA"
      },
      "source": [
        "*.ppf() is the percent point function*\n",
        "\n",
        "<font size=5> Valores de $z$ para os níveis de confiança mais utilizados </font>\n",
        "\n",
        "|Nível de<br>confiança|Valor da área sob<br>a curva normal| $z$ |\n",
        "|:----------------:|:---------------------------------:|:---:|\n",
        "|90%               |0,95                               |1,645|\n",
        "|95%               |0,975                              |1,96 |\n",
        "|99%               |0,995                              |2,575|"
      ]
    },
    {
      "cell_type": "markdown",
      "metadata": {
        "id": "MfE1ru0AG3Hg"
      },
      "source": [
        " Obtendo $\\sigma_\\bar{x}$"
      ]
    },
    {
      "cell_type": "code",
      "execution_count": 83,
      "metadata": {
        "id": "LyQ6UUYtG3Hh"
      },
      "outputs": [],
      "source": [
        "desvio_padrao = 150"
      ]
    },
    {
      "cell_type": "code",
      "execution_count": 84,
      "metadata": {
        "id": "ebvikT95G3Hi"
      },
      "outputs": [],
      "source": [
        "n = 20"
      ]
    },
    {
      "cell_type": "code",
      "execution_count": 85,
      "metadata": {
        "id": "TxM3yTpjG3Hk"
      },
      "outputs": [],
      "source": [
        "raiz_de_n = np.sqrt(n)"
      ]
    },
    {
      "cell_type": "code",
      "execution_count": 74,
      "metadata": {
        "colab": {
          "base_uri": "https://localhost:8080/"
        },
        "id": "HNAcOpl0G3Hl",
        "outputId": "1d108bd8-60cd-4dc8-ae00-d53c5d951927"
      },
      "outputs": [
        {
          "output_type": "execute_result",
          "data": {
            "text/plain": [
              "33.54101966249684"
            ]
          },
          "metadata": {},
          "execution_count": 74
        }
      ],
      "source": [
        "sigma = desvio_padrao / raiz_de_n\n",
        "sigma"
      ]
    },
    {
      "cell_type": "markdown",
      "metadata": {
        "id": "NHbXlLk-G3Hn"
      },
      "source": [
        " Obtendo $e$"
      ]
    },
    {
      "cell_type": "code",
      "execution_count": 75,
      "metadata": {
        "colab": {
          "base_uri": "https://localhost:8080/"
        },
        "id": "gAfakih5G3Ho",
        "outputId": "9e16aba4-b7e8-472a-b81b-da6693b18348"
      },
      "outputs": [
        {
          "output_type": "execute_result",
          "data": {
            "text/plain": [
              "65.73919054324361"
            ]
          },
          "metadata": {},
          "execution_count": 75
        }
      ],
      "source": [
        "e = z * sigma\n",
        "e"
      ]
    },
    {
      "cell_type": "markdown",
      "metadata": {
        "id": "sx1QTfNrG3Hq"
      },
      "source": [
        "<font size=5> Solução 1 - Calculando o intervalo de confiança para a média </font>"
      ]
    },
    {
      "cell_type": "code",
      "execution_count": 88,
      "metadata": {
        "colab": {
          "base_uri": "https://localhost:8080/"
        },
        "id": "NlJCcPZnG3Hq",
        "outputId": "d8060127-80c5-4cdf-c8ce-6924b26ab4ec"
      },
      "outputs": [
        {
          "output_type": "execute_result",
          "data": {
            "text/plain": [
              "(4984.260809456757, 5115.739190543243)"
            ]
          },
          "metadata": {},
          "execution_count": 88
        }
      ],
      "source": [
        "intervalo = media_amostra - e, media_amostra + e\n",
        "intervalo"
      ]
    },
    {
      "cell_type": "markdown",
      "metadata": {
        "id": "DkFJL7fcG3Ht"
      },
      "source": [
        "<font size=5> Solução 2 - Calculando o intervalo de confiança para a média </font>"
      ]
    },
    {
      "cell_type": "code",
      "execution_count": 78,
      "metadata": {
        "colab": {
          "base_uri": "https://localhost:8080/"
        },
        "id": "U92vSYMkG3Hu",
        "outputId": "cf654ab8-3aaf-4b19-e503-0b56e679831d"
      },
      "outputs": [
        {
          "output_type": "execute_result",
          "data": {
            "text/plain": [
              "(4984.260809456757, 5115.739190543243)"
            ]
          },
          "metadata": {},
          "execution_count": 78
        }
      ],
      "source": [
        "norm.interval(0.95, loc = media_amostra, scale = sigma)"
      ]
    },
    {
      "cell_type": "markdown",
      "metadata": {
        "id": "aF9jAC6yG3Gl"
      },
      "source": [
        "***\n",
        "# CÁLCULO DO TAMANHO DA AMOSTRA\n",
        "***"
      ]
    },
    {
      "cell_type": "markdown",
      "metadata": {
        "id": "a7RjjVVUnlI3"
      },
      "source": [
        "Estamos estudando o rendimento mensal dos chefes de domicílios com renda até R$\\$$ 5.000,00 no Brasil. Nosso supervisor determinou que o **erro máximo em relação a média seja de R$\\$$ 10,00**. Sabemos que o **desvio padrão populacional** deste grupo de trabalhadores é de **R$\\$$ 1.082,79**. Para um **nível de confiança de 95%**, qual deve ser o tamanho da amostra de nosso estudo?"
      ]
    },
    {
      "cell_type": "markdown",
      "metadata": {
        "id": "za2sGJt6G3Gm"
      },
      "source": [
        "## Variáveis quantitativas e população infinita\n",
        "***"
      ]
    },
    {
      "cell_type": "markdown",
      "metadata": {
        "id": "3wqMjJWR5sVq"
      },
      "source": [
        "<font size=5> $$e = z \\frac{\\sigma}{\\sqrt{n}}$$  </font>"
      ]
    },
    {
      "cell_type": "markdown",
      "metadata": {
        "id": "X1AxpKtIG3Gn"
      },
      "source": [
        " Com desvio padrão conhecido\n",
        "\n",
        "<font size=5> $$n = \\left(z\\frac{\\sigma}{e}\\right)^2$$ </font>\n",
        "\n",
        " Com desvio padrão desconhecido\n",
        "\n",
        "<font size=5> $$n = \\left(z\\frac{s}{e}\\right)^2$$ </font>\n",
        "\n",
        "Onde:\n",
        "\n",
        "$z$ = variável normal padronizada\n",
        "\n",
        "$\\sigma$ = desvio padrão populacional\n",
        "\n",
        "$s$ = desvio padrão amostral\n",
        "\n",
        "$e$ = erro inferencial"
      ]
    },
    {
      "cell_type": "markdown",
      "metadata": {
        "id": "T0fysCyDG3Gn"
      },
      "source": [
        "<font size= 5 color='red'>Observações</font>\n",
        "\n",
        "1. O desvio padrão ($\\sigma$ ou $s$) e o erro ($e$) devem estar na mesma unidade de medida.\n",
        "\n",
        "2. Quando o erro ($e$) for representado em termos percentuais, deve ser interpretado como um percentual relacionado à média."
      ]
    },
    {
      "cell_type": "markdown",
      "metadata": {
        "id": "WHYBTaupG3Gn"
      },
      "source": [
        "## Exemplo: Rendimento médio"
      ]
    },
    {
      "cell_type": "markdown",
      "metadata": {
        "id": "dcdzo7EgG3Go"
      },
      "source": [
        "Estamos estudando o rendimento mensal dos chefes de domicílios no Brasil. Nosso supervisor determinou que o **erro máximo em relação a média seja de R$\\$$ 100,00**. Sabemos que o **desvio padrão populacional** deste grupo de trabalhadores é de **R$\\$$ 3.323,39**. Para um **nível de confiança de 95%**, qual deve ser o tamanho da amostra de nosso estudo?"
      ]
    },
    {
      "cell_type": "code",
      "execution_count": 89,
      "metadata": {
        "id": "XtJ5I_kaKDN3",
        "colab": {
          "base_uri": "https://localhost:8080/"
        },
        "outputId": "1aa2af11-5d79-4194-9b24-71dcd3dc4351"
      },
      "outputs": [
        {
          "output_type": "execute_result",
          "data": {
            "text/plain": [
              "0.475"
            ]
          },
          "metadata": {},
          "execution_count": 89
        }
      ],
      "source": [
        "0.95 / 2"
      ]
    },
    {
      "cell_type": "code",
      "execution_count": 90,
      "metadata": {
        "id": "-4TLCgNLKC95",
        "colab": {
          "base_uri": "https://localhost:8080/"
        },
        "outputId": "942047b3-96d2-439b-bdfa-4cfaec008a38"
      },
      "outputs": [
        {
          "output_type": "execute_result",
          "data": {
            "text/plain": [
              "0.975"
            ]
          },
          "metadata": {},
          "execution_count": 90
        }
      ],
      "source": [
        "0.5 + (0.95 / 2)"
      ]
    },
    {
      "cell_type": "code",
      "execution_count": 91,
      "metadata": {
        "id": "7XDT12I4ViYN",
        "colab": {
          "base_uri": "https://localhost:8080/"
        },
        "outputId": "a341daee-49d8-41cf-d8c4-bce485b352cb"
      },
      "outputs": [
        {
          "output_type": "execute_result",
          "data": {
            "text/plain": [
              "1.959963984540054"
            ]
          },
          "metadata": {},
          "execution_count": 91
        }
      ],
      "source": [
        "z = norm.ppf(0.975)\n",
        "z"
      ]
    },
    {
      "cell_type": "markdown",
      "metadata": {
        "id": "6uCkW4KlG3Gr"
      },
      "source": [
        "### Obtendo $\\sigma$"
      ]
    },
    {
      "cell_type": "code",
      "execution_count": 96,
      "metadata": {
        "id": "1RmtZfj-G3Gr"
      },
      "outputs": [],
      "source": [
        "sigma = 3323.39"
      ]
    },
    {
      "cell_type": "markdown",
      "metadata": {
        "id": "Cl39PIZ2G3Gt"
      },
      "source": [
        "### Obtendo $e$"
      ]
    },
    {
      "cell_type": "code",
      "execution_count": 97,
      "metadata": {
        "id": "NTRMt2gWG3Gt"
      },
      "outputs": [],
      "source": [
        "e = 100"
      ]
    },
    {
      "cell_type": "markdown",
      "metadata": {
        "id": "OlAX3Gj6G3Gv"
      },
      "source": [
        "### Obtendo $n$"
      ]
    },
    {
      "cell_type": "code",
      "execution_count": 94,
      "metadata": {
        "id": "0MjluwHPG3Gv",
        "scrolled": true,
        "colab": {
          "base_uri": "https://localhost:8080/"
        },
        "outputId": "5b2d5299-b902-4207-ecf3-02a564bbc61c"
      },
      "outputs": [
        {
          "output_type": "execute_result",
          "data": {
            "text/plain": [
              "4243"
            ]
          },
          "metadata": {},
          "execution_count": 94
        }
      ],
      "source": [
        "n = (z * (sigma / e)) ** 2\n",
        "int(n.round())"
      ]
    },
    {
      "cell_type": "markdown",
      "metadata": {
        "id": "FlAz5kycTyNQ"
      },
      "source": [
        "***\n",
        "## Variáveis quantitativas e população finita\n",
        "***"
      ]
    },
    {
      "cell_type": "markdown",
      "metadata": {
        "id": "UOe02McSTyNR"
      },
      "source": [
        " Com desvio padrão conhecido\n",
        "\n",
        "<font size=5> $$n = \\frac{z^2 \\sigma^2 N}{z^2 \\sigma^2 + e^2(N-1)}$$ </font>\n",
        "\n",
        " Com desvio padrão desconhecido\n",
        "\n",
        "<font size=5> $$n = \\frac{z^2 s^2 N}{z^2 s^2 + e^2(N-1)}$$ </font>\n",
        "\n",
        "Onde:\n",
        "\n",
        "$N$ = tamanho da população\n",
        "\n",
        "$z$ = variável normal padronizada\n",
        "\n",
        "$\\sigma$ = desvio padrão populacional\n",
        "\n",
        "$s$ = desvio padrão amostral\n",
        "\n",
        "$e$ = erro inferencial"
      ]
    },
    {
      "cell_type": "markdown",
      "metadata": {
        "id": "cUELtYTKTyNS"
      },
      "source": [
        "## Exemplo: Indústria de refrigerantes"
      ]
    },
    {
      "cell_type": "markdown",
      "metadata": {
        "id": "upv1mM7fTyNS"
      },
      "source": [
        "Em um lote de **10.000 latas** de refrigerante foi realizada uma amostra aleatória simples de **100 latas** e foi obtido o **desvio padrão amostral do conteúdo das latas igual a 12 ml**. O fabricante estipula um **erro máximo sobre a média populacional de apenas 5 ml**. Para garantir um **nível de confiança de 95%** qual o tamanho de amostra deve ser selecionado para este estudo?"
      ]
    },
    {
      "cell_type": "markdown",
      "metadata": {
        "id": "_y3-3VIBTyNS"
      },
      "source": [
        "### Obtendo $N$"
      ]
    },
    {
      "cell_type": "code",
      "execution_count": 95,
      "metadata": {
        "id": "gXWn9zTETyNS",
        "colab": {
          "base_uri": "https://localhost:8080/"
        },
        "outputId": "3ba0f02e-fa0e-4c99-c567-5ea32de39041"
      },
      "outputs": [
        {
          "output_type": "execute_result",
          "data": {
            "text/plain": [
              "10000"
            ]
          },
          "metadata": {},
          "execution_count": 95
        }
      ],
      "source": [
        "N = 10000\n",
        "N"
      ]
    },
    {
      "cell_type": "markdown",
      "metadata": {
        "id": "xCgZ1JSjTyNT"
      },
      "source": [
        "### Obtendo $z$"
      ]
    },
    {
      "cell_type": "code",
      "execution_count": 98,
      "metadata": {
        "id": "ZUs9aYJRTyNT",
        "colab": {
          "base_uri": "https://localhost:8080/"
        },
        "outputId": "3b05ac12-3496-4f18-cc48-cf6d6cb4a8fd"
      },
      "outputs": [
        {
          "output_type": "execute_result",
          "data": {
            "text/plain": [
              "1.959963984540054"
            ]
          },
          "metadata": {},
          "execution_count": 98
        }
      ],
      "source": [
        "z = norm.ppf((0.5 + (0.95 / 2)))\n",
        "z"
      ]
    },
    {
      "cell_type": "markdown",
      "metadata": {
        "id": "KCnigJd8TyNU"
      },
      "source": [
        "### Obtendo $s$"
      ]
    },
    {
      "cell_type": "code",
      "execution_count": 99,
      "metadata": {
        "id": "fKqFI_TZTyNU",
        "colab": {
          "base_uri": "https://localhost:8080/"
        },
        "outputId": "0fb2c09d-25f3-430e-a62f-7eff09bb27b2"
      },
      "outputs": [
        {
          "output_type": "execute_result",
          "data": {
            "text/plain": [
              "12"
            ]
          },
          "metadata": {},
          "execution_count": 99
        }
      ],
      "source": [
        "s = 12\n",
        "s"
      ]
    },
    {
      "cell_type": "markdown",
      "metadata": {
        "id": "K9gDEIUdTyNX"
      },
      "source": [
        "### Obtendo $e$"
      ]
    },
    {
      "cell_type": "code",
      "execution_count": 100,
      "metadata": {
        "id": "hyhJ3MQKTyNX",
        "colab": {
          "base_uri": "https://localhost:8080/"
        },
        "outputId": "a1bf91ee-55fa-4797-ede2-a188e7ffa924"
      },
      "outputs": [
        {
          "output_type": "execute_result",
          "data": {
            "text/plain": [
              "5"
            ]
          },
          "metadata": {},
          "execution_count": 100
        }
      ],
      "source": [
        "e = 5\n",
        "e"
      ]
    },
    {
      "cell_type": "markdown",
      "metadata": {
        "id": "Dsm3bg9gTyNX"
      },
      "source": [
        "### Obtendo $n$\n",
        "\n",
        "## $$n = \\frac{z^2 s^2 N}{z^2 s^2 + e^2(N-1)}$$"
      ]
    },
    {
      "cell_type": "code",
      "execution_count": 101,
      "metadata": {
        "id": "0XxWfaPdTyNY",
        "scrolled": true,
        "colab": {
          "base_uri": "https://localhost:8080/"
        },
        "outputId": "99fbcb14-30f7-48e6-daaf-d6b7f8d39adf"
      },
      "outputs": [
        {
          "output_type": "execute_result",
          "data": {
            "text/plain": [
              "22"
            ]
          },
          "metadata": {},
          "execution_count": 101
        }
      ],
      "source": [
        "n = ((z**2) * (s**2) * (N)) / (((z**2) * (s**2)) + ((e**2) * (N - 1)))\n",
        "int(n.round())"
      ]
    },
    {
      "cell_type": "markdown",
      "metadata": {
        "id": "XNH7CMglG3Hv"
      },
      "source": [
        "***\n",
        "# FIXANDO O CONTEÚDO\n",
        "***"
      ]
    },
    {
      "cell_type": "markdown",
      "metadata": {
        "id": "iRYqVAxuG3Hv"
      },
      "source": [
        "## Exemplo: Rendimento médio"
      ]
    },
    {
      "cell_type": "markdown",
      "metadata": {
        "id": "ggloHI5sG3Hw"
      },
      "source": [
        "Estamos estudando o **rendimento mensal dos chefes de domicílios com renda até R$\\$$ 5.000,00 no Brasil**. Nosso supervisor determinou que o **erro máximo em relação a média seja de R$\\$$ 10,00**. Sabemos que o **desvio padrão populacional** deste grupo de trabalhadores é de **R$\\$$ 1.082,79** e que a **média populacional** é de **R$\\$$ 1.426,54**. Para um **nível de confiança de 95%**, qual deve ser o tamanho da amostra de nosso estudo? Qual o intervalo de confiança para a média considerando o tamanho de amostra obtido?"
      ]
    },
    {
      "cell_type": "markdown",
      "metadata": {
        "id": "JZDvLD-NG3Hw"
      },
      "source": [
        "<font size=5> Construindo o dataset conforme especificado pelo problema </font>"
      ]
    },
    {
      "cell_type": "code",
      "execution_count": 102,
      "metadata": {
        "id": "qlnYQeaKG3Hw"
      },
      "outputs": [],
      "source": [
        "renda_5000 = dados.query('Renda <= 5000').Renda"
      ]
    },
    {
      "cell_type": "code",
      "execution_count": 103,
      "metadata": {
        "id": "VKuxbygIG3Hy",
        "colab": {
          "base_uri": "https://localhost:8080/"
        },
        "outputId": "48612420-597d-48a4-d428-da30463316b5"
      },
      "outputs": [
        {
          "output_type": "execute_result",
          "data": {
            "text/plain": [
              "1082.794549030635"
            ]
          },
          "metadata": {},
          "execution_count": 103
        }
      ],
      "source": [
        "sigma = renda_5000.std()\n",
        "sigma"
      ]
    },
    {
      "cell_type": "code",
      "execution_count": 104,
      "metadata": {
        "id": "Q2Ku3mVPG3Hz",
        "colab": {
          "base_uri": "https://localhost:8080/"
        },
        "outputId": "61e330d9-3e79-4e27-ddb5-b25ed9890729"
      },
      "outputs": [
        {
          "output_type": "execute_result",
          "data": {
            "text/plain": [
              "1426.5372144947232"
            ]
          },
          "metadata": {},
          "execution_count": 104
        }
      ],
      "source": [
        "media = renda_5000.mean()\n",
        "media"
      ]
    },
    {
      "cell_type": "markdown",
      "metadata": {
        "id": "F33TdkXdG3H2"
      },
      "source": [
        "### Calculando o tamanho da amostra"
      ]
    },
    {
      "cell_type": "code",
      "execution_count": 105,
      "metadata": {
        "id": "sWIvnmygG3H2",
        "colab": {
          "base_uri": "https://localhost:8080/"
        },
        "outputId": "77ef6575-7b2f-460e-a93b-ed5afd58cf59"
      },
      "outputs": [
        {
          "output_type": "execute_result",
          "data": {
            "text/plain": [
              "45039"
            ]
          },
          "metadata": {},
          "execution_count": 105
        }
      ],
      "source": [
        "z = norm.ppf(.975)\n",
        "e = 10\n",
        "n = (z * (sigma / e)) ** 2\n",
        "n = int(n.round())\n",
        "n"
      ]
    },
    {
      "cell_type": "markdown",
      "metadata": {
        "id": "xRN_gmmLG3H6"
      },
      "source": [
        "### Calculando o intervalo de confiança para a média"
      ]
    },
    {
      "cell_type": "code",
      "execution_count": 110,
      "metadata": {
        "id": "HoG6JKxxG3H6",
        "colab": {
          "base_uri": "https://localhost:8080/"
        },
        "outputId": "a9e2e76a-db97-4c20-abcd-abd4f684a57d"
      },
      "outputs": [
        {
          "output_type": "execute_result",
          "data": {
            "text/plain": [
              "(1416.5372195108241, 1436.5372094786223)"
            ]
          },
          "metadata": {},
          "execution_count": 110
        }
      ],
      "source": [
        "intervalo = norm.interval(0.95, loc = media, scale = sigma / np.sqrt(n))\n",
        "intervalo"
      ]
    },
    {
      "cell_type": "markdown",
      "metadata": {
        "id": "xWAG8q8oG3H8"
      },
      "source": [
        "### Análise Gráfica"
      ]
    },
    {
      "cell_type": "code",
      "execution_count": 111,
      "metadata": {
        "id": "pxjJyWnNG3H8",
        "colab": {
          "base_uri": "https://localhost:8080/",
          "height": 544
        },
        "outputId": "59e760a6-157e-4f9b-c84f-c6b6d2822834"
      },
      "outputs": [
        {
          "output_type": "execute_result",
          "data": {
            "text/plain": [
              "<Axes: >"
            ]
          },
          "metadata": {},
          "execution_count": 111
        },
        {
          "output_type": "display_data",
          "data": {
            "text/plain": [
              "<Figure size 1200x600 with 1 Axes>"
            ],
            "image/png": "[encoded data removed]"
          },
          "metadata": {}
        }
      ],
      "source": [
        "import matplotlib.pyplot as plt\n",
        "\n",
        "tamanho_simulacao = 1000\n",
        "\n",
        "medias = [renda_5000.sample(n = n).mean() for i in range(1, tamanho_simulacao)]\n",
        "medias = pd.DataFrame(medias)\n",
        "\n",
        "ax = medias.plot(style = '.')\n",
        "ax.figure.set_size_inches(12, 6)\n",
        "ax.hlines(y = media, xmin = 0, xmax = tamanho_simulacao, colors='black', linestyles='dashed')\n",
        "ax.hlines(y = intervalo[0], xmin = 0, xmax = tamanho_simulacao, colors='red', linestyles='dashed')\n",
        "ax.hlines(y = intervalo[1], xmin = 0, xmax = tamanho_simulacao, colors='red', linestyles='dashed')\n",
        "ax"
      ]
    },
    {
      "cell_type": "markdown",
      "source": [
        "O gráfico gerado demonstra visualmente o conceito de **distribuições amostrais e intervalos de confiança**.\n",
        "\n",
        "Cada ponto no gráfico representa a média calculada a partir de uma **amostra aleatória** extraída da população, e a sua distribuição ilustra como as médias amostrais variam naturalmente em torno da verdadeira média populacional.\n",
        "\n",
        "A linha tracejada preta indica a **média populacional real**, que serve como ponto de referência. As duas linhas tracejadas vermelhas marcam os **limites do intervalo de confiança** calculado, um intervalo dentro do qual se espera que a verdadeira média populacional se encontre com um certo nível de confiança (95% neste caso).\n",
        "\n",
        "Se repetíssemos este processo de amostragem e cálculo várias vezes, aproximadamente 95% dos intervalos de confiança construídos conteriam a média populacional, evidenciando o conceito de **nível de confiança** e a confiabilidade das estimativas baseadas em amostras."
      ],
      "metadata": {
        "id": "kWDoon8nDm4R"
      }
    },
    {
      "cell_type": "code",
      "source": [],
      "metadata": {
        "id": "B2oBj6H0D70z"
      },
      "execution_count": null,
      "outputs": []
    }
  ],
  "metadata": {
    "colab": {
      "provenance": [],
      "toc_visible": true,
      "include_colab_link": true
    },
    "kernelspec": {
      "display_name": "Python 3",
      "language": "python",
      "name": "python3"
    },
    "language_info": {
      "codemirror_mode": {
        "name": "ipython",
        "version": 3
      },
      "file_extension": ".py",
      "mimetype": "text/x-python",
      "name": "python",
      "nbconvert_exporter": "python",
      "pygments_lexer": "ipython3",
      "version": "3.6.5"
    }
  },
  "nbformat": 4,
  "nbformat_minor": 0
}